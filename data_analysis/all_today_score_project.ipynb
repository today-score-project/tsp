{
 "cells": [
  {
   "cell_type": "markdown",
   "id": "93180279",
   "metadata": {},
   "source": [
    "# 전체(쿼카+공작+치타+토끼+다람쥐) 데이터 분석 \n",
    "\n",
    "* 분석 결과 요약\n",
    "    * 독립변수 : sleep_score + sleep_time + yesterday_satisfaction + C(class_check)\n",
    "    * 수정r제곱 : 0.363(36%)\n",
    "    * 해석 : 오늘 나의 점수를 높게 시작하기 위해서는 전날 누가 업어가도 모를 정도로 충분한 시간 동안 푹 잘 자고, 본인이 만족하는 하루를 보내야한다. 다른 변수는 큰 영향이 없다."
   ]
  },
  {
   "cell_type": "code",
   "execution_count": 1,
   "id": "ba2a20f7",
   "metadata": {},
   "outputs": [],
   "source": [
    "import pandas as pd\n",
    "import matplotlib.pyplot as plt\n",
    "import numpy as np\n",
    "import seaborn as sns\n",
    "from matplotlib import rc # 폰트\n",
    "#한글폰트 적용-----------------------------\n",
    "from matplotlib import font_manager, rc\n",
    "plt.rc('font', family='Malgun Gothic')\n",
    "#-----------------------------------------\n",
    "\n",
    "\n",
    "from datetime import datetime\n",
    "import time\n",
    "from datetime import timedelta\n",
    "import warnings\n",
    "warnings.filterwarnings('ignore')\n",
    "from statsmodels.formula.api import ols\n",
    "# datetime.strptime(start_date, '%Y-%m-%d %H:%M:%S')\n",
    "\n",
    "import statsmodels.api as sm\n",
    "from statsmodels.stats.outliers_influence import variance_inflation_factor\n",
    "\n",
    "# 파일이 있는 경로 지정\n",
    "path = 'C:\\\\Users\\\\USER\\\\통계\\\\mini\\\\'"
   ]
  },
  {
   "cell_type": "markdown",
   "id": "453e1477",
   "metadata": {},
   "source": [
    "# 데이터 import"
   ]
  },
  {
   "cell_type": "code",
   "execution_count": 2,
   "id": "aad094c2",
   "metadata": {},
   "outputs": [],
   "source": [
    "df = pd.read_excel(path +\"today_score_data.xlsx\")"
   ]
  },
  {
   "cell_type": "markdown",
   "id": "3cf72df3",
   "metadata": {},
   "source": [
    "# 데이터 확인"
   ]
  },
  {
   "cell_type": "code",
   "execution_count": 3,
   "id": "40f43db1",
   "metadata": {},
   "outputs": [
    {
     "data": {
      "text/html": [
       "<div>\n",
       "<style scoped>\n",
       "    .dataframe tbody tr th:only-of-type {\n",
       "        vertical-align: middle;\n",
       "    }\n",
       "\n",
       "    .dataframe tbody tr th {\n",
       "        vertical-align: top;\n",
       "    }\n",
       "\n",
       "    .dataframe thead th {\n",
       "        text-align: right;\n",
       "    }\n",
       "</style>\n",
       "<table border=\"1\" class=\"dataframe\">\n",
       "  <thead>\n",
       "    <tr style=\"text-align: right;\">\n",
       "      <th></th>\n",
       "      <th>cnt</th>\n",
       "      <th>name</th>\n",
       "      <th>today_score</th>\n",
       "      <th>date</th>\n",
       "      <th>dayofweek</th>\n",
       "      <th>dayofweek_check</th>\n",
       "      <th>avg_temp</th>\n",
       "      <th>low_temp</th>\n",
       "      <th>high_temp</th>\n",
       "      <th>precipitation</th>\n",
       "      <th>...</th>\n",
       "      <th>yesterday_exercise_time</th>\n",
       "      <th>yesterday_step_cnt</th>\n",
       "      <th>yesterday_drinking</th>\n",
       "      <th>period</th>\n",
       "      <th>caffeine</th>\n",
       "      <th>yesterday_satisfaction</th>\n",
       "      <th>gotobed_range</th>\n",
       "      <th>getup_range</th>\n",
       "      <th>gotobed_late</th>\n",
       "      <th>getup_early</th>\n",
       "    </tr>\n",
       "  </thead>\n",
       "  <tbody>\n",
       "    <tr>\n",
       "      <th>0</th>\n",
       "      <td>1</td>\n",
       "      <td>quokka</td>\n",
       "      <td>9</td>\n",
       "      <td>2022-09-28</td>\n",
       "      <td>4</td>\n",
       "      <td>0</td>\n",
       "      <td>20.4</td>\n",
       "      <td>16.1</td>\n",
       "      <td>26.1</td>\n",
       "      <td>0.0</td>\n",
       "      <td>...</td>\n",
       "      <td>70</td>\n",
       "      <td>11772</td>\n",
       "      <td>0</td>\n",
       "      <td>0</td>\n",
       "      <td>0</td>\n",
       "      <td>2</td>\n",
       "      <td>03시대</td>\n",
       "      <td>08시대</td>\n",
       "      <td>1</td>\n",
       "      <td>0</td>\n",
       "    </tr>\n",
       "    <tr>\n",
       "      <th>1</th>\n",
       "      <td>2</td>\n",
       "      <td>quokka</td>\n",
       "      <td>6</td>\n",
       "      <td>2022-09-29</td>\n",
       "      <td>5</td>\n",
       "      <td>0</td>\n",
       "      <td>20.4</td>\n",
       "      <td>16.4</td>\n",
       "      <td>26.5</td>\n",
       "      <td>0.0</td>\n",
       "      <td>...</td>\n",
       "      <td>0</td>\n",
       "      <td>5800</td>\n",
       "      <td>0</td>\n",
       "      <td>0</td>\n",
       "      <td>0</td>\n",
       "      <td>3</td>\n",
       "      <td>03시대</td>\n",
       "      <td>08시대</td>\n",
       "      <td>1</td>\n",
       "      <td>0</td>\n",
       "    </tr>\n",
       "    <tr>\n",
       "      <th>2</th>\n",
       "      <td>3</td>\n",
       "      <td>quokka</td>\n",
       "      <td>4</td>\n",
       "      <td>2022-09-30</td>\n",
       "      <td>6</td>\n",
       "      <td>0</td>\n",
       "      <td>20.7</td>\n",
       "      <td>14.8</td>\n",
       "      <td>27.7</td>\n",
       "      <td>0.0</td>\n",
       "      <td>...</td>\n",
       "      <td>0</td>\n",
       "      <td>2775</td>\n",
       "      <td>0</td>\n",
       "      <td>0</td>\n",
       "      <td>0</td>\n",
       "      <td>4</td>\n",
       "      <td>05시대</td>\n",
       "      <td>10시대</td>\n",
       "      <td>1</td>\n",
       "      <td>0</td>\n",
       "    </tr>\n",
       "    <tr>\n",
       "      <th>3</th>\n",
       "      <td>4</td>\n",
       "      <td>quokka</td>\n",
       "      <td>7</td>\n",
       "      <td>2022-10-01</td>\n",
       "      <td>7</td>\n",
       "      <td>1</td>\n",
       "      <td>20.9</td>\n",
       "      <td>14.4</td>\n",
       "      <td>27.6</td>\n",
       "      <td>0.0</td>\n",
       "      <td>...</td>\n",
       "      <td>0</td>\n",
       "      <td>4365</td>\n",
       "      <td>0</td>\n",
       "      <td>0</td>\n",
       "      <td>0</td>\n",
       "      <td>3</td>\n",
       "      <td>05시대</td>\n",
       "      <td>07시대</td>\n",
       "      <td>1</td>\n",
       "      <td>1</td>\n",
       "    </tr>\n",
       "    <tr>\n",
       "      <th>4</th>\n",
       "      <td>5</td>\n",
       "      <td>quokka</td>\n",
       "      <td>7</td>\n",
       "      <td>2022-10-02</td>\n",
       "      <td>1</td>\n",
       "      <td>1</td>\n",
       "      <td>19.4</td>\n",
       "      <td>17.2</td>\n",
       "      <td>21.6</td>\n",
       "      <td>15.8</td>\n",
       "      <td>...</td>\n",
       "      <td>0</td>\n",
       "      <td>13541</td>\n",
       "      <td>0</td>\n",
       "      <td>0</td>\n",
       "      <td>1</td>\n",
       "      <td>4</td>\n",
       "      <td>03시대</td>\n",
       "      <td>10시대</td>\n",
       "      <td>1</td>\n",
       "      <td>0</td>\n",
       "    </tr>\n",
       "  </tbody>\n",
       "</table>\n",
       "<p>5 rows × 29 columns</p>\n",
       "</div>"
      ],
      "text/plain": [
       "   cnt    name  today_score       date  dayofweek  dayofweek_check  avg_temp  \\\n",
       "0    1  quokka            9 2022-09-28          4                0      20.4   \n",
       "1    2  quokka            6 2022-09-29          5                0      20.4   \n",
       "2    3  quokka            4 2022-09-30          6                0      20.7   \n",
       "3    4  quokka            7 2022-10-01          7                1      20.9   \n",
       "4    5  quokka            7 2022-10-02          1                1      19.4   \n",
       "\n",
       "   low_temp  high_temp  precipitation  ...  yesterday_exercise_time  \\\n",
       "0      16.1       26.1            0.0  ...                       70   \n",
       "1      16.4       26.5            0.0  ...                        0   \n",
       "2      14.8       27.7            0.0  ...                        0   \n",
       "3      14.4       27.6            0.0  ...                        0   \n",
       "4      17.2       21.6           15.8  ...                        0   \n",
       "\n",
       "   yesterday_step_cnt yesterday_drinking period  caffeine  \\\n",
       "0               11772                  0      0         0   \n",
       "1                5800                  0      0         0   \n",
       "2                2775                  0      0         0   \n",
       "3                4365                  0      0         0   \n",
       "4               13541                  0      0         1   \n",
       "\n",
       "   yesterday_satisfaction  gotobed_range  getup_range  gotobed_late  \\\n",
       "0                       2           03시대         08시대             1   \n",
       "1                       3           03시대         08시대             1   \n",
       "2                       4           05시대         10시대             1   \n",
       "3                       3           05시대         07시대             1   \n",
       "4                       4           03시대         10시대             1   \n",
       "\n",
       "   getup_early  \n",
       "0            0  \n",
       "1            0  \n",
       "2            0  \n",
       "3            1  \n",
       "4            0  \n",
       "\n",
       "[5 rows x 29 columns]"
      ]
     },
     "execution_count": 3,
     "metadata": {},
     "output_type": "execute_result"
    }
   ],
   "source": [
    "#데이터 모양 확인\n",
    "df.head()"
   ]
  },
  {
   "cell_type": "code",
   "execution_count": 4,
   "id": "7c6b5e7f",
   "metadata": {},
   "outputs": [
    {
     "data": {
      "text/html": [
       "<div>\n",
       "<style scoped>\n",
       "    .dataframe tbody tr th:only-of-type {\n",
       "        vertical-align: middle;\n",
       "    }\n",
       "\n",
       "    .dataframe tbody tr th {\n",
       "        vertical-align: top;\n",
       "    }\n",
       "\n",
       "    .dataframe thead th {\n",
       "        text-align: right;\n",
       "    }\n",
       "</style>\n",
       "<table border=\"1\" class=\"dataframe\">\n",
       "  <thead>\n",
       "    <tr style=\"text-align: right;\">\n",
       "      <th></th>\n",
       "      <th>cnt</th>\n",
       "      <th>today_score</th>\n",
       "      <th>dayofweek</th>\n",
       "      <th>dayofweek_check</th>\n",
       "      <th>avg_temp</th>\n",
       "      <th>low_temp</th>\n",
       "      <th>high_temp</th>\n",
       "      <th>precipitation</th>\n",
       "      <th>precipitation_check</th>\n",
       "      <th>class_check</th>\n",
       "      <th>...</th>\n",
       "      <th>sleep_score</th>\n",
       "      <th>yesterday_exercise</th>\n",
       "      <th>yesterday_exercise_time</th>\n",
       "      <th>yesterday_step_cnt</th>\n",
       "      <th>yesterday_drinking</th>\n",
       "      <th>period</th>\n",
       "      <th>caffeine</th>\n",
       "      <th>yesterday_satisfaction</th>\n",
       "      <th>gotobed_late</th>\n",
       "      <th>getup_early</th>\n",
       "    </tr>\n",
       "  </thead>\n",
       "  <tbody>\n",
       "    <tr>\n",
       "      <th>count</th>\n",
       "      <td>240.00000</td>\n",
       "      <td>240.000000</td>\n",
       "      <td>240.000000</td>\n",
       "      <td>240.000000</td>\n",
       "      <td>240.000000</td>\n",
       "      <td>240.000000</td>\n",
       "      <td>240.000000</td>\n",
       "      <td>240.000000</td>\n",
       "      <td>240.000000</td>\n",
       "      <td>240.000000</td>\n",
       "      <td>...</td>\n",
       "      <td>240.000000</td>\n",
       "      <td>240.00000</td>\n",
       "      <td>240.000000</td>\n",
       "      <td>240.00000</td>\n",
       "      <td>240.000000</td>\n",
       "      <td>240.000000</td>\n",
       "      <td>240.000000</td>\n",
       "      <td>240.000000</td>\n",
       "      <td>240.000000</td>\n",
       "      <td>240.000000</td>\n",
       "    </tr>\n",
       "    <tr>\n",
       "      <th>mean</th>\n",
       "      <td>120.50000</td>\n",
       "      <td>6.450000</td>\n",
       "      <td>4.020833</td>\n",
       "      <td>0.291667</td>\n",
       "      <td>13.929167</td>\n",
       "      <td>9.595833</td>\n",
       "      <td>19.250000</td>\n",
       "      <td>3.792500</td>\n",
       "      <td>0.208333</td>\n",
       "      <td>0.733333</td>\n",
       "      <td>...</td>\n",
       "      <td>3.004167</td>\n",
       "      <td>0.16250</td>\n",
       "      <td>8.841667</td>\n",
       "      <td>6424.80000</td>\n",
       "      <td>0.158333</td>\n",
       "      <td>0.133333</td>\n",
       "      <td>0.437500</td>\n",
       "      <td>3.083333</td>\n",
       "      <td>0.404167</td>\n",
       "      <td>0.383333</td>\n",
       "    </tr>\n",
       "    <tr>\n",
       "      <th>std</th>\n",
       "      <td>69.42622</td>\n",
       "      <td>1.658502</td>\n",
       "      <td>2.019669</td>\n",
       "      <td>0.455480</td>\n",
       "      <td>3.731017</td>\n",
       "      <td>3.896569</td>\n",
       "      <td>3.983439</td>\n",
       "      <td>13.905745</td>\n",
       "      <td>0.406965</td>\n",
       "      <td>0.443141</td>\n",
       "      <td>...</td>\n",
       "      <td>1.072665</td>\n",
       "      <td>0.36968</td>\n",
       "      <td>23.042800</td>\n",
       "      <td>4016.86378</td>\n",
       "      <td>0.365816</td>\n",
       "      <td>0.340645</td>\n",
       "      <td>0.497115</td>\n",
       "      <td>0.955787</td>\n",
       "      <td>0.491756</td>\n",
       "      <td>0.487214</td>\n",
       "    </tr>\n",
       "    <tr>\n",
       "      <th>min</th>\n",
       "      <td>1.00000</td>\n",
       "      <td>2.000000</td>\n",
       "      <td>1.000000</td>\n",
       "      <td>0.000000</td>\n",
       "      <td>4.900000</td>\n",
       "      <td>0.800000</td>\n",
       "      <td>9.800000</td>\n",
       "      <td>0.000000</td>\n",
       "      <td>0.000000</td>\n",
       "      <td>0.000000</td>\n",
       "      <td>...</td>\n",
       "      <td>1.000000</td>\n",
       "      <td>0.00000</td>\n",
       "      <td>0.000000</td>\n",
       "      <td>28.00000</td>\n",
       "      <td>0.000000</td>\n",
       "      <td>0.000000</td>\n",
       "      <td>0.000000</td>\n",
       "      <td>1.000000</td>\n",
       "      <td>0.000000</td>\n",
       "      <td>0.000000</td>\n",
       "    </tr>\n",
       "    <tr>\n",
       "      <th>25%</th>\n",
       "      <td>60.75000</td>\n",
       "      <td>5.000000</td>\n",
       "      <td>2.000000</td>\n",
       "      <td>0.000000</td>\n",
       "      <td>11.175000</td>\n",
       "      <td>6.650000</td>\n",
       "      <td>16.550000</td>\n",
       "      <td>0.000000</td>\n",
       "      <td>0.000000</td>\n",
       "      <td>0.000000</td>\n",
       "      <td>...</td>\n",
       "      <td>2.000000</td>\n",
       "      <td>0.00000</td>\n",
       "      <td>0.000000</td>\n",
       "      <td>3568.50000</td>\n",
       "      <td>0.000000</td>\n",
       "      <td>0.000000</td>\n",
       "      <td>0.000000</td>\n",
       "      <td>2.000000</td>\n",
       "      <td>0.000000</td>\n",
       "      <td>0.000000</td>\n",
       "    </tr>\n",
       "    <tr>\n",
       "      <th>50%</th>\n",
       "      <td>120.50000</td>\n",
       "      <td>7.000000</td>\n",
       "      <td>4.000000</td>\n",
       "      <td>0.000000</td>\n",
       "      <td>13.550000</td>\n",
       "      <td>9.550000</td>\n",
       "      <td>19.100000</td>\n",
       "      <td>0.000000</td>\n",
       "      <td>0.000000</td>\n",
       "      <td>1.000000</td>\n",
       "      <td>...</td>\n",
       "      <td>3.000000</td>\n",
       "      <td>0.00000</td>\n",
       "      <td>0.000000</td>\n",
       "      <td>5606.50000</td>\n",
       "      <td>0.000000</td>\n",
       "      <td>0.000000</td>\n",
       "      <td>0.000000</td>\n",
       "      <td>3.000000</td>\n",
       "      <td>0.000000</td>\n",
       "      <td>0.000000</td>\n",
       "    </tr>\n",
       "    <tr>\n",
       "      <th>75%</th>\n",
       "      <td>180.25000</td>\n",
       "      <td>8.000000</td>\n",
       "      <td>6.000000</td>\n",
       "      <td>1.000000</td>\n",
       "      <td>16.300000</td>\n",
       "      <td>11.800000</td>\n",
       "      <td>21.600000</td>\n",
       "      <td>0.000000</td>\n",
       "      <td>0.000000</td>\n",
       "      <td>1.000000</td>\n",
       "      <td>...</td>\n",
       "      <td>4.000000</td>\n",
       "      <td>0.00000</td>\n",
       "      <td>0.000000</td>\n",
       "      <td>8644.25000</td>\n",
       "      <td>0.000000</td>\n",
       "      <td>0.000000</td>\n",
       "      <td>1.000000</td>\n",
       "      <td>4.000000</td>\n",
       "      <td>1.000000</td>\n",
       "      <td>1.000000</td>\n",
       "    </tr>\n",
       "    <tr>\n",
       "      <th>max</th>\n",
       "      <td>240.00000</td>\n",
       "      <td>10.000000</td>\n",
       "      <td>7.000000</td>\n",
       "      <td>1.000000</td>\n",
       "      <td>21.400000</td>\n",
       "      <td>17.500000</td>\n",
       "      <td>27.700000</td>\n",
       "      <td>76.000000</td>\n",
       "      <td>1.000000</td>\n",
       "      <td>1.000000</td>\n",
       "      <td>...</td>\n",
       "      <td>5.000000</td>\n",
       "      <td>1.00000</td>\n",
       "      <td>120.000000</td>\n",
       "      <td>20086.00000</td>\n",
       "      <td>1.000000</td>\n",
       "      <td>1.000000</td>\n",
       "      <td>1.000000</td>\n",
       "      <td>5.000000</td>\n",
       "      <td>1.000000</td>\n",
       "      <td>1.000000</td>\n",
       "    </tr>\n",
       "  </tbody>\n",
       "</table>\n",
       "<p>8 rows × 23 columns</p>\n",
       "</div>"
      ],
      "text/plain": [
       "             cnt  today_score   dayofweek  dayofweek_check    avg_temp  \\\n",
       "count  240.00000   240.000000  240.000000       240.000000  240.000000   \n",
       "mean   120.50000     6.450000    4.020833         0.291667   13.929167   \n",
       "std     69.42622     1.658502    2.019669         0.455480    3.731017   \n",
       "min      1.00000     2.000000    1.000000         0.000000    4.900000   \n",
       "25%     60.75000     5.000000    2.000000         0.000000   11.175000   \n",
       "50%    120.50000     7.000000    4.000000         0.000000   13.550000   \n",
       "75%    180.25000     8.000000    6.000000         1.000000   16.300000   \n",
       "max    240.00000    10.000000    7.000000         1.000000   21.400000   \n",
       "\n",
       "         low_temp   high_temp  precipitation  precipitation_check  \\\n",
       "count  240.000000  240.000000     240.000000           240.000000   \n",
       "mean     9.595833   19.250000       3.792500             0.208333   \n",
       "std      3.896569    3.983439      13.905745             0.406965   \n",
       "min      0.800000    9.800000       0.000000             0.000000   \n",
       "25%      6.650000   16.550000       0.000000             0.000000   \n",
       "50%      9.550000   19.100000       0.000000             0.000000   \n",
       "75%     11.800000   21.600000       0.000000             0.000000   \n",
       "max     17.500000   27.700000      76.000000             1.000000   \n",
       "\n",
       "       class_check  ...  sleep_score  yesterday_exercise  \\\n",
       "count   240.000000  ...   240.000000           240.00000   \n",
       "mean      0.733333  ...     3.004167             0.16250   \n",
       "std       0.443141  ...     1.072665             0.36968   \n",
       "min       0.000000  ...     1.000000             0.00000   \n",
       "25%       0.000000  ...     2.000000             0.00000   \n",
       "50%       1.000000  ...     3.000000             0.00000   \n",
       "75%       1.000000  ...     4.000000             0.00000   \n",
       "max       1.000000  ...     5.000000             1.00000   \n",
       "\n",
       "       yesterday_exercise_time  yesterday_step_cnt  yesterday_drinking  \\\n",
       "count               240.000000           240.00000          240.000000   \n",
       "mean                  8.841667          6424.80000            0.158333   \n",
       "std                  23.042800          4016.86378            0.365816   \n",
       "min                   0.000000            28.00000            0.000000   \n",
       "25%                   0.000000          3568.50000            0.000000   \n",
       "50%                   0.000000          5606.50000            0.000000   \n",
       "75%                   0.000000          8644.25000            0.000000   \n",
       "max                 120.000000         20086.00000            1.000000   \n",
       "\n",
       "           period    caffeine  yesterday_satisfaction  gotobed_late  \\\n",
       "count  240.000000  240.000000              240.000000    240.000000   \n",
       "mean     0.133333    0.437500                3.083333      0.404167   \n",
       "std      0.340645    0.497115                0.955787      0.491756   \n",
       "min      0.000000    0.000000                1.000000      0.000000   \n",
       "25%      0.000000    0.000000                2.000000      0.000000   \n",
       "50%      0.000000    0.000000                3.000000      0.000000   \n",
       "75%      0.000000    1.000000                4.000000      1.000000   \n",
       "max      1.000000    1.000000                5.000000      1.000000   \n",
       "\n",
       "       getup_early  \n",
       "count   240.000000  \n",
       "mean      0.383333  \n",
       "std       0.487214  \n",
       "min       0.000000  \n",
       "25%       0.000000  \n",
       "50%       0.000000  \n",
       "75%       1.000000  \n",
       "max       1.000000  \n",
       "\n",
       "[8 rows x 23 columns]"
      ]
     },
     "execution_count": 4,
     "metadata": {},
     "output_type": "execute_result"
    }
   ],
   "source": [
    "df.describe()"
   ]
  },
  {
   "cell_type": "code",
   "execution_count": 5,
   "id": "bf366abc",
   "metadata": {},
   "outputs": [
    {
     "data": {
      "text/plain": [
       "cnt                        0\n",
       "name                       0\n",
       "today_score                0\n",
       "date                       0\n",
       "dayofweek                  0\n",
       "dayofweek_check            0\n",
       "avg_temp                   0\n",
       "low_temp                   0\n",
       "high_temp                  0\n",
       "precipitation              0\n",
       "precipitation_check        0\n",
       "class_check                0\n",
       "gotobed_time               0\n",
       "getup_time                 0\n",
       "sleep_time                 0\n",
       "morning_routine            0\n",
       "weather_prefer             0\n",
       "sleep_score                0\n",
       "yesterday_exercise         0\n",
       "yesterday_exercise_time    0\n",
       "yesterday_step_cnt         0\n",
       "yesterday_drinking         0\n",
       "period                     0\n",
       "caffeine                   0\n",
       "yesterday_satisfaction     0\n",
       "gotobed_range              0\n",
       "getup_range                0\n",
       "gotobed_late               0\n",
       "getup_early                0\n",
       "dtype: int64"
      ]
     },
     "execution_count": 5,
     "metadata": {},
     "output_type": "execute_result"
    }
   ],
   "source": [
    "# null 값 확인\n",
    "df.isnull().sum()"
   ]
  },
  {
   "cell_type": "markdown",
   "id": "880e9c73",
   "metadata": {},
   "source": [
    "# 컬럼 정보\n",
    "* name : 닉네임 (quokka(쿼카), peacock(공작), cheetah(치타), rabbit(토끼), squirrel(다람쥐))"
   ]
  },
  {
   "cell_type": "markdown",
   "id": "532a9f38",
   "metadata": {},
   "source": [
    "## 종속변수"
   ]
  },
  {
   "cell_type": "markdown",
   "id": "b96e0b53",
   "metadata": {},
   "source": [
    "* today_score : 오늘 나의 점수 (10점 만점)"
   ]
  },
  {
   "cell_type": "markdown",
   "id": "c565bb1c",
   "metadata": {},
   "source": [
    "## 독립변수\n",
    "*  색깔 의미 \n",
    "    * 범주형 변수 : <span style=\"color:red\"> 빨간색</span>\n",
    "    *  수치형 변수 : 검정색"
   ]
  },
  {
   "cell_type": "markdown",
   "id": "661923c4",
   "metadata": {},
   "source": [
    "* date                       : 날짜 (2022-09-28 ~ 2022-11-14)\n",
    "*  <span style=\"color:red\"> dayofweek                  : 요일 (일요일 = 1 ~ 토요일 = 7) </span>\n",
    "* <span style=\"color:red\"> dayofweek_check : 주말 여부 (주말 = 1, 주말 x = 0)</span>"
   ]
  },
  {
   "cell_type": "markdown",
   "id": "0d8bdb28",
   "metadata": {},
   "source": [
    "* <span style=\"color:red\"> class_check                      : 수업 여부 (수업 안 하는 날 = 0, 수업 하는 날 = 1) </span>\n",
    "* gotobed_time               : 취침 시간 \n",
    "* <span style=\"color:red\"> gotobed_range              : 취침 시간대  </span>\n",
    "* <span style=\"color:red\"> gotobed_late              : 늦게 취침했는지 여부 (오전 2시 이전에 취침한 경우(2시 포함X)=0, 오전 2시 이후에 취침한 경우(2시 포함o)=1)  </span>\n",
    "* getup_time                 : 기상 시간 \n",
    "* <span style=\"color:red\"> getup_range              : 기상 시간대  </span>\n",
    "* <span style=\"color:red\"> getup_early              : 일찍 기상 했는지 여부 (오전 8시 이후에 기상한 경우(8시 포함O)=0, 오전 8시 이전에 기상한 경우(8시 포함X)=1  </span>\n",
    "* sleep_time                 : 수면 시간 (기상시간 - 취침 시간)\n",
    "* <span style=\"color:red\"> morning_routine            : 모닝루틴 실행 여부 (모닝루틴 x = 0, 모닝루틴 o = 1) </span>\n",
    "* <span style=\"color:red\"> weather_prefer             : 날씨 선호 여부 (날씨 선호 x = 0, 날씨 선호 o = 1) </span>\n",
    "* sleep_score                : 수면 점수 (5점 만점)\n",
    "* <span style=\"color:red\"> yesterday_exercise         : 전일 운동 여부 (전일 운동 x = 0, 전일 운동 o = 1) </span>\n",
    "* yesterday_exercise_time    : 전일 운동 시간 (분)\n",
    "* yesterday_step_cnt         : 전날 걸음 수 \n",
    "* <span style=\"color:red\"> yesterday_drinking         : 전날 음주 여부 (전날 음주 x = 0, 전일 운주 o = 1) </span>\n",
    "* <span style=\"color:red\"> period                     : 생리 여부 (생리 x = 0, 생리 o = 1) </span>\n",
    "* <span style=\"color:red\"> caffeine                   : 카페인 섭취 여부 (카페인 x = 0, 카페인 o = 1) </span>\n",
    "* yesterday_satisfaction     : 전날 만족도 (5점 만점)"
   ]
  },
  {
   "cell_type": "markdown",
   "id": "d82bf23c",
   "metadata": {},
   "source": [
    "* avg_temp                   : 평균 기온 (℃)\n",
    "* low_temp                   : 최저 기온 (℃)\n",
    "* high_temp                  : 최고 기온 (℃)\n",
    "* precipitation              : 강수량 (mm)\n",
    "* <span style=\"color:red\">  precipitation_check : 강수 여부 (강수 = 1, 강수 x = 0)</span>"
   ]
  },
  {
   "cell_type": "markdown",
   "id": "fb3a6ee3",
   "metadata": {},
   "source": [
    "# 데이터 타입 변경 \n",
    "* 수치형 변수 -> int or float\n",
    "* 범주형 변수 -> object"
   ]
  },
  {
   "cell_type": "code",
   "execution_count": 6,
   "id": "2b0dea8f",
   "metadata": {},
   "outputs": [
    {
     "name": "stdout",
     "output_type": "stream",
     "text": [
      "<class 'pandas.core.frame.DataFrame'>\n",
      "RangeIndex: 240 entries, 0 to 239\n",
      "Data columns (total 29 columns):\n",
      " #   Column                   Non-Null Count  Dtype         \n",
      "---  ------                   --------------  -----         \n",
      " 0   cnt                      240 non-null    int64         \n",
      " 1   name                     240 non-null    object        \n",
      " 2   today_score              240 non-null    int64         \n",
      " 3   date                     240 non-null    datetime64[ns]\n",
      " 4   dayofweek                240 non-null    int64         \n",
      " 5   dayofweek_check          240 non-null    int64         \n",
      " 6   avg_temp                 240 non-null    float64       \n",
      " 7   low_temp                 240 non-null    float64       \n",
      " 8   high_temp                240 non-null    float64       \n",
      " 9   precipitation            240 non-null    float64       \n",
      " 10  precipitation_check      240 non-null    int64         \n",
      " 11  class_check              240 non-null    int64         \n",
      " 12  gotobed_time             240 non-null    object        \n",
      " 13  getup_time               240 non-null    object        \n",
      " 14  sleep_time               240 non-null    float64       \n",
      " 15  morning_routine          240 non-null    int64         \n",
      " 16  weather_prefer           240 non-null    int64         \n",
      " 17  sleep_score              240 non-null    int64         \n",
      " 18  yesterday_exercise       240 non-null    int64         \n",
      " 19  yesterday_exercise_time  240 non-null    int64         \n",
      " 20  yesterday_step_cnt       240 non-null    int64         \n",
      " 21  yesterday_drinking       240 non-null    int64         \n",
      " 22  period                   240 non-null    int64         \n",
      " 23  caffeine                 240 non-null    int64         \n",
      " 24  yesterday_satisfaction   240 non-null    int64         \n",
      " 25  gotobed_range            240 non-null    object        \n",
      " 26  getup_range              240 non-null    object        \n",
      " 27  gotobed_late             240 non-null    int64         \n",
      " 28  getup_early              240 non-null    int64         \n",
      "dtypes: datetime64[ns](1), float64(5), int64(18), object(5)\n",
      "memory usage: 54.5+ KB\n"
     ]
    }
   ],
   "source": [
    "#데이터 타입 확인\n",
    "df.info()"
   ]
  },
  {
   "cell_type": "code",
   "execution_count": 7,
   "id": "9f06825d",
   "metadata": {},
   "outputs": [],
   "source": [
    "#범주형 변수를 object 타입으로 변경\n",
    "df['dayofweek'] = df['dayofweek'].astype(object)\n",
    "df['dayofweek_check'] = df['dayofweek_check'].astype(object)\n",
    "df['class_check'] = df['class_check'].astype(object)\n",
    "df['morning_routine'] = df['morning_routine'].astype(object)\n",
    "df['weather_prefer'] = df['weather_prefer'].astype(object)\n",
    "df['yesterday_exercise'] = df['yesterday_exercise'].astype(object)\n",
    "df['yesterday_drinking'] = df['yesterday_drinking'].astype(object)\n",
    "df['period'] = df['period'].astype(object)\n",
    "df['caffeine'] = df['caffeine'].astype(object)\n",
    "df['precipitation_check'] = df['precipitation_check'].astype(object)\n",
    "df['gotobed_late'] = df['gotobed_late'].astype(object)\n",
    "df['getup_early'] = df['getup_early'].astype(object)"
   ]
  },
  {
   "cell_type": "code",
   "execution_count": 8,
   "id": "3c1433e0",
   "metadata": {},
   "outputs": [
    {
     "name": "stdout",
     "output_type": "stream",
     "text": [
      "<class 'pandas.core.frame.DataFrame'>\n",
      "RangeIndex: 240 entries, 0 to 239\n",
      "Data columns (total 29 columns):\n",
      " #   Column                   Non-Null Count  Dtype         \n",
      "---  ------                   --------------  -----         \n",
      " 0   cnt                      240 non-null    int64         \n",
      " 1   name                     240 non-null    object        \n",
      " 2   today_score              240 non-null    int64         \n",
      " 3   date                     240 non-null    datetime64[ns]\n",
      " 4   dayofweek                240 non-null    object        \n",
      " 5   dayofweek_check          240 non-null    object        \n",
      " 6   avg_temp                 240 non-null    float64       \n",
      " 7   low_temp                 240 non-null    float64       \n",
      " 8   high_temp                240 non-null    float64       \n",
      " 9   precipitation            240 non-null    float64       \n",
      " 10  precipitation_check      240 non-null    object        \n",
      " 11  class_check              240 non-null    object        \n",
      " 12  gotobed_time             240 non-null    object        \n",
      " 13  getup_time               240 non-null    object        \n",
      " 14  sleep_time               240 non-null    float64       \n",
      " 15  morning_routine          240 non-null    object        \n",
      " 16  weather_prefer           240 non-null    object        \n",
      " 17  sleep_score              240 non-null    int64         \n",
      " 18  yesterday_exercise       240 non-null    object        \n",
      " 19  yesterday_exercise_time  240 non-null    int64         \n",
      " 20  yesterday_step_cnt       240 non-null    int64         \n",
      " 21  yesterday_drinking       240 non-null    object        \n",
      " 22  period                   240 non-null    object        \n",
      " 23  caffeine                 240 non-null    object        \n",
      " 24  yesterday_satisfaction   240 non-null    int64         \n",
      " 25  gotobed_range            240 non-null    object        \n",
      " 26  getup_range              240 non-null    object        \n",
      " 27  gotobed_late             240 non-null    object        \n",
      " 28  getup_early              240 non-null    object        \n",
      "dtypes: datetime64[ns](1), float64(5), int64(6), object(17)\n",
      "memory usage: 54.5+ KB\n"
     ]
    }
   ],
   "source": [
    "#데이터 타입 확인\n",
    "df.info()"
   ]
  },
  {
   "cell_type": "markdown",
   "id": "2bd15add",
   "metadata": {},
   "source": [
    "# 데이터 분포 확인"
   ]
  },
  {
   "cell_type": "markdown",
   "id": "0290e01f",
   "metadata": {},
   "source": [
    "## 전체 테이블"
   ]
  },
  {
   "cell_type": "markdown",
   "id": "dcc0ec45",
   "metadata": {},
   "source": [
    "### 종속변수 today_score "
   ]
  },
  {
   "cell_type": "code",
   "execution_count": 9,
   "id": "180a070d",
   "metadata": {},
   "outputs": [
    {
     "data": {
      "text/plain": [
       "<AxesSubplot:xlabel='today_score', ylabel='Density'>"
      ]
     },
     "execution_count": 9,
     "metadata": {},
     "output_type": "execute_result"
    },
    {
     "data": {
      "image/png": "[encoded data removed]",
      "text/plain": [
       "<Figure size 432x288 with 1 Axes>"
      ]
     },
     "metadata": {
      "needs_background": "light"
     },
     "output_type": "display_data"
    }
   ],
   "source": [
    "sns.distplot(df['today_score'])"
   ]
  },
  {
   "cell_type": "code",
   "execution_count": 10,
   "id": "fc975f58",
   "metadata": {},
   "outputs": [
    {
     "data": {
      "text/plain": [
       "<AxesSubplot:xlabel='today_score', ylabel='count'>"
      ]
     },
     "execution_count": 10,
     "metadata": {},
     "output_type": "execute_result"
    },
    {
     "data": {
      "image/png": "[encoded data removed]",
      "text/plain": [
       "<Figure size 432x288 with 1 Axes>"
      ]
     },
     "metadata": {
      "needs_background": "light"
     },
     "output_type": "display_data"
    }
   ],
   "source": [
    "sns.countplot(x='today_score', hue =\"name\", data=df)"
   ]
  },
  {
   "cell_type": "markdown",
   "id": "d852c700",
   "metadata": {},
   "source": [
    "### 독립 변수_범주형 변수"
   ]
  },
  {
   "cell_type": "code",
   "execution_count": 11,
   "id": "7e2bf8ec",
   "metadata": {},
   "outputs": [
    {
     "data": {
      "text/plain": [
       "['name',\n",
       " 'dayofweek',\n",
       " 'dayofweek_check',\n",
       " 'precipitation_check',\n",
       " 'class_check',\n",
       " 'gotobed_time',\n",
       " 'getup_time',\n",
       " 'morning_routine',\n",
       " 'weather_prefer',\n",
       " 'yesterday_exercise',\n",
       " 'yesterday_drinking',\n",
       " 'period',\n",
       " 'caffeine',\n",
       " 'gotobed_range',\n",
       " 'getup_range',\n",
       " 'gotobed_late',\n",
       " 'getup_early']"
      ]
     },
     "execution_count": 11,
     "metadata": {},
     "output_type": "execute_result"
    }
   ],
   "source": [
    "# 변수 형이 obhect인 컬럼 추출\n",
    "object_feature = [ col for col in df.columns if df[col].dtypes == \"object\"]\n",
    "object_feature"
   ]
  },
  {
   "cell_type": "code",
   "execution_count": 12,
   "id": "bf4a1e61",
   "metadata": {},
   "outputs": [
    {
     "data": {
      "text/plain": [
       "['morning_routine',\n",
       " 'class_check',\n",
       " 'getup_range',\n",
       " 'dayofweek',\n",
       " 'yesterday_drinking',\n",
       " 'gotobed_range',\n",
       " 'dayofweek_check',\n",
       " 'yesterday_exercise',\n",
       " 'getup_early',\n",
       " 'caffeine',\n",
       " 'precipitation_check',\n",
       " 'weather_prefer',\n",
       " 'gotobed_late',\n",
       " 'period']"
      ]
     },
     "execution_count": 12,
     "metadata": {},
     "output_type": "execute_result"
    }
   ],
   "source": [
    "# name, gotbed_time, getup_time 컬럼 제외하고 리스트 생성\n",
    "category_feature = list(set(object_feature) - set(['name','gotobed_time','getup_time']))\n",
    "category_feature"
   ]
  },
  {
   "cell_type": "code",
   "execution_count": 13,
   "id": "992f9cf8",
   "metadata": {
    "scrolled": true
   },
   "outputs": [
    {
     "data": {
      "image/png": "[encoded data removed]",
      "text/plain": [
       "<Figure size 432x288 with 1 Axes>"
      ]
     },
     "metadata": {
      "needs_background": "light"
     },
     "output_type": "display_data"
    },
    {
     "data": {
      "image/png": "[encoded data removed]",
      "text/plain": [
       "<Figure size 432x288 with 1 Axes>"
      ]
     },
     "metadata": {
      "needs_background": "light"
     },
     "output_type": "display_data"
    },
    {
     "data": {
      "image/png": "[encoded data removed]",
      "text/plain": [
       "<Figure size 432x288 with 1 Axes>"
      ]
     },
     "metadata": {
      "needs_background": "light"
     },
     "output_type": "display_data"
    },
    {
     "data": {
      "image/png": "[encoded data removed]",
      "text/plain": [
       "<Figure size 432x288 with 1 Axes>"
      ]
     },
     "metadata": {
      "needs_background": "light"
     },
     "output_type": "display_data"
    },
    {
     "data": {
      "image/png": "[encoded data removed]",
      "text/plain": [
       "<Figure size 432x288 with 1 Axes>"
      ]
     },
     "metadata": {
      "needs_background": "light"
     },
     "output_type": "display_data"
    },
    {
     "data": {
      "image/png": "[encoded data removed]",
      "text/plain": [
       "<Figure size 432x288 with 1 Axes>"
      ]
     },
     "metadata": {
      "needs_background": "light"
     },
     "output_type": "display_data"
    },
    {
     "data": {
      "image/png": "[encoded data removed]",
      "text/plain": [
       "<Figure size 432x288 with 1 Axes>"
      ]
     },
     "metadata": {
      "needs_background": "light"
     },
     "output_type": "display_data"
    },
    {
     "data": {
      "image/png": "[encoded data removed]",
      "text/plain": [
       "<Figure size 432x288 with 1 Axes>"
      ]
     },
     "metadata": {
      "needs_background": "light"
     },
     "output_type": "display_data"
    },
    {
     "data": {
      "image/png": "[encoded data removed]",
      "text/plain": [
       "<Figure size 432x288 with 1 Axes>"
      ]
     },
     "metadata": {
      "needs_background": "light"
     },
     "output_type": "display_data"
    },
    {
     "data": {
      "image/png": "[encoded data removed]",
      "text/plain": [
       "<Figure size 432x288 with 1 Axes>"
      ]
     },
     "metadata": {
      "needs_background": "light"
     },
     "output_type": "display_data"
    },
    {
     "data": {
      "image/png": "[encoded data removed]",
      "text/plain": [
       "<Figure size 432x288 with 1 Axes>"
      ]
     },
     "metadata": {
      "needs_background": "light"
     },
     "output_type": "display_data"
    },
    {
     "data": {
      "image/png": "[encoded data removed]",
      "text/plain": [
       "<Figure size 432x288 with 1 Axes>"
      ]
     },
     "metadata": {
      "needs_background": "light"
     },
     "output_type": "display_data"
    },
    {
     "data": {
      "image/png": "[encoded data removed]",
      "text/plain": [
       "<Figure size 432x288 with 1 Axes>"
      ]
     },
     "metadata": {
      "needs_background": "light"
     },
     "output_type": "display_data"
    },
    {
     "data": {
      "image/png": "[encoded data removed]",
      "text/plain": [
       "<Figure size 432x288 with 1 Axes>"
      ]
     },
     "metadata": {
      "needs_background": "light"
     },
     "output_type": "display_data"
    }
   ],
   "source": [
    "# 범주형 변수 분포 확인\n",
    "for col in category_feature:\n",
    "    df[col].value_counts().plot(kind='bar')\n",
    "    plt.title(col)\n",
    "    plt.show()"
   ]
  },
  {
   "cell_type": "markdown",
   "id": "4dd49d5e",
   "metadata": {},
   "source": [
    "* 범주형 변수 분포 해석 \n",
    "    * morning_routine : 모닝루틴을 안 한 날이 한 날 보다 많다.\n",
    "    * class_check : 수업을 한 날이 안 한 날보다 많다. \n",
    "    * getup_range : 기상 시간은 08시 -> 07시 -> 09시 순으로 많다. \n",
    "    * dayofweek \n",
    "    * yesterday_drinking : 어제 술을 안 마신 날이 마신 날보다 많다.\n",
    "    * gotobed_range : 취침시간은 01시 -> 00시 -> 02시 순으로 많다.\n",
    "    * dayofweek_check \n",
    "    * yesterday_exercise : 어제 운동을 안 한 날이 한 날 보다 많다. \n",
    "    * getup_early : 오전 8시 이후(8시 포함)에 기상한 경우가 더 많다.\n",
    "    * caffeine : 카페인을 섭취하지 않은 날이 섭취한 날 보다 많다.\n",
    "    * precipitation_check : 비가 안 온 날이 비 온 날 보다 많다.\n",
    "    * weather_prefer : 오늘 날씨가 맘에 든 날이 맘에 들지 않은 날 보다 많다. \n",
    "    * gotobed_late : 오전 2시 이전(2시 포함x)에 취침한 경우가 더 많다. \n",
    "    * period"
   ]
  },
  {
   "cell_type": "markdown",
   "id": "57439b82",
   "metadata": {},
   "source": [
    "### 독립 변수_수치형 변수 "
   ]
  },
  {
   "cell_type": "code",
   "execution_count": 14,
   "id": "93c0530b",
   "metadata": {},
   "outputs": [
    {
     "data": {
      "text/plain": [
       "array(['avg_temp', 'high_temp', 'low_temp', 'precipitation',\n",
       "       'sleep_score', 'sleep_time', 'yesterday_exercise_time',\n",
       "       'yesterday_satisfaction', 'yesterday_step_cnt'], dtype='<U23')"
      ]
     },
     "execution_count": 14,
     "metadata": {},
     "output_type": "execute_result"
    }
   ],
   "source": [
    "# 전체 변수중 object변수 제외, today_score,cnt, date도 제외\n",
    "numerical_feature = list(set(df.columns) - set(object_feature) - set(['cnt','date','today_score']))\n",
    "numerical_feature = np.sort(numerical_feature)\n",
    "numerical_feature"
   ]
  },
  {
   "cell_type": "code",
   "execution_count": 15,
   "id": "cc7c8f13",
   "metadata": {
    "scrolled": true
   },
   "outputs": [
    {
     "data": {
      "image/png": "[encoded data removed]",
      "text/plain": [
       "<Figure size 432x288 with 1 Axes>"
      ]
     },
     "metadata": {
      "needs_background": "light"
     },
     "output_type": "display_data"
    },
    {
     "data": {
      "image/png": "[encoded data removed]",
      "text/plain": [
       "<Figure size 432x288 with 1 Axes>"
      ]
     },
     "metadata": {
      "needs_background": "light"
     },
     "output_type": "display_data"
    },
    {
     "data": {
      "image/png": "[encoded data removed]",
      "text/plain": [
       "<Figure size 432x288 with 1 Axes>"
      ]
     },
     "metadata": {
      "needs_background": "light"
     },
     "output_type": "display_data"
    },
    {
     "data": {
      "image/png": "[encoded data removed]",
      "text/plain": [
       "<Figure size 432x288 with 1 Axes>"
      ]
     },
     "metadata": {
      "needs_background": "light"
     },
     "output_type": "display_data"
    },
    {
     "data": {
      "image/png": "[encoded data removed]",
      "text/plain": [
       "<Figure size 432x288 with 1 Axes>"
      ]
     },
     "metadata": {
      "needs_background": "light"
     },
     "output_type": "display_data"
    },
    {
     "data": {
      "image/png": "[encoded data removed]",
      "text/plain": [
       "<Figure size 432x288 with 1 Axes>"
      ]
     },
     "metadata": {
      "needs_background": "light"
     },
     "output_type": "display_data"
    },
    {
     "data": {
      "image/png": "[encoded data removed]",
      "text/plain": [
       "<Figure size 432x288 with 1 Axes>"
      ]
     },
     "metadata": {
      "needs_background": "light"
     },
     "output_type": "display_data"
    },
    {
     "data": {
      "image/png": "[encoded data removed]",
      "text/plain": [
       "<Figure size 432x288 with 1 Axes>"
      ]
     },
     "metadata": {
      "needs_background": "light"
     },
     "output_type": "display_data"
    },
    {
     "data": {
      "image/png": "[encoded data removed]",
      "text/plain": [
       "<Figure size 432x288 with 1 Axes>"
      ]
     },
     "metadata": {
      "needs_background": "light"
     },
     "output_type": "display_data"
    }
   ],
   "source": [
    "# 수치형 변수 분포 확인\n",
    "for col in numerical_feature:\n",
    "    sns.distplot(df.loc[df[col].notnull(), col])\n",
    "    plt.title(col)\n",
    "    plt.show()"
   ]
  },
  {
   "cell_type": "markdown",
   "id": "ebb004cd",
   "metadata": {},
   "source": [
    "# 상관분석 "
   ]
  },
  {
   "cell_type": "code",
   "execution_count": 16,
   "id": "8d74c84c",
   "metadata": {},
   "outputs": [
    {
     "data": {
      "image/png": "[encoded data removed]",
      "text/plain": [
       "<Figure size 1080x1080 with 2 Axes>"
      ]
     },
     "metadata": {
      "needs_background": "light"
     },
     "output_type": "display_data"
    }
   ],
   "source": [
    "tmp = df.corr()\n",
    "# 그림 사이즈 지정\n",
    "fig, ax = plt.subplots( figsize=(15,15) )\n",
    "\n",
    "# 삼각형 마스크를 만든다(위 쪽 삼각형에 True, 아래 삼각형에 False)\n",
    "mask = np.zeros_like(tmp, dtype=np.bool)\n",
    "mask[np.triu_indices_from(mask)] = True\n",
    "\n",
    "\n",
    "# 히트맵 팔레트 색상 불러오기\n",
    "cmap = sns.diverging_palette(220, 20, as_cmap=True)\n",
    "\n",
    "\n",
    "# 히트맵을 그린다\n",
    "sns.heatmap(tmp , \n",
    "            annot = True,   # 실제 값을 표시한다\n",
    "            mask=mask,      # 표시하지 않을 마스크 부분을 지정한다\n",
    "            linewidths=.5,  # 경계면 실선으로 구분하기\n",
    "            cbar_kws={\"shrink\": .5},# 컬러바 크기 절반으로 줄이기\n",
    "            cmap = cmap,\n",
    "            vmin = -1,vmax = 1   # 컬러바 범위 -1 ~ 1\n",
    "           )  \n",
    "plt.show()\n"
   ]
  },
  {
   "cell_type": "markdown",
   "id": "c51f43fe",
   "metadata": {},
   "source": [
    "* 상관 분석 해석 \n",
    "    * 오늘 나의 점수(today_score)와는 sleep_time(수면시간), sleep_score(수면 점수), yesterday_satisfaction(전날 만족도)가 상관관계가 있다. \n",
    "    * 평균기온(avg_temp)과 최고기온(high_temp), 최저기온(low_temp)은 강한 상관관계가 있다. 다중공선성도 높게 나올 것 같아서, 다중회귀에 넣을 때 체크해봐야겠다.\n",
    "    * sleep_score(수면 점수)와 yesterday_satisfaction(전날 만족도)가 상관관계가 있다. \n",
    "    * sleep_score(수면 점수)와 sleep_time(수면시간)이 상관관계가 있다. \n",
    "    * yesterday_step_cnt(전날 걸음수)와 yesterday_exercise_time(전날 운동시간)이 상관관계가 있다. "
   ]
  },
  {
   "cell_type": "markdown",
   "id": "6c66d858",
   "metadata": {},
   "source": [
    "# 왜도 확인\n",
    "- 왜도가 -2~2사이에 있으면 정규분포를 만족한다고 본다. \n",
    "- 정규분포를 만족하지 않는 값은 log를 씌우는 것을 고려해보자."
   ]
  },
  {
   "cell_type": "code",
   "execution_count": 17,
   "id": "ab386570",
   "metadata": {},
   "outputs": [
    {
     "data": {
      "text/plain": [
       "cnt                        0.000000\n",
       "today_score               -0.297222\n",
       "dayofweek                 -0.028646\n",
       "dayofweek_check            0.922474\n",
       "avg_temp                   0.093974\n",
       "low_temp                   0.065016\n",
       "high_temp                  0.015958\n",
       "precipitation              4.231705\n",
       "precipitation_check        1.445419\n",
       "class_check               -1.061938\n",
       "sleep_time                 0.355849\n",
       "morning_routine            0.134473\n",
       "weather_prefer            -0.814137\n",
       "sleep_score                0.176270\n",
       "yesterday_exercise         1.841248\n",
       "yesterday_exercise_time    2.795109\n",
       "yesterday_step_cnt         0.883241\n",
       "yesterday_drinking         1.883666\n",
       "period                     2.170869\n",
       "caffeine                   0.253564\n",
       "yesterday_satisfaction     0.180137\n",
       "gotobed_late               0.393035\n",
       "getup_early                0.482937\n",
       "dtype: float64"
      ]
     },
     "execution_count": 17,
     "metadata": {},
     "output_type": "execute_result"
    }
   ],
   "source": [
    "df.skew()"
   ]
  },
  {
   "cell_type": "markdown",
   "id": "d988881b",
   "metadata": {},
   "source": [
    "* 결과 : 범주형 변수를 제외하고 precipitation, yesterday_exercise_time"
   ]
  },
  {
   "cell_type": "markdown",
   "id": "64c432b2",
   "metadata": {},
   "source": [
    "# 단일 선형 회귀"
   ]
  },
  {
   "cell_type": "markdown",
   "id": "f1928398",
   "metadata": {},
   "source": [
    "## 범주형 변수"
   ]
  },
  {
   "cell_type": "code",
   "execution_count": 18,
   "id": "f935dd62",
   "metadata": {},
   "outputs": [
    {
     "data": {
      "text/plain": [
       "['morning_routine',\n",
       " 'class_check',\n",
       " 'getup_range',\n",
       " 'dayofweek',\n",
       " 'yesterday_drinking',\n",
       " 'gotobed_range',\n",
       " 'dayofweek_check',\n",
       " 'yesterday_exercise',\n",
       " 'getup_early',\n",
       " 'caffeine',\n",
       " 'precipitation_check',\n",
       " 'weather_prefer',\n",
       " 'gotobed_late',\n",
       " 'period']"
      ]
     },
     "execution_count": 18,
     "metadata": {},
     "output_type": "execute_result"
    }
   ],
   "source": [
    "#범주형 변수 출력\n",
    "category_feature"
   ]
  },
  {
   "cell_type": "markdown",
   "id": "100292c7",
   "metadata": {},
   "source": [
    "* 🎉의미 : p-value가 0.05미만으로 유의미함, 귀무가설 기각"
   ]
  },
  {
   "cell_type": "markdown",
   "id": "82e3e72f",
   "metadata": {},
   "source": [
    "### 🎉 dayofweek : 요일 (일요일 = 1 ~ 토요일 = 7)\n",
    "* 수정r제곱 기준 설명력 : 0.04(4%)\n",
    "* 해석1(p-value 0.05기준) : 일요일과 화요일의 오늘 나의 점수 차이가 없다는 귀무가설을 기각, 화요일이 일요일보다 1.3점 낮음\n",
    "* 해석2(p-value 0.06기준) : 일요일과 월요일의 오늘 나의 점수 차이가 없다는 귀무가설을 기각, 월요일이 일요일보다 0.7점 낮음"
   ]
  },
  {
   "cell_type": "code",
   "execution_count": 19,
   "id": "b779da8b",
   "metadata": {},
   "outputs": [
    {
     "name": "stdout",
     "output_type": "stream",
     "text": [
      "                            OLS Regression Results                            \n",
      "==============================================================================\n",
      "Dep. Variable:            today_score   R-squared:                       0.069\n",
      "Model:                            OLS   Adj. R-squared:                  0.045\n",
      "Method:                 Least Squares   F-statistic:                     2.857\n",
      "Date:                Sun, 20 Nov 2022   Prob (F-statistic):             0.0105\n",
      "Time:                        23:17:59   Log-Likelihood:                -452.94\n",
      "No. Observations:                 240   AIC:                             919.9\n",
      "Df Residuals:                     233   BIC:                             944.3\n",
      "Df Model:                           6                                         \n",
      "Covariance Type:            nonrobust                                         \n",
      "=====================================================================================\n",
      "                        coef    std err          t      P>|t|      [0.025      0.975]\n",
      "-------------------------------------------------------------------------------------\n",
      "Intercept             6.9143      0.274     25.233      0.000       6.374       7.454\n",
      "C(dayofweek)[T.2]    -0.7429      0.388     -1.917      0.056      -1.506       0.021\n",
      "C(dayofweek)[T.3]    -1.3143      0.403     -3.258      0.001      -2.109      -0.520\n",
      "C(dayofweek)[T.4]    -0.0571      0.388     -0.147      0.883      -0.821       0.706\n",
      "C(dayofweek)[T.5]    -0.6571      0.388     -1.696      0.091      -1.421       0.106\n",
      "C(dayofweek)[T.6]    -0.5429      0.388     -1.401      0.163      -1.306       0.221\n",
      "C(dayofweek)[T.7]    -0.0571      0.388     -0.147      0.883      -0.821       0.706\n",
      "==============================================================================\n",
      "Omnibus:                        5.204   Durbin-Watson:                   1.706\n",
      "Prob(Omnibus):                  0.074   Jarque-Bera (JB):                4.991\n",
      "Skew:                          -0.349   Prob(JB):                       0.0825\n",
      "Kurtosis:                       3.102   Cond. No.                         7.80\n",
      "==============================================================================\n",
      "\n",
      "Notes:\n",
      "[1] Standard Errors assume that the covariance matrix of the errors is correctly specified.\n"
     ]
    }
   ],
   "source": [
    "test = ols('today_score ~ C(dayofweek)', data = df).fit().summary()\n",
    "print(test)"
   ]
  },
  {
   "cell_type": "markdown",
   "id": "9f701900",
   "metadata": {},
   "source": [
    "### 🎉 dayofweek_check : 주말 여부 (주말 = 1 , 주말 x = 0)\n",
    "* 가설 : 주말이 평일보다 오늘의 점수가 높을 것이다.\n",
    "<br><br/>\n",
    "* 수정r제곱 기준 설명력 : 0.02(2%)\n",
    "* 해석: 주말과 평일의 오늘 나의 점수 차이가 없다는 귀무가설을 기각, 평일이 주말보다 0.6점 높음\n",
    "* 분석가 의견 : 주말에 관계 없이 프로젝트가 이어지는 일정이어서 주말 여부가 큰 영향이 없던 걸로 보인다."
   ]
  },
  {
   "cell_type": "code",
   "execution_count": 20,
   "id": "791a58b4",
   "metadata": {},
   "outputs": [
    {
     "name": "stdout",
     "output_type": "stream",
     "text": [
      "                            OLS Regression Results                            \n",
      "==============================================================================\n",
      "Dep. Variable:            today_score   R-squared:                       0.030\n",
      "Model:                            OLS   Adj. R-squared:                  0.026\n",
      "Method:                 Least Squares   F-statistic:                     7.472\n",
      "Date:                Sun, 20 Nov 2022   Prob (F-statistic):            0.00674\n",
      "Time:                        23:20:23   Log-Likelihood:                -457.75\n",
      "No. Observations:                 240   AIC:                             919.5\n",
      "Df Residuals:                     238   BIC:                             926.5\n",
      "Df Model:                           1                                         \n",
      "Covariance Type:            nonrobust                                         \n",
      "===========================================================================================\n",
      "                              coef    std err          t      P>|t|      [0.025      0.975]\n",
      "-------------------------------------------------------------------------------------------\n",
      "Intercept                   6.2647      0.126     49.913      0.000       6.017       6.512\n",
      "C(dayofweek_check)[T.1]     0.6353      0.232      2.734      0.007       0.177       1.093\n",
      "==============================================================================\n",
      "Omnibus:                        5.968   Durbin-Watson:                   1.735\n",
      "Prob(Omnibus):                  0.051   Jarque-Bera (JB):                5.727\n",
      "Skew:                          -0.370   Prob(JB):                       0.0571\n",
      "Kurtosis:                       3.156   Cond. No.                         2.43\n",
      "==============================================================================\n",
      "\n",
      "Notes:\n",
      "[1] Standard Errors assume that the covariance matrix of the errors is correctly specified.\n"
     ]
    }
   ],
   "source": [
    "test = ols('today_score ~ C(dayofweek_check)', data = df).fit().summary()\n",
    "print(test)"
   ]
  },
  {
   "cell_type": "markdown",
   "id": "8b298c5c",
   "metadata": {},
   "source": [
    "###  precipitation_check : 강수 여부 (강수 = 1 , 강수 x = 0)\n",
    "* 가설 : 비 안 오는 날이 비오는 날보다 오늘의 점수가 높을 것이다.\n",
    "<br> <br/>\n",
    "* 해석 : 비오는 날과 비 안오는 날이 차이가 없다는 귀무가설 채택\n",
    "* 분석가 의견 : 비 오는 날이 몇일 없었고, 온 날 도 오늘 나의 점수를 매기는 아침에 왔는지 알 수 없기 때문에 차이가 없는 결과가 도출된 것 같다. "
   ]
  },
  {
   "cell_type": "code",
   "execution_count": 21,
   "id": "cc9fc15d",
   "metadata": {},
   "outputs": [
    {
     "name": "stdout",
     "output_type": "stream",
     "text": [
      "                            OLS Regression Results                            \n",
      "==============================================================================\n",
      "Dep. Variable:            today_score   R-squared:                       0.000\n",
      "Model:                            OLS   Adj. R-squared:                 -0.004\n",
      "Method:                 Least Squares   F-statistic:                   0.02058\n",
      "Date:                Sun, 20 Nov 2022   Prob (F-statistic):              0.886\n",
      "Time:                        23:23:53   Log-Likelihood:                -461.45\n",
      "No. Observations:                 240   AIC:                             926.9\n",
      "Df Residuals:                     238   BIC:                             933.9\n",
      "Df Model:                           1                                         \n",
      "Covariance Type:            nonrobust                                         \n",
      "===============================================================================================\n",
      "                                  coef    std err          t      P>|t|      [0.025      0.975]\n",
      "-----------------------------------------------------------------------------------------------\n",
      "Intercept                       6.4579      0.121     53.562      0.000       6.220       6.695\n",
      "C(precipitation_check)[T.1]    -0.0379      0.264     -0.143      0.886      -0.558       0.482\n",
      "==============================================================================\n",
      "Omnibus:                        3.554   Durbin-Watson:                   1.719\n",
      "Prob(Omnibus):                  0.169   Jarque-Bera (JB):                3.454\n",
      "Skew:                          -0.294   Prob(JB):                        0.178\n",
      "Kurtosis:                       2.988   Cond. No.                         2.59\n",
      "==============================================================================\n",
      "\n",
      "Notes:\n",
      "[1] Standard Errors assume that the covariance matrix of the errors is correctly specified.\n"
     ]
    }
   ],
   "source": [
    "test = ols('today_score ~ C(precipitation_check)', data = df).fit().summary()\n",
    "print(test)"
   ]
  },
  {
   "cell_type": "markdown",
   "id": "a5564c0f",
   "metadata": {},
   "source": [
    "### 🎉 class : 수업 여부 (수업 안 하는 날 = 0, 수업 하는 날 = 1)\n",
    "* 가설 : 수업을 안 하는 날이 하는 날 보다 오늘의 점수가 높을 것이다\n",
    "<br><br/>\n",
    "* 수정r제곱 기준 설명력 : 0.03(3%)\n",
    "* 해석 : 수업 하는 날과 수업 안하는 날의 오늘 나의 점수 차이가 없다는 귀무가설을 기각, 수업 하는 날이 수업 안 하는 날보다 0.7점 낮음"
   ]
  },
  {
   "cell_type": "code",
   "execution_count": 19,
   "id": "b90acf15",
   "metadata": {},
   "outputs": [
    {
     "name": "stdout",
     "output_type": "stream",
     "text": [
      "                            OLS Regression Results                            \n",
      "==============================================================================\n",
      "Dep. Variable:            today_score   R-squared:                       0.036\n",
      "Model:                            OLS   Adj. R-squared:                  0.032\n",
      "Method:                 Least Squares   F-statistic:                     8.817\n",
      "Date:                Sat, 19 Nov 2022   Prob (F-statistic):            0.00329\n",
      "Time:                        00:46:04   Log-Likelihood:                -457.10\n",
      "No. Observations:                 240   AIC:                             918.2\n",
      "Df Residuals:                     238   BIC:                             925.2\n",
      "Df Model:                           1                                         \n",
      "Covariance Type:            nonrobust                                         \n",
      "====================================================================================\n",
      "                       coef    std err          t      P>|t|      [0.025      0.975]\n",
      "------------------------------------------------------------------------------------\n",
      "Intercept            6.9688      0.204     34.160      0.000       6.567       7.371\n",
      "class_check[T.1]    -0.7074      0.238     -2.969      0.003      -1.177      -0.238\n",
      "==============================================================================\n",
      "Omnibus:                        6.925   Durbin-Watson:                   1.771\n",
      "Prob(Omnibus):                  0.031   Jarque-Bera (JB):                6.696\n",
      "Skew:                          -0.395   Prob(JB):                       0.0352\n",
      "Kurtosis:                       3.210   Cond. No.                         3.65\n",
      "==============================================================================\n",
      "\n",
      "Notes:\n",
      "[1] Standard Errors assume that the covariance matrix of the errors is correctly specified.\n"
     ]
    }
   ],
   "source": [
    "test = ols('today_score ~ C(class_check)', data = df).fit().summary()\n",
    "print(test)"
   ]
  },
  {
   "cell_type": "markdown",
   "id": "fefe7d7a",
   "metadata": {},
   "source": [
    "### morning_routine : 모닝루틴 실행 여부 (모닝루틴 x = 0, 모닝루틴 o = 1)\n",
    "* 가설 : 모닝루틴을 한 날이 안 하는 날 보다 오늘의 점수가 높을 것이다\n",
    "<br><br/>\n",
    "* 해석: 모닝루틴을 한 날과 안하는 날의 오늘 나의 점수 차이가 없다는 귀무가설을 채택\n",
    "* 분석가 의견 : 모닝루틴을 안 한 날이 더 많았기 때문에, 안 한 날이 계속 이어지게 되면서 하든 안하든 무뎌졌기 때문에 이런 결과가 나온 것 같다. "
   ]
  },
  {
   "cell_type": "code",
   "execution_count": 22,
   "id": "1eda5d3e",
   "metadata": {},
   "outputs": [
    {
     "name": "stdout",
     "output_type": "stream",
     "text": [
      "                            OLS Regression Results                            \n",
      "==============================================================================\n",
      "Dep. Variable:            today_score   R-squared:                       0.012\n",
      "Model:                            OLS   Adj. R-squared:                  0.008\n",
      "Method:                 Least Squares   F-statistic:                     2.862\n",
      "Date:                Sun, 20 Nov 2022   Prob (F-statistic):             0.0920\n",
      "Time:                        23:29:17   Log-Likelihood:                -460.03\n",
      "No. Observations:                 240   AIC:                             924.1\n",
      "Df Residuals:                     238   BIC:                             931.0\n",
      "Df Model:                           1                                         \n",
      "Covariance Type:            nonrobust                                         \n",
      "===========================================================================================\n",
      "                              coef    std err          t      P>|t|      [0.025      0.975]\n",
      "-------------------------------------------------------------------------------------------\n",
      "Intercept                   6.2812      0.146     43.015      0.000       5.994       6.569\n",
      "C(morning_routine)[T.1]     0.3616      0.214      1.692      0.092      -0.059       0.783\n",
      "==============================================================================\n",
      "Omnibus:                        3.124   Durbin-Watson:                   1.665\n",
      "Prob(Omnibus):                  0.210   Jarque-Bera (JB):                3.031\n",
      "Skew:                          -0.275   Prob(JB):                        0.220\n",
      "Kurtosis:                       2.979   Cond. No.                         2.55\n",
      "==============================================================================\n",
      "\n",
      "Notes:\n",
      "[1] Standard Errors assume that the covariance matrix of the errors is correctly specified.\n"
     ]
    }
   ],
   "source": [
    "test = ols('today_score ~ C(morning_routine)', data = df).fit().summary()\n",
    "print(test)"
   ]
  },
  {
   "cell_type": "markdown",
   "id": "c0a2c0fd",
   "metadata": {},
   "source": [
    "### yesterday_exercise : 전일 운동 여부 (전일 운동 x = 0, 전일 운동 o = 1)\n",
    "* 가설 : 전일 운동을 안 한 날이 한 날 보다 오늘의 점수가 높을 것이다\n",
    "<br><br/>\n",
    "* 해석: 전일 운동을 한 날과 안한 날의 오늘 나의 점수 차이가 없다는 귀무가설을 채택\n",
    "* 분석가 의견 : 전일 운동을 안 한 날이 더 많았기 때문에, 안 한 날이 계속 이어지게 되면서 하든 안하든 무뎌졌기 때문에 이런 결과가 나온 것 같다."
   ]
  },
  {
   "cell_type": "code",
   "execution_count": 23,
   "id": "0a28f008",
   "metadata": {},
   "outputs": [
    {
     "name": "stdout",
     "output_type": "stream",
     "text": [
      "                            OLS Regression Results                            \n",
      "==============================================================================\n",
      "Dep. Variable:            today_score   R-squared:                       0.000\n",
      "Model:                            OLS   Adj. R-squared:                 -0.004\n",
      "Method:                 Least Squares   F-statistic:                  0.002245\n",
      "Date:                Sun, 20 Nov 2022   Prob (F-statistic):              0.962\n",
      "Time:                        23:29:28   Log-Likelihood:                -461.46\n",
      "No. Observations:                 240   AIC:                             926.9\n",
      "Df Residuals:                     238   BIC:                             933.9\n",
      "Df Model:                           1                                         \n",
      "Covariance Type:            nonrobust                                         \n",
      "==============================================================================================\n",
      "                                 coef    std err          t      P>|t|      [0.025      0.975]\n",
      "----------------------------------------------------------------------------------------------\n",
      "Intercept                      6.4478      0.117     55.003      0.000       6.217       6.679\n",
      "C(yesterday_exercise)[T.1]     0.0138      0.291      0.047      0.962      -0.559       0.587\n",
      "==============================================================================\n",
      "Omnibus:                        3.610   Durbin-Watson:                   1.719\n",
      "Prob(Omnibus):                  0.164   Jarque-Bera (JB):                3.496\n",
      "Skew:                          -0.296   Prob(JB):                        0.174\n",
      "Kurtosis:                       2.998   Cond. No.                         2.79\n",
      "==============================================================================\n",
      "\n",
      "Notes:\n",
      "[1] Standard Errors assume that the covariance matrix of the errors is correctly specified.\n"
     ]
    }
   ],
   "source": [
    "test = ols('today_score ~ C(yesterday_exercise)', data = df).fit().summary()\n",
    "print(test)"
   ]
  },
  {
   "cell_type": "markdown",
   "id": "33a95e1b",
   "metadata": {},
   "source": [
    "### 🎉yesterday_drinking : 전날 음주 여부 (전날 음주 x = 0, 전날 음주 o = 1)\n",
    "* 가설 : 전날 음주를 안 한 날이 한 날 보다 오늘의 점수가 높을 것이다\n",
    "<br><br/>\n",
    "* 수정r제곱 기준 설명력 : 0.01(1%)\n",
    "* 해석(p-value 0.06기준) : 전날 음주를 한 날과 전날 음주 안한 날의 오늘 나의 점수 차이가 없다는 귀무가설을 기각, 전날 음주 하는 날이 전날 음주 안 하는 것 보다 0.5점 높음"
   ]
  },
  {
   "cell_type": "code",
   "execution_count": 24,
   "id": "9b9cdf0b",
   "metadata": {},
   "outputs": [
    {
     "name": "stdout",
     "output_type": "stream",
     "text": [
      "                            OLS Regression Results                            \n",
      "==============================================================================\n",
      "Dep. Variable:            today_score   R-squared:                       0.015\n",
      "Model:                            OLS   Adj. R-squared:                  0.011\n",
      "Method:                 Least Squares   F-statistic:                     3.683\n",
      "Date:                Sun, 20 Nov 2022   Prob (F-statistic):             0.0562\n",
      "Time:                        23:30:20   Log-Likelihood:                -459.62\n",
      "No. Observations:                 240   AIC:                             923.2\n",
      "Df Residuals:                     238   BIC:                             930.2\n",
      "Df Model:                           1                                         \n",
      "Covariance Type:            nonrobust                                         \n",
      "==============================================================================================\n",
      "                                 coef    std err          t      P>|t|      [0.025      0.975]\n",
      "----------------------------------------------------------------------------------------------\n",
      "Intercept                      6.3614      0.116     54.820      0.000       6.133       6.590\n",
      "C(yesterday_drinking)[T.1]     0.5597      0.292      1.919      0.056      -0.015       1.134\n",
      "==============================================================================\n",
      "Omnibus:                        3.406   Durbin-Watson:                   1.780\n",
      "Prob(Omnibus):                  0.182   Jarque-Bera (JB):                3.303\n",
      "Skew:                          -0.287   Prob(JB):                        0.192\n",
      "Kurtosis:                       2.988   Cond. No.                         2.82\n",
      "==============================================================================\n",
      "\n",
      "Notes:\n",
      "[1] Standard Errors assume that the covariance matrix of the errors is correctly specified.\n"
     ]
    }
   ],
   "source": [
    "test = ols('today_score ~ C(yesterday_drinking)', data = df).fit().summary()\n",
    "print(test)"
   ]
  },
  {
   "cell_type": "markdown",
   "id": "72b1edc5",
   "metadata": {},
   "source": [
    "### period : 생리 여부 (생리 x = 0, 생리 o = 1)\n",
    "* 가설 : 생리를 안하는 날이 하는 날 보다 오늘의 점수가 높을 것이다\n",
    "<br><br/>\n",
    "* 해석: 생리를 안하는 날과 하는 날이 오늘 나의 점수 차이가 없다는 귀무가설을 채택"
   ]
  },
  {
   "cell_type": "code",
   "execution_count": 25,
   "id": "fdaf6ae4",
   "metadata": {},
   "outputs": [
    {
     "name": "stdout",
     "output_type": "stream",
     "text": [
      "                            OLS Regression Results                            \n",
      "==============================================================================\n",
      "Dep. Variable:            today_score   R-squared:                       0.000\n",
      "Model:                            OLS   Adj. R-squared:                 -0.004\n",
      "Method:                 Least Squares   F-statistic:                   0.01097\n",
      "Date:                Sun, 20 Nov 2022   Prob (F-statistic):              0.917\n",
      "Time:                        23:32:37   Log-Likelihood:                -461.46\n",
      "No. Observations:                 240   AIC:                             926.9\n",
      "Df Residuals:                     238   BIC:                             933.9\n",
      "Df Model:                           1                                         \n",
      "Covariance Type:            nonrobust                                         \n",
      "==========================================================================================\n",
      "                             coef    std err          t      P>|t|      [0.025      0.975]\n",
      "------------------------------------------------------------------------------------------\n",
      "Intercept                  6.4667      0.192     33.697      0.000       6.089       6.845\n",
      "C(weather_prefer)[T.1]    -0.0242      0.231     -0.105      0.917      -0.480       0.432\n",
      "==============================================================================\n",
      "Omnibus:                        3.669   Durbin-Watson:                   1.720\n",
      "Prob(Omnibus):                  0.160   Jarque-Bera (JB):                3.555\n",
      "Skew:                          -0.298   Prob(JB):                        0.169\n",
      "Kurtosis:                       2.999   Cond. No.                         3.34\n",
      "==============================================================================\n",
      "\n",
      "Notes:\n",
      "[1] Standard Errors assume that the covariance matrix of the errors is correctly specified.\n"
     ]
    }
   ],
   "source": [
    "test = ols('today_score ~ C(weather_prefer)', data = df).fit().summary()\n",
    "print(test)"
   ]
  },
  {
   "cell_type": "markdown",
   "id": "d5978d13",
   "metadata": {},
   "source": [
    "### caffeine : 카페인 섭취 여부 (카페인 x = 0, 카페인 o = 1)\n",
    "* 가설 : 카페인을 섭취 한 날이 안 한 날 보다 오늘의 점수가 높을 것이다\n",
    "<br><br/>\n",
    "* 해석: 카페인을 섭취 한 날과 안 한 날이 오늘 나의 점수 차이가 없다는 귀무가설을 채택"
   ]
  },
  {
   "cell_type": "code",
   "execution_count": 23,
   "id": "a1fd937c",
   "metadata": {},
   "outputs": [
    {
     "name": "stdout",
     "output_type": "stream",
     "text": [
      "                            OLS Regression Results                            \n",
      "==============================================================================\n",
      "Dep. Variable:            today_score   R-squared:                       0.011\n",
      "Model:                            OLS   Adj. R-squared:                  0.007\n",
      "Method:                 Least Squares   F-statistic:                     2.669\n",
      "Date:                Sat, 19 Nov 2022   Prob (F-statistic):              0.104\n",
      "Time:                        01:19:15   Log-Likelihood:                -460.13\n",
      "No. Observations:                 240   AIC:                             924.3\n",
      "Df Residuals:                     238   BIC:                             931.2\n",
      "Df Model:                           1                                         \n",
      "Covariance Type:            nonrobust                                         \n",
      "====================================================================================\n",
      "                       coef    std err          t      P>|t|      [0.025      0.975]\n",
      "------------------------------------------------------------------------------------\n",
      "Intercept            6.2963      0.142     44.264      0.000       6.016       6.577\n",
      "C(caffeine)[T.1]     0.3513      0.215      1.634      0.104      -0.072       0.775\n",
      "==============================================================================\n",
      "Omnibus:                        3.219   Durbin-Watson:                   1.730\n",
      "Prob(Omnibus):                  0.200   Jarque-Bera (JB):                3.103\n",
      "Skew:                          -0.279   Prob(JB):                        0.212\n",
      "Kurtosis:                       2.996   Cond. No.                         2.50\n",
      "==============================================================================\n",
      "\n",
      "Notes:\n",
      "[1] Standard Errors assume that the covariance matrix of the errors is correctly specified.\n"
     ]
    }
   ],
   "source": [
    "test = ols('today_score ~ C(caffeine)', data = df).fit().summary()\n",
    "print(test)"
   ]
  },
  {
   "cell_type": "markdown",
   "id": "646b41e6",
   "metadata": {},
   "source": [
    "### 🎉gotobed_range : 취침 시간대\n",
    "* 수정r제곱 기준 설명력 : 0.06(6%)\n",
    "<br><br/>\n",
    "* 해석1 : 00시에 취침할 때와 18시에 취침할 때의 오늘 나의 점수 차이가 없다는 귀무가설을 기각, 18시에 취침할 때가 00시에 취침할 때 보다 4.4점 낮음\n",
    "* 분석가 의견 : 18시에 취침 했을 때가 1번 있었는데, 다람쥐님이 이 때 18시에 취침해서 21시에 기상했기 때문에 오늘 나의 점수가 낮게 나와서 결과가 이렇게 나왔다.\n",
    "<br><br/>\n",
    "* 해석2 : 00시에 취침할 때와 20시에 취침할 때의 오늘 나의 점수 차이가 없다는 귀무가설을 기각, 20시에 취침할 때가 00시에 취침할 때 보다 2.2점 높음 \n",
    "* 분석가 의견 : 20시에 취침 했을 때는 3번 있었는데, 치타, 토끼, 다람쥐님 모두 일찍 잠자리에 들어 푹 잘 잤기에 오늘 나의 점수를 높게 줘서 결과가 이렇게 나왔다."
   ]
  },
  {
   "cell_type": "code",
   "execution_count": 38,
   "id": "31368fcf",
   "metadata": {},
   "outputs": [
    {
     "name": "stdout",
     "output_type": "stream",
     "text": [
      "                            OLS Regression Results                            \n",
      "==============================================================================\n",
      "Dep. Variable:            today_score   R-squared:                       0.104\n",
      "Model:                            OLS   Adj. R-squared:                  0.060\n",
      "Method:                 Least Squares   F-statistic:                     2.394\n",
      "Date:                Mon, 21 Nov 2022   Prob (F-statistic):            0.00795\n",
      "Time:                        00:07:47   Log-Likelihood:                -448.35\n",
      "No. Observations:                 240   AIC:                             920.7\n",
      "Df Residuals:                     228   BIC:                             962.5\n",
      "Df Model:                          11                                         \n",
      "Covariance Type:            nonrobust                                         \n",
      "============================================================================================\n",
      "                               coef    std err          t      P>|t|      [0.025      0.975]\n",
      "--------------------------------------------------------------------------------------------\n",
      "Intercept                    6.4464      0.215     30.005      0.000       6.023       6.870\n",
      "C(gotobed_range)[T.01시대]     0.0028      0.289      0.010      0.992      -0.567       0.573\n",
      "C(gotobed_range)[T.02시대]     0.2595      0.311      0.834      0.405      -0.354       0.873\n",
      "C(gotobed_range)[T.03시대]    -0.3393      0.372     -0.912      0.363      -1.073       0.394\n",
      "C(gotobed_range)[T.04시대]    -0.7321      0.480     -1.524      0.129      -1.679       0.214\n",
      "C(gotobed_range)[T.05시대]    -1.4464      0.953     -1.518      0.130      -3.324       0.431\n",
      "C(gotobed_range)[T.06시대]    -1.4464      1.622     -0.892      0.373      -4.643       1.750\n",
      "C(gotobed_range)[T.18시대]    -4.4464      1.622     -2.741      0.007      -7.643      -1.250\n",
      "C(gotobed_range)[T.20시대]     2.2202      0.953      2.330      0.021       0.343       4.098\n",
      "C(gotobed_range)[T.21시대]     1.5536      0.953      1.631      0.104      -0.324       3.431\n",
      "C(gotobed_range)[T.22시대]     0.3869      0.691      0.560      0.576      -0.974       1.748\n",
      "C(gotobed_range)[T.23시대]     0.7536      0.750      1.004      0.316      -0.725       2.232\n",
      "==============================================================================\n",
      "Omnibus:                        4.371   Durbin-Watson:                   1.510\n",
      "Prob(Omnibus):                  0.112   Jarque-Bera (JB):                4.235\n",
      "Skew:                          -0.325   Prob(JB):                        0.120\n",
      "Kurtosis:                       3.026   Cond. No.                         17.1\n",
      "==============================================================================\n",
      "\n",
      "Notes:\n",
      "[1] Standard Errors assume that the covariance matrix of the errors is correctly specified.\n"
     ]
    }
   ],
   "source": [
    "test = ols('today_score ~ C(gotobed_range)', data = df).fit().summary()\n",
    "print(test)"
   ]
  },
  {
   "cell_type": "markdown",
   "id": "38208515",
   "metadata": {},
   "source": [
    "### gotobed_late: 늦게 취침했는지 여부 \n",
    "(오전 2시 이전에 취침한 경우(2시 포함X)=0, 오전 2시 이후에 취침한 경우(2시 포함o)=1)\n",
    "<br><br/>\n",
    "* 가설 : 늦게 취침할 수록 오늘 나의 점수가 낮을 것이다.\n",
    "* 해석 : 늦게 취침 한 날과 늦게 취침하지 않은 날의 오늘 나의 점수 차이가 없다는 귀무가설을 채택"
   ]
  },
  {
   "cell_type": "code",
   "execution_count": 39,
   "id": "f8c7af66",
   "metadata": {},
   "outputs": [
    {
     "name": "stdout",
     "output_type": "stream",
     "text": [
      "                            OLS Regression Results                            \n",
      "==============================================================================\n",
      "Dep. Variable:            today_score   R-squared:                       0.004\n",
      "Model:                            OLS   Adj. R-squared:                  0.000\n",
      "Method:                 Least Squares   F-statistic:                     1.007\n",
      "Date:                Mon, 21 Nov 2022   Prob (F-statistic):              0.317\n",
      "Time:                        00:07:55   Log-Likelihood:                -460.96\n",
      "No. Observations:                 240   AIC:                             925.9\n",
      "Df Residuals:                     238   BIC:                             932.9\n",
      "Df Model:                           1                                         \n",
      "Covariance Type:            nonrobust                                         \n",
      "========================================================================================\n",
      "                           coef    std err          t      P>|t|      [0.025      0.975]\n",
      "----------------------------------------------------------------------------------------\n",
      "Intercept                6.5385      0.139     47.145      0.000       6.265       6.812\n",
      "C(gotobed_late)[T.1]    -0.2189      0.218     -1.003      0.317      -0.649       0.211\n",
      "==============================================================================\n",
      "Omnibus:                        3.137   Durbin-Watson:                   1.695\n",
      "Prob(Omnibus):                  0.208   Jarque-Bera (JB):                2.998\n",
      "Skew:                          -0.274   Prob(JB):                        0.223\n",
      "Kurtosis:                       3.010   Cond. No.                         2.45\n",
      "==============================================================================\n",
      "\n",
      "Notes:\n",
      "[1] Standard Errors assume that the covariance matrix of the errors is correctly specified.\n"
     ]
    }
   ],
   "source": [
    "test = ols('today_score ~ C(gotobed_late)', data = df).fit().summary()\n",
    "print(test)"
   ]
  },
  {
   "cell_type": "markdown",
   "id": "ed9c1845",
   "metadata": {},
   "source": [
    "### 🎉getup_range              : 기상 시간대\n",
    "* 수정r제곱 기준 설명력 : 0.05(5%)\n",
    "<br><br/>\n",
    "* 해석1 : 04시에 기상할 때와 21시에 기상할 때의 오늘 나의 점수 차이가 없다는 귀무가설을 기각, 21시에 기상할 때가 04시에 기상할 때 보다 7점 낮음\n",
    "* 분석가 의견 : 21시에 기상 했을 때가 1번 있었는데, 다람쥐님이 이 때 18시에 취침해서 21시에 기상했기 때문에 오늘 나의 점수가 낮게 나와서 결과가 이렇게 나왔다."
   ]
  },
  {
   "cell_type": "code",
   "execution_count": 40,
   "id": "af8b86db",
   "metadata": {},
   "outputs": [
    {
     "name": "stdout",
     "output_type": "stream",
     "text": [
      "                            OLS Regression Results                            \n",
      "==============================================================================\n",
      "Dep. Variable:            today_score   R-squared:                       0.089\n",
      "Model:                            OLS   Adj. R-squared:                  0.054\n",
      "Method:                 Least Squares   F-statistic:                     2.505\n",
      "Date:                Mon, 21 Nov 2022   Prob (F-statistic):            0.00943\n",
      "Time:                        00:10:05   Log-Likelihood:                -450.24\n",
      "No. Observations:                 240   AIC:                             920.5\n",
      "Df Residuals:                     230   BIC:                             955.3\n",
      "Df Model:                           9                                         \n",
      "Covariance Type:            nonrobust                                         \n",
      "==========================================================================================\n",
      "                             coef    std err          t      P>|t|      [0.025      0.975]\n",
      "------------------------------------------------------------------------------------------\n",
      "Intercept                  9.0000      1.613      5.578      0.000       5.821      12.179\n",
      "C(getup_range)[T.05시대]    -3.2857      1.725     -1.905      0.058      -6.684       0.113\n",
      "C(getup_range)[T.06시대]    -2.6800      1.645     -1.629      0.105      -5.922       0.562\n",
      "C(getup_range)[T.07시대]    -2.7458      1.627     -1.688      0.093      -5.952       0.460\n",
      "C(getup_range)[T.08시대]    -2.5915      1.625     -1.595      0.112      -5.793       0.610\n",
      "C(getup_range)[T.09시대]    -2.3617      1.630     -1.448      0.149      -5.574       0.851\n",
      "C(getup_range)[T.10시대]    -2.4091      1.650     -1.460      0.146      -5.659       0.841\n",
      "C(getup_range)[T.11시대]    -0.6667      1.743     -0.383      0.702      -4.100       2.767\n",
      "C(getup_range)[T.12시대]    -1.0000      2.282     -0.438      0.662      -5.496       3.496\n",
      "C(getup_range)[T.21시대]    -7.0000      2.282     -3.068      0.002     -11.496      -2.504\n",
      "==============================================================================\n",
      "Omnibus:                        1.581   Durbin-Watson:                   1.671\n",
      "Prob(Omnibus):                  0.454   Jarque-Bera (JB):                1.611\n",
      "Skew:                          -0.193   Prob(JB):                        0.447\n",
      "Kurtosis:                       2.893   Cond. No.                         54.7\n",
      "==============================================================================\n",
      "\n",
      "Notes:\n",
      "[1] Standard Errors assume that the covariance matrix of the errors is correctly specified.\n"
     ]
    }
   ],
   "source": [
    "test = ols('today_score ~ C(getup_range)', data = df).fit().summary()\n",
    "print(test)"
   ]
  },
  {
   "cell_type": "markdown",
   "id": "06045871",
   "metadata": {},
   "source": [
    "### getup_early              : 일찍 기상 했는지 여부 \n",
    "(오전 8시 이후에 기상한 경우(8시 포함O)=0, 오전 8시 이전에 기상한 경우(8시 포함X)=1 \n",
    "<br><br/>\n",
    "* 가설 : 일찍 기상할 수록 오늘 나의 점수가 낮을 것이다.\n",
    "* 해석 : 일찍 기상 한 날과 일찍 기상하지 않은 날의 오늘 나의 점수 차이가 없다는 귀무가설을 채택"
   ]
  },
  {
   "cell_type": "code",
   "execution_count": 41,
   "id": "facee12a",
   "metadata": {},
   "outputs": [
    {
     "name": "stdout",
     "output_type": "stream",
     "text": [
      "                            OLS Regression Results                            \n",
      "==============================================================================\n",
      "Dep. Variable:            today_score   R-squared:                       0.008\n",
      "Model:                            OLS   Adj. R-squared:                  0.004\n",
      "Method:                 Least Squares   F-statistic:                     1.948\n",
      "Date:                Mon, 21 Nov 2022   Prob (F-statistic):              0.164\n",
      "Time:                        00:12:47   Log-Likelihood:                -460.49\n",
      "No. Observations:                 240   AIC:                             925.0\n",
      "Df Residuals:                     238   BIC:                             931.9\n",
      "Df Model:                           1                                         \n",
      "Covariance Type:            nonrobust                                         \n",
      "=======================================================================================\n",
      "                          coef    std err          t      P>|t|      [0.025      0.975]\n",
      "---------------------------------------------------------------------------------------\n",
      "Intercept               6.5676      0.136     48.270      0.000       6.300       6.836\n",
      "C(getup_early)[T.1]    -0.3067      0.220     -1.396      0.164      -0.740       0.126\n",
      "==============================================================================\n",
      "Omnibus:                        3.097   Durbin-Watson:                   1.748\n",
      "Prob(Omnibus):                  0.213   Jarque-Bera (JB):                3.055\n",
      "Skew:                          -0.275   Prob(JB):                        0.217\n",
      "Kurtosis:                       2.942   Cond. No.                         2.43\n",
      "==============================================================================\n",
      "\n",
      "Notes:\n",
      "[1] Standard Errors assume that the covariance matrix of the errors is correctly specified.\n"
     ]
    }
   ],
   "source": [
    "test = ols('today_score ~ C(getup_early)', data = df).fit().summary()\n",
    "print(test)"
   ]
  },
  {
   "cell_type": "markdown",
   "id": "ecd0c7b5",
   "metadata": {},
   "source": [
    "## 수치형 변수"
   ]
  },
  {
   "cell_type": "code",
   "execution_count": 26,
   "id": "9376ad5f",
   "metadata": {},
   "outputs": [
    {
     "data": {
      "text/plain": [
       "array(['avg_temp', 'high_temp', 'low_temp', 'precipitation',\n",
       "       'sleep_score', 'sleep_time', 'yesterday_exercise_time',\n",
       "       'yesterday_satisfaction', 'yesterday_step_cnt'], dtype='<U23')"
      ]
     },
     "execution_count": 26,
     "metadata": {},
     "output_type": "execute_result"
    }
   ],
   "source": [
    "numerical_feature"
   ]
  },
  {
   "cell_type": "markdown",
   "id": "769b49c8",
   "metadata": {},
   "source": [
    "* 🎉의미 : p-value가 0.05미만으로 유의미함, 귀무가설 기각"
   ]
  },
  {
   "cell_type": "markdown",
   "id": "02406c92",
   "metadata": {},
   "source": [
    "### avg_temp : 평균 기온 (℃)\n",
    "* 해석 : 평균 기온에 따라 오늘 나의 점수 차이가 없다는 귀무가설을 채택"
   ]
  },
  {
   "cell_type": "code",
   "execution_count": 27,
   "id": "95a71f65",
   "metadata": {},
   "outputs": [
    {
     "name": "stdout",
     "output_type": "stream",
     "text": [
      "                            OLS Regression Results                            \n",
      "==============================================================================\n",
      "Dep. Variable:            today_score   R-squared:                       0.006\n",
      "Model:                            OLS   Adj. R-squared:                  0.002\n",
      "Method:                 Least Squares   F-statistic:                     1.537\n",
      "Date:                Sun, 20 Nov 2022   Prob (F-statistic):              0.216\n",
      "Time:                        23:34:10   Log-Likelihood:                -460.69\n",
      "No. Observations:                 240   AIC:                             925.4\n",
      "Df Residuals:                     238   BIC:                             932.3\n",
      "Df Model:                           1                                         \n",
      "Covariance Type:            nonrobust                                         \n",
      "==============================================================================\n",
      "                 coef    std err          t      P>|t|      [0.025      0.975]\n",
      "------------------------------------------------------------------------------\n",
      "Intercept      5.9541      0.414     14.378      0.000       5.138       6.770\n",
      "avg_temp       0.0356      0.029      1.240      0.216      -0.021       0.092\n",
      "==============================================================================\n",
      "Omnibus:                        3.229   Durbin-Watson:                   1.714\n",
      "Prob(Omnibus):                  0.199   Jarque-Bera (JB):                3.162\n",
      "Skew:                          -0.281   Prob(JB):                        0.206\n",
      "Kurtosis:                       2.962   Cond. No.                         56.1\n",
      "==============================================================================\n",
      "\n",
      "Notes:\n",
      "[1] Standard Errors assume that the covariance matrix of the errors is correctly specified.\n"
     ]
    }
   ],
   "source": [
    "test = ols('today_score ~ avg_temp', data = df).fit().summary()\n",
    "print(test)"
   ]
  },
  {
   "cell_type": "markdown",
   "id": "36275c30",
   "metadata": {},
   "source": [
    "### low_temp : 최저 기온 (℃)\n",
    "* 해석 : 최저 기온에 따라 오늘 나의 점수 차이가 없다는 귀무가설을 채택"
   ]
  },
  {
   "cell_type": "code",
   "execution_count": 28,
   "id": "1e092c74",
   "metadata": {},
   "outputs": [
    {
     "name": "stdout",
     "output_type": "stream",
     "text": [
      "                            OLS Regression Results                            \n",
      "==============================================================================\n",
      "Dep. Variable:            today_score   R-squared:                       0.004\n",
      "Model:                            OLS   Adj. R-squared:                 -0.000\n",
      "Method:                 Least Squares   F-statistic:                    0.9670\n",
      "Date:                Sun, 20 Nov 2022   Prob (F-statistic):              0.326\n",
      "Time:                        23:36:41   Log-Likelihood:                -460.98\n",
      "No. Observations:                 240   AIC:                             926.0\n",
      "Df Residuals:                     238   BIC:                             932.9\n",
      "Df Model:                           1                                         \n",
      "Covariance Type:            nonrobust                                         \n",
      "==============================================================================\n",
      "                 coef    std err          t      P>|t|      [0.025      0.975]\n",
      "------------------------------------------------------------------------------\n",
      "Intercept      6.1902      0.285     21.714      0.000       5.629       6.752\n",
      "low_temp       0.0271      0.028      0.983      0.326      -0.027       0.081\n",
      "==============================================================================\n",
      "Omnibus:                        3.661   Durbin-Watson:                   1.720\n",
      "Prob(Omnibus):                  0.160   Jarque-Bera (JB):                3.547\n",
      "Skew:                          -0.298   Prob(JB):                        0.170\n",
      "Kurtosis:                       2.999   Cond. No.                         27.8\n",
      "==============================================================================\n",
      "\n",
      "Notes:\n",
      "[1] Standard Errors assume that the covariance matrix of the errors is correctly specified.\n"
     ]
    }
   ],
   "source": [
    "test = ols('today_score ~ low_temp', data = df).fit().summary()\n",
    "print(test)"
   ]
  },
  {
   "cell_type": "markdown",
   "id": "cc028f38",
   "metadata": {},
   "source": [
    "### high_temp : 최고 기온 (℃)\n",
    "* 해석 : 최고 기온에 따라 오늘 나의 점수 차이가 없다는 귀무가설을 채택"
   ]
  },
  {
   "cell_type": "code",
   "execution_count": 29,
   "id": "09ceb48d",
   "metadata": {},
   "outputs": [
    {
     "name": "stdout",
     "output_type": "stream",
     "text": [
      "                            OLS Regression Results                            \n",
      "==============================================================================\n",
      "Dep. Variable:            today_score   R-squared:                       0.010\n",
      "Model:                            OLS   Adj. R-squared:                  0.006\n",
      "Method:                 Least Squares   F-statistic:                     2.334\n",
      "Date:                Sun, 20 Nov 2022   Prob (F-statistic):              0.128\n",
      "Time:                        23:37:15   Log-Likelihood:                -460.29\n",
      "No. Observations:                 240   AIC:                             924.6\n",
      "Df Residuals:                     238   BIC:                             931.5\n",
      "Df Model:                           1                                         \n",
      "Covariance Type:            nonrobust                                         \n",
      "==============================================================================\n",
      "                 coef    std err          t      P>|t|      [0.025      0.975]\n",
      "------------------------------------------------------------------------------\n",
      "Intercept      5.6602      0.528     10.722      0.000       4.620       6.700\n",
      "high_temp      0.0410      0.027      1.528      0.128      -0.012       0.094\n",
      "==============================================================================\n",
      "Omnibus:                        2.832   Durbin-Watson:                   1.716\n",
      "Prob(Omnibus):                  0.243   Jarque-Bera (JB):                2.837\n",
      "Skew:                          -0.262   Prob(JB):                        0.242\n",
      "Kurtosis:                       2.904   Cond. No.                         97.4\n",
      "==============================================================================\n",
      "\n",
      "Notes:\n",
      "[1] Standard Errors assume that the covariance matrix of the errors is correctly specified.\n"
     ]
    }
   ],
   "source": [
    "test = ols('today_score ~ high_temp', data = df).fit().summary()\n",
    "print(test)"
   ]
  },
  {
   "cell_type": "markdown",
   "id": "56aa45f3",
   "metadata": {},
   "source": [
    "### 🎉precipitation : 강수량 (mm)\n",
    "* 가설 : 비가 많이 올 수록 오늘의 점수가 낮을 것이다.\n",
    "<br><br/>\n",
    "* 수정r제곱 기준 설명력 : 0.01(1%)\n",
    "* 해석 : 강수량에 따라 오늘 나의 점수 차이가 없다는 귀무가설을 기각, 비가 많이 올 수록 오늘의 점수가 높다?!!\n",
    "* 분석가 의견 : 비 오는 날이 몇일 없었고, 온 날 도 오늘 나의 점수를 매기는 아침에 왔는지 알 수 없기 때문에 가설에 맞지 않은 결과가 나온 것 아닐까???"
   ]
  },
  {
   "cell_type": "code",
   "execution_count": 31,
   "id": "2f13d5b2",
   "metadata": {},
   "outputs": [
    {
     "name": "stdout",
     "output_type": "stream",
     "text": [
      "                            OLS Regression Results                            \n",
      "==============================================================================\n",
      "Dep. Variable:            today_score   R-squared:                       0.017\n",
      "Model:                            OLS   Adj. R-squared:                  0.013\n",
      "Method:                 Least Squares   F-statistic:                     4.213\n",
      "Date:                Sun, 20 Nov 2022   Prob (F-statistic):             0.0412\n",
      "Time:                        23:38:46   Log-Likelihood:                -459.36\n",
      "No. Observations:                 240   AIC:                             922.7\n",
      "Df Residuals:                     238   BIC:                             929.7\n",
      "Df Model:                           1                                         \n",
      "Covariance Type:            nonrobust                                         \n",
      "===========================================================================================\n",
      "                              coef    std err          t      P>|t|      [0.025      0.975]\n",
      "-------------------------------------------------------------------------------------------\n",
      "Intercept                   6.3767      0.112     56.844      0.000       6.156       6.598\n",
      "np.log1p(precipitation)     0.2071      0.101      2.053      0.041       0.008       0.406\n",
      "==============================================================================\n",
      "Omnibus:                        4.831   Durbin-Watson:                   1.749\n",
      "Prob(Omnibus):                  0.089   Jarque-Bera (JB):                4.529\n",
      "Skew:                          -0.326   Prob(JB):                        0.104\n",
      "Kurtosis:                       3.163   Cond. No.                         1.41\n",
      "==============================================================================\n",
      "\n",
      "Notes:\n",
      "[1] Standard Errors assume that the covariance matrix of the errors is correctly specified.\n"
     ]
    }
   ],
   "source": [
    "#8 왜도 확인 결과 -2~2 범위에 벗어나서 log를 씌움\n",
    "test = ols('today_score ~  np.log1p(precipitation)', data = df).fit().summary()\n",
    "print(test)"
   ]
  },
  {
   "cell_type": "markdown",
   "id": "3278379e",
   "metadata": {},
   "source": [
    "### 🎉🎉sleep_time : 수면 시간 (기상시간 - 취침 시간)\n",
    "* 가설 : 수면 시간이 많을 수록 오늘 나의 점수가 높다. \n",
    "<br><br/>\n",
    "* 수정r제곱 기준 설명력 : 0.11(11%)\n",
    "* 해석 : 수면 시간에 따라 오늘 나의 점수 차이가 없다는 귀무가설을 기각, 1분 더 잘 수록 0.0054점 증가"
   ]
  },
  {
   "cell_type": "code",
   "execution_count": 32,
   "id": "e8c4b1e0",
   "metadata": {},
   "outputs": [
    {
     "name": "stdout",
     "output_type": "stream",
     "text": [
      "                            OLS Regression Results                            \n",
      "==============================================================================\n",
      "Dep. Variable:            today_score   R-squared:                       0.115\n",
      "Model:                            OLS   Adj. R-squared:                  0.111\n",
      "Method:                 Least Squares   F-statistic:                     30.92\n",
      "Date:                Sun, 20 Nov 2022   Prob (F-statistic):           7.21e-08\n",
      "Time:                        23:41:16   Log-Likelihood:                -446.81\n",
      "No. Observations:                 240   AIC:                             897.6\n",
      "Df Residuals:                     238   BIC:                             904.6\n",
      "Df Model:                           1                                         \n",
      "Covariance Type:            nonrobust                                         \n",
      "==============================================================================\n",
      "                 coef    std err          t      P>|t|      [0.025      0.975]\n",
      "------------------------------------------------------------------------------\n",
      "Intercept      4.2698      0.405     10.545      0.000       3.472       5.067\n",
      "sleep_time     0.0054      0.001      5.560      0.000       0.003       0.007\n",
      "==============================================================================\n",
      "Omnibus:                        1.433   Durbin-Watson:                   1.674\n",
      "Prob(Omnibus):                  0.489   Jarque-Bera (JB):                1.338\n",
      "Skew:                          -0.183   Prob(JB):                        0.512\n",
      "Kurtosis:                       2.991   Cond. No.                     1.69e+03\n",
      "==============================================================================\n",
      "\n",
      "Notes:\n",
      "[1] Standard Errors assume that the covariance matrix of the errors is correctly specified.\n",
      "[2] The condition number is large, 1.69e+03. This might indicate that there are\n",
      "strong multicollinearity or other numerical problems.\n"
     ]
    }
   ],
   "source": [
    "test = ols('today_score ~ sleep_time', data = df).fit().summary()\n",
    "print(test)"
   ]
  },
  {
   "cell_type": "markdown",
   "id": "af96f690",
   "metadata": {},
   "source": [
    "### 🎉🎉sleep_score : 수면 점수 (5점 만점)\n",
    "* 가설 : 수면 점수가 높을 수록 오늘 나의 점수가 높다. \n",
    "<br><br/>\n",
    "* 수정r제곱 기준 설명력 : 0.29(29%)\n",
    "* 해석 : 수면 점수에 따라 오늘 나의 점수 차이가 없다는 귀무가설을 기각, 1점 더 높을 수록 0.8384점 증가"
   ]
  },
  {
   "cell_type": "code",
   "execution_count": 33,
   "id": "58af7484",
   "metadata": {},
   "outputs": [
    {
     "name": "stdout",
     "output_type": "stream",
     "text": [
      "                            OLS Regression Results                            \n",
      "==============================================================================\n",
      "Dep. Variable:            today_score   R-squared:                       0.294\n",
      "Model:                            OLS   Adj. R-squared:                  0.291\n",
      "Method:                 Least Squares   F-statistic:                     99.12\n",
      "Date:                Sun, 20 Nov 2022   Prob (F-statistic):           9.58e-20\n",
      "Time:                        23:41:23   Log-Likelihood:                -419.68\n",
      "No. Observations:                 240   AIC:                             843.4\n",
      "Df Residuals:                     238   BIC:                             850.3\n",
      "Df Model:                           1                                         \n",
      "Covariance Type:            nonrobust                                         \n",
      "===============================================================================\n",
      "                  coef    std err          t      P>|t|      [0.025      0.975]\n",
      "-------------------------------------------------------------------------------\n",
      "Intercept       3.9314      0.269     14.639      0.000       3.402       4.460\n",
      "sleep_score     0.8384      0.084      9.956      0.000       0.672       1.004\n",
      "==============================================================================\n",
      "Omnibus:                        3.067   Durbin-Watson:                   1.527\n",
      "Prob(Omnibus):                  0.216   Jarque-Bera (JB):                2.789\n",
      "Skew:                          -0.184   Prob(JB):                        0.248\n",
      "Kurtosis:                       3.379   Cond. No.                         10.3\n",
      "==============================================================================\n",
      "\n",
      "Notes:\n",
      "[1] Standard Errors assume that the covariance matrix of the errors is correctly specified.\n"
     ]
    }
   ],
   "source": [
    "test = ols('today_score ~ sleep_score', data = df).fit().summary()\n",
    "print(test)"
   ]
  },
  {
   "cell_type": "markdown",
   "id": "e9194867",
   "metadata": {},
   "source": [
    "### yesterday_exercise_time : 전일 운동 시간 (분)\n",
    "* 가설 : 전일 운동시간이 많을 수록 오늘 나의 점수가 높다. \n",
    "<br><br/>\n",
    "* 해석 : 전일 운동 시간에 따라 오늘 나의 점수 차이가 없다는 귀무가설을 채택"
   ]
  },
  {
   "cell_type": "code",
   "execution_count": 34,
   "id": "09b94517",
   "metadata": {},
   "outputs": [
    {
     "name": "stdout",
     "output_type": "stream",
     "text": [
      "                            OLS Regression Results                            \n",
      "==============================================================================\n",
      "Dep. Variable:            today_score   R-squared:                       0.000\n",
      "Model:                            OLS   Adj. R-squared:                 -0.004\n",
      "Method:                 Least Squares   F-statistic:                   0.05744\n",
      "Date:                Sun, 20 Nov 2022   Prob (F-statistic):              0.811\n",
      "Time:                        23:41:31   Log-Likelihood:                -461.43\n",
      "No. Observations:                 240   AIC:                             926.9\n",
      "Df Residuals:                     238   BIC:                             933.8\n",
      "Df Model:                           1                                         \n",
      "Covariance Type:            nonrobust                                         \n",
      "=====================================================================================================\n",
      "                                        coef    std err          t      P>|t|      [0.025      0.975]\n",
      "-----------------------------------------------------------------------------------------------------\n",
      "Intercept                             6.4389      0.117     55.086      0.000       6.209       6.669\n",
      "np.log1p(yesterday_exercise_time)     0.0178      0.074      0.240      0.811      -0.129       0.164\n",
      "==============================================================================\n",
      "Omnibus:                        3.678   Durbin-Watson:                   1.721\n",
      "Prob(Omnibus):                  0.159   Jarque-Bera (JB):                3.551\n",
      "Skew:                          -0.298   Prob(JB):                        0.169\n",
      "Kurtosis:                       3.008   Cond. No.                         1.87\n",
      "==============================================================================\n",
      "\n",
      "Notes:\n",
      "[1] Standard Errors assume that the covariance matrix of the errors is correctly specified.\n"
     ]
    }
   ],
   "source": [
    "#8 왜도 확인 결과 -2~2 범위에 벗어나서 log를 씌움\n",
    "test = ols('today_score ~ np.log1p(yesterday_exercise_time)', data = df).fit().summary()\n",
    "print(test)"
   ]
  },
  {
   "cell_type": "markdown",
   "id": "5b212f6b",
   "metadata": {},
   "source": [
    "### 🎉yesterday_step_cnt : 전날 걸음 수\n",
    "* 가설 : 전날 걸음 수가 많을 수록 오늘 나의 점수가 낮다. \n",
    "<br><br/>\n",
    "* 수정r제곱 기준 설명력 : 0.02(2%)\n",
    "* 해석 : 전날 걸음 수에 따라 오늘 나의 점수 차이가 없다는 귀무가설을 기각, 1걸음 더 걸을 수로 높을 수록 0.00006504점 증가"
   ]
  },
  {
   "cell_type": "code",
   "execution_count": 35,
   "id": "14f6cd91",
   "metadata": {},
   "outputs": [
    {
     "name": "stdout",
     "output_type": "stream",
     "text": [
      "                            OLS Regression Results                            \n",
      "==============================================================================\n",
      "Dep. Variable:            today_score   R-squared:                       0.025\n",
      "Model:                            OLS   Adj. R-squared:                  0.021\n",
      "Method:                 Least Squares   F-statistic:                     6.056\n",
      "Date:                Sun, 20 Nov 2022   Prob (F-statistic):             0.0146\n",
      "Time:                        23:42:19   Log-Likelihood:                -458.45\n",
      "No. Observations:                 240   AIC:                             920.9\n",
      "Df Residuals:                     238   BIC:                             927.9\n",
      "Df Model:                           1                                         \n",
      "Covariance Type:            nonrobust                                         \n",
      "======================================================================================\n",
      "                         coef    std err          t      P>|t|      [0.025      0.975]\n",
      "--------------------------------------------------------------------------------------\n",
      "Intercept              6.0321      0.200     30.139      0.000       5.638       6.426\n",
      "yesterday_step_cnt  6.504e-05   2.64e-05      2.461      0.015     1.3e-05       0.000\n",
      "==============================================================================\n",
      "Omnibus:                        3.359   Durbin-Watson:                   1.754\n",
      "Prob(Omnibus):                  0.186   Jarque-Bera (JB):                3.323\n",
      "Skew:                          -0.287   Prob(JB):                        0.190\n",
      "Kurtosis:                       2.941   Cond. No.                     1.43e+04\n",
      "==============================================================================\n",
      "\n",
      "Notes:\n",
      "[1] Standard Errors assume that the covariance matrix of the errors is correctly specified.\n",
      "[2] The condition number is large, 1.43e+04. This might indicate that there are\n",
      "strong multicollinearity or other numerical problems.\n"
     ]
    }
   ],
   "source": [
    "test = ols('today_score ~ yesterday_step_cnt', data = df).fit().summary()\n",
    "print(test)"
   ]
  },
  {
   "cell_type": "markdown",
   "id": "c350ef4b",
   "metadata": {},
   "source": [
    "### 🎉🎉yesterday_satisfaction : 전날 만족도 (5점 만점)\n",
    "* 가설 : 전날 만족도가 높을 수록 오늘 나의 점수가 높다. \n",
    "<br><br/>\n",
    "* 수정r제곱 기준 설명력 : 0.15(15%)\n",
    "* 해석 : 전날 만족도에 따라 오늘 나의 점수 차이가 없다는 귀무가설을 기각, 1점 더 높을 수로 높을 수록 0.69점 증가"
   ]
  },
  {
   "cell_type": "code",
   "execution_count": 36,
   "id": "d39fa4cb",
   "metadata": {},
   "outputs": [
    {
     "name": "stdout",
     "output_type": "stream",
     "text": [
      "                            OLS Regression Results                            \n",
      "==============================================================================\n",
      "Dep. Variable:            today_score   R-squared:                       0.159\n",
      "Model:                            OLS   Adj. R-squared:                  0.155\n",
      "Method:                 Least Squares   F-statistic:                     44.95\n",
      "Date:                Sun, 20 Nov 2022   Prob (F-statistic):           1.46e-10\n",
      "Time:                        23:42:50   Log-Likelihood:                -440.70\n",
      "No. Observations:                 240   AIC:                             885.4\n",
      "Df Residuals:                     238   BIC:                             892.4\n",
      "Df Model:                           1                                         \n",
      "Covariance Type:            nonrobust                                         \n",
      "==========================================================================================\n",
      "                             coef    std err          t      P>|t|      [0.025      0.975]\n",
      "------------------------------------------------------------------------------------------\n",
      "Intercept                  4.3176      0.333     12.968      0.000       3.662       4.973\n",
      "yesterday_satisfaction     0.6916      0.103      6.704      0.000       0.488       0.895\n",
      "==============================================================================\n",
      "Omnibus:                        6.086   Durbin-Watson:                   1.821\n",
      "Prob(Omnibus):                  0.048   Jarque-Bera (JB):                6.130\n",
      "Skew:                          -0.391   Prob(JB):                       0.0467\n",
      "Kurtosis:                       2.968   Cond. No.                         11.9\n",
      "==============================================================================\n",
      "\n",
      "Notes:\n",
      "[1] Standard Errors assume that the covariance matrix of the errors is correctly specified.\n"
     ]
    }
   ],
   "source": [
    "test = ols('today_score ~ yesterday_satisfaction', data = df).fit().summary()\n",
    "print(test)"
   ]
  },
  {
   "cell_type": "markdown",
   "id": "8dd4b3ad",
   "metadata": {},
   "source": [
    "# 다중 공선성 확인\n",
    "* 다중 공선성은 독립변수들간의 상관정도가 높은 상태를 의미\n",
    "* 다중 공선성을 고려하지 않고 회귀분석을 수행한 후 결과를 해석하면 변수의 중요성을 설명할 때 잘못된 결론을 내릴 수 있다. \n",
    "* vif(분산팽창계수)방식을 사용하여 팽창계수가 15이상인 것을 골라내려고 한다."
   ]
  },
  {
   "cell_type": "code",
   "execution_count": 43,
   "id": "b11c661d",
   "metadata": {},
   "outputs": [
    {
     "data": {
      "text/html": [
       "<div>\n",
       "<style scoped>\n",
       "    .dataframe tbody tr th:only-of-type {\n",
       "        vertical-align: middle;\n",
       "    }\n",
       "\n",
       "    .dataframe tbody tr th {\n",
       "        vertical-align: top;\n",
       "    }\n",
       "\n",
       "    .dataframe thead th {\n",
       "        text-align: right;\n",
       "    }\n",
       "</style>\n",
       "<table border=\"1\" class=\"dataframe\">\n",
       "  <thead>\n",
       "    <tr style=\"text-align: right;\">\n",
       "      <th></th>\n",
       "      <th>VIF_Factor</th>\n",
       "      <th>Feature</th>\n",
       "    </tr>\n",
       "  </thead>\n",
       "  <tbody>\n",
       "    <tr>\n",
       "      <th>0</th>\n",
       "      <td>921.531491</td>\n",
       "      <td>avg_temp</td>\n",
       "    </tr>\n",
       "    <tr>\n",
       "      <th>1</th>\n",
       "      <td>435.574241</td>\n",
       "      <td>high_temp</td>\n",
       "    </tr>\n",
       "    <tr>\n",
       "      <th>2</th>\n",
       "      <td>136.085503</td>\n",
       "      <td>low_temp</td>\n",
       "    </tr>\n",
       "    <tr>\n",
       "      <th>7</th>\n",
       "      <td>14.847813</td>\n",
       "      <td>yesterday_satisfaction</td>\n",
       "    </tr>\n",
       "    <tr>\n",
       "      <th>5</th>\n",
       "      <td>14.834856</td>\n",
       "      <td>sleep_time</td>\n",
       "    </tr>\n",
       "    <tr>\n",
       "      <th>4</th>\n",
       "      <td>13.277637</td>\n",
       "      <td>sleep_score</td>\n",
       "    </tr>\n",
       "    <tr>\n",
       "      <th>8</th>\n",
       "      <td>5.000785</td>\n",
       "      <td>yesterday_step_cnt</td>\n",
       "    </tr>\n",
       "    <tr>\n",
       "      <th>3</th>\n",
       "      <td>1.619712</td>\n",
       "      <td>precipitation</td>\n",
       "    </tr>\n",
       "    <tr>\n",
       "      <th>6</th>\n",
       "      <td>1.535179</td>\n",
       "      <td>yesterday_exercise_time</td>\n",
       "    </tr>\n",
       "  </tbody>\n",
       "</table>\n",
       "</div>"
      ],
      "text/plain": [
       "   VIF_Factor                  Feature\n",
       "0  921.531491                 avg_temp\n",
       "1  435.574241                high_temp\n",
       "2  136.085503                 low_temp\n",
       "7   14.847813   yesterday_satisfaction\n",
       "5   14.834856               sleep_time\n",
       "4   13.277637              sleep_score\n",
       "8    5.000785       yesterday_step_cnt\n",
       "3    1.619712            precipitation\n",
       "6    1.535179  yesterday_exercise_time"
      ]
     },
     "execution_count": 43,
     "metadata": {},
     "output_type": "execute_result"
    }
   ],
   "source": [
    "vif_scaled_test_df = df[['avg_temp', 'high_temp', 'low_temp', 'precipitation',\n",
    "       'sleep_score', 'sleep_time', 'yesterday_exercise_time',\n",
    "       'yesterday_satisfaction', 'yesterday_step_cnt']]\n",
    "\n",
    "# extract effective features using variance inflation factor\n",
    "vif = pd.DataFrame()\n",
    "df_test = vif_scaled_test_df   # 여기에 다중공선성 볼 테이블을 넣어주세요\n",
    "# variance_inflation_factor(X, i) : Xi를 x나머지로 회귀분석한 후 VIF값을 구한것. 즉 xi의 vif값. 즉 이값이 높을수록 종속성이 높다는 뜻\n",
    "vif['VIF_Factor'] = [variance_inflation_factor(df_test.values, i)\n",
    "                     for i in range(df_test.shape[1])]\n",
    "vif['Feature'] = df_test.columns\n",
    "vif.sort_values(by='VIF_Factor', ascending=False)"
   ]
  },
  {
   "cell_type": "markdown",
   "id": "082f4ce8",
   "metadata": {},
   "source": [
    "* 결과 : avg_temp, high_temp, low_temp 중에 1개 변수만 사용하기"
   ]
  },
  {
   "cell_type": "markdown",
   "id": "08964543",
   "metadata": {},
   "source": [
    "# 다중 회귀 분석\n",
    "* 조건 1 : 다중 공선성 확인 결과 avg_temp, high_temp, low_temp 중에 1개 변수만 사용하기\n",
    "* 조건 2 : 파생 변수와 원래 변수 중에 1개만 사용 하기 \n",
    "    * (1) dayofweek, dayofweek_check\n",
    "    * (2) precipitation, precipitation_check\n",
    "    * (3) getup_range, getup_early\n",
    "    * (4) gotobed_range, gotobed_late"
   ]
  },
  {
   "cell_type": "markdown",
   "id": "13a173eb",
   "metadata": {},
   "source": [
    "## 유의미한 변수만 진행\n",
    "* 독립변수 : C(dayofweek_check)+C(class_check)+C(yesterday_drinking)+C(gotobed_range)+C(getup_early)+np.log1p(precipitation)+sleep_time+sleep_score+yesterday_step_cnt+yesterday_satisfaction"
   ]
  },
  {
   "cell_type": "code",
   "execution_count": 50,
   "id": "6f44cde2",
   "metadata": {
    "collapsed": true
   },
   "outputs": [
    {
     "name": "stdout",
     "output_type": "stream",
     "text": [
      "                            OLS Regression Results                            \n",
      "==============================================================================\n",
      "Dep. Variable:            today_score   R-squared:                       0.408\n",
      "Model:                            OLS   Adj. R-squared:                  0.354\n",
      "Method:                 Least Squares   F-statistic:                     7.554\n",
      "Date:                Mon, 21 Nov 2022   Prob (F-statistic):           3.72e-16\n",
      "Time:                        00:41:57   Log-Likelihood:                -398.51\n",
      "No. Observations:                 240   AIC:                             839.0\n",
      "Df Residuals:                     219   BIC:                             912.1\n",
      "Df Model:                          20                                         \n",
      "Covariance Type:            nonrobust                                         \n",
      "==============================================================================================\n",
      "                                 coef    std err          t      P>|t|      [0.025      0.975]\n",
      "----------------------------------------------------------------------------------------------\n",
      "Intercept                      3.8939      0.958      4.064      0.000       2.005       5.782\n",
      "C(dayofweek_check)[T.1]        0.1409      0.221      0.637      0.525      -0.295       0.577\n",
      "C(class_check)[T.1]           -0.5619      0.263     -2.135      0.034      -1.081      -0.043\n",
      "C(yesterday_drinking)[T.1]    -0.1655      0.258     -0.641      0.522      -0.674       0.343\n",
      "C(gotobed_range)[T.01시대]       0.0177      0.257      0.069      0.945      -0.489       0.525\n",
      "C(gotobed_range)[T.02시대]      -0.1337      0.314     -0.427      0.670      -0.752       0.484\n",
      "C(gotobed_range)[T.03시대]      -0.2854      0.399     -0.715      0.475      -1.072       0.501\n",
      "C(gotobed_range)[T.04시대]      -0.3807      0.554     -0.687      0.493      -1.473       0.712\n",
      "C(gotobed_range)[T.05시대]      -0.7578      0.929     -0.816      0.416      -2.589       1.074\n",
      "C(gotobed_range)[T.06시대]      -0.8063      1.446     -0.558      0.578      -3.656       2.043\n",
      "C(gotobed_range)[T.18시대]      -4.1615      1.523     -2.732      0.007      -7.164      -1.159\n",
      "C(gotobed_range)[T.20시대]       1.1996      0.846      1.417      0.158      -0.468       2.867\n",
      "C(gotobed_range)[T.21시대]       0.6229      0.966      0.645      0.520      -1.281       2.527\n",
      "C(gotobed_range)[T.22시대]       0.1707      0.662      0.258      0.797      -1.134       1.475\n",
      "C(gotobed_range)[T.23시대]       0.6667      0.645      1.033      0.303      -0.605       1.939\n",
      "C(getup_early)[T.1]           -0.1207      0.256     -0.472      0.637      -0.625       0.384\n",
      "np.log1p(precipitation)        0.1275      0.096      1.333      0.184      -0.061       0.316\n",
      "sleep_time                 -1.804e-05      0.002     -0.010      0.992      -0.003       0.003\n",
      "sleep_score                    0.6070      0.103      5.876      0.000       0.403       0.811\n",
      "yesterday_step_cnt          2.072e-05   2.37e-05      0.876      0.382   -2.59e-05    6.73e-05\n",
      "yesterday_satisfaction         0.3481      0.111      3.136      0.002       0.129       0.567\n",
      "==============================================================================\n",
      "Omnibus:                        7.202   Durbin-Watson:                   1.632\n",
      "Prob(Omnibus):                  0.027   Jarque-Bera (JB):                9.418\n",
      "Skew:                          -0.216   Prob(JB):                      0.00901\n",
      "Kurtosis:                       3.870   Cond. No.                     1.64e+05\n",
      "==============================================================================\n",
      "\n",
      "Notes:\n",
      "[1] Standard Errors assume that the covariance matrix of the errors is correctly specified.\n",
      "[2] The condition number is large, 1.64e+05. This might indicate that there are\n",
      "strong multicollinearity or other numerical problems.\n"
     ]
    }
   ],
   "source": [
    "test = ols('today_score ~ C(dayofweek_check)+C(class_check)+C(yesterday_drinking)+C(gotobed_range)+C(getup_early)+np.log1p(precipitation)+sleep_time+sleep_score+yesterday_step_cnt+yesterday_satisfaction', data = df).fit().summary()\n",
    "print(test)"
   ]
  },
  {
   "cell_type": "markdown",
   "id": "f0e4c971",
   "metadata": {},
   "source": [
    "## 최종 다중 회귀식\n",
    "* 독립변수 : sleep_score + sleep_time + yesterday_satisfaction + C(class_check)\n",
    "* 수정r제곱 : 0.363(36%)\n",
    "* 해석 : 오늘 나의 점수를 높게 시작하기 위해서는 전날 누가 업어가도 모를 정도로 충분한 시간 동안 푹 잘 자고, 본인이 만족하는 하루를 보내야한다. 다른 변수는 큰 영향이 없다."
   ]
  },
  {
   "cell_type": "code",
   "execution_count": 86,
   "id": "5930edd4",
   "metadata": {},
   "outputs": [
    {
     "name": "stdout",
     "output_type": "stream",
     "text": [
      "                            OLS Regression Results                            \n",
      "==============================================================================\n",
      "Dep. Variable:            today_score   R-squared:                       0.373\n",
      "Model:                            OLS   Adj. R-squared:                  0.363\n",
      "Method:                 Least Squares   F-statistic:                     34.98\n",
      "Date:                Mon, 21 Nov 2022   Prob (F-statistic):           6.49e-23\n",
      "Time:                        01:08:05   Log-Likelihood:                -405.40\n",
      "No. Observations:                 240   AIC:                             820.8\n",
      "Df Residuals:                     235   BIC:                             838.2\n",
      "Df Model:                           4                                         \n",
      "Covariance Type:            nonrobust                                         \n",
      "==========================================================================================\n",
      "                             coef    std err          t      P>|t|      [0.025      0.975]\n",
      "------------------------------------------------------------------------------------------\n",
      "Intercept                  3.0932      0.479      6.462      0.000       2.150       4.036\n",
      "C(class_check)[T.1]       -0.5827      0.201     -2.897      0.004      -0.979      -0.186\n",
      "sleep_score                0.6381      0.096      6.626      0.000       0.448       0.828\n",
      "sleep_time                 0.0022      0.001      2.381      0.018       0.000       0.004\n",
      "yesterday_satisfaction     0.3213      0.101      3.168      0.002       0.121       0.521\n",
      "==============================================================================\n",
      "Omnibus:                        5.483   Durbin-Watson:                   1.619\n",
      "Prob(Omnibus):                  0.064   Jarque-Bera (JB):                6.198\n",
      "Skew:                          -0.208   Prob(JB):                       0.0451\n",
      "Kurtosis:                       3.669   Cond. No.                     2.42e+03\n",
      "==============================================================================\n",
      "\n",
      "Notes:\n",
      "[1] Standard Errors assume that the covariance matrix of the errors is correctly specified.\n",
      "[2] The condition number is large, 2.42e+03. This might indicate that there are\n",
      "strong multicollinearity or other numerical problems.\n"
     ]
    }
   ],
   "source": [
    "# 독립변수 : sleep_score + sleep_time + yesterday_satisfaction + C(class_check)\n",
    "# 수정r제곱 : 0.363\n",
    "test = ols('today_score ~  sleep_score + sleep_time + yesterday_satisfaction + C(class_check)', data = df).fit().summary()\n",
    "print(test)"
   ]
  }
 ],
 "metadata": {
  "kernelspec": {
   "display_name": "Python 3 (ipykernel)",
   "language": "python",
   "name": "python3"
  },
  "language_info": {
   "codemirror_mode": {
    "name": "ipython",
    "version": 3
   },
   "file_extension": ".py",
   "mimetype": "text/x-python",
   "name": "python",
   "nbconvert_exporter": "python",
   "pygments_lexer": "ipython3",
   "version": "3.9.12"
  },
  "toc": {
   "base_numbering": 1,
   "nav_menu": {},
   "number_sections": true,
   "sideBar": true,
   "skip_h1_title": false,
   "title_cell": "Table of Contents",
   "title_sidebar": "Contents",
   "toc_cell": false,
   "toc_position": {
    "height": "calc(100% - 180px)",
    "left": "10px",
    "top": "150px",
    "width": "575.99px"
   },
   "toc_section_display": true,
   "toc_window_display": true
  }
 },
 "nbformat": 4,
 "nbformat_minor": 5
}
