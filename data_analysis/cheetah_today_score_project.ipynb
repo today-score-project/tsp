{
 "cells": [
  {
   "cell_type": "markdown",
   "id": "e95e86a3",
   "metadata": {},
   "source": [
    "# 치타 데이터 분석 \n",
    "\n",
    "* 분석 결과 요약\n",
    "    * <span style=\"color:blue\"> 수정 r제곱 :57.9% </span>\n",
    "    * <span style=\"color:blue\"> 독립변수 :C(gotobed_late)+sleep_score </span>\n",
    "    * <span style=\"color:blue\"> 해석 : 치타가 오늘 나의 점수를 높게 시작하기 위해서는 잠이 제일 중요하다. 오전 2시 이전(2시 포함X)에 자야하고, 누가 업어가도 모를 정도로 푹 잘 자야한다. 다른 변수는 큰 영향이 없다. </span>"
   ]
  },
  {
   "cell_type": "code",
   "execution_count": 2,
   "id": "48e63ac5",
   "metadata": {},
   "outputs": [],
   "source": [
    "import pandas as pd\n",
    "import matplotlib.pyplot as plt\n",
    "import numpy as np\n",
    "import seaborn as sns\n",
    "from matplotlib import rc # 폰트\n",
    "#한글폰트 적용-----------------------------\n",
    "from matplotlib import font_manager, rc\n",
    "plt.rc('font', family='Malgun Gothic')\n",
    "#-----------------------------------------\n",
    "\n",
    "\n",
    "from datetime import datetime\n",
    "import time\n",
    "from datetime import timedelta\n",
    "import warnings\n",
    "warnings.filterwarnings('ignore')\n",
    "from statsmodels.formula.api import ols\n",
    "# datetime.strptime(start_date, '%Y-%m-%d %H:%M:%S')\n",
    "\n",
    "import statsmodels.api as sm\n",
    "from statsmodels.stats.outliers_influence import variance_inflation_factor\n",
    "\n",
    "# 파일이 있는 경로 지정\n",
    "path = 'C:\\\\Users\\\\USER\\\\통계\\\\mini\\\\'"
   ]
  },
  {
   "cell_type": "markdown",
   "id": "df08c7c4",
   "metadata": {},
   "source": [
    "# 데이터 import"
   ]
  },
  {
   "cell_type": "code",
   "execution_count": 3,
   "id": "b383c252",
   "metadata": {},
   "outputs": [],
   "source": [
    "df_all = pd.read_excel(path +\"today_score_data.xlsx\")"
   ]
  },
  {
   "cell_type": "markdown",
   "id": "b7d97275",
   "metadata": {},
   "source": [
    "# 치타 데이터만 추출"
   ]
  },
  {
   "cell_type": "code",
   "execution_count": 4,
   "id": "3686d488",
   "metadata": {},
   "outputs": [],
   "source": [
    "df = df_all[df_all[\"name\"]==\"cheetah\"]"
   ]
  },
  {
   "cell_type": "markdown",
   "id": "1838def7",
   "metadata": {},
   "source": [
    "# 데이터 확인"
   ]
  },
  {
   "cell_type": "code",
   "execution_count": 5,
   "id": "5c303649",
   "metadata": {},
   "outputs": [
    {
     "data": {
      "text/html": [
       "<div>\n",
       "<style scoped>\n",
       "    .dataframe tbody tr th:only-of-type {\n",
       "        vertical-align: middle;\n",
       "    }\n",
       "\n",
       "    .dataframe tbody tr th {\n",
       "        vertical-align: top;\n",
       "    }\n",
       "\n",
       "    .dataframe thead th {\n",
       "        text-align: right;\n",
       "    }\n",
       "</style>\n",
       "<table border=\"1\" class=\"dataframe\">\n",
       "  <thead>\n",
       "    <tr style=\"text-align: right;\">\n",
       "      <th></th>\n",
       "      <th>cnt</th>\n",
       "      <th>name</th>\n",
       "      <th>today_score</th>\n",
       "      <th>date</th>\n",
       "      <th>dayofweek</th>\n",
       "      <th>dayofweek_check</th>\n",
       "      <th>avg_temp</th>\n",
       "      <th>low_temp</th>\n",
       "      <th>high_temp</th>\n",
       "      <th>precipitation</th>\n",
       "      <th>...</th>\n",
       "      <th>yesterday_exercise_time</th>\n",
       "      <th>yesterday_step_cnt</th>\n",
       "      <th>yesterday_drinking</th>\n",
       "      <th>period</th>\n",
       "      <th>caffeine</th>\n",
       "      <th>yesterday_satisfaction</th>\n",
       "      <th>gotobed_range</th>\n",
       "      <th>getup_range</th>\n",
       "      <th>gotobed_late</th>\n",
       "      <th>getup_early</th>\n",
       "    </tr>\n",
       "  </thead>\n",
       "  <tbody>\n",
       "    <tr>\n",
       "      <th>96</th>\n",
       "      <td>97</td>\n",
       "      <td>cheetah</td>\n",
       "      <td>7</td>\n",
       "      <td>2022-09-28</td>\n",
       "      <td>4</td>\n",
       "      <td>0</td>\n",
       "      <td>20.4</td>\n",
       "      <td>16.1</td>\n",
       "      <td>26.1</td>\n",
       "      <td>0.0</td>\n",
       "      <td>...</td>\n",
       "      <td>0</td>\n",
       "      <td>4349</td>\n",
       "      <td>0</td>\n",
       "      <td>0</td>\n",
       "      <td>1</td>\n",
       "      <td>4</td>\n",
       "      <td>01시대</td>\n",
       "      <td>07시대</td>\n",
       "      <td>0</td>\n",
       "      <td>1</td>\n",
       "    </tr>\n",
       "    <tr>\n",
       "      <th>97</th>\n",
       "      <td>98</td>\n",
       "      <td>cheetah</td>\n",
       "      <td>5</td>\n",
       "      <td>2022-09-29</td>\n",
       "      <td>5</td>\n",
       "      <td>0</td>\n",
       "      <td>20.4</td>\n",
       "      <td>16.4</td>\n",
       "      <td>26.5</td>\n",
       "      <td>0.0</td>\n",
       "      <td>...</td>\n",
       "      <td>60</td>\n",
       "      <td>3387</td>\n",
       "      <td>0</td>\n",
       "      <td>0</td>\n",
       "      <td>1</td>\n",
       "      <td>2</td>\n",
       "      <td>00시대</td>\n",
       "      <td>06시대</td>\n",
       "      <td>0</td>\n",
       "      <td>1</td>\n",
       "    </tr>\n",
       "    <tr>\n",
       "      <th>98</th>\n",
       "      <td>99</td>\n",
       "      <td>cheetah</td>\n",
       "      <td>6</td>\n",
       "      <td>2022-09-30</td>\n",
       "      <td>6</td>\n",
       "      <td>0</td>\n",
       "      <td>20.7</td>\n",
       "      <td>14.8</td>\n",
       "      <td>27.7</td>\n",
       "      <td>0.0</td>\n",
       "      <td>...</td>\n",
       "      <td>0</td>\n",
       "      <td>1636</td>\n",
       "      <td>0</td>\n",
       "      <td>0</td>\n",
       "      <td>0</td>\n",
       "      <td>4</td>\n",
       "      <td>01시대</td>\n",
       "      <td>07시대</td>\n",
       "      <td>0</td>\n",
       "      <td>1</td>\n",
       "    </tr>\n",
       "    <tr>\n",
       "      <th>99</th>\n",
       "      <td>100</td>\n",
       "      <td>cheetah</td>\n",
       "      <td>5</td>\n",
       "      <td>2022-10-01</td>\n",
       "      <td>7</td>\n",
       "      <td>1</td>\n",
       "      <td>20.9</td>\n",
       "      <td>14.4</td>\n",
       "      <td>27.6</td>\n",
       "      <td>0.0</td>\n",
       "      <td>...</td>\n",
       "      <td>0</td>\n",
       "      <td>7149</td>\n",
       "      <td>0</td>\n",
       "      <td>0</td>\n",
       "      <td>0</td>\n",
       "      <td>4</td>\n",
       "      <td>00시대</td>\n",
       "      <td>08시대</td>\n",
       "      <td>0</td>\n",
       "      <td>0</td>\n",
       "    </tr>\n",
       "    <tr>\n",
       "      <th>100</th>\n",
       "      <td>101</td>\n",
       "      <td>cheetah</td>\n",
       "      <td>7</td>\n",
       "      <td>2022-10-02</td>\n",
       "      <td>1</td>\n",
       "      <td>1</td>\n",
       "      <td>19.4</td>\n",
       "      <td>17.2</td>\n",
       "      <td>21.6</td>\n",
       "      <td>15.8</td>\n",
       "      <td>...</td>\n",
       "      <td>0</td>\n",
       "      <td>4085</td>\n",
       "      <td>0</td>\n",
       "      <td>0</td>\n",
       "      <td>0</td>\n",
       "      <td>2</td>\n",
       "      <td>01시대</td>\n",
       "      <td>09시대</td>\n",
       "      <td>0</td>\n",
       "      <td>0</td>\n",
       "    </tr>\n",
       "  </tbody>\n",
       "</table>\n",
       "<p>5 rows × 29 columns</p>\n",
       "</div>"
      ],
      "text/plain": [
       "     cnt     name  today_score       date  dayofweek  dayofweek_check  \\\n",
       "96    97  cheetah            7 2022-09-28          4                0   \n",
       "97    98  cheetah            5 2022-09-29          5                0   \n",
       "98    99  cheetah            6 2022-09-30          6                0   \n",
       "99   100  cheetah            5 2022-10-01          7                1   \n",
       "100  101  cheetah            7 2022-10-02          1                1   \n",
       "\n",
       "     avg_temp  low_temp  high_temp  precipitation  ...  \\\n",
       "96       20.4      16.1       26.1            0.0  ...   \n",
       "97       20.4      16.4       26.5            0.0  ...   \n",
       "98       20.7      14.8       27.7            0.0  ...   \n",
       "99       20.9      14.4       27.6            0.0  ...   \n",
       "100      19.4      17.2       21.6           15.8  ...   \n",
       "\n",
       "     yesterday_exercise_time  yesterday_step_cnt yesterday_drinking period  \\\n",
       "96                         0                4349                  0      0   \n",
       "97                        60                3387                  0      0   \n",
       "98                         0                1636                  0      0   \n",
       "99                         0                7149                  0      0   \n",
       "100                        0                4085                  0      0   \n",
       "\n",
       "     caffeine  yesterday_satisfaction  gotobed_range  getup_range  \\\n",
       "96          1                       4           01시대         07시대   \n",
       "97          1                       2           00시대         06시대   \n",
       "98          0                       4           01시대         07시대   \n",
       "99          0                       4           00시대         08시대   \n",
       "100         0                       2           01시대         09시대   \n",
       "\n",
       "     gotobed_late  getup_early  \n",
       "96              0            1  \n",
       "97              0            1  \n",
       "98              0            1  \n",
       "99              0            0  \n",
       "100             0            0  \n",
       "\n",
       "[5 rows x 29 columns]"
      ]
     },
     "execution_count": 5,
     "metadata": {},
     "output_type": "execute_result"
    }
   ],
   "source": [
    "df.head()"
   ]
  },
  {
   "cell_type": "code",
   "execution_count": 6,
   "id": "e26d27a1",
   "metadata": {},
   "outputs": [
    {
     "data": {
      "text/html": [
       "<div>\n",
       "<style scoped>\n",
       "    .dataframe tbody tr th:only-of-type {\n",
       "        vertical-align: middle;\n",
       "    }\n",
       "\n",
       "    .dataframe tbody tr th {\n",
       "        vertical-align: top;\n",
       "    }\n",
       "\n",
       "    .dataframe thead th {\n",
       "        text-align: right;\n",
       "    }\n",
       "</style>\n",
       "<table border=\"1\" class=\"dataframe\">\n",
       "  <thead>\n",
       "    <tr style=\"text-align: right;\">\n",
       "      <th></th>\n",
       "      <th>cnt</th>\n",
       "      <th>today_score</th>\n",
       "      <th>dayofweek</th>\n",
       "      <th>dayofweek_check</th>\n",
       "      <th>avg_temp</th>\n",
       "      <th>low_temp</th>\n",
       "      <th>high_temp</th>\n",
       "      <th>precipitation</th>\n",
       "      <th>precipitation_check</th>\n",
       "      <th>class_check</th>\n",
       "      <th>...</th>\n",
       "      <th>sleep_score</th>\n",
       "      <th>yesterday_exercise</th>\n",
       "      <th>yesterday_exercise_time</th>\n",
       "      <th>yesterday_step_cnt</th>\n",
       "      <th>yesterday_drinking</th>\n",
       "      <th>period</th>\n",
       "      <th>caffeine</th>\n",
       "      <th>yesterday_satisfaction</th>\n",
       "      <th>gotobed_late</th>\n",
       "      <th>getup_early</th>\n",
       "    </tr>\n",
       "  </thead>\n",
       "  <tbody>\n",
       "    <tr>\n",
       "      <th>count</th>\n",
       "      <td>48.00</td>\n",
       "      <td>48.000000</td>\n",
       "      <td>48.000000</td>\n",
       "      <td>48.000000</td>\n",
       "      <td>48.000000</td>\n",
       "      <td>48.000000</td>\n",
       "      <td>48.000000</td>\n",
       "      <td>48.000000</td>\n",
       "      <td>48.000000</td>\n",
       "      <td>48.000000</td>\n",
       "      <td>...</td>\n",
       "      <td>48.000000</td>\n",
       "      <td>48.000000</td>\n",
       "      <td>48.000000</td>\n",
       "      <td>48.000000</td>\n",
       "      <td>48.000000</td>\n",
       "      <td>48.000000</td>\n",
       "      <td>48.000000</td>\n",
       "      <td>48.000000</td>\n",
       "      <td>48.000000</td>\n",
       "      <td>48.000000</td>\n",
       "    </tr>\n",
       "    <tr>\n",
       "      <th>mean</th>\n",
       "      <td>120.50</td>\n",
       "      <td>5.791667</td>\n",
       "      <td>4.020833</td>\n",
       "      <td>0.291667</td>\n",
       "      <td>13.929167</td>\n",
       "      <td>9.595833</td>\n",
       "      <td>19.250000</td>\n",
       "      <td>3.792500</td>\n",
       "      <td>0.208333</td>\n",
       "      <td>0.729167</td>\n",
       "      <td>...</td>\n",
       "      <td>2.812500</td>\n",
       "      <td>0.208333</td>\n",
       "      <td>12.500000</td>\n",
       "      <td>5353.625000</td>\n",
       "      <td>0.208333</td>\n",
       "      <td>0.125000</td>\n",
       "      <td>0.270833</td>\n",
       "      <td>2.979167</td>\n",
       "      <td>0.208333</td>\n",
       "      <td>0.791667</td>\n",
       "    </tr>\n",
       "    <tr>\n",
       "      <th>std</th>\n",
       "      <td>14.00</td>\n",
       "      <td>1.821366</td>\n",
       "      <td>2.036785</td>\n",
       "      <td>0.459340</td>\n",
       "      <td>3.762636</td>\n",
       "      <td>3.929591</td>\n",
       "      <td>4.017197</td>\n",
       "      <td>14.023592</td>\n",
       "      <td>0.410414</td>\n",
       "      <td>0.449093</td>\n",
       "      <td>...</td>\n",
       "      <td>1.160635</td>\n",
       "      <td>0.410414</td>\n",
       "      <td>24.624845</td>\n",
       "      <td>3196.325454</td>\n",
       "      <td>0.410414</td>\n",
       "      <td>0.334219</td>\n",
       "      <td>0.449093</td>\n",
       "      <td>0.887012</td>\n",
       "      <td>0.410414</td>\n",
       "      <td>0.410414</td>\n",
       "    </tr>\n",
       "    <tr>\n",
       "      <th>min</th>\n",
       "      <td>97.00</td>\n",
       "      <td>2.000000</td>\n",
       "      <td>1.000000</td>\n",
       "      <td>0.000000</td>\n",
       "      <td>4.900000</td>\n",
       "      <td>0.800000</td>\n",
       "      <td>9.800000</td>\n",
       "      <td>0.000000</td>\n",
       "      <td>0.000000</td>\n",
       "      <td>0.000000</td>\n",
       "      <td>...</td>\n",
       "      <td>1.000000</td>\n",
       "      <td>0.000000</td>\n",
       "      <td>0.000000</td>\n",
       "      <td>273.000000</td>\n",
       "      <td>0.000000</td>\n",
       "      <td>0.000000</td>\n",
       "      <td>0.000000</td>\n",
       "      <td>1.000000</td>\n",
       "      <td>0.000000</td>\n",
       "      <td>0.000000</td>\n",
       "    </tr>\n",
       "    <tr>\n",
       "      <th>25%</th>\n",
       "      <td>108.75</td>\n",
       "      <td>4.750000</td>\n",
       "      <td>2.000000</td>\n",
       "      <td>0.000000</td>\n",
       "      <td>11.175000</td>\n",
       "      <td>6.650000</td>\n",
       "      <td>16.550000</td>\n",
       "      <td>0.000000</td>\n",
       "      <td>0.000000</td>\n",
       "      <td>0.000000</td>\n",
       "      <td>...</td>\n",
       "      <td>2.000000</td>\n",
       "      <td>0.000000</td>\n",
       "      <td>0.000000</td>\n",
       "      <td>3062.000000</td>\n",
       "      <td>0.000000</td>\n",
       "      <td>0.000000</td>\n",
       "      <td>0.000000</td>\n",
       "      <td>2.000000</td>\n",
       "      <td>0.000000</td>\n",
       "      <td>1.000000</td>\n",
       "    </tr>\n",
       "    <tr>\n",
       "      <th>50%</th>\n",
       "      <td>120.50</td>\n",
       "      <td>6.000000</td>\n",
       "      <td>4.000000</td>\n",
       "      <td>0.000000</td>\n",
       "      <td>13.550000</td>\n",
       "      <td>9.550000</td>\n",
       "      <td>19.100000</td>\n",
       "      <td>0.000000</td>\n",
       "      <td>0.000000</td>\n",
       "      <td>1.000000</td>\n",
       "      <td>...</td>\n",
       "      <td>3.000000</td>\n",
       "      <td>0.000000</td>\n",
       "      <td>0.000000</td>\n",
       "      <td>4900.000000</td>\n",
       "      <td>0.000000</td>\n",
       "      <td>0.000000</td>\n",
       "      <td>0.000000</td>\n",
       "      <td>3.000000</td>\n",
       "      <td>0.000000</td>\n",
       "      <td>1.000000</td>\n",
       "    </tr>\n",
       "    <tr>\n",
       "      <th>75%</th>\n",
       "      <td>132.25</td>\n",
       "      <td>7.000000</td>\n",
       "      <td>6.000000</td>\n",
       "      <td>1.000000</td>\n",
       "      <td>16.300000</td>\n",
       "      <td>11.800000</td>\n",
       "      <td>21.600000</td>\n",
       "      <td>0.000000</td>\n",
       "      <td>0.000000</td>\n",
       "      <td>1.000000</td>\n",
       "      <td>...</td>\n",
       "      <td>4.000000</td>\n",
       "      <td>0.000000</td>\n",
       "      <td>0.000000</td>\n",
       "      <td>6993.000000</td>\n",
       "      <td>0.000000</td>\n",
       "      <td>0.000000</td>\n",
       "      <td>1.000000</td>\n",
       "      <td>4.000000</td>\n",
       "      <td>0.000000</td>\n",
       "      <td>1.000000</td>\n",
       "    </tr>\n",
       "    <tr>\n",
       "      <th>max</th>\n",
       "      <td>144.00</td>\n",
       "      <td>9.000000</td>\n",
       "      <td>7.000000</td>\n",
       "      <td>1.000000</td>\n",
       "      <td>21.400000</td>\n",
       "      <td>17.500000</td>\n",
       "      <td>27.700000</td>\n",
       "      <td>76.000000</td>\n",
       "      <td>1.000000</td>\n",
       "      <td>1.000000</td>\n",
       "      <td>...</td>\n",
       "      <td>5.000000</td>\n",
       "      <td>1.000000</td>\n",
       "      <td>60.000000</td>\n",
       "      <td>15030.000000</td>\n",
       "      <td>1.000000</td>\n",
       "      <td>1.000000</td>\n",
       "      <td>1.000000</td>\n",
       "      <td>5.000000</td>\n",
       "      <td>1.000000</td>\n",
       "      <td>1.000000</td>\n",
       "    </tr>\n",
       "  </tbody>\n",
       "</table>\n",
       "<p>8 rows × 23 columns</p>\n",
       "</div>"
      ],
      "text/plain": [
       "          cnt  today_score  dayofweek  dayofweek_check   avg_temp   low_temp  \\\n",
       "count   48.00    48.000000  48.000000        48.000000  48.000000  48.000000   \n",
       "mean   120.50     5.791667   4.020833         0.291667  13.929167   9.595833   \n",
       "std     14.00     1.821366   2.036785         0.459340   3.762636   3.929591   \n",
       "min     97.00     2.000000   1.000000         0.000000   4.900000   0.800000   \n",
       "25%    108.75     4.750000   2.000000         0.000000  11.175000   6.650000   \n",
       "50%    120.50     6.000000   4.000000         0.000000  13.550000   9.550000   \n",
       "75%    132.25     7.000000   6.000000         1.000000  16.300000  11.800000   \n",
       "max    144.00     9.000000   7.000000         1.000000  21.400000  17.500000   \n",
       "\n",
       "       high_temp  precipitation  precipitation_check  class_check  ...  \\\n",
       "count  48.000000      48.000000            48.000000    48.000000  ...   \n",
       "mean   19.250000       3.792500             0.208333     0.729167  ...   \n",
       "std     4.017197      14.023592             0.410414     0.449093  ...   \n",
       "min     9.800000       0.000000             0.000000     0.000000  ...   \n",
       "25%    16.550000       0.000000             0.000000     0.000000  ...   \n",
       "50%    19.100000       0.000000             0.000000     1.000000  ...   \n",
       "75%    21.600000       0.000000             0.000000     1.000000  ...   \n",
       "max    27.700000      76.000000             1.000000     1.000000  ...   \n",
       "\n",
       "       sleep_score  yesterday_exercise  yesterday_exercise_time  \\\n",
       "count    48.000000           48.000000                48.000000   \n",
       "mean      2.812500            0.208333                12.500000   \n",
       "std       1.160635            0.410414                24.624845   \n",
       "min       1.000000            0.000000                 0.000000   \n",
       "25%       2.000000            0.000000                 0.000000   \n",
       "50%       3.000000            0.000000                 0.000000   \n",
       "75%       4.000000            0.000000                 0.000000   \n",
       "max       5.000000            1.000000                60.000000   \n",
       "\n",
       "       yesterday_step_cnt  yesterday_drinking     period   caffeine  \\\n",
       "count           48.000000           48.000000  48.000000  48.000000   \n",
       "mean          5353.625000            0.208333   0.125000   0.270833   \n",
       "std           3196.325454            0.410414   0.334219   0.449093   \n",
       "min            273.000000            0.000000   0.000000   0.000000   \n",
       "25%           3062.000000            0.000000   0.000000   0.000000   \n",
       "50%           4900.000000            0.000000   0.000000   0.000000   \n",
       "75%           6993.000000            0.000000   0.000000   1.000000   \n",
       "max          15030.000000            1.000000   1.000000   1.000000   \n",
       "\n",
       "       yesterday_satisfaction  gotobed_late  getup_early  \n",
       "count               48.000000     48.000000    48.000000  \n",
       "mean                 2.979167      0.208333     0.791667  \n",
       "std                  0.887012      0.410414     0.410414  \n",
       "min                  1.000000      0.000000     0.000000  \n",
       "25%                  2.000000      0.000000     1.000000  \n",
       "50%                  3.000000      0.000000     1.000000  \n",
       "75%                  4.000000      0.000000     1.000000  \n",
       "max                  5.000000      1.000000     1.000000  \n",
       "\n",
       "[8 rows x 23 columns]"
      ]
     },
     "execution_count": 6,
     "metadata": {},
     "output_type": "execute_result"
    }
   ],
   "source": [
    "df.describe()"
   ]
  },
  {
   "cell_type": "code",
   "execution_count": 7,
   "id": "d200f659",
   "metadata": {},
   "outputs": [
    {
     "data": {
      "text/plain": [
       "cnt                        0\n",
       "name                       0\n",
       "today_score                0\n",
       "date                       0\n",
       "dayofweek                  0\n",
       "dayofweek_check            0\n",
       "avg_temp                   0\n",
       "low_temp                   0\n",
       "high_temp                  0\n",
       "precipitation              0\n",
       "precipitation_check        0\n",
       "class_check                0\n",
       "gotobed_time               0\n",
       "getup_time                 0\n",
       "sleep_time                 0\n",
       "morning_routine            0\n",
       "weather_prefer             0\n",
       "sleep_score                0\n",
       "yesterday_exercise         0\n",
       "yesterday_exercise_time    0\n",
       "yesterday_step_cnt         0\n",
       "yesterday_drinking         0\n",
       "period                     0\n",
       "caffeine                   0\n",
       "yesterday_satisfaction     0\n",
       "gotobed_range              0\n",
       "getup_range                0\n",
       "gotobed_late               0\n",
       "getup_early                0\n",
       "dtype: int64"
      ]
     },
     "execution_count": 7,
     "metadata": {},
     "output_type": "execute_result"
    }
   ],
   "source": [
    "# null 값 확인\n",
    "df.isnull().sum()"
   ]
  },
  {
   "cell_type": "markdown",
   "id": "852c7a7f",
   "metadata": {},
   "source": [
    "# 컬럼 정보"
   ]
  },
  {
   "cell_type": "markdown",
   "id": "a4d3a45a",
   "metadata": {},
   "source": [
    "## 종속변수"
   ]
  },
  {
   "cell_type": "markdown",
   "id": "3d9079ed",
   "metadata": {},
   "source": [
    "* today_score : 오늘 나의 점수 (10점 만점)"
   ]
  },
  {
   "cell_type": "markdown",
   "id": "0ae48129",
   "metadata": {},
   "source": [
    "## 독립변수\n",
    "*  색깔 의미 \n",
    "    * 범주형 변수 : <span style=\"color:red\"> 빨간색</span>\n",
    "    *  수치형 변수 : 검정색"
   ]
  },
  {
   "cell_type": "markdown",
   "id": "3ac8bae8",
   "metadata": {},
   "source": [
    "* date                       : 날짜 (2022-09-28 ~ 2022-11-14)\n",
    "*  <span style=\"color:red\"> dayofweek                  : 요일 (일요일 = 1 ~ 토요일 = 7) </span>\n",
    "* <span style=\"color:red\"> dayofweek_check : 주말 여부 (주말 = 1, 주말 x = 0)</span>"
   ]
  },
  {
   "cell_type": "markdown",
   "id": "fa14f617",
   "metadata": {},
   "source": [
    "* <span style=\"color:red\"> class_check                      : 수업 여부 (수업 안 하는 날 = 0, 수업 하는 날 = 1) </span>\n",
    "* gotobed_time               : 취침 시간 \n",
    "* <span style=\"color:red\"> gotobed_range              : 취침 시간대  </span>\n",
    "* <span style=\"color:red\"> gotobed_late              : 늦게 취침했는지 여부 (오전 2시 이전에 취침한 경우(2시 포함X)=0, 오전 2시 이후에 취침한 경우(2시 포함o)=1)  </span>\n",
    "* getup_time                 : 기상 시간 \n",
    "* <span style=\"color:red\"> getup_range              : 기상 시간대  </span>\n",
    "* <span style=\"color:red\"> getup_early              : 일찍 기상 했는지 여부 (오전 8시 이후에 기상한 경우(8시 포함O)=0, 오전 8시 이전에 기상한 경우(8시 포함X)=1  </span>\n",
    "* sleep_time                 : 수면 시간 (기상시간 - 취침 시간)\n",
    "* <span style=\"color:red\"> morning_routine            : 모닝루틴 실행 여부 (모닝루틴 x = 0, 모닝루틴 o = 1) </span>\n",
    "* <span style=\"color:red\"> weather_prefer             : 날씨 선호 여부 (날씨 선호 x = 0, 날씨 선호 o = 1) </span>\n",
    "* sleep_score                : 수면 점수 (5점 만점)\n",
    "* <span style=\"color:red\"> yesterday_exercise         : 전일 운동 여부 (전일 운동 x = 0, 전일 운동 o = 1) </span>\n",
    "* yesterday_exercise_time    : 전일 운동 시간 (분)\n",
    "* yesterday_step_cnt         : 전날 걸음 수 \n",
    "* <span style=\"color:red\"> yesterday_drinking         : 전날 음주 여부 (전날 음주 x = 0, 전일 운주 o = 1) </span>\n",
    "* <span style=\"color:red\"> period                     : 생리 여부 (생리 x = 0, 생리 o = 1) </span>\n",
    "* <span style=\"color:red\"> caffeine                   : 카페인 섭취 여부 (카페인 x = 0, 카페인 o = 1) </span>\n",
    "* yesterday_satisfaction     : 전날 만족도 (5점 만점)"
   ]
  },
  {
   "cell_type": "markdown",
   "id": "a1b6e099",
   "metadata": {},
   "source": [
    "* avg_temp                   : 평균 기온 (℃)\n",
    "* low_temp                   : 최저 기온 (℃)\n",
    "* high_temp                  : 최고 기온 (℃)\n",
    "* precipitation              : 강수량 (mm)\n",
    "* <span style=\"color:red\">  precipitation_check : 강수 여부 (강수 = 1, 강수 x = 0)</span>"
   ]
  },
  {
   "cell_type": "markdown",
   "id": "7f346e9b",
   "metadata": {},
   "source": [
    "# 데이터 타입 변경 \n",
    "* 수치형 변수 -> int or float\n",
    "* 범주형 변수 -> object"
   ]
  },
  {
   "cell_type": "code",
   "execution_count": 8,
   "id": "0442ca27",
   "metadata": {},
   "outputs": [
    {
     "name": "stdout",
     "output_type": "stream",
     "text": [
      "<class 'pandas.core.frame.DataFrame'>\n",
      "Int64Index: 48 entries, 96 to 143\n",
      "Data columns (total 29 columns):\n",
      " #   Column                   Non-Null Count  Dtype         \n",
      "---  ------                   --------------  -----         \n",
      " 0   cnt                      48 non-null     int64         \n",
      " 1   name                     48 non-null     object        \n",
      " 2   today_score              48 non-null     int64         \n",
      " 3   date                     48 non-null     datetime64[ns]\n",
      " 4   dayofweek                48 non-null     int64         \n",
      " 5   dayofweek_check          48 non-null     int64         \n",
      " 6   avg_temp                 48 non-null     float64       \n",
      " 7   low_temp                 48 non-null     float64       \n",
      " 8   high_temp                48 non-null     float64       \n",
      " 9   precipitation            48 non-null     float64       \n",
      " 10  precipitation_check      48 non-null     int64         \n",
      " 11  class_check              48 non-null     int64         \n",
      " 12  gotobed_time             48 non-null     object        \n",
      " 13  getup_time               48 non-null     object        \n",
      " 14  sleep_time               48 non-null     float64       \n",
      " 15  morning_routine          48 non-null     int64         \n",
      " 16  weather_prefer           48 non-null     int64         \n",
      " 17  sleep_score              48 non-null     int64         \n",
      " 18  yesterday_exercise       48 non-null     int64         \n",
      " 19  yesterday_exercise_time  48 non-null     int64         \n",
      " 20  yesterday_step_cnt       48 non-null     int64         \n",
      " 21  yesterday_drinking       48 non-null     int64         \n",
      " 22  period                   48 non-null     int64         \n",
      " 23  caffeine                 48 non-null     int64         \n",
      " 24  yesterday_satisfaction   48 non-null     int64         \n",
      " 25  gotobed_range            48 non-null     object        \n",
      " 26  getup_range              48 non-null     object        \n",
      " 27  gotobed_late             48 non-null     int64         \n",
      " 28  getup_early              48 non-null     int64         \n",
      "dtypes: datetime64[ns](1), float64(5), int64(18), object(5)\n",
      "memory usage: 11.2+ KB\n"
     ]
    }
   ],
   "source": [
    "#데이터 타입 확인\n",
    "df.info()"
   ]
  },
  {
   "cell_type": "code",
   "execution_count": 9,
   "id": "c3e61133",
   "metadata": {},
   "outputs": [],
   "source": [
    "#범주형 변수를 object 타입으로 변경\n",
    "df['dayofweek'] = df['dayofweek'].astype(object)\n",
    "df['dayofweek_check'] = df['dayofweek_check'].astype(object)\n",
    "df['class_check'] = df['class_check'].astype(object)\n",
    "df['morning_routine'] = df['morning_routine'].astype(object)\n",
    "df['weather_prefer'] = df['weather_prefer'].astype(object)\n",
    "df['yesterday_exercise'] = df['yesterday_exercise'].astype(object)\n",
    "df['yesterday_drinking'] = df['yesterday_drinking'].astype(object)\n",
    "df['period'] = df['period'].astype(object)\n",
    "df['caffeine'] = df['caffeine'].astype(object)\n",
    "df['precipitation_check'] = df['precipitation_check'].astype(object)\n",
    "df['gotobed_late'] = df['gotobed_late'].astype(object)\n",
    "df['getup_early'] = df['getup_early'].astype(object)"
   ]
  },
  {
   "cell_type": "code",
   "execution_count": 10,
   "id": "5af33572",
   "metadata": {},
   "outputs": [
    {
     "name": "stdout",
     "output_type": "stream",
     "text": [
      "<class 'pandas.core.frame.DataFrame'>\n",
      "Int64Index: 48 entries, 96 to 143\n",
      "Data columns (total 29 columns):\n",
      " #   Column                   Non-Null Count  Dtype         \n",
      "---  ------                   --------------  -----         \n",
      " 0   cnt                      48 non-null     int64         \n",
      " 1   name                     48 non-null     object        \n",
      " 2   today_score              48 non-null     int64         \n",
      " 3   date                     48 non-null     datetime64[ns]\n",
      " 4   dayofweek                48 non-null     object        \n",
      " 5   dayofweek_check          48 non-null     object        \n",
      " 6   avg_temp                 48 non-null     float64       \n",
      " 7   low_temp                 48 non-null     float64       \n",
      " 8   high_temp                48 non-null     float64       \n",
      " 9   precipitation            48 non-null     float64       \n",
      " 10  precipitation_check      48 non-null     object        \n",
      " 11  class_check              48 non-null     object        \n",
      " 12  gotobed_time             48 non-null     object        \n",
      " 13  getup_time               48 non-null     object        \n",
      " 14  sleep_time               48 non-null     float64       \n",
      " 15  morning_routine          48 non-null     object        \n",
      " 16  weather_prefer           48 non-null     object        \n",
      " 17  sleep_score              48 non-null     int64         \n",
      " 18  yesterday_exercise       48 non-null     object        \n",
      " 19  yesterday_exercise_time  48 non-null     int64         \n",
      " 20  yesterday_step_cnt       48 non-null     int64         \n",
      " 21  yesterday_drinking       48 non-null     object        \n",
      " 22  period                   48 non-null     object        \n",
      " 23  caffeine                 48 non-null     object        \n",
      " 24  yesterday_satisfaction   48 non-null     int64         \n",
      " 25  gotobed_range            48 non-null     object        \n",
      " 26  getup_range              48 non-null     object        \n",
      " 27  gotobed_late             48 non-null     object        \n",
      " 28  getup_early              48 non-null     object        \n",
      "dtypes: datetime64[ns](1), float64(5), int64(6), object(17)\n",
      "memory usage: 11.2+ KB\n"
     ]
    }
   ],
   "source": [
    "#데이터 타입 확인\n",
    "df.info()"
   ]
  },
  {
   "cell_type": "markdown",
   "id": "4f7804d1",
   "metadata": {},
   "source": [
    "# 데이터 분포 확인"
   ]
  },
  {
   "cell_type": "markdown",
   "id": "6c6ea74c",
   "metadata": {},
   "source": [
    "## 종속변수 today_score "
   ]
  },
  {
   "cell_type": "code",
   "execution_count": 11,
   "id": "41920469",
   "metadata": {},
   "outputs": [
    {
     "data": {
      "text/plain": [
       "<AxesSubplot:xlabel='today_score', ylabel='Density'>"
      ]
     },
     "execution_count": 11,
     "metadata": {},
     "output_type": "execute_result"
    },
    {
     "data": {
      "image/png": "[encoded data removed]",
      "text/plain": [
       "<Figure size 432x288 with 1 Axes>"
      ]
     },
     "metadata": {
      "needs_background": "light"
     },
     "output_type": "display_data"
    }
   ],
   "source": [
    "sns.distplot(df['today_score'])"
   ]
  },
  {
   "cell_type": "code",
   "execution_count": 12,
   "id": "cc2293af",
   "metadata": {},
   "outputs": [
    {
     "data": {
      "text/plain": [
       "[<matplotlib.lines.Line2D at 0x1b8edba7430>]"
      ]
     },
     "execution_count": 12,
     "metadata": {},
     "output_type": "execute_result"
    },
    {
     "data": {
      "image/png": "[encoded data removed]",
      "text/plain": [
       "<Figure size 864x360 with 1 Axes>"
      ]
     },
     "metadata": {
      "needs_background": "light"
     },
     "output_type": "display_data"
    }
   ],
   "source": [
    "plt.figure(figsize=(12,5))\n",
    "plt.title('일별score_치타님')\n",
    "plt.ylim([0, 12])\n",
    "plt.plot(df['date'],df['today_score'])"
   ]
  },
  {
   "cell_type": "markdown",
   "id": "bd93086f",
   "metadata": {},
   "source": [
    "### 독립 변수_범주형 변수"
   ]
  },
  {
   "cell_type": "code",
   "execution_count": 13,
   "id": "37c437dc",
   "metadata": {},
   "outputs": [
    {
     "data": {
      "text/plain": [
       "['name',\n",
       " 'dayofweek',\n",
       " 'dayofweek_check',\n",
       " 'precipitation_check',\n",
       " 'class_check',\n",
       " 'gotobed_time',\n",
       " 'getup_time',\n",
       " 'morning_routine',\n",
       " 'weather_prefer',\n",
       " 'yesterday_exercise',\n",
       " 'yesterday_drinking',\n",
       " 'period',\n",
       " 'caffeine',\n",
       " 'gotobed_range',\n",
       " 'getup_range',\n",
       " 'gotobed_late',\n",
       " 'getup_early']"
      ]
     },
     "execution_count": 13,
     "metadata": {},
     "output_type": "execute_result"
    }
   ],
   "source": [
    "# 변수 형이 obhect인 컬럼 추출\n",
    "object_feature = [ col for col in df.columns if df[col].dtypes == \"object\"]\n",
    "object_feature"
   ]
  },
  {
   "cell_type": "code",
   "execution_count": 14,
   "id": "0d9ac6a8",
   "metadata": {},
   "outputs": [
    {
     "data": {
      "text/plain": [
       "['getup_range',\n",
       " 'dayofweek',\n",
       " 'morning_routine',\n",
       " 'getup_early',\n",
       " 'yesterday_exercise',\n",
       " 'precipitation_check',\n",
       " 'class_check',\n",
       " 'period',\n",
       " 'dayofweek_check',\n",
       " 'gotobed_range',\n",
       " 'yesterday_drinking',\n",
       " 'gotobed_late',\n",
       " 'caffeine',\n",
       " 'weather_prefer']"
      ]
     },
     "execution_count": 14,
     "metadata": {},
     "output_type": "execute_result"
    }
   ],
   "source": [
    "# name, gotbed_time, getup_time 컬럼 제외하고 리스트 생성\n",
    "category_feature = list(set(object_feature) - set(['name','gotobed_time','getup_time']))\n",
    "category_feature"
   ]
  },
  {
   "cell_type": "code",
   "execution_count": 15,
   "id": "acd9e39b",
   "metadata": {},
   "outputs": [
    {
     "data": {
      "image/png": "[encoded data removed]",
      "text/plain": [
       "<Figure size 432x288 with 1 Axes>"
      ]
     },
     "metadata": {
      "needs_background": "light"
     },
     "output_type": "display_data"
    },
    {
     "data": {
      "image/png": "[encoded data removed]",
      "text/plain": [
       "<Figure size 432x288 with 1 Axes>"
      ]
     },
     "metadata": {
      "needs_background": "light"
     },
     "output_type": "display_data"
    },
    {
     "data": {
      "image/png": "[encoded data removed]",
      "text/plain": [
       "<Figure size 432x288 with 1 Axes>"
      ]
     },
     "metadata": {
      "needs_background": "light"
     },
     "output_type": "display_data"
    },
    {
     "data": {
      "image/png": "[encoded data removed]",
      "text/plain": [
       "<Figure size 432x288 with 1 Axes>"
      ]
     },
     "metadata": {
      "needs_background": "light"
     },
     "output_type": "display_data"
    },
    {
     "data": {
      "image/png": "[encoded data removed]",
      "text/plain": [
       "<Figure size 432x288 with 1 Axes>"
      ]
     },
     "metadata": {
      "needs_background": "light"
     },
     "output_type": "display_data"
    },
    {
     "data": {
      "image/png": "[encoded data removed]",
      "text/plain": [
       "<Figure size 432x288 with 1 Axes>"
      ]
     },
     "metadata": {
      "needs_background": "light"
     },
     "output_type": "display_data"
    },
    {
     "data": {
      "image/png": "[encoded data removed]",
      "text/plain": [
       "<Figure size 432x288 with 1 Axes>"
      ]
     },
     "metadata": {
      "needs_background": "light"
     },
     "output_type": "display_data"
    },
    {
     "data": {
      "image/png": "[encoded data removed]",
      "text/plain": [
       "<Figure size 432x288 with 1 Axes>"
      ]
     },
     "metadata": {
      "needs_background": "light"
     },
     "output_type": "display_data"
    },
    {
     "data": {
      "image/png": "[encoded data removed]",
      "text/plain": [
       "<Figure size 432x288 with 1 Axes>"
      ]
     },
     "metadata": {
      "needs_background": "light"
     },
     "output_type": "display_data"
    },
    {
     "data": {
      "image/png": "[encoded data removed]",
      "text/plain": [
       "<Figure size 432x288 with 1 Axes>"
      ]
     },
     "metadata": {
      "needs_background": "light"
     },
     "output_type": "display_data"
    },
    {
     "data": {
      "image/png": "[encoded data removed]",
      "text/plain": [
       "<Figure size 432x288 with 1 Axes>"
      ]
     },
     "metadata": {
      "needs_background": "light"
     },
     "output_type": "display_data"
    },
    {
     "data": {
      "image/png": "[encoded data removed]",
      "text/plain": [
       "<Figure size 432x288 with 1 Axes>"
      ]
     },
     "metadata": {
      "needs_background": "light"
     },
     "output_type": "display_data"
    },
    {
     "data": {
      "image/png": "[encoded data removed]",
      "text/plain": [
       "<Figure size 432x288 with 1 Axes>"
      ]
     },
     "metadata": {
      "needs_background": "light"
     },
     "output_type": "display_data"
    },
    {
     "data": {
      "image/png": "[encoded data removed]",
      "text/plain": [
       "<Figure size 432x288 with 1 Axes>"
      ]
     },
     "metadata": {
      "needs_background": "light"
     },
     "output_type": "display_data"
    }
   ],
   "source": [
    "# 범주형 변수 분포 확인\n",
    "for col in category_feature:\n",
    "    df[col].value_counts().plot(kind='bar')\n",
    "    plt.title(col)\n",
    "    plt.show()"
   ]
  },
  {
   "cell_type": "markdown",
   "id": "b2a59294",
   "metadata": {},
   "source": [
    "* 범주형 변수 분포 해석 \n",
    ": <span style=\"color:blue\">파란색</span> 글씨는 5명 전체 분포와 다른 결과 \n",
    "    * weather_prefer : 오늘 날씨가 맘에 든 날이 맘에 들지 않은 날 보다 많다. \n",
    "    * <span style=\"color:blue\"> morning_routine : 모닝루틴을 한 날이 안 한 날 보다 많다.</span>\n",
    "    * yesterday_drinking : 어제 술을 안 마신 날이 마신 날보다 많다.\n",
    "    * period\n",
    "    * gotobed_range : 취침시간은 01시 -> 00시 -> 02시 순으로 많다.\n",
    "    * class_check : 수업을 한 날이 안 한 날보다 많다. \n",
    "    * caffeine : 카페인을 섭취하지 않은 날이 섭취한 날 보다 많다. \n",
    "    * dayofweek_check \n",
    "    * <span style=\"color:blue\"> getup_early : 오전 8시 이전(8시 포함x)에 기상한 경우가 더 많다. </span>\n",
    "    * gotobed_late : 오전 2시 이전(2시 포함x)에 취침한 경우가 더 많다.     \n",
    "    * yesterday_exercise : 어제 운동을 안 한 날이 한 날 보다 많다. \n",
    "    * precipitation_check : 비가 안 온 날이 비 온 날 보다 많다.    \n",
    "    * dayofweek \n",
    "    * <span style=\"color:blue\"> getup_range : 기상 시간은 07시 -> 06시 -> 09시 순으로 많다. </span>"
   ]
  },
  {
   "cell_type": "markdown",
   "id": "96bd5a85",
   "metadata": {},
   "source": [
    "### 독립 변수_수치형 변수 "
   ]
  },
  {
   "cell_type": "code",
   "execution_count": 16,
   "id": "8b4e8f1f",
   "metadata": {},
   "outputs": [
    {
     "data": {
      "text/plain": [
       "array(['avg_temp', 'high_temp', 'low_temp', 'precipitation',\n",
       "       'sleep_score', 'sleep_time', 'yesterday_exercise_time',\n",
       "       'yesterday_satisfaction', 'yesterday_step_cnt'], dtype='<U23')"
      ]
     },
     "execution_count": 16,
     "metadata": {},
     "output_type": "execute_result"
    }
   ],
   "source": [
    "# 전체 변수중 object변수 제외, today_score,cnt, date도 제외\n",
    "numerical_feature = list(set(df.columns) - set(object_feature) - set(['cnt','date','today_score']))\n",
    "numerical_feature = np.sort(numerical_feature)\n",
    "numerical_feature"
   ]
  },
  {
   "cell_type": "code",
   "execution_count": 17,
   "id": "810da448",
   "metadata": {},
   "outputs": [
    {
     "data": {
      "image/png": "[encoded data removed]",
      "text/plain": [
       "<Figure size 432x288 with 1 Axes>"
      ]
     },
     "metadata": {
      "needs_background": "light"
     },
     "output_type": "display_data"
    },
    {
     "data": {
      "image/png": "[encoded data removed]",
      "text/plain": [
       "<Figure size 432x288 with 1 Axes>"
      ]
     },
     "metadata": {
      "needs_background": "light"
     },
     "output_type": "display_data"
    },
    {
     "data": {
      "image/png": "[encoded data removed]",
      "text/plain": [
       "<Figure size 432x288 with 1 Axes>"
      ]
     },
     "metadata": {
      "needs_background": "light"
     },
     "output_type": "display_data"
    },
    {
     "data": {
      "image/png": "[encoded data removed]",
      "text/plain": [
       "<Figure size 432x288 with 1 Axes>"
      ]
     },
     "metadata": {
      "needs_background": "light"
     },
     "output_type": "display_data"
    },
    {
     "data": {
      "image/png": "[encoded data removed]",
      "text/plain": [
       "<Figure size 432x288 with 1 Axes>"
      ]
     },
     "metadata": {
      "needs_background": "light"
     },
     "output_type": "display_data"
    },
    {
     "data": {
      "image/png": "[encoded data removed]",
      "text/plain": [
       "<Figure size 432x288 with 1 Axes>"
      ]
     },
     "metadata": {
      "needs_background": "light"
     },
     "output_type": "display_data"
    },
    {
     "data": {
      "image/png": "[encoded data removed]",
      "text/plain": [
       "<Figure size 432x288 with 1 Axes>"
      ]
     },
     "metadata": {
      "needs_background": "light"
     },
     "output_type": "display_data"
    },
    {
     "data": {
      "image/png": "[encoded data removed]",
      "text/plain": [
       "<Figure size 432x288 with 1 Axes>"
      ]
     },
     "metadata": {
      "needs_background": "light"
     },
     "output_type": "display_data"
    },
    {
     "data": {
      "image/png": "[encoded data removed]",
      "text/plain": [
       "<Figure size 432x288 with 1 Axes>"
      ]
     },
     "metadata": {
      "needs_background": "light"
     },
     "output_type": "display_data"
    }
   ],
   "source": [
    "# 수치형 변수 분포 확인\n",
    "for col in numerical_feature:\n",
    "    sns.distplot(df.loc[df[col].notnull(), col])\n",
    "    plt.title(col)\n",
    "    plt.show()"
   ]
  },
  {
   "cell_type": "markdown",
   "id": "37b204ab",
   "metadata": {},
   "source": [
    "# 상관분석 "
   ]
  },
  {
   "cell_type": "code",
   "execution_count": 18,
   "id": "8f96e9ac",
   "metadata": {},
   "outputs": [
    {
     "data": {
      "image/png": "[encoded data removed]",
      "text/plain": [
       "<Figure size 1080x1080 with 2 Axes>"
      ]
     },
     "metadata": {
      "needs_background": "light"
     },
     "output_type": "display_data"
    }
   ],
   "source": [
    "tmp = df.corr()\n",
    "# 그림 사이즈 지정\n",
    "fig, ax = plt.subplots( figsize=(15,15) )\n",
    "\n",
    "# 삼각형 마스크를 만든다(위 쪽 삼각형에 True, 아래 삼각형에 False)\n",
    "mask = np.zeros_like(tmp, dtype=np.bool)\n",
    "mask[np.triu_indices_from(mask)] = True\n",
    "\n",
    "\n",
    "# 히트맵 팔레트 색상 불러오기\n",
    "cmap = sns.diverging_palette(220, 20, as_cmap=True)\n",
    "\n",
    "\n",
    "# 히트맵을 그린다\n",
    "sns.heatmap(tmp , \n",
    "            annot = True,   # 실제 값을 표시한다\n",
    "            mask=mask,      # 표시하지 않을 마스크 부분을 지정한다\n",
    "            linewidths=.5,  # 경계면 실선으로 구분하기\n",
    "            cbar_kws={\"shrink\": .5},# 컬러바 크기 절반으로 줄이기\n",
    "            cmap = cmap,\n",
    "            vmin = -1,vmax = 1   # 컬러바 범위 -1 ~ 1\n",
    "           )  \n",
    "plt.show()\n"
   ]
  },
  {
   "cell_type": "markdown",
   "id": "c6ca5495",
   "metadata": {},
   "source": [
    "* 상관 분석 해석 \n",
    ": <span style=\"color:blue\">파란색</span> 글씨는 5명 전체 분포와 다른 결과 \n",
    "    * 오늘 나의 점수(today_score)와는 sleep_time(수면시간), sleep_score(수면 점수), yesterday_satisfaction(전날 만족도)가 상관관계가 있다. \n",
    "    * 평균기온(avg_temp)과 최고기온(high_temp), 최저기온(low_temp)은 강한 상관관계가 있다. 다중공선성도 높게 나올 것 같아서, 다중회귀에 넣을 때 체크해봐야겠다.\n",
    "    * sleep_score(수면 점수)와 yesterday_satisfaction(전날 만족도)가 상관관계가 있다. \n",
    "    * sleep_score(수면 점수)와 sleep_time(수면시간)이 상관관계가 있다. \n",
    "    * <span style=\"color:blue\"> yesterday_step_cnt(전날 걸음수)와 yesterday_exercise_time(전날 운동시간)이 상관관계가 거의 없다.</span>"
   ]
  },
  {
   "cell_type": "markdown",
   "id": "f5f57206",
   "metadata": {},
   "source": [
    "# 왜도 확인\n",
    "- 왜도가 -2~2사이에 있으면 정규분포를 만족한다고 본다. \n",
    "- 정규분포를 만족하지 않는 값은 log를 씌우는 것을 고려해보자."
   ]
  },
  {
   "cell_type": "code",
   "execution_count": 19,
   "id": "63cf0839",
   "metadata": {},
   "outputs": [
    {
     "data": {
      "text/plain": [
       "cnt                        0.000000\n",
       "today_score               -0.382578\n",
       "dayofweek                 -0.029393\n",
       "dayofweek_check            0.946538\n",
       "avg_temp                   0.096425\n",
       "low_temp                   0.066712\n",
       "high_temp                  0.016375\n",
       "precipitation              4.342097\n",
       "precipitation_check        1.483126\n",
       "class_check               -1.064949\n",
       "sleep_time                 0.284590\n",
       "morning_routine           -0.946538\n",
       "weather_prefer            -0.439882\n",
       "sleep_score                0.041603\n",
       "yesterday_exercise         1.483126\n",
       "yesterday_exercise_time    1.483126\n",
       "yesterday_step_cnt         1.042527\n",
       "yesterday_drinking         1.483126\n",
       "period                     2.341607\n",
       "caffeine                   1.064949\n",
       "yesterday_satisfaction     0.041726\n",
       "gotobed_late               1.483126\n",
       "getup_early               -1.483126\n",
       "dtype: float64"
      ]
     },
     "execution_count": 19,
     "metadata": {},
     "output_type": "execute_result"
    }
   ],
   "source": [
    "df.skew()"
   ]
  },
  {
   "cell_type": "markdown",
   "id": "324f4462",
   "metadata": {},
   "source": [
    "* 결과 : 범주형 변수를 제외하고 precipitation"
   ]
  },
  {
   "cell_type": "markdown",
   "id": "22d8df8b",
   "metadata": {},
   "source": [
    "# 단일 선형 회귀"
   ]
  },
  {
   "cell_type": "markdown",
   "id": "c115e805",
   "metadata": {},
   "source": [
    "## 범주형 변수"
   ]
  },
  {
   "cell_type": "code",
   "execution_count": 20,
   "id": "b93c0d6e",
   "metadata": {},
   "outputs": [
    {
     "data": {
      "text/plain": [
       "['getup_range',\n",
       " 'dayofweek',\n",
       " 'morning_routine',\n",
       " 'getup_early',\n",
       " 'yesterday_exercise',\n",
       " 'precipitation_check',\n",
       " 'class_check',\n",
       " 'period',\n",
       " 'dayofweek_check',\n",
       " 'gotobed_range',\n",
       " 'yesterday_drinking',\n",
       " 'gotobed_late',\n",
       " 'caffeine',\n",
       " 'weather_prefer']"
      ]
     },
     "execution_count": 20,
     "metadata": {},
     "output_type": "execute_result"
    }
   ],
   "source": [
    "#범주형 변수 출력\n",
    "category_feature"
   ]
  },
  {
   "cell_type": "markdown",
   "id": "6781d3ed",
   "metadata": {},
   "source": [
    "* 🎉의미 : p-value가 0.05미만으로 유의미함, 귀무가설 기각\n",
    "* <span style=\"color:blue\">파란색</span> 글씨 의미 :  5명 전체 분포와 다른 결과"
   ]
  },
  {
   "cell_type": "markdown",
   "id": "657b8ea1",
   "metadata": {},
   "source": [
    "###  dayofweek : 요일 (일요일 = 1 ~ 토요일 = 7)\n",
    "* <span style=\"color:blue\"> 해석 : 요일별로 오늘 나의 점수 차이가 없다는 귀무가설 채택 </span>\n",
    "* 분석가 의견 : 데모데이 프로젝트 기간에는 요일에 상관없이 프로젝트를 진행했기에 요일별로 큰 차이가 없는 결과가 도출된 것 같다."
   ]
  },
  {
   "cell_type": "code",
   "execution_count": 21,
   "id": "76e6db9b",
   "metadata": {},
   "outputs": [
    {
     "name": "stdout",
     "output_type": "stream",
     "text": [
      "                            OLS Regression Results                            \n",
      "==============================================================================\n",
      "Dep. Variable:            today_score   R-squared:                       0.061\n",
      "Model:                            OLS   Adj. R-squared:                 -0.077\n",
      "Method:                 Least Squares   F-statistic:                    0.4404\n",
      "Date:                Wed, 23 Nov 2022   Prob (F-statistic):              0.847\n",
      "Time:                        23:42:10   Log-Likelihood:                -94.885\n",
      "No. Observations:                  48   AIC:                             203.8\n",
      "Df Residuals:                      41   BIC:                             216.9\n",
      "Df Model:                           6                                         \n",
      "Covariance Type:            nonrobust                                         \n",
      "=====================================================================================\n",
      "                        coef    std err          t      P>|t|      [0.025      0.975]\n",
      "-------------------------------------------------------------------------------------\n",
      "Intercept             6.5714      0.714      9.199      0.000       5.129       8.014\n",
      "C(dayofweek)[T.2]    -1.1429      1.010     -1.131      0.265      -3.183       0.898\n",
      "C(dayofweek)[T.3]    -1.2381      1.052     -1.177      0.246      -3.362       0.886\n",
      "C(dayofweek)[T.4]    -0.8571      1.010     -0.848      0.401      -2.898       1.183\n",
      "C(dayofweek)[T.5]    -0.4286      1.010     -0.424      0.674      -2.469       1.612\n",
      "C(dayofweek)[T.6]    -1.2857      1.010     -1.273      0.210      -3.326       0.755\n",
      "C(dayofweek)[T.7]    -0.5714      1.010     -0.566      0.575      -2.612       1.469\n",
      "==============================================================================\n",
      "Omnibus:                        2.742   Durbin-Watson:                   1.959\n",
      "Prob(Omnibus):                  0.254   Jarque-Bera (JB):                2.471\n",
      "Skew:                          -0.467   Prob(JB):                        0.291\n",
      "Kurtosis:                       2.398   Cond. No.                         7.80\n",
      "==============================================================================\n",
      "\n",
      "Notes:\n",
      "[1] Standard Errors assume that the covariance matrix of the errors is correctly specified.\n"
     ]
    }
   ],
   "source": [
    "test = ols('today_score ~ C(dayofweek)', data = df).fit().summary()\n",
    "print(test)"
   ]
  },
  {
   "cell_type": "markdown",
   "id": "5801f76a",
   "metadata": {},
   "source": [
    "### dayofweek_check : 주말 여부 (주말 = 1 , 주말 x = 0)\n",
    "* <span style=\"color:blue\"> 해석 : 주말과 평일의 오늘 나의 점수 차이가 없다는 귀무가설 채택 </span>\n",
    "* 분석가 의견 : 데모데이 프로젝트 기간에는 요일에 상관없이 프로젝트를 진행했기에 요일별로 큰 차이가 없는 결과가 도출된 것 같다."
   ]
  },
  {
   "cell_type": "code",
   "execution_count": 22,
   "id": "e1c82fdd",
   "metadata": {},
   "outputs": [
    {
     "name": "stdout",
     "output_type": "stream",
     "text": [
      "                            OLS Regression Results                            \n",
      "==============================================================================\n",
      "Dep. Variable:            today_score   R-squared:                       0.031\n",
      "Model:                            OLS   Adj. R-squared:                  0.010\n",
      "Method:                 Least Squares   F-statistic:                     1.469\n",
      "Date:                Wed, 23 Nov 2022   Prob (F-statistic):              0.232\n",
      "Time:                        23:44:17   Log-Likelihood:                -95.630\n",
      "No. Observations:                  48   AIC:                             195.3\n",
      "Df Residuals:                      46   BIC:                             199.0\n",
      "Df Model:                           1                                         \n",
      "Covariance Type:            nonrobust                                         \n",
      "===========================================================================================\n",
      "                              coef    std err          t      P>|t|      [0.025      0.975]\n",
      "-------------------------------------------------------------------------------------------\n",
      "Intercept                   5.5882      0.311     17.979      0.000       4.963       6.214\n",
      "C(dayofweek_check)[T.1]     0.6975      0.576      1.212      0.232      -0.461       1.856\n",
      "==============================================================================\n",
      "Omnibus:                        2.746   Durbin-Watson:                   1.964\n",
      "Prob(Omnibus):                  0.253   Jarque-Bera (JB):                2.589\n",
      "Skew:                          -0.509   Prob(JB):                        0.274\n",
      "Kurtosis:                       2.492   Cond. No.                         2.43\n",
      "==============================================================================\n",
      "\n",
      "Notes:\n",
      "[1] Standard Errors assume that the covariance matrix of the errors is correctly specified.\n"
     ]
    }
   ],
   "source": [
    "test = ols('today_score ~ C(dayofweek_check)', data = df).fit().summary()\n",
    "print(test)"
   ]
  },
  {
   "cell_type": "markdown",
   "id": "cd3e5cf9",
   "metadata": {},
   "source": [
    "###  precipitation_check : 강수 여부 (강수 = 1 , 강수 x = 0)\n",
    "* 가설 : 비 안 오는 날이 비오는 날보다 오늘의 점수가 높을 것이다.\n",
    "<br> <br/>\n",
    "* 해석 : 비오는 날과 비 안오는 날이 차이가 없다는 귀무가설 채택\n",
    "* 분석가 의견 : 비 오는 날이 몇일 없었고, 온 날 도 오늘 나의 점수를 매기는 아침에 왔는지 알 수 없기 때문에 차이가 없는 결과가 도출된 것 같다. "
   ]
  },
  {
   "cell_type": "code",
   "execution_count": 23,
   "id": "6aae0f00",
   "metadata": {},
   "outputs": [
    {
     "name": "stdout",
     "output_type": "stream",
     "text": [
      "                            OLS Regression Results                            \n",
      "==============================================================================\n",
      "Dep. Variable:            today_score   R-squared:                       0.028\n",
      "Model:                            OLS   Adj. R-squared:                  0.007\n",
      "Method:                 Least Squares   F-statistic:                     1.343\n",
      "Date:                Wed, 23 Nov 2022   Prob (F-statistic):              0.253\n",
      "Time:                        23:45:07   Log-Likelihood:                -95.693\n",
      "No. Observations:                  48   AIC:                             195.4\n",
      "Df Residuals:                      46   BIC:                             199.1\n",
      "Df Model:                           1                                         \n",
      "Covariance Type:            nonrobust                                         \n",
      "===============================================================================================\n",
      "                                  coef    std err          t      P>|t|      [0.025      0.975]\n",
      "-----------------------------------------------------------------------------------------------\n",
      "Intercept                       5.9474      0.294     20.202      0.000       5.355       6.540\n",
      "C(precipitation_check)[T.1]    -0.7474      0.645     -1.159      0.253      -2.046       0.551\n",
      "==============================================================================\n",
      "Omnibus:                        2.601   Durbin-Watson:                   2.080\n",
      "Prob(Omnibus):                  0.272   Jarque-Bera (JB):                2.068\n",
      "Skew:                          -0.363   Prob(JB):                        0.356\n",
      "Kurtosis:                       2.288   Cond. No.                         2.59\n",
      "==============================================================================\n",
      "\n",
      "Notes:\n",
      "[1] Standard Errors assume that the covariance matrix of the errors is correctly specified.\n"
     ]
    }
   ],
   "source": [
    "test = ols('today_score ~ C(precipitation_check)', data = df).fit().summary()\n",
    "print(test)"
   ]
  },
  {
   "cell_type": "markdown",
   "id": "94d04d4a",
   "metadata": {},
   "source": [
    "###  class : 수업 여부 (수업 안 하는 날 = 0, 수업 하는 날 = 1)\n",
    "* 가설 : 수업을 안 하는 날이 하는 날 보다 오늘의 점수가 높을 것이다\n",
    "<br><br/>\n",
    "* <span style=\"color:blue\"> 해석 : 수업 여부에 따라 오늘 나의 점수 차이가 없다는 귀무가설 채택 </span>\n",
    "* 분석가 의견 : 데모데이 프로젝트 기간에는 수업 여부에 상관없이 프로젝트를 진행했기에 수업 여부에 따라 큰 차이가 없는 결과가 도출된 것 같다."
   ]
  },
  {
   "cell_type": "code",
   "execution_count": 24,
   "id": "af595873",
   "metadata": {},
   "outputs": [
    {
     "name": "stdout",
     "output_type": "stream",
     "text": [
      "                            OLS Regression Results                            \n",
      "==============================================================================\n",
      "Dep. Variable:            today_score   R-squared:                       0.009\n",
      "Model:                            OLS   Adj. R-squared:                 -0.012\n",
      "Method:                 Least Squares   F-statistic:                    0.4320\n",
      "Date:                Wed, 23 Nov 2022   Prob (F-statistic):              0.514\n",
      "Time:                        23:45:30   Log-Likelihood:                -96.160\n",
      "No. Observations:                  48   AIC:                             196.3\n",
      "Df Residuals:                      46   BIC:                             200.1\n",
      "Df Model:                           1                                         \n",
      "Covariance Type:            nonrobust                                         \n",
      "=======================================================================================\n",
      "                          coef    std err          t      P>|t|      [0.025      0.975]\n",
      "---------------------------------------------------------------------------------------\n",
      "Intercept               6.0769      0.508     11.957      0.000       5.054       7.100\n",
      "C(class_check)[T.1]    -0.3912      0.595     -0.657      0.514      -1.589       0.807\n",
      "==============================================================================\n",
      "Omnibus:                        2.457   Durbin-Watson:                   2.007\n",
      "Prob(Omnibus):                  0.293   Jarque-Bera (JB):                2.167\n",
      "Skew:                          -0.415   Prob(JB):                        0.338\n",
      "Kurtosis:                       2.372   Cond. No.                         3.61\n",
      "==============================================================================\n",
      "\n",
      "Notes:\n",
      "[1] Standard Errors assume that the covariance matrix of the errors is correctly specified.\n"
     ]
    }
   ],
   "source": [
    "test = ols('today_score ~ C(class_check)', data = df).fit().summary()\n",
    "print(test)"
   ]
  },
  {
   "cell_type": "markdown",
   "id": "89de90d9",
   "metadata": {},
   "source": [
    "### morning_routine : 모닝루틴 실행 여부 (모닝루틴 x = 0, 모닝루틴 o = 1)\n",
    "* 가설 : 모닝루틴을 한 날이 안 하는 날 보다 오늘의 점수가 높을 것이다\n",
    "<br><br/>\n",
    "* 해석: 모닝루틴을 한 날과 안하는 날의 오늘 나의 점수 차이가 없다는 귀무가설을 채택\n",
    "* 분석가 의견 : 모닝루틴을 안 한 날이 더 많았기 때문에, 안 한 날이 계속 이어지게 되면서 하든 안하든 무뎌졌기 때문에 이런 결과가 나온 것 같다. "
   ]
  },
  {
   "cell_type": "code",
   "execution_count": 25,
   "id": "fc74e1ca",
   "metadata": {},
   "outputs": [
    {
     "name": "stdout",
     "output_type": "stream",
     "text": [
      "                            OLS Regression Results                            \n",
      "==============================================================================\n",
      "Dep. Variable:            today_score   R-squared:                       0.024\n",
      "Model:                            OLS   Adj. R-squared:                  0.003\n",
      "Method:                 Least Squares   F-statistic:                     1.128\n",
      "Date:                Wed, 23 Nov 2022   Prob (F-statistic):              0.294\n",
      "Time:                        23:46:18   Log-Likelihood:                -95.803\n",
      "No. Observations:                  48   AIC:                             195.6\n",
      "Df Residuals:                      46   BIC:                             199.3\n",
      "Df Model:                           1                                         \n",
      "Covariance Type:            nonrobust                                         \n",
      "===========================================================================================\n",
      "                              coef    std err          t      P>|t|      [0.025      0.975]\n",
      "-------------------------------------------------------------------------------------------\n",
      "Intercept                   5.3571      0.486     11.020      0.000       4.379       6.336\n",
      "C(morning_routine)[T.1]     0.6134      0.578      1.062      0.294      -0.549       1.776\n",
      "==============================================================================\n",
      "Omnibus:                        6.039   Durbin-Watson:                   1.903\n",
      "Prob(Omnibus):                  0.049   Jarque-Bera (JB):                2.375\n",
      "Skew:                          -0.171   Prob(JB):                        0.305\n",
      "Kurtosis:                       1.966   Cond. No.                         3.47\n",
      "==============================================================================\n",
      "\n",
      "Notes:\n",
      "[1] Standard Errors assume that the covariance matrix of the errors is correctly specified.\n"
     ]
    }
   ],
   "source": [
    "test = ols('today_score ~ C(morning_routine)', data = df).fit().summary()\n",
    "print(test)"
   ]
  },
  {
   "cell_type": "markdown",
   "id": "ca901bff",
   "metadata": {},
   "source": [
    "### yesterday_exercise : 전일 운동 여부 (전일 운동 x = 0, 전일 운동 o = 1)\n",
    "* 가설 : 전일 운동을 안 한 날이 한 날 보다 오늘의 점수가 높을 것이다\n",
    "<br><br/>\n",
    "* 해석: 전일 운동을 한 날과 안한 날의 오늘 나의 점수 차이가 없다는 귀무가설을 채택\n",
    "* 분석가 의견 : 전일 운동을 안 한 날이 더 많았기 때문에, 안 한 날이 계속 이어지게 되면서 하든 안하든 무뎌졌기 때문에 이런 결과가 나온 것 같다."
   ]
  },
  {
   "cell_type": "code",
   "execution_count": 26,
   "id": "458256b7",
   "metadata": {},
   "outputs": [
    {
     "name": "stdout",
     "output_type": "stream",
     "text": [
      "                            OLS Regression Results                            \n",
      "==============================================================================\n",
      "Dep. Variable:            today_score   R-squared:                       0.000\n",
      "Model:                            OLS   Adj. R-squared:                 -0.022\n",
      "Method:                 Least Squares   F-statistic:                 0.0002588\n",
      "Date:                Wed, 23 Nov 2022   Prob (F-statistic):              0.987\n",
      "Time:                        23:46:59   Log-Likelihood:                -96.384\n",
      "No. Observations:                  48   AIC:                             196.8\n",
      "Df Residuals:                      46   BIC:                             200.5\n",
      "Df Model:                           1                                         \n",
      "Covariance Type:            nonrobust                                         \n",
      "==============================================================================================\n",
      "                                 coef    std err          t      P>|t|      [0.025      0.975]\n",
      "----------------------------------------------------------------------------------------------\n",
      "Intercept                      5.7895      0.299     19.385      0.000       5.188       6.391\n",
      "C(yesterday_exercise)[T.1]     0.0105      0.654      0.016      0.987      -1.307       1.328\n",
      "==============================================================================\n",
      "Omnibus:                        2.653   Durbin-Watson:                   1.976\n",
      "Prob(Omnibus):                  0.265   Jarque-Bera (JB):                2.114\n",
      "Skew:                          -0.371   Prob(JB):                        0.348\n",
      "Kurtosis:                       2.288   Cond. No.                         2.59\n",
      "==============================================================================\n",
      "\n",
      "Notes:\n",
      "[1] Standard Errors assume that the covariance matrix of the errors is correctly specified.\n"
     ]
    }
   ],
   "source": [
    "test = ols('today_score ~ C(yesterday_exercise)', data = df).fit().summary()\n",
    "print(test)"
   ]
  },
  {
   "cell_type": "markdown",
   "id": "78323e6b",
   "metadata": {},
   "source": [
    "###  yesterday_drinking : 전날 음주 여부 (전날 음주 x = 0, 전날 음주 o = 1)\n",
    "* 가설 : 전날 음주를 안 한 날이 한 날 보다 오늘의 점수가 높을 것이다\n",
    "<br><br/>\n",
    "* <span style=\"color:blue\"> 해석 : 음주 여부에 따라 오늘 나의 점수 차이가 없다는 귀무가설 채택 </span>\n",
    "* 분석가 의견 : 음주를 할 때 가볍게 맥주 한 잔 정도 했기에 음주 여부는 점수에 큰 영향을 미치지 않았다. "
   ]
  },
  {
   "cell_type": "code",
   "execution_count": 27,
   "id": "277cb5c4",
   "metadata": {},
   "outputs": [
    {
     "name": "stdout",
     "output_type": "stream",
     "text": [
      "                            OLS Regression Results                            \n",
      "==============================================================================\n",
      "Dep. Variable:            today_score   R-squared:                       0.021\n",
      "Model:                            OLS   Adj. R-squared:                 -0.000\n",
      "Method:                 Least Squares   F-statistic:                    0.9836\n",
      "Date:                Wed, 23 Nov 2022   Prob (F-statistic):              0.327\n",
      "Time:                        23:49:08   Log-Likelihood:                -95.876\n",
      "No. Observations:                  48   AIC:                             195.8\n",
      "Df Residuals:                      46   BIC:                             199.5\n",
      "Df Model:                           1                                         \n",
      "Covariance Type:            nonrobust                                         \n",
      "==============================================================================================\n",
      "                                 coef    std err          t      P>|t|      [0.025      0.975]\n",
      "----------------------------------------------------------------------------------------------\n",
      "Intercept                      5.6579      0.296     19.146      0.000       5.063       6.253\n",
      "C(yesterday_drinking)[T.1]     0.6421      0.647      0.992      0.327      -0.661       1.945\n",
      "==============================================================================\n",
      "Omnibus:                        2.617   Durbin-Watson:                   2.129\n",
      "Prob(Omnibus):                  0.270   Jarque-Bera (JB):                1.938\n",
      "Skew:                          -0.318   Prob(JB):                        0.379\n",
      "Kurtosis:                       2.249   Cond. No.                         2.59\n",
      "==============================================================================\n",
      "\n",
      "Notes:\n",
      "[1] Standard Errors assume that the covariance matrix of the errors is correctly specified.\n"
     ]
    }
   ],
   "source": [
    "test = ols('today_score ~ C(yesterday_drinking)', data = df).fit().summary()\n",
    "print(test)"
   ]
  },
  {
   "cell_type": "markdown",
   "id": "6d2bd8c1",
   "metadata": {},
   "source": [
    "### 🎉 period : 생리 여부 (생리 x = 0, 생리 o = 1)\n",
    "* 가설 : 생리를 안하는 날이 하는 날 보다 오늘의 점수가 높을 것이다\n",
    "<br><br/>\n",
    "* 수정r제곱 기준 설명력 : 0.06(6%)\n",
    "* <span style=\"color:blue\"> 해석 : 생리 여부에 따라 오늘 나의 점수 차이가 없다는 귀무가설 기각, 생리를 하는 날이 생리를 하지 않은 날 보다 1.0490점 높음 </span>\n",
    "* 분석가 의견 : 생리를 한 날 보다 생리를 안 한 날이 훨씬 더 많았기 때문에, 편향으로 발생한 결과 일 수 있다."
   ]
  },
  {
   "cell_type": "code",
   "execution_count": 28,
   "id": "06e0966c",
   "metadata": {},
   "outputs": [
    {
     "name": "stdout",
     "output_type": "stream",
     "text": [
      "                            OLS Regression Results                            \n",
      "==============================================================================\n",
      "Dep. Variable:            today_score   R-squared:                       0.081\n",
      "Model:                            OLS   Adj. R-squared:                  0.061\n",
      "Method:                 Least Squares   F-statistic:                     4.055\n",
      "Date:                Wed, 23 Nov 2022   Prob (F-statistic):             0.0499\n",
      "Time:                        23:50:56   Log-Likelihood:                -94.356\n",
      "No. Observations:                  48   AIC:                             192.7\n",
      "Df Residuals:                      46   BIC:                             196.5\n",
      "Df Model:                           1                                         \n",
      "Covariance Type:            nonrobust                                         \n",
      "==========================================================================================\n",
      "                             coef    std err          t      P>|t|      [0.025      0.975]\n",
      "------------------------------------------------------------------------------------------\n",
      "Intercept                  5.1579      0.405     12.739      0.000       4.343       5.973\n",
      "C(weather_prefer)[T.1]     1.0490      0.521      2.014      0.050       0.000       2.098\n",
      "==============================================================================\n",
      "Omnibus:                        3.544   Durbin-Watson:                   1.820\n",
      "Prob(Omnibus):                  0.170   Jarque-Bera (JB):                2.588\n",
      "Skew:                          -0.412   Prob(JB):                        0.274\n",
      "Kurtosis:                       2.215   Cond. No.                         2.94\n",
      "==============================================================================\n",
      "\n",
      "Notes:\n",
      "[1] Standard Errors assume that the covariance matrix of the errors is correctly specified.\n"
     ]
    }
   ],
   "source": [
    "test = ols('today_score ~ C(weather_prefer)', data = df).fit().summary()\n",
    "print(test)"
   ]
  },
  {
   "cell_type": "markdown",
   "id": "7ab32672",
   "metadata": {},
   "source": [
    "### caffeine : 카페인 섭취 여부 (카페인 x = 0, 카페인 o = 1)\n",
    "* 가설 : 카페인을 섭취 한 날이 안 한 날 보다 오늘의 점수가 높을 것이다\n",
    "<br><br/>\n",
    "* 해석: 카페인을 섭취 한 날과 안 한 날이 오늘 나의 점수 차이가 없다는 귀무가설을 채택"
   ]
  },
  {
   "cell_type": "code",
   "execution_count": 29,
   "id": "50598322",
   "metadata": {},
   "outputs": [
    {
     "name": "stdout",
     "output_type": "stream",
     "text": [
      "                            OLS Regression Results                            \n",
      "==============================================================================\n",
      "Dep. Variable:            today_score   R-squared:                       0.022\n",
      "Model:                            OLS   Adj. R-squared:                  0.001\n",
      "Method:                 Least Squares   F-statistic:                     1.037\n",
      "Date:                Wed, 23 Nov 2022   Prob (F-statistic):              0.314\n",
      "Time:                        23:56:12   Log-Likelihood:                -95.849\n",
      "No. Observations:                  48   AIC:                             195.7\n",
      "Df Residuals:                      46   BIC:                             199.4\n",
      "Df Model:                           1                                         \n",
      "Covariance Type:            nonrobust                                         \n",
      "====================================================================================\n",
      "                       coef    std err          t      P>|t|      [0.025      0.975]\n",
      "------------------------------------------------------------------------------------\n",
      "Intercept            5.6286      0.308     18.290      0.000       5.009       6.248\n",
      "C(caffeine)[T.1]     0.6022      0.591      1.018      0.314      -0.588       1.793\n",
      "==============================================================================\n",
      "Omnibus:                        2.195   Durbin-Watson:                   2.007\n",
      "Prob(Omnibus):                  0.334   Jarque-Bera (JB):                1.632\n",
      "Skew:                          -0.260   Prob(JB):                        0.442\n",
      "Kurtosis:                       2.262   Cond. No.                         2.45\n",
      "==============================================================================\n",
      "\n",
      "Notes:\n",
      "[1] Standard Errors assume that the covariance matrix of the errors is correctly specified.\n"
     ]
    }
   ],
   "source": [
    "test = ols('today_score ~ C(caffeine)', data = df).fit().summary()\n",
    "print(test)"
   ]
  },
  {
   "cell_type": "markdown",
   "id": "48d476a6",
   "metadata": {},
   "source": [
    "### 🎉🎉gotobed_range : 취침 시간대\n",
    "* <span style=\"color:blue\"> 수정r제곱 기준 설명력 : 0.26(26%)</span>\n",
    "<br><br/>\n",
    "* <span style=\"color:blue\"> 해석 1 : 00시에 취침할 때와 03시에 취침할 때의 오늘 나의 점수 차이가 없다는 귀무가설을 기각, 03시에 취침할 때가 00시에 취침할 때 보다 3.7점 낮음 </span>\n",
    "* <span style=\"color:blue\"> 해석 2 : 00시에 취침할 때와 02시에 취침할 때의 오늘 나의 점수 차이가 없다는 귀무가설을 기각, 02시에 취침할 때가 00시에 취침할 때 보다 1.5점 낮음 </span> "
   ]
  },
  {
   "cell_type": "code",
   "execution_count": 30,
   "id": "c4f9c3d9",
   "metadata": {},
   "outputs": [
    {
     "name": "stdout",
     "output_type": "stream",
     "text": [
      "                            OLS Regression Results                            \n",
      "==============================================================================\n",
      "Dep. Variable:            today_score   R-squared:                       0.377\n",
      "Model:                            OLS   Adj. R-squared:                  0.267\n",
      "Method:                 Least Squares   F-statistic:                     3.451\n",
      "Date:                Wed, 23 Nov 2022   Prob (F-statistic):            0.00554\n",
      "Time:                        23:56:54   Log-Likelihood:                -85.044\n",
      "No. Observations:                  48   AIC:                             186.1\n",
      "Df Residuals:                      40   BIC:                             201.1\n",
      "Df Model:                           7                                         \n",
      "Covariance Type:            nonrobust                                         \n",
      "============================================================================================\n",
      "                               coef    std err          t      P>|t|      [0.025      0.975]\n",
      "--------------------------------------------------------------------------------------------\n",
      "Intercept                    6.4000      0.403     15.900      0.000       5.587       7.213\n",
      "C(gotobed_range)[T.01시대]    -0.7333      0.569     -1.288      0.205      -1.884       0.417\n",
      "C(gotobed_range)[T.02시대]    -1.5429      0.714     -2.162      0.037      -2.985      -0.101\n",
      "C(gotobed_range)[T.03시대]    -3.7333      0.986     -3.787      0.001      -5.726      -1.741\n",
      "C(gotobed_range)[T.20시대]     2.6000      1.610      1.615      0.114      -0.654       5.854\n",
      "C(gotobed_range)[T.21시대]    -1.4000      1.610     -0.870      0.390      -4.654       1.854\n",
      "C(gotobed_range)[T.22시대]     0.3500      0.877      0.399      0.692      -1.423       2.123\n",
      "C(gotobed_range)[T.23시대]     0.6000      1.173      0.511      0.612      -1.772       2.972\n",
      "==============================================================================\n",
      "Omnibus:                        8.045   Durbin-Watson:                   1.668\n",
      "Prob(Omnibus):                  0.018   Jarque-Bera (JB):                7.053\n",
      "Skew:                          -0.854   Prob(JB):                       0.0294\n",
      "Kurtosis:                       3.782   Cond. No.                         8.23\n",
      "==============================================================================\n",
      "\n",
      "Notes:\n",
      "[1] Standard Errors assume that the covariance matrix of the errors is correctly specified.\n"
     ]
    }
   ],
   "source": [
    "test = ols('today_score ~ C(gotobed_range)', data = df).fit().summary()\n",
    "print(test)"
   ]
  },
  {
   "cell_type": "markdown",
   "id": "709b6ae3",
   "metadata": {},
   "source": [
    "###  🎉gotobed_late: 늦게 취침했는지 여부 \n",
    "(오전 2시 이전에 취침한 경우(2시 포함X)=0, 오전 2시 이후에 취침한 경우(2시 포함o)=1)\n",
    "<br><br/>\n",
    "* 가설 : 늦게 취침할 수록 오늘 나의 점수가 낮을 것이다.\n",
    "* <span style=\"color:blue\"> 수정r제곱 기준 설명력 : 0.18(18%)</span>\n",
    "* <span style=\"color:blue\"> 해석 : 늦게 취침 한 날과 늦게 취침하지 않은 날의 오늘 나의 점수 차이가 없다는 귀무가설을 기각, 2시 이후에 취침한 경우 오늘 나의 점수가 2점 낮음 </span>"
   ]
  },
  {
   "cell_type": "code",
   "execution_count": 31,
   "id": "e355abc3",
   "metadata": {},
   "outputs": [
    {
     "name": "stdout",
     "output_type": "stream",
     "text": [
      "                            OLS Regression Results                            \n",
      "==============================================================================\n",
      "Dep. Variable:            today_score   R-squared:                       0.205\n",
      "Model:                            OLS   Adj. R-squared:                  0.188\n",
      "Method:                 Least Squares   F-statistic:                     11.88\n",
      "Date:                Thu, 24 Nov 2022   Prob (F-statistic):            0.00122\n",
      "Time:                        00:33:29   Log-Likelihood:                -90.871\n",
      "No. Observations:                  48   AIC:                             185.7\n",
      "Df Residuals:                      46   BIC:                             189.5\n",
      "Df Model:                           1                                         \n",
      "Covariance Type:            nonrobust                                         \n",
      "========================================================================================\n",
      "                           coef    std err          t      P>|t|      [0.025      0.975]\n",
      "----------------------------------------------------------------------------------------\n",
      "Intercept                6.2105      0.266     23.326      0.000       5.675       6.746\n",
      "C(gotobed_late)[T.1]    -2.0105      0.583     -3.447      0.001      -3.185      -0.836\n",
      "==============================================================================\n",
      "Omnibus:                        0.854   Durbin-Watson:                   1.969\n",
      "Prob(Omnibus):                  0.653   Jarque-Bera (JB):                0.920\n",
      "Skew:                          -0.280   Prob(JB):                        0.631\n",
      "Kurtosis:                       2.618   Cond. No.                         2.59\n",
      "==============================================================================\n",
      "\n",
      "Notes:\n",
      "[1] Standard Errors assume that the covariance matrix of the errors is correctly specified.\n"
     ]
    }
   ],
   "source": [
    "test = ols('today_score ~ C(gotobed_late)', data = df).fit().summary()\n",
    "print(test)"
   ]
  },
  {
   "cell_type": "markdown",
   "id": "adc64882",
   "metadata": {},
   "source": [
    "### 🎉getup_range              : 기상 시간대\n",
    "* <span style=\"color:blue\"> 수정r제곱 기준 설명력 : 0.08(8%)</span>\n",
    "<br><br/>\n",
    "* <span style=\"color:blue\"> 해석1 : 04시에 기상할 때와 05시에 기상할 때의 오늘 나의 점수 차이가 없다는 귀무가설을 기각, 05시에 기상할 때가 04시에 기상할 때 보다 7점 낮음  </span>\n",
    "* <span style=\"color:blue\"> 해석2 : 04시에 기상할 때와 10시에 기상할 때의 오늘 나의 점수 차이가 없다는 귀무가설을 기각, 10시에 기상할 때가 04시에 기상할 때 보다 4.5점 낮음  </span>\n",
    "* <span style=\"color:blue\"> 분석가 의견 : 04시에 기상 했을 때가 1번 있었는데,  이 때 20시에 취침해서 04시에 기상했기 때문에 오늘 나의 점수가 매우 높게 나왔었다. 그렇기에 이런 해석이 나왔다. 기상 시간대는 취침시간대를 함께 봐야할 것 같다. </span>"
   ]
  },
  {
   "cell_type": "code",
   "execution_count": 32,
   "id": "2a6e4c33",
   "metadata": {},
   "outputs": [
    {
     "name": "stdout",
     "output_type": "stream",
     "text": [
      "                            OLS Regression Results                            \n",
      "==============================================================================\n",
      "Dep. Variable:            today_score   R-squared:                       0.202\n",
      "Model:                            OLS   Adj. R-squared:                  0.085\n",
      "Method:                 Least Squares   F-statistic:                     1.732\n",
      "Date:                Thu, 24 Nov 2022   Prob (F-statistic):              0.138\n",
      "Time:                        00:35:21   Log-Likelihood:                -90.961\n",
      "No. Observations:                  48   AIC:                             195.9\n",
      "Df Residuals:                      41   BIC:                             209.0\n",
      "Df Model:                           6                                         \n",
      "Covariance Type:            nonrobust                                         \n",
      "==========================================================================================\n",
      "                             coef    std err          t      P>|t|      [0.025      0.975]\n",
      "------------------------------------------------------------------------------------------\n",
      "Intercept                  9.0000      1.742      5.167      0.000       5.482      12.518\n",
      "C(getup_range)[T.05시대]    -7.0000      2.463     -2.842      0.007     -11.975      -2.025\n",
      "C(getup_range)[T.06시대]    -3.0000      1.808     -1.660      0.105      -6.650       0.650\n",
      "C(getup_range)[T.07시대]    -3.3478      1.779     -1.882      0.067      -6.941       0.245\n",
      "C(getup_range)[T.08시대]    -2.3333      2.011     -1.160      0.253      -6.395       1.728\n",
      "C(getup_range)[T.09시대]    -3.0000      1.908     -1.572      0.124      -6.853       0.853\n",
      "C(getup_range)[T.10시대]    -4.5000      2.133     -2.109      0.041      -8.808      -0.192\n",
      "==============================================================================\n",
      "Omnibus:                        1.694   Durbin-Watson:                   2.147\n",
      "Prob(Omnibus):                  0.429   Jarque-Bera (JB):                1.626\n",
      "Skew:                          -0.364   Prob(JB):                        0.443\n",
      "Kurtosis:                       2.469   Cond. No.                         21.8\n",
      "==============================================================================\n",
      "\n",
      "Notes:\n",
      "[1] Standard Errors assume that the covariance matrix of the errors is correctly specified.\n"
     ]
    }
   ],
   "source": [
    "test = ols('today_score ~ C(getup_range)', data = df).fit().summary()\n",
    "print(test)"
   ]
  },
  {
   "cell_type": "markdown",
   "id": "fbb15dd2",
   "metadata": {},
   "source": [
    "### getup_early              : 일찍 기상 했는지 여부 \n",
    "(오전 8시 이후에 기상한 경우(8시 포함O)=0, 오전 8시 이전에 기상한 경우(8시 포함X)=1 \n",
    "<br><br/>\n",
    "* 가설 : 일찍 기상할 수록 오늘 나의 점수가 낮을 것이다.\n",
    "* 해석 : 일찍 기상 한 날과 일찍 기상하지 않은 날의 오늘 나의 점수 차이가 없다는 귀무가설을 채택"
   ]
  },
  {
   "cell_type": "code",
   "execution_count": 33,
   "id": "80b3be3b",
   "metadata": {},
   "outputs": [
    {
     "name": "stdout",
     "output_type": "stream",
     "text": [
      "                            OLS Regression Results                            \n",
      "==============================================================================\n",
      "Dep. Variable:            today_score   R-squared:                       0.001\n",
      "Model:                            OLS   Adj. R-squared:                 -0.021\n",
      "Method:                 Least Squares   F-statistic:                   0.04378\n",
      "Date:                Thu, 24 Nov 2022   Prob (F-statistic):              0.835\n",
      "Time:                        00:42:14   Log-Likelihood:                -96.361\n",
      "No. Observations:                  48   AIC:                             196.7\n",
      "Df Residuals:                      46   BIC:                             200.5\n",
      "Df Model:                           1                                         \n",
      "Covariance Type:            nonrobust                                         \n",
      "=======================================================================================\n",
      "                          coef    std err          t      P>|t|      [0.025      0.975]\n",
      "---------------------------------------------------------------------------------------\n",
      "Intercept               5.9000      0.582     10.139      0.000       4.729       7.071\n",
      "C(getup_early)[T.1]    -0.1368      0.654     -0.209      0.835      -1.453       1.180\n",
      "==============================================================================\n",
      "Omnibus:                        2.430   Durbin-Watson:                   1.987\n",
      "Prob(Omnibus):                  0.297   Jarque-Bera (JB):                2.042\n",
      "Skew:                          -0.378   Prob(JB):                        0.360\n",
      "Kurtosis:                       2.329   Cond. No.                         4.17\n",
      "==============================================================================\n",
      "\n",
      "Notes:\n",
      "[1] Standard Errors assume that the covariance matrix of the errors is correctly specified.\n"
     ]
    }
   ],
   "source": [
    "test = ols('today_score ~ C(getup_early)', data = df).fit().summary()\n",
    "print(test)"
   ]
  },
  {
   "cell_type": "markdown",
   "id": "0d26a800",
   "metadata": {},
   "source": [
    "#### cheetah_getup_early              : 치타기준 일찍 기상 했는지 여부 \n",
    "(오전 7시 이후에 기상한 경우(7시 포함x)=0, 오전 7시 이전에 기상한 경우(7시 포함X)=1\n",
    "치타는 일찍 일어나는 편이어서 따로 기준을 설정해줬다.\n",
    "<br><br/>\n",
    "* 가설 : 일찍 기상할 수록 오늘 나의 점수가 낮을 것이다.\n",
    "* 해석 : 일찍 기상 한 날과 일찍 기상하지 않은 날의 오늘 나의 점수 차이가 없다는 귀무가설을 채택"
   ]
  },
  {
   "cell_type": "markdown",
   "id": "3e58e89f",
   "metadata": {},
   "source": [
    "##### (1) 변수 생성"
   ]
  },
  {
   "cell_type": "code",
   "execution_count": 83,
   "id": "bb72d061",
   "metadata": {},
   "outputs": [],
   "source": [
    "cheetah_getup_early = []\n",
    "\n",
    "for row in df['getup_range']:\n",
    "    if row == '06시대' or row == '05시대' or row == '04시대':\n",
    "        cheetah_getup_early.append('1')\n",
    "    else:\n",
    "        cheetah_getup_early.append('0')"
   ]
  },
  {
   "cell_type": "code",
   "execution_count": 84,
   "id": "54f5d556",
   "metadata": {},
   "outputs": [],
   "source": [
    "df['cheetah_getup_early'] = cheetah_getup_early"
   ]
  },
  {
   "cell_type": "markdown",
   "id": "4eabaf17",
   "metadata": {},
   "source": [
    "##### (2) 단일선형회귀 "
   ]
  },
  {
   "cell_type": "code",
   "execution_count": 86,
   "id": "38ba16c1",
   "metadata": {},
   "outputs": [
    {
     "name": "stdout",
     "output_type": "stream",
     "text": [
      "                            OLS Regression Results                            \n",
      "==============================================================================\n",
      "Dep. Variable:            today_score   R-squared:                       0.003\n",
      "Model:                            OLS   Adj. R-squared:                 -0.019\n",
      "Method:                 Least Squares   F-statistic:                    0.1296\n",
      "Date:                Thu, 24 Nov 2022   Prob (F-statistic):              0.721\n",
      "Time:                        01:24:55   Log-Likelihood:                -96.316\n",
      "No. Observations:                  48   AIC:                             196.6\n",
      "Df Residuals:                      46   BIC:                             200.4\n",
      "Df Model:                           1                                         \n",
      "Covariance Type:            nonrobust                                         \n",
      "===============================================================================================\n",
      "                                  coef    std err          t      P>|t|      [0.025      0.975]\n",
      "-----------------------------------------------------------------------------------------------\n",
      "Intercept                       5.7273      0.320     17.896      0.000       5.083       6.371\n",
      "C(cheetah_getup_early)[T.1]     0.2061      0.572      0.360      0.721      -0.946       1.358\n",
      "==============================================================================\n",
      "Omnibus:                        2.723   Durbin-Watson:                   1.963\n",
      "Prob(Omnibus):                  0.256   Jarque-Bera (JB):                2.134\n",
      "Skew:                          -0.369   Prob(JB):                        0.344\n",
      "Kurtosis:                       2.276   Cond. No.                         2.42\n",
      "==============================================================================\n",
      "\n",
      "Notes:\n",
      "[1] Standard Errors assume that the covariance matrix of the errors is correctly specified.\n"
     ]
    }
   ],
   "source": [
    "test = ols('today_score ~ C(cheetah_getup_early)', data = df).fit().summary()\n",
    "print(test)"
   ]
  },
  {
   "cell_type": "markdown",
   "id": "d13c7ecb",
   "metadata": {},
   "source": [
    "## 수치형 변수"
   ]
  },
  {
   "cell_type": "code",
   "execution_count": 34,
   "id": "53d6b331",
   "metadata": {},
   "outputs": [
    {
     "data": {
      "text/plain": [
       "array(['avg_temp', 'high_temp', 'low_temp', 'precipitation',\n",
       "       'sleep_score', 'sleep_time', 'yesterday_exercise_time',\n",
       "       'yesterday_satisfaction', 'yesterday_step_cnt'], dtype='<U23')"
      ]
     },
     "execution_count": 34,
     "metadata": {},
     "output_type": "execute_result"
    }
   ],
   "source": [
    "numerical_feature"
   ]
  },
  {
   "cell_type": "markdown",
   "id": "bf0894e8",
   "metadata": {},
   "source": [
    "* 🎉의미 : p-value가 0.05미만으로 유의미함, 귀무가설 기각\n",
    "* <span style=\"color:blue\">파란색</span> 글씨 의미 :  5명 전체 분포와 다른 결과"
   ]
  },
  {
   "cell_type": "markdown",
   "id": "ec41f805",
   "metadata": {},
   "source": [
    "### avg_temp : 평균 기온 (℃)\n",
    "* 해석 : 평균 기온에 따라 오늘 나의 점수 차이가 없다는 귀무가설을 채택"
   ]
  },
  {
   "cell_type": "code",
   "execution_count": 35,
   "id": "17b5d49e",
   "metadata": {
    "collapsed": true
   },
   "outputs": [
    {
     "name": "stdout",
     "output_type": "stream",
     "text": [
      "                            OLS Regression Results                            \n",
      "==============================================================================\n",
      "Dep. Variable:            today_score   R-squared:                       0.002\n",
      "Model:                            OLS   Adj. R-squared:                 -0.020\n",
      "Method:                 Least Squares   F-statistic:                   0.07381\n",
      "Date:                Thu, 24 Nov 2022   Prob (F-statistic):              0.787\n",
      "Time:                        00:43:02   Log-Likelihood:                -96.345\n",
      "No. Observations:                  48   AIC:                             196.7\n",
      "Df Residuals:                      46   BIC:                             200.4\n",
      "Df Model:                           1                                         \n",
      "Covariance Type:            nonrobust                                         \n",
      "==============================================================================\n",
      "                 coef    std err          t      P>|t|      [0.025      0.975]\n",
      "------------------------------------------------------------------------------\n",
      "Intercept      5.5218      1.028      5.370      0.000       3.452       7.592\n",
      "avg_temp       0.0194      0.071      0.272      0.787      -0.124       0.163\n",
      "==============================================================================\n",
      "Omnibus:                        2.800   Durbin-Watson:                   1.974\n",
      "Prob(Omnibus):                  0.247   Jarque-Bera (JB):                2.012\n",
      "Skew:                          -0.321   Prob(JB):                        0.366\n",
      "Kurtosis:                       2.230   Cond. No.                         56.1\n",
      "==============================================================================\n",
      "\n",
      "Notes:\n",
      "[1] Standard Errors assume that the covariance matrix of the errors is correctly specified.\n"
     ]
    }
   ],
   "source": [
    "test = ols('today_score ~ avg_temp', data = df).fit().summary()\n",
    "print(test)"
   ]
  },
  {
   "cell_type": "markdown",
   "id": "40a95518",
   "metadata": {},
   "source": [
    "### low_temp : 최저 기온 (℃)\n",
    "* 해석 : 최저 기온에 따라 오늘 나의 점수 차이가 없다는 귀무가설을 채택"
   ]
  },
  {
   "cell_type": "code",
   "execution_count": 36,
   "id": "5194a6c5",
   "metadata": {
    "collapsed": true
   },
   "outputs": [
    {
     "name": "stdout",
     "output_type": "stream",
     "text": [
      "                            OLS Regression Results                            \n",
      "==============================================================================\n",
      "Dep. Variable:            today_score   R-squared:                       0.000\n",
      "Model:                            OLS   Adj. R-squared:                 -0.022\n",
      "Method:                 Least Squares   F-statistic:                  0.004272\n",
      "Date:                Thu, 24 Nov 2022   Prob (F-statistic):              0.948\n",
      "Time:                        00:43:12   Log-Likelihood:                -96.382\n",
      "No. Observations:                  48   AIC:                             196.8\n",
      "Df Residuals:                      46   BIC:                             200.5\n",
      "Df Model:                           1                                         \n",
      "Covariance Type:            nonrobust                                         \n",
      "==============================================================================\n",
      "                 coef    std err          t      P>|t|      [0.025      0.975]\n",
      "------------------------------------------------------------------------------\n",
      "Intercept      5.8345      0.708      8.246      0.000       4.410       7.259\n",
      "low_temp      -0.0045      0.068     -0.065      0.948      -0.142       0.133\n",
      "==============================================================================\n",
      "Omnibus:                        2.628   Durbin-Watson:                   1.976\n",
      "Prob(Omnibus):                  0.269   Jarque-Bera (JB):                2.126\n",
      "Skew:                          -0.378   Prob(JB):                        0.345\n",
      "Kurtosis:                       2.298   Cond. No.                         27.8\n",
      "==============================================================================\n",
      "\n",
      "Notes:\n",
      "[1] Standard Errors assume that the covariance matrix of the errors is correctly specified.\n"
     ]
    }
   ],
   "source": [
    "test = ols('today_score ~ low_temp', data = df).fit().summary()\n",
    "print(test)"
   ]
  },
  {
   "cell_type": "markdown",
   "id": "46cd44af",
   "metadata": {},
   "source": [
    "### high_temp : 최고 기온 (℃)\n",
    "* 해석 : 최고 기온에 따라 오늘 나의 점수 차이가 없다는 귀무가설을 채택"
   ]
  },
  {
   "cell_type": "code",
   "execution_count": 37,
   "id": "4c290831",
   "metadata": {
    "collapsed": true
   },
   "outputs": [
    {
     "name": "stdout",
     "output_type": "stream",
     "text": [
      "                            OLS Regression Results                            \n",
      "==============================================================================\n",
      "Dep. Variable:            today_score   R-squared:                       0.016\n",
      "Model:                            OLS   Adj. R-squared:                 -0.006\n",
      "Method:                 Least Squares   F-statistic:                    0.7272\n",
      "Date:                Thu, 24 Nov 2022   Prob (F-statistic):              0.398\n",
      "Time:                        00:43:24   Log-Likelihood:                -96.008\n",
      "No. Observations:                  48   AIC:                             196.0\n",
      "Df Residuals:                      46   BIC:                             199.8\n",
      "Df Model:                           1                                         \n",
      "Covariance Type:            nonrobust                                         \n",
      "==============================================================================\n",
      "                 coef    std err          t      P>|t|      [0.025      0.975]\n",
      "------------------------------------------------------------------------------\n",
      "Intercept      4.7029      1.304      3.607      0.001       2.079       7.327\n",
      "high_temp      0.0566      0.066      0.853      0.398      -0.077       0.190\n",
      "==============================================================================\n",
      "Omnibus:                        3.548   Durbin-Watson:                   1.977\n",
      "Prob(Omnibus):                  0.170   Jarque-Bera (JB):                1.899\n",
      "Skew:                          -0.196   Prob(JB):                        0.387\n",
      "Kurtosis:                       2.108   Cond. No.                         97.4\n",
      "==============================================================================\n",
      "\n",
      "Notes:\n",
      "[1] Standard Errors assume that the covariance matrix of the errors is correctly specified.\n"
     ]
    }
   ],
   "source": [
    "test = ols('today_score ~ high_temp', data = df).fit().summary()\n",
    "print(test)"
   ]
  },
  {
   "cell_type": "markdown",
   "id": "95a7d9a7",
   "metadata": {},
   "source": [
    "### precipitation : 강수량 (mm)\n",
    "* 가설 : 비가 많이 올 수록 오늘의 점수가 낮을 것이다.\n",
    "<br><br/>\n",
    "* <span style=\"color:blue\"> 해석 : 강수량에 따라 오늘 나의 점수 차이가 없다는 귀무가설을 채택 </span>"
   ]
  },
  {
   "cell_type": "code",
   "execution_count": 38,
   "id": "ac09d940",
   "metadata": {},
   "outputs": [
    {
     "name": "stdout",
     "output_type": "stream",
     "text": [
      "                            OLS Regression Results                            \n",
      "==============================================================================\n",
      "Dep. Variable:            today_score   R-squared:                       0.002\n",
      "Model:                            OLS   Adj. R-squared:                 -0.020\n",
      "Method:                 Least Squares   F-statistic:                   0.08441\n",
      "Date:                Thu, 24 Nov 2022   Prob (F-statistic):              0.773\n",
      "Time:                        00:43:36   Log-Likelihood:                -96.340\n",
      "No. Observations:                  48   AIC:                             196.7\n",
      "Df Residuals:                      46   BIC:                             200.4\n",
      "Df Model:                           1                                         \n",
      "Covariance Type:            nonrobust                                         \n",
      "===========================================================================================\n",
      "                              coef    std err          t      P>|t|      [0.025      0.975]\n",
      "-------------------------------------------------------------------------------------------\n",
      "Intercept                   5.8176      0.280     20.773      0.000       5.254       6.381\n",
      "np.log1p(precipitation)    -0.0732      0.252     -0.291      0.773      -0.580       0.434\n",
      "==============================================================================\n",
      "Omnibus:                        2.749   Durbin-Watson:                   1.976\n",
      "Prob(Omnibus):                  0.253   Jarque-Bera (JB):                2.186\n",
      "Skew:                          -0.381   Prob(JB):                        0.335\n",
      "Kurtosis:                       2.285   Cond. No.                         1.41\n",
      "==============================================================================\n",
      "\n",
      "Notes:\n",
      "[1] Standard Errors assume that the covariance matrix of the errors is correctly specified.\n"
     ]
    }
   ],
   "source": [
    "#8 왜도 확인 결과 -2~2 범위에 벗어나서 log를 씌움\n",
    "test = ols('today_score ~  np.log1p(precipitation)', data = df).fit().summary()\n",
    "print(test)"
   ]
  },
  {
   "cell_type": "markdown",
   "id": "5f0ad23e",
   "metadata": {},
   "source": [
    "### 🎉sleep_time : 수면 시간 (기상시간 - 취침 시간)\n",
    "* 가설 : 수면 시간이 많을 수록 오늘 나의 점수가 높다. \n",
    "<br><br/>\n",
    "* <span style=\"color:blue\"> 수정r제곱 기준 설명력 : 0.19(11%) </span>\n",
    "* <span style=\"color:blue\"> 해석 : 수면 시간에 따라 오늘 나의 점수 차이가 없다는 귀무가설을 기각, 1분 더 잘 수록 0.0078점 증가 </span>\n",
    "* <span style=\"color:blue\"> 분석가 의견 : 전체 데이터(0.11) 보다 수면 시간 설명력이 조금 더 높다. </span>\n"
   ]
  },
  {
   "cell_type": "code",
   "execution_count": 39,
   "id": "3ee0a64e",
   "metadata": {},
   "outputs": [
    {
     "name": "stdout",
     "output_type": "stream",
     "text": [
      "                            OLS Regression Results                            \n",
      "==============================================================================\n",
      "Dep. Variable:            today_score   R-squared:                       0.211\n",
      "Model:                            OLS   Adj. R-squared:                  0.194\n",
      "Method:                 Least Squares   F-statistic:                     12.32\n",
      "Date:                Thu, 24 Nov 2022   Prob (F-statistic):            0.00101\n",
      "Time:                        00:44:37   Log-Likelihood:                -90.688\n",
      "No. Observations:                  48   AIC:                             185.4\n",
      "Df Residuals:                      46   BIC:                             189.1\n",
      "Df Model:                           1                                         \n",
      "Covariance Type:            nonrobust                                         \n",
      "==============================================================================\n",
      "                 coef    std err          t      P>|t|      [0.025      0.975]\n",
      "------------------------------------------------------------------------------\n",
      "Intercept      2.5131      0.963      2.609      0.012       0.574       4.452\n",
      "sleep_time     0.0078      0.002      3.510      0.001       0.003       0.012\n",
      "==============================================================================\n",
      "Omnibus:                        2.135   Durbin-Watson:                   1.947\n",
      "Prob(Omnibus):                  0.344   Jarque-Bera (JB):                2.020\n",
      "Skew:                          -0.474   Prob(JB):                        0.364\n",
      "Kurtosis:                       2.665   Cond. No.                     1.76e+03\n",
      "==============================================================================\n",
      "\n",
      "Notes:\n",
      "[1] Standard Errors assume that the covariance matrix of the errors is correctly specified.\n",
      "[2] The condition number is large, 1.76e+03. This might indicate that there are\n",
      "strong multicollinearity or other numerical problems.\n"
     ]
    }
   ],
   "source": [
    "test = ols('today_score ~ sleep_time', data = df).fit().summary()\n",
    "print(test)"
   ]
  },
  {
   "cell_type": "markdown",
   "id": "91acbd56",
   "metadata": {},
   "source": [
    "### 🎉🎉sleep_score : 수면 점수 (5점 만점)\n",
    "* 가설 : 수면 점수가 높을 수록 오늘 나의 점수가 높다. \n",
    "<br><br/>\n",
    "* <span style=\"color:blue\"> 수정r제곱 기준 설명력 : 0.51(51%) </span>\n",
    "* <span style=\"color:blue\"> 해석 : 수면 시간에 따라 오늘 나의 점수 차이가 없다는 귀무가설을 기각, 1점 더 높을 수록 1.13점 증가 </span>\n",
    "* <span style=\"color:blue\"> 분석가 의견 : 전체 데이터(0.29) 보다 수면 점수 설명력이 더 높다. </span>"
   ]
  },
  {
   "cell_type": "code",
   "execution_count": 40,
   "id": "581df81e",
   "metadata": {},
   "outputs": [
    {
     "name": "stdout",
     "output_type": "stream",
     "text": [
      "                            OLS Regression Results                            \n",
      "==============================================================================\n",
      "Dep. Variable:            today_score   R-squared:                       0.527\n",
      "Model:                            OLS   Adj. R-squared:                  0.517\n",
      "Method:                 Least Squares   F-statistic:                     51.25\n",
      "Date:                Thu, 24 Nov 2022   Prob (F-statistic):           5.27e-09\n",
      "Time:                        00:46:09   Log-Likelihood:                -78.417\n",
      "No. Observations:                  48   AIC:                             160.8\n",
      "Df Residuals:                      46   BIC:                             164.6\n",
      "Df Model:                           1                                         \n",
      "Covariance Type:            nonrobust                                         \n",
      "===============================================================================\n",
      "                  coef    std err          t      P>|t|      [0.025      0.975]\n",
      "-------------------------------------------------------------------------------\n",
      "Intercept       2.5877      0.483      5.353      0.000       1.615       3.561\n",
      "sleep_score     1.1392      0.159      7.159      0.000       0.819       1.460\n",
      "==============================================================================\n",
      "Omnibus:                        3.324   Durbin-Watson:                   1.473\n",
      "Prob(Omnibus):                  0.190   Jarque-Bera (JB):                2.969\n",
      "Skew:                          -0.605   Prob(JB):                        0.227\n",
      "Kurtosis:                       2.857   Cond. No.                         8.79\n",
      "==============================================================================\n",
      "\n",
      "Notes:\n",
      "[1] Standard Errors assume that the covariance matrix of the errors is correctly specified.\n"
     ]
    }
   ],
   "source": [
    "test = ols('today_score ~ sleep_score', data = df).fit().summary()\n",
    "print(test)"
   ]
  },
  {
   "cell_type": "markdown",
   "id": "556369b5",
   "metadata": {},
   "source": [
    "### yesterday_exercise_time : 전일 운동 시간 (분)\n",
    "* 가설 : 전일 운동시간이 많을 수록 오늘 나의 점수가 높다. \n",
    "<br><br/>\n",
    "* 해석 : 전일 운동 시간에 따라 오늘 나의 점수 차이가 없다는 귀무가설을 채택"
   ]
  },
  {
   "cell_type": "code",
   "execution_count": 41,
   "id": "d77c2506",
   "metadata": {
    "collapsed": true
   },
   "outputs": [
    {
     "name": "stdout",
     "output_type": "stream",
     "text": [
      "                            OLS Regression Results                            \n",
      "==============================================================================\n",
      "Dep. Variable:            today_score   R-squared:                       0.000\n",
      "Model:                            OLS   Adj. R-squared:                 -0.022\n",
      "Method:                 Least Squares   F-statistic:                 0.0002588\n",
      "Date:                Thu, 24 Nov 2022   Prob (F-statistic):              0.987\n",
      "Time:                        00:47:28   Log-Likelihood:                -96.384\n",
      "No. Observations:                  48   AIC:                             196.8\n",
      "Df Residuals:                      46   BIC:                             200.5\n",
      "Df Model:                           1                                         \n",
      "Covariance Type:            nonrobust                                         \n",
      "===========================================================================================\n",
      "                              coef    std err          t      P>|t|      [0.025      0.975]\n",
      "-------------------------------------------------------------------------------------------\n",
      "Intercept                   5.7895      0.299     19.385      0.000       5.188       6.391\n",
      "yesterday_exercise_time     0.0002      0.011      0.016      0.987      -0.022       0.022\n",
      "==============================================================================\n",
      "Omnibus:                        2.653   Durbin-Watson:                   1.976\n",
      "Prob(Omnibus):                  0.265   Jarque-Bera (JB):                2.114\n",
      "Skew:                          -0.371   Prob(JB):                        0.348\n",
      "Kurtosis:                       2.288   Cond. No.                         30.8\n",
      "==============================================================================\n",
      "\n",
      "Notes:\n",
      "[1] Standard Errors assume that the covariance matrix of the errors is correctly specified.\n"
     ]
    }
   ],
   "source": [
    "test = ols('today_score ~ yesterday_exercise_time', data = df).fit().summary()\n",
    "print(test)"
   ]
  },
  {
   "cell_type": "markdown",
   "id": "9dce033b",
   "metadata": {},
   "source": [
    "### yesterday_step_cnt : 전날 걸음 수\n",
    "* 가설 : 전날 걸음 수가 많을 수록 오늘 나의 점수가 낮다. \n",
    "<br><br/>\n",
    "* <span style=\"color:blue\"> 해석 : 전날 걸음 수에 따라 오늘 나의 점수 차이가 없다는 귀무가설을 채택 </span>"
   ]
  },
  {
   "cell_type": "code",
   "execution_count": 42,
   "id": "79199a58",
   "metadata": {},
   "outputs": [
    {
     "name": "stdout",
     "output_type": "stream",
     "text": [
      "                            OLS Regression Results                            \n",
      "==============================================================================\n",
      "Dep. Variable:            today_score   R-squared:                       0.050\n",
      "Model:                            OLS   Adj. R-squared:                  0.029\n",
      "Method:                 Least Squares   F-statistic:                     2.411\n",
      "Date:                Thu, 24 Nov 2022   Prob (F-statistic):              0.127\n",
      "Time:                        00:47:45   Log-Likelihood:                -95.158\n",
      "No. Observations:                  48   AIC:                             194.3\n",
      "Df Residuals:                      46   BIC:                             198.1\n",
      "Df Model:                           1                                         \n",
      "Covariance Type:            nonrobust                                         \n",
      "======================================================================================\n",
      "                         coef    std err          t      P>|t|      [0.025      0.975]\n",
      "--------------------------------------------------------------------------------------\n",
      "Intercept              5.1109      0.509     10.036      0.000       4.086       6.136\n",
      "yesterday_step_cnt     0.0001   8.19e-05      1.553      0.127   -3.77e-05       0.000\n",
      "==============================================================================\n",
      "Omnibus:                        3.810   Durbin-Watson:                   2.027\n",
      "Prob(Omnibus):                  0.149   Jarque-Bera (JB):                2.797\n",
      "Skew:                          -0.440   Prob(JB):                        0.247\n",
      "Kurtosis:                       2.210   Cond. No.                     1.22e+04\n",
      "==============================================================================\n",
      "\n",
      "Notes:\n",
      "[1] Standard Errors assume that the covariance matrix of the errors is correctly specified.\n",
      "[2] The condition number is large, 1.22e+04. This might indicate that there are\n",
      "strong multicollinearity or other numerical problems.\n"
     ]
    }
   ],
   "source": [
    "test = ols('today_score ~ yesterday_step_cnt', data = df).fit().summary()\n",
    "print(test)"
   ]
  },
  {
   "cell_type": "markdown",
   "id": "68493638",
   "metadata": {},
   "source": [
    "### 🎉yesterday_satisfaction : 전날 만족도 (5점 만점)\n",
    "* 가설 : 전날 만족도가 높을 수록 오늘 나의 점수가 높다. \n",
    "<br><br/>\n",
    "* <span style=\"color:blue\"> 수정r제곱 기준 설명력 : 0.07(7%) </span>\n",
    "* <span style=\"color:blue\"> 해석 : 전날 만족도에 따라 오늘 나의 점수 차이가 없다는 귀무가설을 기각, 1점 더 높을 수록 0.61점 증가 </span>\n",
    "* <span style=\"color:blue\"> 분석가 의견 : 전체 데이터(0.15) 보다 전날 만족도 설명력이 조금 더 낮다. </span>"
   ]
  },
  {
   "cell_type": "code",
   "execution_count": 43,
   "id": "33a2f973",
   "metadata": {},
   "outputs": [
    {
     "name": "stdout",
     "output_type": "stream",
     "text": [
      "                            OLS Regression Results                            \n",
      "==============================================================================\n",
      "Dep. Variable:            today_score   R-squared:                       0.090\n",
      "Model:                            OLS   Adj. R-squared:                  0.070\n",
      "Method:                 Least Squares   F-statistic:                     4.555\n",
      "Date:                Thu, 24 Nov 2022   Prob (F-statistic):             0.0382\n",
      "Time:                        00:48:34   Log-Likelihood:                -94.118\n",
      "No. Observations:                  48   AIC:                             192.2\n",
      "Df Residuals:                      46   BIC:                             196.0\n",
      "Df Model:                           1                                         \n",
      "Covariance Type:            nonrobust                                         \n",
      "==========================================================================================\n",
      "                             coef    std err          t      P>|t|      [0.025      0.975]\n",
      "------------------------------------------------------------------------------------------\n",
      "Intercept                  3.9555      0.897      4.410      0.000       2.150       5.761\n",
      "yesterday_satisfaction     0.6163      0.289      2.134      0.038       0.035       1.198\n",
      "==============================================================================\n",
      "Omnibus:                        3.098   Durbin-Watson:                   1.994\n",
      "Prob(Omnibus):                  0.213   Jarque-Bera (JB):                1.921\n",
      "Skew:                          -0.257   Prob(JB):                        0.383\n",
      "Kurtosis:                       2.165   Cond. No.                         12.0\n",
      "==============================================================================\n",
      "\n",
      "Notes:\n",
      "[1] Standard Errors assume that the covariance matrix of the errors is correctly specified.\n"
     ]
    }
   ],
   "source": [
    "test = ols('today_score ~ yesterday_satisfaction', data = df).fit().summary()\n",
    "print(test)"
   ]
  },
  {
   "cell_type": "markdown",
   "id": "509639fe",
   "metadata": {},
   "source": [
    "# 다중 공선성 확인\n",
    "* 다중 공선성은 독립변수들간의 상관정도가 높은 상태를 의미\n",
    "* 다중 공선성을 고려하지 않고 회귀분석을 수행한 후 결과를 해석하면 변수의 중요성을 설명할 때 잘못된 결론을 내릴 수 있다. \n",
    "* vif(분산팽창계수)방식을 사용하여 팽창계수가 15이상인 것을 골라내려고 한다."
   ]
  },
  {
   "cell_type": "code",
   "execution_count": 44,
   "id": "57fcadcb",
   "metadata": {},
   "outputs": [
    {
     "data": {
      "text/html": [
       "<div>\n",
       "<style scoped>\n",
       "    .dataframe tbody tr th:only-of-type {\n",
       "        vertical-align: middle;\n",
       "    }\n",
       "\n",
       "    .dataframe tbody tr th {\n",
       "        vertical-align: top;\n",
       "    }\n",
       "\n",
       "    .dataframe thead th {\n",
       "        text-align: right;\n",
       "    }\n",
       "</style>\n",
       "<table border=\"1\" class=\"dataframe\">\n",
       "  <thead>\n",
       "    <tr style=\"text-align: right;\">\n",
       "      <th></th>\n",
       "      <th>VIF_Factor</th>\n",
       "      <th>Feature</th>\n",
       "    </tr>\n",
       "  </thead>\n",
       "  <tbody>\n",
       "    <tr>\n",
       "      <th>0</th>\n",
       "      <td>1163.243899</td>\n",
       "      <td>avg_temp</td>\n",
       "    </tr>\n",
       "    <tr>\n",
       "      <th>1</th>\n",
       "      <td>535.439978</td>\n",
       "      <td>high_temp</td>\n",
       "    </tr>\n",
       "    <tr>\n",
       "      <th>2</th>\n",
       "      <td>166.960701</td>\n",
       "      <td>low_temp</td>\n",
       "    </tr>\n",
       "    <tr>\n",
       "      <th>5</th>\n",
       "      <td>21.509849</td>\n",
       "      <td>sleep_time</td>\n",
       "    </tr>\n",
       "    <tr>\n",
       "      <th>7</th>\n",
       "      <td>17.710552</td>\n",
       "      <td>yesterday_satisfaction</td>\n",
       "    </tr>\n",
       "    <tr>\n",
       "      <th>4</th>\n",
       "      <td>12.666679</td>\n",
       "      <td>sleep_score</td>\n",
       "    </tr>\n",
       "    <tr>\n",
       "      <th>8</th>\n",
       "      <td>6.104410</td>\n",
       "      <td>yesterday_step_cnt</td>\n",
       "    </tr>\n",
       "    <tr>\n",
       "      <th>3</th>\n",
       "      <td>1.852979</td>\n",
       "      <td>precipitation</td>\n",
       "    </tr>\n",
       "    <tr>\n",
       "      <th>6</th>\n",
       "      <td>1.670012</td>\n",
       "      <td>yesterday_exercise_time</td>\n",
       "    </tr>\n",
       "  </tbody>\n",
       "</table>\n",
       "</div>"
      ],
      "text/plain": [
       "    VIF_Factor                  Feature\n",
       "0  1163.243899                 avg_temp\n",
       "1   535.439978                high_temp\n",
       "2   166.960701                 low_temp\n",
       "5    21.509849               sleep_time\n",
       "7    17.710552   yesterday_satisfaction\n",
       "4    12.666679              sleep_score\n",
       "8     6.104410       yesterday_step_cnt\n",
       "3     1.852979            precipitation\n",
       "6     1.670012  yesterday_exercise_time"
      ]
     },
     "execution_count": 44,
     "metadata": {},
     "output_type": "execute_result"
    }
   ],
   "source": [
    "vif_scaled_test_df = df[['avg_temp', 'high_temp', 'low_temp', 'precipitation',\n",
    "       'sleep_score', 'sleep_time', 'yesterday_exercise_time',\n",
    "       'yesterday_satisfaction', 'yesterday_step_cnt']]\n",
    "\n",
    "# extract effective features using variance inflation factor\n",
    "vif = pd.DataFrame()\n",
    "df_test = vif_scaled_test_df   # 여기에 다중공선성 볼 테이블을 넣어주세요\n",
    "# variance_inflation_factor(X, i) : Xi를 x나머지로 회귀분석한 후 VIF값을 구한것. 즉 xi의 vif값. 즉 이값이 높을수록 종속성이 높다는 뜻\n",
    "vif['VIF_Factor'] = [variance_inflation_factor(df_test.values, i)\n",
    "                     for i in range(df_test.shape[1])]\n",
    "vif['Feature'] = df_test.columns\n",
    "vif.sort_values(by='VIF_Factor', ascending=False)"
   ]
  },
  {
   "cell_type": "markdown",
   "id": "3e9b8c49",
   "metadata": {},
   "source": [
    "* 결과: avg_temp, high_temp, low_temp 중에 1개 변수만 사용하기/ <span style=\"color:blue\"> sleep_score와 sleep_time중 1개 변수 만 사용 </span>"
   ]
  },
  {
   "cell_type": "code",
   "execution_count": 47,
   "id": "877ea4ac",
   "metadata": {},
   "outputs": [
    {
     "data": {
      "text/html": [
       "<div>\n",
       "<style scoped>\n",
       "    .dataframe tbody tr th:only-of-type {\n",
       "        vertical-align: middle;\n",
       "    }\n",
       "\n",
       "    .dataframe tbody tr th {\n",
       "        vertical-align: top;\n",
       "    }\n",
       "\n",
       "    .dataframe thead th {\n",
       "        text-align: right;\n",
       "    }\n",
       "</style>\n",
       "<table border=\"1\" class=\"dataframe\">\n",
       "  <thead>\n",
       "    <tr style=\"text-align: right;\">\n",
       "      <th></th>\n",
       "      <th>VIF_Factor</th>\n",
       "      <th>Feature</th>\n",
       "    </tr>\n",
       "  </thead>\n",
       "  <tbody>\n",
       "    <tr>\n",
       "      <th>4</th>\n",
       "      <td>14.605346</td>\n",
       "      <td>yesterday_satisfaction</td>\n",
       "    </tr>\n",
       "    <tr>\n",
       "      <th>0</th>\n",
       "      <td>9.618161</td>\n",
       "      <td>avg_temp</td>\n",
       "    </tr>\n",
       "    <tr>\n",
       "      <th>2</th>\n",
       "      <td>7.855510</td>\n",
       "      <td>sleep_score</td>\n",
       "    </tr>\n",
       "    <tr>\n",
       "      <th>5</th>\n",
       "      <td>4.323516</td>\n",
       "      <td>yesterday_step_cnt</td>\n",
       "    </tr>\n",
       "    <tr>\n",
       "      <th>3</th>\n",
       "      <td>1.534014</td>\n",
       "      <td>yesterday_exercise_time</td>\n",
       "    </tr>\n",
       "    <tr>\n",
       "      <th>1</th>\n",
       "      <td>1.450553</td>\n",
       "      <td>precipitation</td>\n",
       "    </tr>\n",
       "  </tbody>\n",
       "</table>\n",
       "</div>"
      ],
      "text/plain": [
       "   VIF_Factor                  Feature\n",
       "4   14.605346   yesterday_satisfaction\n",
       "0    9.618161                 avg_temp\n",
       "2    7.855510              sleep_score\n",
       "5    4.323516       yesterday_step_cnt\n",
       "3    1.534014  yesterday_exercise_time\n",
       "1    1.450553            precipitation"
      ]
     },
     "execution_count": 47,
     "metadata": {},
     "output_type": "execute_result"
    }
   ],
   "source": [
    "#1번 : avg_temp사용, sleep_time 제외\n",
    "vif_scaled_test_df = df[['avg_temp', 'precipitation',\n",
    "       'sleep_score', 'yesterday_exercise_time',\n",
    "       'yesterday_satisfaction', 'yesterday_step_cnt']]\n",
    "\n",
    "# extract effective features using variance inflation factor\n",
    "vif = pd.DataFrame()\n",
    "df_test = vif_scaled_test_df   # 여기에 다중공선성 볼 테이블을 넣어주세요\n",
    "# variance_inflation_factor(X, i) : Xi를 x나머지로 회귀분석한 후 VIF값을 구한것. 즉 xi의 vif값. 즉 이값이 높을수록 종속성이 높다는 뜻\n",
    "vif['VIF_Factor'] = [variance_inflation_factor(df_test.values, i)\n",
    "                     for i in range(df_test.shape[1])]\n",
    "vif['Feature'] = df_test.columns\n",
    "vif.sort_values(by='VIF_Factor', ascending=False)"
   ]
  },
  {
   "cell_type": "code",
   "execution_count": 50,
   "id": "e104402a",
   "metadata": {},
   "outputs": [
    {
     "data": {
      "text/html": [
       "<div>\n",
       "<style scoped>\n",
       "    .dataframe tbody tr th:only-of-type {\n",
       "        vertical-align: middle;\n",
       "    }\n",
       "\n",
       "    .dataframe tbody tr th {\n",
       "        vertical-align: top;\n",
       "    }\n",
       "\n",
       "    .dataframe thead th {\n",
       "        text-align: right;\n",
       "    }\n",
       "</style>\n",
       "<table border=\"1\" class=\"dataframe\">\n",
       "  <thead>\n",
       "    <tr style=\"text-align: right;\">\n",
       "      <th></th>\n",
       "      <th>VIF_Factor</th>\n",
       "      <th>Feature</th>\n",
       "    </tr>\n",
       "  </thead>\n",
       "  <tbody>\n",
       "    <tr>\n",
       "      <th>4</th>\n",
       "      <td>14.133432</td>\n",
       "      <td>sleep_time</td>\n",
       "    </tr>\n",
       "    <tr>\n",
       "      <th>3</th>\n",
       "      <td>13.071936</td>\n",
       "      <td>yesterday_satisfaction</td>\n",
       "    </tr>\n",
       "    <tr>\n",
       "      <th>0</th>\n",
       "      <td>10.468484</td>\n",
       "      <td>avg_temp</td>\n",
       "    </tr>\n",
       "    <tr>\n",
       "      <th>5</th>\n",
       "      <td>4.907168</td>\n",
       "      <td>yesterday_step_cnt</td>\n",
       "    </tr>\n",
       "    <tr>\n",
       "      <th>1</th>\n",
       "      <td>1.630065</td>\n",
       "      <td>precipitation</td>\n",
       "    </tr>\n",
       "    <tr>\n",
       "      <th>2</th>\n",
       "      <td>1.505335</td>\n",
       "      <td>yesterday_exercise_time</td>\n",
       "    </tr>\n",
       "  </tbody>\n",
       "</table>\n",
       "</div>"
      ],
      "text/plain": [
       "   VIF_Factor                  Feature\n",
       "4   14.133432               sleep_time\n",
       "3   13.071936   yesterday_satisfaction\n",
       "0   10.468484                 avg_temp\n",
       "5    4.907168       yesterday_step_cnt\n",
       "1    1.630065            precipitation\n",
       "2    1.505335  yesterday_exercise_time"
      ]
     },
     "execution_count": 50,
     "metadata": {},
     "output_type": "execute_result"
    }
   ],
   "source": [
    "#1번 : avg_temp사용, sleep_score 제외\n",
    "vif_scaled_test_df = df[['avg_temp', 'precipitation',\n",
    "        'yesterday_exercise_time','yesterday_satisfaction',\n",
    "       'sleep_time', 'yesterday_step_cnt']]\n",
    "\n",
    "# extract effective features using variance inflation factor\n",
    "vif = pd.DataFrame()\n",
    "df_test = vif_scaled_test_df   # 여기에 다중공선성 볼 테이블을 넣어주세요\n",
    "# variance_inflation_factor(X, i) : Xi를 x나머지로 회귀분석한 후 VIF값을 구한것. 즉 xi의 vif값. 즉 이값이 높을수록 종속성이 높다는 뜻\n",
    "vif['VIF_Factor'] = [variance_inflation_factor(df_test.values, i)\n",
    "                     for i in range(df_test.shape[1])]\n",
    "vif['Feature'] = df_test.columns\n",
    "vif.sort_values(by='VIF_Factor', ascending=False)"
   ]
  },
  {
   "cell_type": "markdown",
   "id": "3a5d439b",
   "metadata": {},
   "source": [
    "# 다중 회귀 분석\n",
    "* 조건 1 : 다중 공선성 확인 결과 avg_temp, high_temp, low_temp 중에 1개 변수만 사용하기\n",
    "* <span style=\"color:blue\"> 조건 2: sleep_score와 sleep_time중 1개 변수 만 사용</span>\n",
    "* 조건 3 : 파생 변수와 원래 변수 중에 1개만 사용 하기 \n",
    "    * (1) dayofweek, dayofweek_check\n",
    "    * (2) precipitation, precipitation_check\n",
    "    * (3) getup_range, getup_early\n",
    "    * (4) gotobed_range, gotobed_late"
   ]
  },
  {
   "cell_type": "markdown",
   "id": "241469a0",
   "metadata": {},
   "source": [
    "## 유의미한 변수만 진행"
   ]
  },
  {
   "cell_type": "markdown",
   "id": "54b23f3e",
   "metadata": {},
   "source": [
    "### 1번 sleep_time 사용\n",
    "* 독립변수 : C(period)+C(gotobed_range)+C(getup_range)+sleep_time+yesterday_satisfaction"
   ]
  },
  {
   "cell_type": "code",
   "execution_count": 53,
   "id": "59e4249b",
   "metadata": {},
   "outputs": [
    {
     "name": "stdout",
     "output_type": "stream",
     "text": [
      "                            OLS Regression Results                            \n",
      "==============================================================================\n",
      "Dep. Variable:            today_score   R-squared:                       0.610\n",
      "Model:                            OLS   Adj. R-squared:                  0.428\n",
      "Method:                 Least Squares   F-statistic:                     3.342\n",
      "Date:                Thu, 24 Nov 2022   Prob (F-statistic):            0.00203\n",
      "Time:                        00:59:59   Log-Likelihood:                -73.762\n",
      "No. Observations:                  48   AIC:                             179.5\n",
      "Df Residuals:                      32   BIC:                             209.5\n",
      "Df Model:                          15                                         \n",
      "Covariance Type:            nonrobust                                         \n",
      "============================================================================================\n",
      "                               coef    std err          t      P>|t|      [0.025      0.975]\n",
      "--------------------------------------------------------------------------------------------\n",
      "Intercept                    2.1076      2.587      0.815      0.421      -3.162       7.377\n",
      "C(period)[T.1]               0.6097      0.911      0.669      0.508      -1.246       2.465\n",
      "C(gotobed_range)[T.01시대]    -0.5596      0.758     -0.738      0.466      -2.104       0.985\n",
      "C(gotobed_range)[T.02시대]    -1.0472      1.126     -0.930      0.359      -3.341       1.247\n",
      "C(gotobed_range)[T.03시대]    -3.0757      1.594     -1.929      0.063      -6.323       0.172\n",
      "C(gotobed_range)[T.20시대]     2.9160      1.329      2.194      0.036       0.209       5.623\n",
      "C(gotobed_range)[T.21시대]    -4.0740      1.923     -2.119      0.042      -7.991      -0.158\n",
      "C(gotobed_range)[T.22시대]    -0.5886      1.260     -0.467      0.644      -3.155       1.978\n",
      "C(gotobed_range)[T.23시대]    -0.1730      1.311     -0.132      0.896      -2.843       2.497\n",
      "C(getup_range)[T.05시대]      -2.6593      1.435     -1.853      0.073      -5.582       0.264\n",
      "C(getup_range)[T.06시대]       0.8118      0.509      1.596      0.120      -0.224       1.848\n",
      "C(getup_range)[T.07시대]       0.7214      0.520      1.388      0.175      -0.337       1.780\n",
      "C(getup_range)[T.08시대]       0.4054      0.920      0.440      0.663      -1.469       2.280\n",
      "C(getup_range)[T.09시대]       0.3098      1.298      0.239      0.813      -2.334       2.954\n",
      "C(getup_range)[T.10시대]      -0.3976      1.632     -0.244      0.809      -3.722       2.927\n",
      "sleep_time                   0.0050      0.006      0.786      0.437      -0.008       0.018\n",
      "yesterday_satisfaction       0.5319      0.267      1.990      0.055      -0.012       1.076\n",
      "==============================================================================\n",
      "Omnibus:                        2.418   Durbin-Watson:                   1.853\n",
      "Prob(Omnibus):                  0.298   Jarque-Bera (JB):                2.258\n",
      "Skew:                          -0.510   Prob(JB):                        0.323\n",
      "Kurtosis:                       2.701   Cond. No.                     3.97e+18\n",
      "==============================================================================\n",
      "\n",
      "Notes:\n",
      "[1] Standard Errors assume that the covariance matrix of the errors is correctly specified.\n",
      "[2] The smallest eigenvalue is 5.65e-31. This might indicate that there are\n",
      "strong multicollinearity problems or that the design matrix is singular.\n"
     ]
    }
   ],
   "source": [
    "test = ols('today_score ~ C(period)+C(gotobed_range)+C(getup_range)+sleep_time+yesterday_satisfaction', data = df).fit().summary()\n",
    "print(test)"
   ]
  },
  {
   "cell_type": "markdown",
   "id": "5dc49c27",
   "metadata": {},
   "source": [
    "### 2번 : 1번에서 gotobed_range대신 gotobed_late 사용\n",
    "* 독립변수 : C(period)+C(gotobed_late)+C(getup_range)+sleep_time+sleep_score+yesterday_satisfaction"
   ]
  },
  {
   "cell_type": "code",
   "execution_count": 54,
   "id": "179de347",
   "metadata": {},
   "outputs": [
    {
     "name": "stdout",
     "output_type": "stream",
     "text": [
      "                            OLS Regression Results                            \n",
      "==============================================================================\n",
      "Dep. Variable:            today_score   R-squared:                       0.641\n",
      "Model:                            OLS   Adj. R-squared:                  0.531\n",
      "Method:                 Least Squares   F-statistic:                     5.845\n",
      "Date:                Thu, 24 Nov 2022   Prob (F-statistic):           2.43e-05\n",
      "Time:                        01:00:21   Log-Likelihood:                -71.794\n",
      "No. Observations:                  48   AIC:                             167.6\n",
      "Df Residuals:                      36   BIC:                             190.0\n",
      "Df Model:                          11                                         \n",
      "Covariance Type:            nonrobust                                         \n",
      "==========================================================================================\n",
      "                             coef    std err          t      P>|t|      [0.025      0.975]\n",
      "------------------------------------------------------------------------------------------\n",
      "Intercept                  4.3531      1.842      2.364      0.024       0.618       8.088\n",
      "C(period)[T.1]             0.3023      0.689      0.439      0.663      -1.095       1.699\n",
      "C(gotobed_late)[T.1]      -1.2178      0.611     -1.992      0.054      -2.458       0.022\n",
      "C(getup_range)[T.05시대]    -3.4220      1.918     -1.784      0.083      -7.312       0.468\n",
      "C(getup_range)[T.06시대]    -0.8573      1.368     -0.627      0.535      -3.632       1.918\n",
      "C(getup_range)[T.07시대]    -1.1052      1.348     -0.820      0.418      -3.839       1.629\n",
      "C(getup_range)[T.08시대]    -0.9011      1.489     -0.605      0.549      -3.921       2.119\n",
      "C(getup_range)[T.09시대]    -1.2143      1.512     -0.803      0.427      -4.282       1.853\n",
      "C(getup_range)[T.10시대]    -1.2776      1.700     -0.751      0.457      -4.726       2.170\n",
      "sleep_time                 0.0005      0.003      0.172      0.864      -0.005       0.006\n",
      "sleep_score                0.8655      0.210      4.126      0.000       0.440       1.291\n",
      "yesterday_satisfaction     0.0310      0.241      0.129      0.898      -0.457       0.519\n",
      "==============================================================================\n",
      "Omnibus:                        1.356   Durbin-Watson:                   1.912\n",
      "Prob(Omnibus):                  0.508   Jarque-Bera (JB):                1.314\n",
      "Skew:                          -0.373   Prob(JB):                        0.518\n",
      "Kurtosis:                       2.681   Cond. No.                     8.79e+03\n",
      "==============================================================================\n",
      "\n",
      "Notes:\n",
      "[1] Standard Errors assume that the covariance matrix of the errors is correctly specified.\n",
      "[2] The condition number is large, 8.79e+03. This might indicate that there are\n",
      "strong multicollinearity or other numerical problems.\n"
     ]
    }
   ],
   "source": [
    "test = ols('today_score ~ C(period)+C(gotobed_late)+C(getup_range)+sleep_time+sleep_score+yesterday_satisfaction', data = df).fit().summary()\n",
    "print(test)"
   ]
  },
  {
   "cell_type": "markdown",
   "id": "46edfb12",
   "metadata": {},
   "source": [
    "### 3번 : sleep_scor 사용\n",
    "* 독립변수 : C(period)+C(gotobed_range)+C(getup_range)+sleep_score+yesterday_satisfaction"
   ]
  },
  {
   "cell_type": "code",
   "execution_count": 55,
   "id": "15fb0c28",
   "metadata": {},
   "outputs": [
    {
     "name": "stdout",
     "output_type": "stream",
     "text": [
      "                            OLS Regression Results                            \n",
      "==============================================================================\n",
      "Dep. Variable:            today_score   R-squared:                       0.743\n",
      "Model:                            OLS   Adj. R-squared:                  0.623\n",
      "Method:                 Least Squares   F-statistic:                     6.170\n",
      "Date:                Thu, 24 Nov 2022   Prob (F-statistic):           8.22e-06\n",
      "Time:                        01:00:51   Log-Likelihood:                -63.768\n",
      "No. Observations:                  48   AIC:                             159.5\n",
      "Df Residuals:                      32   BIC:                             189.5\n",
      "Df Model:                          15                                         \n",
      "Covariance Type:            nonrobust                                         \n",
      "============================================================================================\n",
      "                               coef    std err          t      P>|t|      [0.025      0.975]\n",
      "--------------------------------------------------------------------------------------------\n",
      "Intercept                    2.5045      0.681      3.677      0.001       1.117       3.892\n",
      "C(period)[T.1]               0.5064      0.735      0.689      0.496      -0.990       2.003\n",
      "C(gotobed_range)[T.01시대]     0.0774      0.530      0.146      0.885      -1.002       1.157\n",
      "C(gotobed_range)[T.02시대]    -0.7464      0.630     -1.185      0.245      -2.029       0.536\n",
      "C(gotobed_range)[T.03시대]    -2.6897      0.877     -3.066      0.004      -4.477      -0.903\n",
      "C(gotobed_range)[T.20시대]     1.6417      1.099      1.495      0.145      -0.596       3.879\n",
      "C(gotobed_range)[T.21시대]    -2.9623      1.349     -2.196      0.035      -5.710      -0.215\n",
      "C(gotobed_range)[T.22시대]    -0.1077      0.727     -0.148      0.883      -1.589       1.373\n",
      "C(gotobed_range)[T.23시대]     0.7794      0.881      0.885      0.383      -1.015       2.574\n",
      "C(getup_range)[T.05시대]      -1.7443      1.078     -1.619      0.115      -3.939       0.451\n",
      "C(getup_range)[T.06시대]       0.5776      0.412      1.402      0.171      -0.262       1.417\n",
      "C(getup_range)[T.07시대]       0.5688      0.402      1.415      0.167      -0.250       1.388\n",
      "C(getup_range)[T.08시대]       0.6701      0.683      0.982      0.334      -0.720       2.061\n",
      "C(getup_range)[T.09시대]       0.5558      0.686      0.810      0.424      -0.843       1.954\n",
      "C(getup_range)[T.10시대]       0.2348      0.800      0.294      0.771      -1.394       1.864\n",
      "sleep_score                  0.8555      0.205      4.179      0.000       0.439       1.272\n",
      "yesterday_satisfaction       0.1922      0.232      0.829      0.413      -0.280       0.664\n",
      "==============================================================================\n",
      "Omnibus:                        0.431   Durbin-Watson:                   1.713\n",
      "Prob(Omnibus):                  0.806   Jarque-Bera (JB):                0.400\n",
      "Skew:                          -0.205   Prob(JB):                        0.819\n",
      "Kurtosis:                       2.822   Cond. No.                     3.75e+16\n",
      "==============================================================================\n",
      "\n",
      "Notes:\n",
      "[1] Standard Errors assume that the covariance matrix of the errors is correctly specified.\n",
      "[2] The smallest eigenvalue is 6.68e-31. This might indicate that there are\n",
      "strong multicollinearity problems or that the design matrix is singular.\n"
     ]
    }
   ],
   "source": [
    "test = ols('today_score ~ C(period)+C(gotobed_range)+C(getup_range)+sleep_score+yesterday_satisfaction', data = df).fit().summary()\n",
    "print(test)"
   ]
  },
  {
   "cell_type": "markdown",
   "id": "70a396bb",
   "metadata": {},
   "source": [
    "### 4번 : 3번에서 gotobed_range대신 gotobed_late 사용\n",
    "* 독립변수 : C(period)+C(gotobed_late)+C(getup_range)+sleep_score+yesterday_satisfaction"
   ]
  },
  {
   "cell_type": "code",
   "execution_count": 56,
   "id": "7259614c",
   "metadata": {},
   "outputs": [
    {
     "name": "stdout",
     "output_type": "stream",
     "text": [
      "                            OLS Regression Results                            \n",
      "==============================================================================\n",
      "Dep. Variable:            today_score   R-squared:                       0.641\n",
      "Model:                            OLS   Adj. R-squared:                  0.544\n",
      "Method:                 Least Squares   F-statistic:                     6.600\n",
      "Date:                Thu, 24 Nov 2022   Prob (F-statistic):           9.09e-06\n",
      "Time:                        01:01:08   Log-Likelihood:                -71.814\n",
      "No. Observations:                  48   AIC:                             165.6\n",
      "Df Residuals:                      37   BIC:                             186.2\n",
      "Df Model:                          10                                         \n",
      "Covariance Type:            nonrobust                                         \n",
      "==========================================================================================\n",
      "                             coef    std err          t      P>|t|      [0.025      0.975]\n",
      "------------------------------------------------------------------------------------------\n",
      "Intercept                  4.5085      1.585      2.845      0.007       1.297       7.720\n",
      "C(period)[T.1]             0.3066      0.679      0.451      0.654      -1.070       1.683\n",
      "C(gotobed_late)[T.1]      -1.2806      0.484     -2.644      0.012      -2.262      -0.299\n",
      "C(getup_range)[T.05시대]    -3.4506      1.885     -1.830      0.075      -7.271       0.370\n",
      "C(getup_range)[T.06시대]    -0.8718      1.348     -0.647      0.522      -3.603       1.859\n",
      "C(getup_range)[T.07시대]    -1.0874      1.326     -0.820      0.418      -3.775       1.600\n",
      "C(getup_range)[T.08시대]    -0.8779      1.463     -0.600      0.552      -3.843       2.087\n",
      "C(getup_range)[T.09시대]    -1.1688      1.470     -0.795      0.431      -4.146       1.809\n",
      "C(getup_range)[T.10시대]    -1.1898      1.601     -0.743      0.462      -4.433       2.054\n",
      "sleep_score                0.8795      0.191      4.607      0.000       0.493       1.266\n",
      "yesterday_satisfaction     0.0313      0.237      0.132      0.896      -0.450       0.512\n",
      "==============================================================================\n",
      "Omnibus:                        1.323   Durbin-Watson:                   1.912\n",
      "Prob(Omnibus):                  0.516   Jarque-Bera (JB):                1.322\n",
      "Skew:                          -0.358   Prob(JB):                        0.516\n",
      "Kurtosis:                       2.615   Cond. No.                         90.0\n",
      "==============================================================================\n",
      "\n",
      "Notes:\n",
      "[1] Standard Errors assume that the covariance matrix of the errors is correctly specified.\n"
     ]
    }
   ],
   "source": [
    "test = ols('today_score ~ C(period)+C(gotobed_late)+C(getup_range)+sleep_score+yesterday_satisfaction', data = df).fit().summary()\n",
    "print(test)"
   ]
  },
  {
   "cell_type": "markdown",
   "id": "5cb1342c",
   "metadata": {},
   "source": [
    "## 최종 회귀식\n",
    "* <span style=\"color:blue\"> 수정 r제곱 :57.9% </span>\n",
    "* <span style=\"color:blue\"> 독립변수 :C(gotobed_late)+sleep_score </span>\n",
    "* <span style=\"color:blue\"> 해석 : 치타가 오늘 나의 점수를 높게 시작하기 위해서는 잠이 제일 중요하다. 오전 2시 이전(2시 포함X)에 자야하고, 누가 업어가도 모를 정도로 푹 잘 자야한다. 다른 변수는 큰 영향이 없다. </span>"
   ]
  },
  {
   "cell_type": "code",
   "execution_count": 95,
   "id": "369619f1",
   "metadata": {},
   "outputs": [
    {
     "name": "stdout",
     "output_type": "stream",
     "text": [
      "                            OLS Regression Results                            \n",
      "==============================================================================\n",
      "Dep. Variable:            today_score   R-squared:                       0.597\n",
      "Model:                            OLS   Adj. R-squared:                  0.579\n",
      "Method:                 Least Squares   F-statistic:                     33.32\n",
      "Date:                Thu, 24 Nov 2022   Prob (F-statistic):           1.32e-09\n",
      "Time:                        01:35:28   Log-Likelihood:                -74.575\n",
      "No. Observations:                  48   AIC:                             155.2\n",
      "Df Residuals:                      45   BIC:                             160.8\n",
      "Df Model:                           2                                         \n",
      "Covariance Type:            nonrobust                                         \n",
      "========================================================================================\n",
      "                           coef    std err          t      P>|t|      [0.025      0.975]\n",
      "----------------------------------------------------------------------------------------\n",
      "Intercept                3.1740      0.498      6.379      0.000       2.172       4.176\n",
      "C(gotobed_late)[T.1]    -1.2205      0.437     -2.795      0.008      -2.100      -0.341\n",
      "sleep_score              1.0211      0.154      6.613      0.000       0.710       1.332\n",
      "==============================================================================\n",
      "Omnibus:                        1.618   Durbin-Watson:                   1.832\n",
      "Prob(Omnibus):                  0.445   Jarque-Bera (JB):                1.590\n",
      "Skew:                          -0.383   Prob(JB):                        0.452\n",
      "Kurtosis:                       2.545   Cond. No.                         10.7\n",
      "==============================================================================\n",
      "\n",
      "Notes:\n",
      "[1] Standard Errors assume that the covariance matrix of the errors is correctly specified.\n"
     ]
    }
   ],
   "source": [
    "#수정 r제곱 :57.9%\n",
    "test = ols('today_score ~ C(gotobed_late)+sleep_score', data = df).fit().summary()\n",
    "print(test)"
   ]
  }
 ],
 "metadata": {
  "kernelspec": {
   "display_name": "Python 3 (ipykernel)",
   "language": "python",
   "name": "python3"
  },
  "language_info": {
   "codemirror_mode": {
    "name": "ipython",
    "version": 3
   },
   "file_extension": ".py",
   "mimetype": "text/x-python",
   "name": "python",
   "nbconvert_exporter": "python",
   "pygments_lexer": "ipython3",
   "version": "3.9.12"
  },
  "toc": {
   "base_numbering": 1,
   "nav_menu": {},
   "number_sections": true,
   "sideBar": true,
   "skip_h1_title": false,
   "title_cell": "Table of Contents",
   "title_sidebar": "Contents",
   "toc_cell": false,
   "toc_position": {
    "height": "calc(100% - 180px)",
    "left": "10px",
    "top": "150px",
    "width": "349.091px"
   },
   "toc_section_display": true,
   "toc_window_display": true
  }
 },
 "nbformat": 4,
 "nbformat_minor": 5
}
