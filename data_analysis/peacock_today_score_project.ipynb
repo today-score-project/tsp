{
 "cells": [
  {
   "cell_type": "markdown",
   "id": "710ce094",
   "metadata": {},
   "source": [
    "# 공작 데이터 분석"
   ]
  },
  {
   "cell_type": "code",
   "execution_count": 1,
   "id": "50b86659",
   "metadata": {},
   "outputs": [],
   "source": [
    "import pandas as pd\n",
    "import matplotlib.pyplot as plt\n",
    "import numpy as np\n",
    "import seaborn as sns\n",
    "from matplotlib import rc # 폰트\n",
    "#한글폰트 적용-----------------------------\n",
    "from matplotlib import font_manager, rc\n",
    "plt.rc('font', family='Malgun Gothic')\n",
    "#-----------------------------------------\n",
    "\n",
    "\n",
    "from datetime import datetime\n",
    "import time\n",
    "from datetime import timedelta\n",
    "import warnings\n",
    "warnings.filterwarnings('ignore')\n",
    "from statsmodels.formula.api import ols\n",
    "# datetime.strptime(start_date, '%Y-%m-%d %H:%M:%S')\n",
    "\n",
    "import statsmodels.api as sm\n",
    "from statsmodels.stats.outliers_influence import variance_inflation_factor"
   ]
  },
  {
   "cell_type": "markdown",
   "id": "fc6dc332",
   "metadata": {},
   "source": [
    "# 데이터 로드"
   ]
  },
  {
   "cell_type": "code",
   "execution_count": 2,
   "id": "e3c64769",
   "metadata": {},
   "outputs": [],
   "source": [
    "df = pd.read_excel('today_score_data.xlsx')"
   ]
  },
  {
   "cell_type": "code",
   "execution_count": 3,
   "id": "f5fde7fe",
   "metadata": {},
   "outputs": [
    {
     "data": {
      "text/html": [
       "<div>\n",
       "<style scoped>\n",
       "    .dataframe tbody tr th:only-of-type {\n",
       "        vertical-align: middle;\n",
       "    }\n",
       "\n",
       "    .dataframe tbody tr th {\n",
       "        vertical-align: top;\n",
       "    }\n",
       "\n",
       "    .dataframe thead th {\n",
       "        text-align: right;\n",
       "    }\n",
       "</style>\n",
       "<table border=\"1\" class=\"dataframe\">\n",
       "  <thead>\n",
       "    <tr style=\"text-align: right;\">\n",
       "      <th></th>\n",
       "      <th>cnt</th>\n",
       "      <th>name</th>\n",
       "      <th>today_score</th>\n",
       "      <th>date</th>\n",
       "      <th>dayofweek</th>\n",
       "      <th>dayofweek_check</th>\n",
       "      <th>avg_temp</th>\n",
       "      <th>low_temp</th>\n",
       "      <th>high_temp</th>\n",
       "      <th>precipitation</th>\n",
       "      <th>...</th>\n",
       "      <th>yesterday_exercise_time</th>\n",
       "      <th>yesterday_step_cnt</th>\n",
       "      <th>yesterday_drinking</th>\n",
       "      <th>period</th>\n",
       "      <th>caffeine</th>\n",
       "      <th>yesterday_satisfaction</th>\n",
       "      <th>gotobed_range</th>\n",
       "      <th>getup_range</th>\n",
       "      <th>gotobed_late</th>\n",
       "      <th>getup_early</th>\n",
       "    </tr>\n",
       "  </thead>\n",
       "  <tbody>\n",
       "    <tr>\n",
       "      <th>0</th>\n",
       "      <td>1</td>\n",
       "      <td>quokka</td>\n",
       "      <td>9</td>\n",
       "      <td>2022-09-28</td>\n",
       "      <td>4</td>\n",
       "      <td>0</td>\n",
       "      <td>20.4</td>\n",
       "      <td>16.1</td>\n",
       "      <td>26.1</td>\n",
       "      <td>0.0</td>\n",
       "      <td>...</td>\n",
       "      <td>70</td>\n",
       "      <td>11772</td>\n",
       "      <td>0</td>\n",
       "      <td>0</td>\n",
       "      <td>0</td>\n",
       "      <td>2</td>\n",
       "      <td>03시대</td>\n",
       "      <td>08시대</td>\n",
       "      <td>1</td>\n",
       "      <td>0</td>\n",
       "    </tr>\n",
       "    <tr>\n",
       "      <th>1</th>\n",
       "      <td>2</td>\n",
       "      <td>quokka</td>\n",
       "      <td>6</td>\n",
       "      <td>2022-09-29</td>\n",
       "      <td>5</td>\n",
       "      <td>0</td>\n",
       "      <td>20.4</td>\n",
       "      <td>16.4</td>\n",
       "      <td>26.5</td>\n",
       "      <td>0.0</td>\n",
       "      <td>...</td>\n",
       "      <td>0</td>\n",
       "      <td>5800</td>\n",
       "      <td>0</td>\n",
       "      <td>0</td>\n",
       "      <td>0</td>\n",
       "      <td>3</td>\n",
       "      <td>03시대</td>\n",
       "      <td>08시대</td>\n",
       "      <td>1</td>\n",
       "      <td>0</td>\n",
       "    </tr>\n",
       "    <tr>\n",
       "      <th>2</th>\n",
       "      <td>3</td>\n",
       "      <td>quokka</td>\n",
       "      <td>4</td>\n",
       "      <td>2022-09-30</td>\n",
       "      <td>6</td>\n",
       "      <td>0</td>\n",
       "      <td>20.7</td>\n",
       "      <td>14.8</td>\n",
       "      <td>27.7</td>\n",
       "      <td>0.0</td>\n",
       "      <td>...</td>\n",
       "      <td>0</td>\n",
       "      <td>2775</td>\n",
       "      <td>0</td>\n",
       "      <td>0</td>\n",
       "      <td>0</td>\n",
       "      <td>4</td>\n",
       "      <td>05시대</td>\n",
       "      <td>10시대</td>\n",
       "      <td>1</td>\n",
       "      <td>0</td>\n",
       "    </tr>\n",
       "    <tr>\n",
       "      <th>3</th>\n",
       "      <td>4</td>\n",
       "      <td>quokka</td>\n",
       "      <td>7</td>\n",
       "      <td>2022-10-01</td>\n",
       "      <td>7</td>\n",
       "      <td>1</td>\n",
       "      <td>20.9</td>\n",
       "      <td>14.4</td>\n",
       "      <td>27.6</td>\n",
       "      <td>0.0</td>\n",
       "      <td>...</td>\n",
       "      <td>0</td>\n",
       "      <td>4365</td>\n",
       "      <td>0</td>\n",
       "      <td>0</td>\n",
       "      <td>0</td>\n",
       "      <td>3</td>\n",
       "      <td>05시대</td>\n",
       "      <td>07시대</td>\n",
       "      <td>1</td>\n",
       "      <td>1</td>\n",
       "    </tr>\n",
       "    <tr>\n",
       "      <th>4</th>\n",
       "      <td>5</td>\n",
       "      <td>quokka</td>\n",
       "      <td>7</td>\n",
       "      <td>2022-10-02</td>\n",
       "      <td>1</td>\n",
       "      <td>1</td>\n",
       "      <td>19.4</td>\n",
       "      <td>17.2</td>\n",
       "      <td>21.6</td>\n",
       "      <td>15.8</td>\n",
       "      <td>...</td>\n",
       "      <td>0</td>\n",
       "      <td>13541</td>\n",
       "      <td>0</td>\n",
       "      <td>0</td>\n",
       "      <td>1</td>\n",
       "      <td>4</td>\n",
       "      <td>03시대</td>\n",
       "      <td>10시대</td>\n",
       "      <td>1</td>\n",
       "      <td>0</td>\n",
       "    </tr>\n",
       "  </tbody>\n",
       "</table>\n",
       "<p>5 rows × 29 columns</p>\n",
       "</div>"
      ],
      "text/plain": [
       "   cnt    name  today_score       date  dayofweek  dayofweek_check  avg_temp  \\\n",
       "0    1  quokka            9 2022-09-28          4                0      20.4   \n",
       "1    2  quokka            6 2022-09-29          5                0      20.4   \n",
       "2    3  quokka            4 2022-09-30          6                0      20.7   \n",
       "3    4  quokka            7 2022-10-01          7                1      20.9   \n",
       "4    5  quokka            7 2022-10-02          1                1      19.4   \n",
       "\n",
       "   low_temp  high_temp  precipitation  ...  yesterday_exercise_time  \\\n",
       "0      16.1       26.1            0.0  ...                       70   \n",
       "1      16.4       26.5            0.0  ...                        0   \n",
       "2      14.8       27.7            0.0  ...                        0   \n",
       "3      14.4       27.6            0.0  ...                        0   \n",
       "4      17.2       21.6           15.8  ...                        0   \n",
       "\n",
       "   yesterday_step_cnt yesterday_drinking period  caffeine  \\\n",
       "0               11772                  0      0         0   \n",
       "1                5800                  0      0         0   \n",
       "2                2775                  0      0         0   \n",
       "3                4365                  0      0         0   \n",
       "4               13541                  0      0         1   \n",
       "\n",
       "   yesterday_satisfaction  gotobed_range  getup_range  gotobed_late  \\\n",
       "0                       2           03시대         08시대             1   \n",
       "1                       3           03시대         08시대             1   \n",
       "2                       4           05시대         10시대             1   \n",
       "3                       3           05시대         07시대             1   \n",
       "4                       4           03시대         10시대             1   \n",
       "\n",
       "   getup_early  \n",
       "0            0  \n",
       "1            0  \n",
       "2            0  \n",
       "3            1  \n",
       "4            0  \n",
       "\n",
       "[5 rows x 29 columns]"
      ]
     },
     "execution_count": 3,
     "metadata": {},
     "output_type": "execute_result"
    }
   ],
   "source": [
    "# 데이터 확인\n",
    "\n",
    "df.head()"
   ]
  },
  {
   "cell_type": "code",
   "execution_count": 4,
   "id": "d358d929",
   "metadata": {},
   "outputs": [],
   "source": [
    "# 공작만 추출\n",
    "\n",
    "peacock = df[df['name'] == 'peacock']"
   ]
  },
  {
   "cell_type": "code",
   "execution_count": 5,
   "id": "d4c881ef",
   "metadata": {},
   "outputs": [
    {
     "data": {
      "text/html": [
       "<div>\n",
       "<style scoped>\n",
       "    .dataframe tbody tr th:only-of-type {\n",
       "        vertical-align: middle;\n",
       "    }\n",
       "\n",
       "    .dataframe tbody tr th {\n",
       "        vertical-align: top;\n",
       "    }\n",
       "\n",
       "    .dataframe thead th {\n",
       "        text-align: right;\n",
       "    }\n",
       "</style>\n",
       "<table border=\"1\" class=\"dataframe\">\n",
       "  <thead>\n",
       "    <tr style=\"text-align: right;\">\n",
       "      <th></th>\n",
       "      <th>cnt</th>\n",
       "      <th>name</th>\n",
       "      <th>today_score</th>\n",
       "      <th>date</th>\n",
       "      <th>dayofweek</th>\n",
       "      <th>dayofweek_check</th>\n",
       "      <th>avg_temp</th>\n",
       "      <th>low_temp</th>\n",
       "      <th>high_temp</th>\n",
       "      <th>precipitation</th>\n",
       "      <th>...</th>\n",
       "      <th>yesterday_exercise_time</th>\n",
       "      <th>yesterday_step_cnt</th>\n",
       "      <th>yesterday_drinking</th>\n",
       "      <th>period</th>\n",
       "      <th>caffeine</th>\n",
       "      <th>yesterday_satisfaction</th>\n",
       "      <th>gotobed_range</th>\n",
       "      <th>getup_range</th>\n",
       "      <th>gotobed_late</th>\n",
       "      <th>getup_early</th>\n",
       "    </tr>\n",
       "  </thead>\n",
       "  <tbody>\n",
       "    <tr>\n",
       "      <th>48</th>\n",
       "      <td>49</td>\n",
       "      <td>peacock</td>\n",
       "      <td>7</td>\n",
       "      <td>2022-09-28</td>\n",
       "      <td>4</td>\n",
       "      <td>0</td>\n",
       "      <td>20.4</td>\n",
       "      <td>16.1</td>\n",
       "      <td>26.1</td>\n",
       "      <td>0.0</td>\n",
       "      <td>...</td>\n",
       "      <td>65</td>\n",
       "      <td>10322</td>\n",
       "      <td>0</td>\n",
       "      <td>1</td>\n",
       "      <td>0</td>\n",
       "      <td>4</td>\n",
       "      <td>00시대</td>\n",
       "      <td>06시대</td>\n",
       "      <td>0</td>\n",
       "      <td>1</td>\n",
       "    </tr>\n",
       "    <tr>\n",
       "      <th>49</th>\n",
       "      <td>50</td>\n",
       "      <td>peacock</td>\n",
       "      <td>5</td>\n",
       "      <td>2022-09-29</td>\n",
       "      <td>5</td>\n",
       "      <td>0</td>\n",
       "      <td>20.4</td>\n",
       "      <td>16.4</td>\n",
       "      <td>26.5</td>\n",
       "      <td>0.0</td>\n",
       "      <td>...</td>\n",
       "      <td>40</td>\n",
       "      <td>12161</td>\n",
       "      <td>0</td>\n",
       "      <td>1</td>\n",
       "      <td>0</td>\n",
       "      <td>3</td>\n",
       "      <td>22시대</td>\n",
       "      <td>06시대</td>\n",
       "      <td>0</td>\n",
       "      <td>1</td>\n",
       "    </tr>\n",
       "    <tr>\n",
       "      <th>50</th>\n",
       "      <td>51</td>\n",
       "      <td>peacock</td>\n",
       "      <td>7</td>\n",
       "      <td>2022-09-30</td>\n",
       "      <td>6</td>\n",
       "      <td>0</td>\n",
       "      <td>20.7</td>\n",
       "      <td>14.8</td>\n",
       "      <td>27.7</td>\n",
       "      <td>0.0</td>\n",
       "      <td>...</td>\n",
       "      <td>40</td>\n",
       "      <td>10637</td>\n",
       "      <td>0</td>\n",
       "      <td>1</td>\n",
       "      <td>0</td>\n",
       "      <td>3</td>\n",
       "      <td>01시대</td>\n",
       "      <td>05시대</td>\n",
       "      <td>0</td>\n",
       "      <td>1</td>\n",
       "    </tr>\n",
       "    <tr>\n",
       "      <th>51</th>\n",
       "      <td>52</td>\n",
       "      <td>peacock</td>\n",
       "      <td>7</td>\n",
       "      <td>2022-10-01</td>\n",
       "      <td>7</td>\n",
       "      <td>1</td>\n",
       "      <td>20.9</td>\n",
       "      <td>14.4</td>\n",
       "      <td>27.6</td>\n",
       "      <td>0.0</td>\n",
       "      <td>...</td>\n",
       "      <td>10</td>\n",
       "      <td>8722</td>\n",
       "      <td>1</td>\n",
       "      <td>1</td>\n",
       "      <td>1</td>\n",
       "      <td>3</td>\n",
       "      <td>01시대</td>\n",
       "      <td>07시대</td>\n",
       "      <td>0</td>\n",
       "      <td>1</td>\n",
       "    </tr>\n",
       "    <tr>\n",
       "      <th>52</th>\n",
       "      <td>53</td>\n",
       "      <td>peacock</td>\n",
       "      <td>8</td>\n",
       "      <td>2022-10-02</td>\n",
       "      <td>1</td>\n",
       "      <td>1</td>\n",
       "      <td>19.4</td>\n",
       "      <td>17.2</td>\n",
       "      <td>21.6</td>\n",
       "      <td>15.8</td>\n",
       "      <td>...</td>\n",
       "      <td>0</td>\n",
       "      <td>3019</td>\n",
       "      <td>0</td>\n",
       "      <td>1</td>\n",
       "      <td>0</td>\n",
       "      <td>4</td>\n",
       "      <td>00시대</td>\n",
       "      <td>07시대</td>\n",
       "      <td>0</td>\n",
       "      <td>1</td>\n",
       "    </tr>\n",
       "  </tbody>\n",
       "</table>\n",
       "<p>5 rows × 29 columns</p>\n",
       "</div>"
      ],
      "text/plain": [
       "    cnt     name  today_score       date  dayofweek  dayofweek_check  \\\n",
       "48   49  peacock            7 2022-09-28          4                0   \n",
       "49   50  peacock            5 2022-09-29          5                0   \n",
       "50   51  peacock            7 2022-09-30          6                0   \n",
       "51   52  peacock            7 2022-10-01          7                1   \n",
       "52   53  peacock            8 2022-10-02          1                1   \n",
       "\n",
       "    avg_temp  low_temp  high_temp  precipitation  ...  \\\n",
       "48      20.4      16.1       26.1            0.0  ...   \n",
       "49      20.4      16.4       26.5            0.0  ...   \n",
       "50      20.7      14.8       27.7            0.0  ...   \n",
       "51      20.9      14.4       27.6            0.0  ...   \n",
       "52      19.4      17.2       21.6           15.8  ...   \n",
       "\n",
       "    yesterday_exercise_time  yesterday_step_cnt yesterday_drinking period  \\\n",
       "48                       65               10322                  0      1   \n",
       "49                       40               12161                  0      1   \n",
       "50                       40               10637                  0      1   \n",
       "51                       10                8722                  1      1   \n",
       "52                        0                3019                  0      1   \n",
       "\n",
       "    caffeine  yesterday_satisfaction  gotobed_range  getup_range  \\\n",
       "48         0                       4           00시대         06시대   \n",
       "49         0                       3           22시대         06시대   \n",
       "50         0                       3           01시대         05시대   \n",
       "51         1                       3           01시대         07시대   \n",
       "52         0                       4           00시대         07시대   \n",
       "\n",
       "    gotobed_late  getup_early  \n",
       "48             0            1  \n",
       "49             0            1  \n",
       "50             0            1  \n",
       "51             0            1  \n",
       "52             0            1  \n",
       "\n",
       "[5 rows x 29 columns]"
      ]
     },
     "execution_count": 5,
     "metadata": {},
     "output_type": "execute_result"
    }
   ],
   "source": [
    "# 데이터 확인\n",
    "\n",
    "peacock.head()"
   ]
  },
  {
   "cell_type": "code",
   "execution_count": 6,
   "id": "c7403c71",
   "metadata": {},
   "outputs": [
    {
     "data": {
      "text/html": [
       "<div>\n",
       "<style scoped>\n",
       "    .dataframe tbody tr th:only-of-type {\n",
       "        vertical-align: middle;\n",
       "    }\n",
       "\n",
       "    .dataframe tbody tr th {\n",
       "        vertical-align: top;\n",
       "    }\n",
       "\n",
       "    .dataframe thead th {\n",
       "        text-align: right;\n",
       "    }\n",
       "</style>\n",
       "<table border=\"1\" class=\"dataframe\">\n",
       "  <thead>\n",
       "    <tr style=\"text-align: right;\">\n",
       "      <th></th>\n",
       "      <th>cnt</th>\n",
       "      <th>today_score</th>\n",
       "      <th>dayofweek</th>\n",
       "      <th>dayofweek_check</th>\n",
       "      <th>avg_temp</th>\n",
       "      <th>low_temp</th>\n",
       "      <th>high_temp</th>\n",
       "      <th>precipitation</th>\n",
       "      <th>precipitation_check</th>\n",
       "      <th>class_check</th>\n",
       "      <th>...</th>\n",
       "      <th>sleep_score</th>\n",
       "      <th>yesterday_exercise</th>\n",
       "      <th>yesterday_exercise_time</th>\n",
       "      <th>yesterday_step_cnt</th>\n",
       "      <th>yesterday_drinking</th>\n",
       "      <th>period</th>\n",
       "      <th>caffeine</th>\n",
       "      <th>yesterday_satisfaction</th>\n",
       "      <th>gotobed_late</th>\n",
       "      <th>getup_early</th>\n",
       "    </tr>\n",
       "  </thead>\n",
       "  <tbody>\n",
       "    <tr>\n",
       "      <th>count</th>\n",
       "      <td>48.00</td>\n",
       "      <td>48.000000</td>\n",
       "      <td>48.000000</td>\n",
       "      <td>48.000000</td>\n",
       "      <td>48.000000</td>\n",
       "      <td>48.000000</td>\n",
       "      <td>48.000000</td>\n",
       "      <td>48.000000</td>\n",
       "      <td>48.000000</td>\n",
       "      <td>48.000000</td>\n",
       "      <td>...</td>\n",
       "      <td>48.000000</td>\n",
       "      <td>48.000000</td>\n",
       "      <td>48.000000</td>\n",
       "      <td>48.000000</td>\n",
       "      <td>48.000000</td>\n",
       "      <td>48.000000</td>\n",
       "      <td>48.000000</td>\n",
       "      <td>48.000000</td>\n",
       "      <td>48.000000</td>\n",
       "      <td>48.000000</td>\n",
       "    </tr>\n",
       "    <tr>\n",
       "      <th>mean</th>\n",
       "      <td>72.50</td>\n",
       "      <td>6.229167</td>\n",
       "      <td>4.020833</td>\n",
       "      <td>0.291667</td>\n",
       "      <td>13.929167</td>\n",
       "      <td>9.595833</td>\n",
       "      <td>19.250000</td>\n",
       "      <td>3.792500</td>\n",
       "      <td>0.208333</td>\n",
       "      <td>0.729167</td>\n",
       "      <td>...</td>\n",
       "      <td>2.520833</td>\n",
       "      <td>0.395833</td>\n",
       "      <td>19.791667</td>\n",
       "      <td>8830.000000</td>\n",
       "      <td>0.125000</td>\n",
       "      <td>0.208333</td>\n",
       "      <td>0.020833</td>\n",
       "      <td>2.625000</td>\n",
       "      <td>0.020833</td>\n",
       "      <td>0.583333</td>\n",
       "    </tr>\n",
       "    <tr>\n",
       "      <th>std</th>\n",
       "      <td>14.00</td>\n",
       "      <td>1.076630</td>\n",
       "      <td>2.036785</td>\n",
       "      <td>0.459340</td>\n",
       "      <td>3.762636</td>\n",
       "      <td>3.929591</td>\n",
       "      <td>4.017197</td>\n",
       "      <td>14.023592</td>\n",
       "      <td>0.410414</td>\n",
       "      <td>0.449093</td>\n",
       "      <td>...</td>\n",
       "      <td>0.545371</td>\n",
       "      <td>0.494204</td>\n",
       "      <td>34.808875</td>\n",
       "      <td>4627.568007</td>\n",
       "      <td>0.334219</td>\n",
       "      <td>0.410414</td>\n",
       "      <td>0.144338</td>\n",
       "      <td>0.672404</td>\n",
       "      <td>0.144338</td>\n",
       "      <td>0.498224</td>\n",
       "    </tr>\n",
       "    <tr>\n",
       "      <th>min</th>\n",
       "      <td>49.00</td>\n",
       "      <td>4.000000</td>\n",
       "      <td>1.000000</td>\n",
       "      <td>0.000000</td>\n",
       "      <td>4.900000</td>\n",
       "      <td>0.800000</td>\n",
       "      <td>9.800000</td>\n",
       "      <td>0.000000</td>\n",
       "      <td>0.000000</td>\n",
       "      <td>0.000000</td>\n",
       "      <td>...</td>\n",
       "      <td>2.000000</td>\n",
       "      <td>0.000000</td>\n",
       "      <td>0.000000</td>\n",
       "      <td>2092.000000</td>\n",
       "      <td>0.000000</td>\n",
       "      <td>0.000000</td>\n",
       "      <td>0.000000</td>\n",
       "      <td>1.000000</td>\n",
       "      <td>0.000000</td>\n",
       "      <td>0.000000</td>\n",
       "    </tr>\n",
       "    <tr>\n",
       "      <th>25%</th>\n",
       "      <td>60.75</td>\n",
       "      <td>5.750000</td>\n",
       "      <td>2.000000</td>\n",
       "      <td>0.000000</td>\n",
       "      <td>11.175000</td>\n",
       "      <td>6.650000</td>\n",
       "      <td>16.550000</td>\n",
       "      <td>0.000000</td>\n",
       "      <td>0.000000</td>\n",
       "      <td>0.000000</td>\n",
       "      <td>...</td>\n",
       "      <td>2.000000</td>\n",
       "      <td>0.000000</td>\n",
       "      <td>0.000000</td>\n",
       "      <td>5143.500000</td>\n",
       "      <td>0.000000</td>\n",
       "      <td>0.000000</td>\n",
       "      <td>0.000000</td>\n",
       "      <td>2.000000</td>\n",
       "      <td>0.000000</td>\n",
       "      <td>0.000000</td>\n",
       "    </tr>\n",
       "    <tr>\n",
       "      <th>50%</th>\n",
       "      <td>72.50</td>\n",
       "      <td>6.500000</td>\n",
       "      <td>4.000000</td>\n",
       "      <td>0.000000</td>\n",
       "      <td>13.550000</td>\n",
       "      <td>9.550000</td>\n",
       "      <td>19.100000</td>\n",
       "      <td>0.000000</td>\n",
       "      <td>0.000000</td>\n",
       "      <td>1.000000</td>\n",
       "      <td>...</td>\n",
       "      <td>2.500000</td>\n",
       "      <td>0.000000</td>\n",
       "      <td>0.000000</td>\n",
       "      <td>8703.000000</td>\n",
       "      <td>0.000000</td>\n",
       "      <td>0.000000</td>\n",
       "      <td>0.000000</td>\n",
       "      <td>3.000000</td>\n",
       "      <td>0.000000</td>\n",
       "      <td>1.000000</td>\n",
       "    </tr>\n",
       "    <tr>\n",
       "      <th>75%</th>\n",
       "      <td>84.25</td>\n",
       "      <td>7.000000</td>\n",
       "      <td>6.000000</td>\n",
       "      <td>1.000000</td>\n",
       "      <td>16.300000</td>\n",
       "      <td>11.800000</td>\n",
       "      <td>21.600000</td>\n",
       "      <td>0.000000</td>\n",
       "      <td>0.000000</td>\n",
       "      <td>1.000000</td>\n",
       "      <td>...</td>\n",
       "      <td>3.000000</td>\n",
       "      <td>1.000000</td>\n",
       "      <td>32.500000</td>\n",
       "      <td>11688.250000</td>\n",
       "      <td>0.000000</td>\n",
       "      <td>0.000000</td>\n",
       "      <td>0.000000</td>\n",
       "      <td>3.000000</td>\n",
       "      <td>0.000000</td>\n",
       "      <td>1.000000</td>\n",
       "    </tr>\n",
       "    <tr>\n",
       "      <th>max</th>\n",
       "      <td>96.00</td>\n",
       "      <td>8.000000</td>\n",
       "      <td>7.000000</td>\n",
       "      <td>1.000000</td>\n",
       "      <td>21.400000</td>\n",
       "      <td>17.500000</td>\n",
       "      <td>27.700000</td>\n",
       "      <td>76.000000</td>\n",
       "      <td>1.000000</td>\n",
       "      <td>1.000000</td>\n",
       "      <td>...</td>\n",
       "      <td>4.000000</td>\n",
       "      <td>1.000000</td>\n",
       "      <td>120.000000</td>\n",
       "      <td>20086.000000</td>\n",
       "      <td>1.000000</td>\n",
       "      <td>1.000000</td>\n",
       "      <td>1.000000</td>\n",
       "      <td>4.000000</td>\n",
       "      <td>1.000000</td>\n",
       "      <td>1.000000</td>\n",
       "    </tr>\n",
       "  </tbody>\n",
       "</table>\n",
       "<p>8 rows × 23 columns</p>\n",
       "</div>"
      ],
      "text/plain": [
       "         cnt  today_score  dayofweek  dayofweek_check   avg_temp   low_temp  \\\n",
       "count  48.00    48.000000  48.000000        48.000000  48.000000  48.000000   \n",
       "mean   72.50     6.229167   4.020833         0.291667  13.929167   9.595833   \n",
       "std    14.00     1.076630   2.036785         0.459340   3.762636   3.929591   \n",
       "min    49.00     4.000000   1.000000         0.000000   4.900000   0.800000   \n",
       "25%    60.75     5.750000   2.000000         0.000000  11.175000   6.650000   \n",
       "50%    72.50     6.500000   4.000000         0.000000  13.550000   9.550000   \n",
       "75%    84.25     7.000000   6.000000         1.000000  16.300000  11.800000   \n",
       "max    96.00     8.000000   7.000000         1.000000  21.400000  17.500000   \n",
       "\n",
       "       high_temp  precipitation  precipitation_check  class_check  ...  \\\n",
       "count  48.000000      48.000000            48.000000    48.000000  ...   \n",
       "mean   19.250000       3.792500             0.208333     0.729167  ...   \n",
       "std     4.017197      14.023592             0.410414     0.449093  ...   \n",
       "min     9.800000       0.000000             0.000000     0.000000  ...   \n",
       "25%    16.550000       0.000000             0.000000     0.000000  ...   \n",
       "50%    19.100000       0.000000             0.000000     1.000000  ...   \n",
       "75%    21.600000       0.000000             0.000000     1.000000  ...   \n",
       "max    27.700000      76.000000             1.000000     1.000000  ...   \n",
       "\n",
       "       sleep_score  yesterday_exercise  yesterday_exercise_time  \\\n",
       "count    48.000000           48.000000                48.000000   \n",
       "mean      2.520833            0.395833                19.791667   \n",
       "std       0.545371            0.494204                34.808875   \n",
       "min       2.000000            0.000000                 0.000000   \n",
       "25%       2.000000            0.000000                 0.000000   \n",
       "50%       2.500000            0.000000                 0.000000   \n",
       "75%       3.000000            1.000000                32.500000   \n",
       "max       4.000000            1.000000               120.000000   \n",
       "\n",
       "       yesterday_step_cnt  yesterday_drinking     period   caffeine  \\\n",
       "count           48.000000           48.000000  48.000000  48.000000   \n",
       "mean          8830.000000            0.125000   0.208333   0.020833   \n",
       "std           4627.568007            0.334219   0.410414   0.144338   \n",
       "min           2092.000000            0.000000   0.000000   0.000000   \n",
       "25%           5143.500000            0.000000   0.000000   0.000000   \n",
       "50%           8703.000000            0.000000   0.000000   0.000000   \n",
       "75%          11688.250000            0.000000   0.000000   0.000000   \n",
       "max          20086.000000            1.000000   1.000000   1.000000   \n",
       "\n",
       "       yesterday_satisfaction  gotobed_late  getup_early  \n",
       "count               48.000000     48.000000    48.000000  \n",
       "mean                 2.625000      0.020833     0.583333  \n",
       "std                  0.672404      0.144338     0.498224  \n",
       "min                  1.000000      0.000000     0.000000  \n",
       "25%                  2.000000      0.000000     0.000000  \n",
       "50%                  3.000000      0.000000     1.000000  \n",
       "75%                  3.000000      0.000000     1.000000  \n",
       "max                  4.000000      1.000000     1.000000  \n",
       "\n",
       "[8 rows x 23 columns]"
      ]
     },
     "execution_count": 6,
     "metadata": {},
     "output_type": "execute_result"
    }
   ],
   "source": [
    "peacock.describe()"
   ]
  },
  {
   "cell_type": "code",
   "execution_count": 7,
   "id": "618d42e7",
   "metadata": {},
   "outputs": [
    {
     "name": "stdout",
     "output_type": "stream",
     "text": [
      "<class 'pandas.core.frame.DataFrame'>\n",
      "Int64Index: 48 entries, 48 to 95\n",
      "Data columns (total 29 columns):\n",
      " #   Column                   Non-Null Count  Dtype         \n",
      "---  ------                   --------------  -----         \n",
      " 0   cnt                      48 non-null     int64         \n",
      " 1   name                     48 non-null     object        \n",
      " 2   today_score              48 non-null     int64         \n",
      " 3   date                     48 non-null     datetime64[ns]\n",
      " 4   dayofweek                48 non-null     int64         \n",
      " 5   dayofweek_check          48 non-null     int64         \n",
      " 6   avg_temp                 48 non-null     float64       \n",
      " 7   low_temp                 48 non-null     float64       \n",
      " 8   high_temp                48 non-null     float64       \n",
      " 9   precipitation            48 non-null     float64       \n",
      " 10  precipitation_check      48 non-null     int64         \n",
      " 11  class_check              48 non-null     int64         \n",
      " 12  gotobed_time             48 non-null     object        \n",
      " 13  getup_time               48 non-null     object        \n",
      " 14  sleep_time               48 non-null     float64       \n",
      " 15  morning_routine          48 non-null     int64         \n",
      " 16  weather_prefer           48 non-null     int64         \n",
      " 17  sleep_score              48 non-null     int64         \n",
      " 18  yesterday_exercise       48 non-null     int64         \n",
      " 19  yesterday_exercise_time  48 non-null     int64         \n",
      " 20  yesterday_step_cnt       48 non-null     int64         \n",
      " 21  yesterday_drinking       48 non-null     int64         \n",
      " 22  period                   48 non-null     int64         \n",
      " 23  caffeine                 48 non-null     int64         \n",
      " 24  yesterday_satisfaction   48 non-null     int64         \n",
      " 25  gotobed_range            48 non-null     object        \n",
      " 26  getup_range              48 non-null     object        \n",
      " 27  gotobed_late             48 non-null     int64         \n",
      " 28  getup_early              48 non-null     int64         \n",
      "dtypes: datetime64[ns](1), float64(5), int64(18), object(5)\n",
      "memory usage: 11.2+ KB\n"
     ]
    }
   ],
   "source": [
    "# 데이터 타입 확인\n",
    "\n",
    "peacock.info()"
   ]
  },
  {
   "cell_type": "code",
   "execution_count": 8,
   "id": "1a310e00",
   "metadata": {},
   "outputs": [],
   "source": [
    "#  범주형 변수 object 타입으로 변경\n",
    "\n",
    "peacock['dayofweek'] = peacock['dayofweek'].astype(object)\n",
    "peacock['dayofweek_check'] = peacock['dayofweek_check'].astype(object)\n",
    "peacock['class_check'] = peacock['class_check'].astype(object)\n",
    "peacock['morning_routine'] = peacock['morning_routine'].astype(object)\n",
    "peacock['weather_prefer'] = peacock['weather_prefer'].astype(object)\n",
    "peacock['yesterday_exercise'] = peacock['yesterday_exercise'].astype(object)\n",
    "peacock['yesterday_drinking'] = peacock['yesterday_drinking'].astype(object)\n",
    "peacock['period'] = peacock['period'].astype(object)\n",
    "peacock['caffeine'] = peacock['caffeine'].astype(object)\n",
    "peacock['precipitation_check'] = peacock['precipitation_check'].astype(object)\n",
    "peacock['gotobed_late'] = peacock['gotobed_late'].astype(object)\n",
    "peacock['getup_early'] = peacock['getup_early'].astype(object)"
   ]
  },
  {
   "cell_type": "code",
   "execution_count": 9,
   "id": "2d208f49",
   "metadata": {},
   "outputs": [
    {
     "name": "stdout",
     "output_type": "stream",
     "text": [
      "<class 'pandas.core.frame.DataFrame'>\n",
      "Int64Index: 48 entries, 48 to 95\n",
      "Data columns (total 29 columns):\n",
      " #   Column                   Non-Null Count  Dtype         \n",
      "---  ------                   --------------  -----         \n",
      " 0   cnt                      48 non-null     int64         \n",
      " 1   name                     48 non-null     object        \n",
      " 2   today_score              48 non-null     int64         \n",
      " 3   date                     48 non-null     datetime64[ns]\n",
      " 4   dayofweek                48 non-null     object        \n",
      " 5   dayofweek_check          48 non-null     object        \n",
      " 6   avg_temp                 48 non-null     float64       \n",
      " 7   low_temp                 48 non-null     float64       \n",
      " 8   high_temp                48 non-null     float64       \n",
      " 9   precipitation            48 non-null     float64       \n",
      " 10  precipitation_check      48 non-null     object        \n",
      " 11  class_check              48 non-null     object        \n",
      " 12  gotobed_time             48 non-null     object        \n",
      " 13  getup_time               48 non-null     object        \n",
      " 14  sleep_time               48 non-null     float64       \n",
      " 15  morning_routine          48 non-null     object        \n",
      " 16  weather_prefer           48 non-null     object        \n",
      " 17  sleep_score              48 non-null     int64         \n",
      " 18  yesterday_exercise       48 non-null     object        \n",
      " 19  yesterday_exercise_time  48 non-null     int64         \n",
      " 20  yesterday_step_cnt       48 non-null     int64         \n",
      " 21  yesterday_drinking       48 non-null     object        \n",
      " 22  period                   48 non-null     object        \n",
      " 23  caffeine                 48 non-null     object        \n",
      " 24  yesterday_satisfaction   48 non-null     int64         \n",
      " 25  gotobed_range            48 non-null     object        \n",
      " 26  getup_range              48 non-null     object        \n",
      " 27  gotobed_late             48 non-null     object        \n",
      " 28  getup_early              48 non-null     object        \n",
      "dtypes: datetime64[ns](1), float64(5), int64(6), object(17)\n",
      "memory usage: 11.2+ KB\n"
     ]
    }
   ],
   "source": [
    "# 데이터 확인\n",
    "\n",
    "peacock.info()"
   ]
  },
  {
   "cell_type": "markdown",
   "id": "7e50f45d",
   "metadata": {},
   "source": [
    "# 데이터 분포 확인"
   ]
  },
  {
   "cell_type": "markdown",
   "id": "b16d3067",
   "metadata": {},
   "source": [
    "## 범주형 변수"
   ]
  },
  {
   "cell_type": "code",
   "execution_count": 10,
   "id": "71a4cfe6",
   "metadata": {},
   "outputs": [
    {
     "data": {
      "text/plain": [
       "['name',\n",
       " 'dayofweek',\n",
       " 'dayofweek_check',\n",
       " 'precipitation_check',\n",
       " 'class_check',\n",
       " 'gotobed_time',\n",
       " 'getup_time',\n",
       " 'morning_routine',\n",
       " 'weather_prefer',\n",
       " 'yesterday_exercise',\n",
       " 'yesterday_drinking',\n",
       " 'period',\n",
       " 'caffeine',\n",
       " 'gotobed_range',\n",
       " 'getup_range',\n",
       " 'gotobed_late',\n",
       " 'getup_early']"
      ]
     },
     "execution_count": 10,
     "metadata": {},
     "output_type": "execute_result"
    }
   ],
   "source": [
    "# 변수 타입이 obhect인 컬럼 추출\n",
    "\n",
    "object_feature = [ col for col in peacock.columns if peacock[col].dtypes == \"object\"]\n",
    "object_feature"
   ]
  },
  {
   "cell_type": "code",
   "execution_count": 11,
   "id": "3c9df7fe",
   "metadata": {},
   "outputs": [
    {
     "data": {
      "text/plain": [
       "['period',\n",
       " 'dayofweek',\n",
       " 'getup_early',\n",
       " 'caffeine',\n",
       " 'yesterday_exercise',\n",
       " 'weather_prefer',\n",
       " 'dayofweek_check',\n",
       " 'yesterday_drinking',\n",
       " 'getup_range',\n",
       " 'morning_routine',\n",
       " 'gotobed_range',\n",
       " 'gotobed_late']"
      ]
     },
     "execution_count": 11,
     "metadata": {},
     "output_type": "execute_result"
    }
   ],
   "source": [
    "# name, gotbed_time, getup_time, precipitation_check, class_check 컬럼 제외하고 리스트 생성\n",
    "\n",
    "category_feature = list(set(object_feature) - set(['name','gotobed_time','getup_time', 'precipitation_check',  'class_check',]))\n",
    "category_feature"
   ]
  },
  {
   "cell_type": "code",
   "execution_count": 12,
   "id": "67f0b90f",
   "metadata": {},
   "outputs": [
    {
     "data": {
      "image/png": "[encoded data removed]",
      "text/plain": [
       "<Figure size 432x288 with 1 Axes>"
      ]
     },
     "metadata": {
      "needs_background": "light"
     },
     "output_type": "display_data"
    },
    {
     "data": {
      "image/png": "[encoded data removed]",
      "text/plain": [
       "<Figure size 432x288 with 1 Axes>"
      ]
     },
     "metadata": {
      "needs_background": "light"
     },
     "output_type": "display_data"
    },
    {
     "data": {
      "image/png": "[encoded data removed]",
      "text/plain": [
       "<Figure size 432x288 with 1 Axes>"
      ]
     },
     "metadata": {
      "needs_background": "light"
     },
     "output_type": "display_data"
    },
    {
     "data": {
      "image/png": "[encoded data removed]",
      "text/plain": [
       "<Figure size 432x288 with 1 Axes>"
      ]
     },
     "metadata": {
      "needs_background": "light"
     },
     "output_type": "display_data"
    },
    {
     "data": {
      "image/png": "[encoded data removed]",
      "text/plain": [
       "<Figure size 432x288 with 1 Axes>"
      ]
     },
     "metadata": {
      "needs_background": "light"
     },
     "output_type": "display_data"
    },
    {
     "data": {
      "image/png": "[encoded data removed]",
      "text/plain": [
       "<Figure size 432x288 with 1 Axes>"
      ]
     },
     "metadata": {
      "needs_background": "light"
     },
     "output_type": "display_data"
    },
    {
     "data": {
      "image/png": "[encoded data removed]",
      "text/plain": [
       "<Figure size 432x288 with 1 Axes>"
      ]
     },
     "metadata": {
      "needs_background": "light"
     },
     "output_type": "display_data"
    },
    {
     "data": {
      "image/png": "[encoded data removed]",
      "text/plain": [
       "<Figure size 432x288 with 1 Axes>"
      ]
     },
     "metadata": {
      "needs_background": "light"
     },
     "output_type": "display_data"
    },
    {
     "data": {
      "image/png": "[encoded data removed]",
      "text/plain": [
       "<Figure size 432x288 with 1 Axes>"
      ]
     },
     "metadata": {
      "needs_background": "light"
     },
     "output_type": "display_data"
    },
    {
     "data": {
      "image/png": "[encoded data removed]",
      "text/plain": [
       "<Figure size 432x288 with 1 Axes>"
      ]
     },
     "metadata": {
      "needs_background": "light"
     },
     "output_type": "display_data"
    },
    {
     "data": {
      "image/png": "[encoded data removed]",
      "text/plain": [
       "<Figure size 432x288 with 1 Axes>"
      ]
     },
     "metadata": {
      "needs_background": "light"
     },
     "output_type": "display_data"
    },
    {
     "data": {
      "image/png": "[encoded data removed]",
      "text/plain": [
       "<Figure size 432x288 with 1 Axes>"
      ]
     },
     "metadata": {
      "needs_background": "light"
     },
     "output_type": "display_data"
    }
   ],
   "source": [
    "# 범주형 변수 분포 확인\n",
    "\n",
    "for col in category_feature:\n",
    "    peacock[col].value_counts().plot(kind='bar')\n",
    "    plt.title(col)\n",
    "    plt.show()"
   ]
  },
  {
   "cell_type": "markdown",
   "id": "137c481f",
   "metadata": {},
   "source": [
    "## 수치형 변수"
   ]
  },
  {
   "cell_type": "code",
   "execution_count": 13,
   "id": "58c7c645",
   "metadata": {},
   "outputs": [
    {
     "data": {
      "text/plain": [
       "array(['sleep_score', 'sleep_time', 'yesterday_exercise_time',\n",
       "       'yesterday_satisfaction', 'yesterday_step_cnt'], dtype='<U23')"
      ]
     },
     "execution_count": 13,
     "metadata": {},
     "output_type": "execute_result"
    }
   ],
   "source": [
    "# 전체 변수중 object 변수 제외, today_score,cnt, date도 제외\n",
    "numerical_feature = list(set(peacock.columns) - set(object_feature) - set(['cnt','date','today_score', 'avg_temp', 'high_temp', 'low_temp', 'precipitation', ]))\n",
    "numerical_feature = np.sort(numerical_feature)\n",
    "numerical_feature"
   ]
  },
  {
   "cell_type": "code",
   "execution_count": 14,
   "id": "cf8747c9",
   "metadata": {},
   "outputs": [
    {
     "data": {
      "image/png": "[encoded data removed]",
      "text/plain": [
       "<Figure size 432x288 with 1 Axes>"
      ]
     },
     "metadata": {
      "needs_background": "light"
     },
     "output_type": "display_data"
    },
    {
     "data": {
      "image/png": "[encoded data removed]",
      "text/plain": [
       "<Figure size 432x288 with 1 Axes>"
      ]
     },
     "metadata": {
      "needs_background": "light"
     },
     "output_type": "display_data"
    },
    {
     "data": {
      "image/png": "[encoded data removed]",
      "text/plain": [
       "<Figure size 432x288 with 1 Axes>"
      ]
     },
     "metadata": {
      "needs_background": "light"
     },
     "output_type": "display_data"
    },
    {
     "data": {
      "image/png": "[encoded data removed]",
      "text/plain": [
       "<Figure size 432x288 with 1 Axes>"
      ]
     },
     "metadata": {
      "needs_background": "light"
     },
     "output_type": "display_data"
    },
    {
     "data": {
      "image/png": "[encoded data removed]",
      "text/plain": [
       "<Figure size 432x288 with 1 Axes>"
      ]
     },
     "metadata": {
      "needs_background": "light"
     },
     "output_type": "display_data"
    }
   ],
   "source": [
    "# 수치형 변수 분포 확인\n",
    "\n",
    "for col in numerical_feature:\n",
    "    sns.distplot(peacock.loc[df[col].notnull(), col])\n",
    "    plt.title(col)\n",
    "    plt.show()"
   ]
  },
  {
   "cell_type": "markdown",
   "id": "60a75c16",
   "metadata": {},
   "source": [
    "## 상관분석"
   ]
  },
  {
   "cell_type": "code",
   "execution_count": 19,
   "id": "de33690f",
   "metadata": {
    "scrolled": true
   },
   "outputs": [
    {
     "data": {
      "image/png": "[encoded data removed]",
      "text/plain": [
       "<Figure size 1080x720 with 2 Axes>"
      ]
     },
     "metadata": {
      "needs_background": "light"
     },
     "output_type": "display_data"
    }
   ],
   "source": [
    "# 히트맵\n",
    "plt.figure(figsize=(15, 10)) # 그림 사이즈 지정\n",
    "heat = sns.heatmap(peacock.drop('cnt', axis = 1).drop('name', axis = 1).corr(), \n",
    "                   annot=True, # 실제 값 표시\n",
    "                   fmt = '.2f', #\n",
    "                   linewidths=0.2, # 경계면 구분\n",
    "                   cmap='YlGnBu') # 히트맵 팔레트 색상 불러오기\n",
    "plt.show()"
   ]
  },
  {
   "cell_type": "markdown",
   "id": "e072b80d",
   "metadata": {},
   "source": [
    "- 상관분석 해석 \n",
    "- 하나. today_score(오늘 나의 점수)와 yesterday_satisfaction(전날 만족도), yesterday_step_cnt(전날 걸음수)가 상관관계가 있다.\n",
    "- 둘. yesterday_satisfaction(전날 만족도)는 sleep_score(수면 점수),  yesterday_step_cnt(전날 걸음수)와 상관관계가 있다. "
   ]
  },
  {
   "cell_type": "markdown",
   "id": "2dec2719",
   "metadata": {},
   "source": [
    "# 단일 선형 회귀"
   ]
  },
  {
   "cell_type": "markdown",
   "id": "ea70c996",
   "metadata": {},
   "source": [
    "## 범주형 변수"
   ]
  },
  {
   "cell_type": "code",
   "execution_count": 28,
   "id": "14acfb94",
   "metadata": {
    "scrolled": false
   },
   "outputs": [
    {
     "data": {
      "text/plain": [
       "['period',\n",
       " 'dayofweek',\n",
       " 'getup_early',\n",
       " 'caffeine',\n",
       " 'yesterday_exercise',\n",
       " 'weather_prefer',\n",
       " 'dayofweek_check',\n",
       " 'yesterday_drinking',\n",
       " 'getup_range',\n",
       " 'morning_routine',\n",
       " 'gotobed_range',\n",
       " 'gotobed_late']"
      ]
     },
     "execution_count": 28,
     "metadata": {},
     "output_type": "execute_result"
    }
   ],
   "source": [
    "#범주형 변수 확인\n",
    "category_feature"
   ]
  },
  {
   "cell_type": "markdown",
   "id": "0c85dee4",
   "metadata": {},
   "source": [
    "- 범주형 변수는 C()를 붙여서 처리\n",
    "- 모든 범주형 범수의 p-value가 0.05 초과로 유의미하지 않았음"
   ]
  },
  {
   "cell_type": "markdown",
   "id": "319f5186",
   "metadata": {},
   "source": [
    "## 수치형 변수"
   ]
  },
  {
   "cell_type": "code",
   "execution_count": 46,
   "id": "3e17620c",
   "metadata": {},
   "outputs": [
    {
     "data": {
      "text/plain": [
       "array(['sleep_score', 'sleep_time', 'yesterday_exercise_time',\n",
       "       'yesterday_satisfaction', 'yesterday_step_cnt'], dtype='<U23')"
      ]
     },
     "execution_count": 46,
     "metadata": {},
     "output_type": "execute_result"
    }
   ],
   "source": [
    "# 수치형 변수 확인\n",
    "numerical_feature"
   ]
  },
  {
   "cell_type": "markdown",
   "id": "a9637c41",
   "metadata": {},
   "source": [
    "### ✨ yesterday_step_cnt : 전날 걸음 수\n",
    "- 전날 걸음수에 따른 오늘나의점수 차이가 없다는 귀무가설 기각\n",
    "- 1보 더 걸을수록 7.572e-05점 높아짐"
   ]
  },
  {
   "cell_type": "code",
   "execution_count": 79,
   "id": "7b2ef30d",
   "metadata": {},
   "outputs": [
    {
     "name": "stdout",
     "output_type": "stream",
     "text": [
      "                            OLS Regression Results                            \n",
      "==============================================================================\n",
      "Dep. Variable:            today_score   R-squared:                       0.106\n",
      "Model:                            OLS   Adj. R-squared:                  0.086\n",
      "Method:                 Least Squares   F-statistic:                     5.449\n",
      "Date:                Thu, 24 Nov 2022   Prob (F-statistic):             0.0240\n",
      "Time:                        18:36:53   Log-Likelihood:                -68.461\n",
      "No. Observations:                  48   AIC:                             140.9\n",
      "Df Residuals:                      46   BIC:                             144.7\n",
      "Df Model:                           1                                         \n",
      "Covariance Type:            nonrobust                                         \n",
      "======================================================================================\n",
      "                         coef    std err          t      P>|t|      [0.025      0.975]\n",
      "--------------------------------------------------------------------------------------\n",
      "Intercept              5.5606      0.323     17.235      0.000       4.911       6.210\n",
      "yesterday_step_cnt  7.572e-05   3.24e-05      2.334      0.024    1.04e-05       0.000\n",
      "==============================================================================\n",
      "Omnibus:                        2.473   Durbin-Watson:                   1.228\n",
      "Prob(Omnibus):                  0.290   Jarque-Bera (JB):                2.358\n",
      "Skew:                          -0.492   Prob(JB):                        0.308\n",
      "Kurtosis:                       2.539   Cond. No.                     2.16e+04\n",
      "==============================================================================\n",
      "\n",
      "Notes:\n",
      "[1] Standard Errors assume that the covariance matrix of the errors is correctly specified.\n",
      "[2] The condition number is large, 2.16e+04. This might indicate that there are\n",
      "strong multicollinearity or other numerical problems.\n"
     ]
    }
   ],
   "source": [
    "test = ols('today_score ~ yesterday_step_cnt', data = peacock).fit().summary()\n",
    "print(test)"
   ]
  },
  {
   "cell_type": "markdown",
   "id": "d8814ce7",
   "metadata": {},
   "source": [
    "### ✨ yesterday_satisfaction : 전날 만족도 (5점 만점)\n",
    "- 전날 만족도에 따른 나의오늘점수 차이가 없다는 귀무가설 기각\n",
    "- 1점 높을수록 0.7588점 증가"
   ]
  },
  {
   "cell_type": "code",
   "execution_count": 80,
   "id": "d1695994",
   "metadata": {},
   "outputs": [
    {
     "name": "stdout",
     "output_type": "stream",
     "text": [
      "                            OLS Regression Results                            \n",
      "==============================================================================\n",
      "Dep. Variable:            today_score   R-squared:                       0.225\n",
      "Model:                            OLS   Adj. R-squared:                  0.208\n",
      "Method:                 Least Squares   F-statistic:                     13.32\n",
      "Date:                Thu, 24 Nov 2022   Prob (F-statistic):           0.000668\n",
      "Time:                        18:37:20   Log-Likelihood:                -65.043\n",
      "No. Observations:                  48   AIC:                             134.1\n",
      "Df Residuals:                      46   BIC:                             137.8\n",
      "Df Model:                           1                                         \n",
      "Covariance Type:            nonrobust                                         \n",
      "==========================================================================================\n",
      "                             coef    std err          t      P>|t|      [0.025      0.975]\n",
      "------------------------------------------------------------------------------------------\n",
      "Intercept                  4.2373      0.563      7.527      0.000       3.104       5.370\n",
      "yesterday_satisfaction     0.7588      0.208      3.650      0.001       0.340       1.177\n",
      "==============================================================================\n",
      "Omnibus:                        3.769   Durbin-Watson:                   1.284\n",
      "Prob(Omnibus):                  0.152   Jarque-Bera (JB):                2.916\n",
      "Skew:                          -0.469   Prob(JB):                        0.233\n",
      "Kurtosis:                       2.241   Cond. No.                         12.4\n",
      "==============================================================================\n",
      "\n",
      "Notes:\n",
      "[1] Standard Errors assume that the covariance matrix of the errors is correctly specified.\n"
     ]
    }
   ],
   "source": [
    "test = ols('today_score ~ yesterday_satisfaction', data = peacock).fit().summary()\n",
    "print(test)"
   ]
  },
  {
   "cell_type": "markdown",
   "id": "7a04c293",
   "metadata": {},
   "source": [
    "# 다중회귀분석 및 최종 회귀식"
   ]
  },
  {
   "cell_type": "markdown",
   "id": "94d3665e",
   "metadata": {},
   "source": [
    "##  유의미한 변수로만 확인\n",
    "- yesterday_step_cnt, yesterday_satisfaction 2개만 사용\n",
    "- 단순회귀분석 했을 때 각각의 수정 r제곱(0.086, 0.208) 보다 높음(0.211)\n",
    "- 하지만 yesterday_step_cnt는 p값이 0.05보다 높음"
   ]
  },
  {
   "cell_type": "code",
   "execution_count": 81,
   "id": "e616c2fa",
   "metadata": {
    "scrolled": false
   },
   "outputs": [
    {
     "name": "stdout",
     "output_type": "stream",
     "text": [
      "                            OLS Regression Results                            \n",
      "==============================================================================\n",
      "Dep. Variable:            today_score   R-squared:                       0.244\n",
      "Model:                            OLS   Adj. R-squared:                  0.211\n",
      "Method:                 Least Squares   F-statistic:                     7.270\n",
      "Date:                Thu, 24 Nov 2022   Prob (F-statistic):            0.00184\n",
      "Time:                        18:39:02   Log-Likelihood:                -64.428\n",
      "No. Observations:                  48   AIC:                             134.9\n",
      "Df Residuals:                      45   BIC:                             140.5\n",
      "Df Model:                           2                                         \n",
      "Covariance Type:            nonrobust                                         \n",
      "==========================================================================================\n",
      "                             coef    std err          t      P>|t|      [0.025      0.975]\n",
      "------------------------------------------------------------------------------------------\n",
      "Intercept                  4.1917      0.564      7.438      0.000       3.057       5.327\n",
      "yesterday_step_cnt      3.586e-05   3.32e-05      1.080      0.286    -3.1e-05       0.000\n",
      "yesterday_satisfaction     0.6556      0.228      2.869      0.006       0.195       1.116\n",
      "==============================================================================\n",
      "Omnibus:                        3.939   Durbin-Watson:                   1.334\n",
      "Prob(Omnibus):                  0.140   Jarque-Bera (JB):                3.105\n",
      "Skew:                          -0.497   Prob(JB):                        0.212\n",
      "Kurtosis:                       2.247   Cond. No.                     4.30e+04\n",
      "==============================================================================\n",
      "\n",
      "Notes:\n",
      "[1] Standard Errors assume that the covariance matrix of the errors is correctly specified.\n",
      "[2] The condition number is large, 4.3e+04. This might indicate that there are\n",
      "strong multicollinearity or other numerical problems.\n"
     ]
    }
   ],
   "source": [
    "test = ols('today_score ~ yesterday_step_cnt + yesterday_satisfaction', data = peacock).fit().summary()\n",
    "print(test)"
   ]
  },
  {
   "cell_type": "markdown",
   "id": "9762b8ae",
   "metadata": {},
   "source": [
    "## 전날 만족도만 확인"
   ]
  },
  {
   "cell_type": "code",
   "execution_count": 90,
   "id": "bd7a0011",
   "metadata": {},
   "outputs": [
    {
     "name": "stdout",
     "output_type": "stream",
     "text": [
      "                            OLS Regression Results                            \n",
      "==============================================================================\n",
      "Dep. Variable:            today_score   R-squared:                       0.225\n",
      "Model:                            OLS   Adj. R-squared:                  0.208\n",
      "Method:                 Least Squares   F-statistic:                     13.32\n",
      "Date:                Thu, 24 Nov 2022   Prob (F-statistic):           0.000668\n",
      "Time:                        18:49:51   Log-Likelihood:                -65.043\n",
      "No. Observations:                  48   AIC:                             134.1\n",
      "Df Residuals:                      46   BIC:                             137.8\n",
      "Df Model:                           1                                         \n",
      "Covariance Type:            nonrobust                                         \n",
      "==========================================================================================\n",
      "                             coef    std err          t      P>|t|      [0.025      0.975]\n",
      "------------------------------------------------------------------------------------------\n",
      "Intercept                  4.2373      0.563      7.527      0.000       3.104       5.370\n",
      "yesterday_satisfaction     0.7588      0.208      3.650      0.001       0.340       1.177\n",
      "==============================================================================\n",
      "Omnibus:                        3.769   Durbin-Watson:                   1.284\n",
      "Prob(Omnibus):                  0.152   Jarque-Bera (JB):                2.916\n",
      "Skew:                          -0.469   Prob(JB):                        0.233\n",
      "Kurtosis:                       2.241   Cond. No.                         12.4\n",
      "==============================================================================\n",
      "\n",
      "Notes:\n",
      "[1] Standard Errors assume that the covariance matrix of the errors is correctly specified.\n"
     ]
    }
   ],
   "source": [
    "test = ols('today_score ~ yesterday_satisfaction', data = peacock).fit().summary()\n",
    "print(test)"
   ]
  },
  {
   "cell_type": "markdown",
   "id": "04195da4",
   "metadata": {},
   "source": [
    "### 전날 만족도에 영향을 미치는 변수는?\n",
    "- 상관관계를 살펴봤을 때 높게 나온 변수를 사용"
   ]
  },
  {
   "cell_type": "code",
   "execution_count": 83,
   "id": "9b5a5309",
   "metadata": {},
   "outputs": [
    {
     "name": "stdout",
     "output_type": "stream",
     "text": [
      "                              OLS Regression Results                              \n",
      "==================================================================================\n",
      "Dep. Variable:     yesterday_satisfaction   R-squared:                       0.175\n",
      "Model:                                OLS   Adj. R-squared:                  0.157\n",
      "Method:                     Least Squares   F-statistic:                     9.761\n",
      "Date:                    Thu, 24 Nov 2022   Prob (F-statistic):            0.00308\n",
      "Time:                            18:44:33   Log-Likelihood:                -43.934\n",
      "No. Observations:                      48   AIC:                             91.87\n",
      "Df Residuals:                          46   BIC:                             95.61\n",
      "Df Model:                               1                                         \n",
      "Covariance Type:                nonrobust                                         \n",
      "======================================================================================\n",
      "                         coef    std err          t      P>|t|      [0.025      0.975]\n",
      "--------------------------------------------------------------------------------------\n",
      "Intercept              2.0882      0.194     10.789      0.000       1.699       2.478\n",
      "yesterday_step_cnt  6.079e-05   1.95e-05      3.124      0.003    2.16e-05      0.0001\n",
      "==============================================================================\n",
      "Omnibus:                        3.295   Durbin-Watson:                   1.504\n",
      "Prob(Omnibus):                  0.193   Jarque-Bera (JB):                2.362\n",
      "Skew:                           0.518   Prob(JB):                        0.307\n",
      "Kurtosis:                       3.326   Cond. No.                     2.16e+04\n",
      "==============================================================================\n",
      "\n",
      "Notes:\n",
      "[1] Standard Errors assume that the covariance matrix of the errors is correctly specified.\n",
      "[2] The condition number is large, 2.16e+04. This might indicate that there are\n",
      "strong multicollinearity or other numerical problems.\n"
     ]
    }
   ],
   "source": [
    "test = ols('yesterday_satisfaction ~ yesterday_step_cnt', data = peacock).fit().summary()\n",
    "print(test)"
   ]
  },
  {
   "cell_type": "code",
   "execution_count": 84,
   "id": "e9c67f82",
   "metadata": {
    "scrolled": true
   },
   "outputs": [
    {
     "name": "stdout",
     "output_type": "stream",
     "text": [
      "                              OLS Regression Results                              \n",
      "==================================================================================\n",
      "Dep. Variable:     yesterday_satisfaction   R-squared:                       0.137\n",
      "Model:                                OLS   Adj. R-squared:                  0.118\n",
      "Method:                     Least Squares   F-statistic:                     7.291\n",
      "Date:                    Thu, 24 Nov 2022   Prob (F-statistic):            0.00967\n",
      "Time:                            18:45:45   Log-Likelihood:                -45.022\n",
      "No. Observations:                      48   AIC:                             94.04\n",
      "Df Residuals:                          46   BIC:                             97.79\n",
      "Df Model:                               1                                         \n",
      "Covariance Type:                nonrobust                                         \n",
      "===============================================================================\n",
      "                  coef    std err          t      P>|t|      [0.025      0.975]\n",
      "-------------------------------------------------------------------------------\n",
      "Intercept       1.4754      0.435      3.389      0.001       0.599       2.352\n",
      "sleep_score     0.4560      0.169      2.700      0.010       0.116       0.796\n",
      "==============================================================================\n",
      "Omnibus:                        4.020   Durbin-Watson:                   1.538\n",
      "Prob(Omnibus):                  0.134   Jarque-Bera (JB):                3.812\n",
      "Skew:                           0.187   Prob(JB):                        0.149\n",
      "Kurtosis:                       4.329   Cond. No.                         14.1\n",
      "==============================================================================\n",
      "\n",
      "Notes:\n",
      "[1] Standard Errors assume that the covariance matrix of the errors is correctly specified.\n"
     ]
    }
   ],
   "source": [
    "test = ols('yesterday_satisfaction ~ sleep_score', data = peacock).fit().summary()\n",
    "print(test)"
   ]
  },
  {
   "cell_type": "markdown",
   "id": "8871e077",
   "metadata": {},
   "source": [
    "### 전날 만족도에 걸음수와 수면질의 영향 확인"
   ]
  },
  {
   "cell_type": "code",
   "execution_count": 85,
   "id": "45932c00",
   "metadata": {
    "scrolled": false
   },
   "outputs": [
    {
     "name": "stdout",
     "output_type": "stream",
     "text": [
      "                              OLS Regression Results                              \n",
      "==================================================================================\n",
      "Dep. Variable:     yesterday_satisfaction   R-squared:                       0.251\n",
      "Model:                                OLS   Adj. R-squared:                  0.217\n",
      "Method:                     Least Squares   F-statistic:                     7.525\n",
      "Date:                    Thu, 24 Nov 2022   Prob (F-statistic):            0.00152\n",
      "Time:                            18:46:07   Log-Likelihood:                -41.628\n",
      "No. Observations:                      48   AIC:                             89.26\n",
      "Df Residuals:                          45   BIC:                             94.87\n",
      "Df Model:                               2                                         \n",
      "Covariance Type:                nonrobust                                         \n",
      "======================================================================================\n",
      "                         coef    std err          t      P>|t|      [0.025      0.975]\n",
      "--------------------------------------------------------------------------------------\n",
      "Intercept              1.2964      0.416      3.118      0.003       0.459       2.134\n",
      "yesterday_step_cnt  5.059e-05   1.94e-05      2.614      0.012    1.16e-05    8.96e-05\n",
      "sleep_score            0.3498      0.164      2.130      0.039       0.019       0.681\n",
      "==============================================================================\n",
      "Omnibus:                        5.998   Durbin-Watson:                   1.481\n",
      "Prob(Omnibus):                  0.050   Jarque-Bera (JB):                5.532\n",
      "Skew:                           0.501   Prob(JB):                       0.0629\n",
      "Kurtosis:                       4.327   Cond. No.                     5.12e+04\n",
      "==============================================================================\n",
      "\n",
      "Notes:\n",
      "[1] Standard Errors assume that the covariance matrix of the errors is correctly specified.\n",
      "[2] The condition number is large, 5.12e+04. This might indicate that there are\n",
      "strong multicollinearity or other numerical problems.\n"
     ]
    }
   ],
   "source": [
    "test = ols('yesterday_satisfaction ~ yesterday_step_cnt + sleep_score', data = peacock).fit().summary()\n",
    "print(test)"
   ]
  },
  {
   "cell_type": "markdown",
   "id": "1a50e3d6",
   "metadata": {},
   "source": [
    "# 최종 회귀식"
   ]
  },
  {
   "cell_type": "markdown",
   "id": "bd33c6b6",
   "metadata": {},
   "source": [
    "- 해석: 공작은 오늘나의점수를 높게 시작하기 위해서는 전날 만족스러운 하루를 보내야 한다. 다른 변수는 큰 영향이 없다. 만족스러운 하루를 보내는 데에는 많이 걷고 잘 자는 게 도움이 된다. "
   ]
  },
  {
   "cell_type": "code",
   "execution_count": 95,
   "id": "d58c6deb",
   "metadata": {},
   "outputs": [
    {
     "name": "stdout",
     "output_type": "stream",
     "text": [
      "                            OLS Regression Results                            \n",
      "==============================================================================\n",
      "Dep. Variable:            today_score   R-squared:                       0.225\n",
      "Model:                            OLS   Adj. R-squared:                  0.208\n",
      "Method:                 Least Squares   F-statistic:                     13.32\n",
      "Date:                Thu, 24 Nov 2022   Prob (F-statistic):           0.000668\n",
      "Time:                        18:53:05   Log-Likelihood:                -65.043\n",
      "No. Observations:                  48   AIC:                             134.1\n",
      "Df Residuals:                      46   BIC:                             137.8\n",
      "Df Model:                           1                                         \n",
      "Covariance Type:            nonrobust                                         \n",
      "==========================================================================================\n",
      "                             coef    std err          t      P>|t|      [0.025      0.975]\n",
      "------------------------------------------------------------------------------------------\n",
      "Intercept                  4.2373      0.563      7.527      0.000       3.104       5.370\n",
      "yesterday_satisfaction     0.7588      0.208      3.650      0.001       0.340       1.177\n",
      "==============================================================================\n",
      "Omnibus:                        3.769   Durbin-Watson:                   1.284\n",
      "Prob(Omnibus):                  0.152   Jarque-Bera (JB):                2.916\n",
      "Skew:                          -0.469   Prob(JB):                        0.233\n",
      "Kurtosis:                       2.241   Cond. No.                         12.4\n",
      "==============================================================================\n",
      "\n",
      "Notes:\n",
      "[1] Standard Errors assume that the covariance matrix of the errors is correctly specified.\n"
     ]
    }
   ],
   "source": [
    "test = ols('today_score ~ yesterday_satisfaction', data = peacock).fit().summary()\n",
    "print(test)"
   ]
  }
 ],
 "metadata": {
  "kernelspec": {
   "display_name": "Python 3 (ipykernel)",
   "language": "python",
   "name": "python3"
  },
  "language_info": {
   "codemirror_mode": {
    "name": "ipython",
    "version": 3
   },
   "file_extension": ".py",
   "mimetype": "text/x-python",
   "name": "python",
   "nbconvert_exporter": "python",
   "pygments_lexer": "ipython3",
   "version": "3.9.12"
  },
  "toc": {
   "base_numbering": 1,
   "nav_menu": {},
   "number_sections": true,
   "sideBar": true,
   "skip_h1_title": false,
   "title_cell": "Table of Contents",
   "title_sidebar": "Contents",
   "toc_cell": false,
   "toc_position": {},
   "toc_section_display": true,
   "toc_window_display": false
  }
 },
 "nbformat": 4,
 "nbformat_minor": 5
}
