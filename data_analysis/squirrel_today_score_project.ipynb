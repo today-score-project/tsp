{
  "nbformat": 4,
  "nbformat_minor": 0,
  "metadata": {
    "colab": {
      "provenance": [],
      "collapsed_sections": [
        "RSpUf6yp9-w2",
        "h8xqo58-1SbG"
      ],
      "toc_visible": true
    },
    "kernelspec": {
      "name": "python3",
      "display_name": "Python 3"
    },
    "language_info": {
      "name": "python"
    }
  },
  "cells": [
    {
      "cell_type": "markdown",
      "source": [
        "# 결과 요약\n",
        "다중 회귀 결과 최종 모델은 '전날 만족도'와 '수면시간'이 독립변수인 회귀모델이다.\n",
        "\n",
        "----------------------------------------------------------------------------\n",
        "\n",
        "회귀식 : today_score = 0.7735 * yesterday_satisfaction + 0.0077 * sleep_time\n",
        "\n",
        "독립변수 '전날 만족도'와 '수면시간'은 squirrel의 '오늘의 점수'를 약 27% 설명하며, 전날 만족도가 1점 높아지면 '오늘의 점수'가 0.7735점 높아지고, 수면 시간이 1분 증가하면 '오늘의 점수'는 0.0077점 높아진다."
      ],
      "metadata": {
        "id": "uC1EqIa9y9ki"
      }
    },
    {
      "cell_type": "code",
      "execution_count": 1,
      "metadata": {
        "id": "5oGJMtyh9rSK"
      },
      "outputs": [],
      "source": [
        "import pandas as pd\n",
        "import  numpy  as np\n",
        "from sklearn.preprocessing import MinMaxScaler\n",
        "from statsmodels.formula.api import ols\n",
        "from scipy.stats import skew, kurtosis\n",
        "import seaborn as sns\n",
        "import matplotlib.pyplot as plt\n",
        "import statsmodels.api as sm\n",
        "from statsmodels.stats.outliers_influence import variance_inflation_factor"
      ]
    },
    {
      "cell_type": "code",
      "source": [
        "# matplotlib 한글 폰트 출력코드, 윈도우 / 맥 모두 동작합니다!\n",
        "import matplotlib\n",
        "from matplotlib import font_manager, rc\n",
        "import platform\n",
        "try : \n",
        "    if platform.system() == 'Windows':\n",
        "    # 윈도우인 경우\n",
        "        font_name = font_manager.FontProperties(fname=\"c:/Windows/Fonts/malgun.ttf\").get_name()\n",
        "        rc('font', family=font_name)\n",
        "    else:    \n",
        "    # Mac 인 경우\n",
        "        rc('font', family='AppleGothic')\n",
        "except : \n",
        "    pass\n",
        "matplotlib.rcParams['axes.unicode_minus'] = False"
      ],
      "metadata": {
        "id": "jT4kI1eA97Jt"
      },
      "execution_count": 2,
      "outputs": []
    },
    {
      "cell_type": "code",
      "source": [
        "# 구글 코랩과 google drive를 mount(연결) 하는 코드\n",
        "\n",
        "from google.colab import drive\n",
        "drive.mount('/content/drive')"
      ],
      "metadata": {
        "colab": {
          "base_uri": "https://localhost:8080/"
        },
        "id": "wQhv6liO97NM",
        "outputId": "6e29d1d7-1679-4fee-bb0c-e49a91b7a121"
      },
      "execution_count": 3,
      "outputs": [
        {
          "output_type": "stream",
          "name": "stdout",
          "text": [
            "Mounted at /content/drive\n"
          ]
        }
      ]
    },
    {
      "cell_type": "code",
      "source": [
        "# google drive 내부에 파일이 담긴 폴더 경로를 입력하세요\n",
        "path = '/content/drive/MyDrive/colab/'"
      ],
      "metadata": {
        "id": "CBn_A-Uw97QH"
      },
      "execution_count": 5,
      "outputs": []
    },
    {
      "cell_type": "markdown",
      "source": [
        "# 1. 데이터 불러오기"
      ],
      "metadata": {
        "id": "RSpUf6yp9-w2"
      }
    },
    {
      "cell_type": "code",
      "source": [
        "today = pd.read_excel(path + \"today_score_data.xlsx\")"
      ],
      "metadata": {
        "id": "-t_rvSbU97S2"
      },
      "execution_count": 6,
      "outputs": []
    },
    {
      "cell_type": "code",
      "source": [
        "today.head(3)"
      ],
      "metadata": {
        "colab": {
          "base_uri": "https://localhost:8080/",
          "height": 289
        },
        "id": "Isbd9Y2WVRoB",
        "outputId": "68c75676-f6ce-4166-dd6f-6de4c02e499c"
      },
      "execution_count": 7,
      "outputs": [
        {
          "output_type": "execute_result",
          "data": {
            "text/plain": [
              "   cnt    name  today_score       date  dayofweek  dayofweek_check  avg_temp  \\\n",
              "0    1  quokka            9 2022-09-28          4                0      20.4   \n",
              "1    2  quokka            6 2022-09-29          5                0      20.4   \n",
              "2    3  quokka            4 2022-09-30          6                0      20.7   \n",
              "\n",
              "   low_temp  high_temp  precipitation  ...  yesterday_exercise_time  \\\n",
              "0      16.1       26.1            0.0  ...                       70   \n",
              "1      16.4       26.5            0.0  ...                        0   \n",
              "2      14.8       27.7            0.0  ...                        0   \n",
              "\n",
              "   yesterday_step_cnt yesterday_drinking period  caffeine  \\\n",
              "0               11772                  0      0         0   \n",
              "1                5800                  0      0         0   \n",
              "2                2775                  0      0         0   \n",
              "\n",
              "   yesterday_satisfaction  gotobed_range  getup_range  gotobed_late  \\\n",
              "0                       2           03시대         08시대             1   \n",
              "1                       3           03시대         08시대             1   \n",
              "2                       4           05시대         10시대             1   \n",
              "\n",
              "   getup_early  \n",
              "0            0  \n",
              "1            0  \n",
              "2            0  \n",
              "\n",
              "[3 rows x 29 columns]"
            ],
            "text/html": [
              "\n",
              "  <div id=\"df-04356eea-9051-4596-870c-7b6c44a02817\">\n",
              "    <div class=\"colab-df-container\">\n",
              "      <div>\n",
              "<style scoped>\n",
              "    .dataframe tbody tr th:only-of-type {\n",
              "        vertical-align: middle;\n",
              "    }\n",
              "\n",
              "    .dataframe tbody tr th {\n",
              "        vertical-align: top;\n",
              "    }\n",
              "\n",
              "    .dataframe thead th {\n",
              "        text-align: right;\n",
              "    }\n",
              "</style>\n",
              "<table border=\"1\" class=\"dataframe\">\n",
              "  <thead>\n",
              "    <tr style=\"text-align: right;\">\n",
              "      <th></th>\n",
              "      <th>cnt</th>\n",
              "      <th>name</th>\n",
              "      <th>today_score</th>\n",
              "      <th>date</th>\n",
              "      <th>dayofweek</th>\n",
              "      <th>dayofweek_check</th>\n",
              "      <th>avg_temp</th>\n",
              "      <th>low_temp</th>\n",
              "      <th>high_temp</th>\n",
              "      <th>precipitation</th>\n",
              "      <th>...</th>\n",
              "      <th>yesterday_exercise_time</th>\n",
              "      <th>yesterday_step_cnt</th>\n",
              "      <th>yesterday_drinking</th>\n",
              "      <th>period</th>\n",
              "      <th>caffeine</th>\n",
              "      <th>yesterday_satisfaction</th>\n",
              "      <th>gotobed_range</th>\n",
              "      <th>getup_range</th>\n",
              "      <th>gotobed_late</th>\n",
              "      <th>getup_early</th>\n",
              "    </tr>\n",
              "  </thead>\n",
              "  <tbody>\n",
              "    <tr>\n",
              "      <th>0</th>\n",
              "      <td>1</td>\n",
              "      <td>quokka</td>\n",
              "      <td>9</td>\n",
              "      <td>2022-09-28</td>\n",
              "      <td>4</td>\n",
              "      <td>0</td>\n",
              "      <td>20.4</td>\n",
              "      <td>16.1</td>\n",
              "      <td>26.1</td>\n",
              "      <td>0.0</td>\n",
              "      <td>...</td>\n",
              "      <td>70</td>\n",
              "      <td>11772</td>\n",
              "      <td>0</td>\n",
              "      <td>0</td>\n",
              "      <td>0</td>\n",
              "      <td>2</td>\n",
              "      <td>03시대</td>\n",
              "      <td>08시대</td>\n",
              "      <td>1</td>\n",
              "      <td>0</td>\n",
              "    </tr>\n",
              "    <tr>\n",
              "      <th>1</th>\n",
              "      <td>2</td>\n",
              "      <td>quokka</td>\n",
              "      <td>6</td>\n",
              "      <td>2022-09-29</td>\n",
              "      <td>5</td>\n",
              "      <td>0</td>\n",
              "      <td>20.4</td>\n",
              "      <td>16.4</td>\n",
              "      <td>26.5</td>\n",
              "      <td>0.0</td>\n",
              "      <td>...</td>\n",
              "      <td>0</td>\n",
              "      <td>5800</td>\n",
              "      <td>0</td>\n",
              "      <td>0</td>\n",
              "      <td>0</td>\n",
              "      <td>3</td>\n",
              "      <td>03시대</td>\n",
              "      <td>08시대</td>\n",
              "      <td>1</td>\n",
              "      <td>0</td>\n",
              "    </tr>\n",
              "    <tr>\n",
              "      <th>2</th>\n",
              "      <td>3</td>\n",
              "      <td>quokka</td>\n",
              "      <td>4</td>\n",
              "      <td>2022-09-30</td>\n",
              "      <td>6</td>\n",
              "      <td>0</td>\n",
              "      <td>20.7</td>\n",
              "      <td>14.8</td>\n",
              "      <td>27.7</td>\n",
              "      <td>0.0</td>\n",
              "      <td>...</td>\n",
              "      <td>0</td>\n",
              "      <td>2775</td>\n",
              "      <td>0</td>\n",
              "      <td>0</td>\n",
              "      <td>0</td>\n",
              "      <td>4</td>\n",
              "      <td>05시대</td>\n",
              "      <td>10시대</td>\n",
              "      <td>1</td>\n",
              "      <td>0</td>\n",
              "    </tr>\n",
              "  </tbody>\n",
              "</table>\n",
              "<p>3 rows × 29 columns</p>\n",
              "</div>\n",
              "      <button class=\"colab-df-convert\" onclick=\"convertToInteractive('df-04356eea-9051-4596-870c-7b6c44a02817')\"\n",
              "              title=\"Convert this dataframe to an interactive table.\"\n",
              "              style=\"display:none;\">\n",
              "        \n",
              "  <svg xmlns=\"http://www.w3.org/2000/svg\" height=\"24px\"viewBox=\"0 0 24 24\"\n",
              "       width=\"24px\">\n",
              "    <path d=\"M0 0h24v24H0V0z\" fill=\"none\"/>\n",
              "    <path d=\"M18.56 5.44l.94 2.06.94-2.06 2.06-.94-2.06-.94-.94-2.06-.94 2.06-2.06.94zm-11 1L8.5 8.5l.94-2.06 2.06-.94-2.06-.94L8.5 2.5l-.94 2.06-2.06.94zm10 10l.94 2.06.94-2.06 2.06-.94-2.06-.94-.94-2.06-.94 2.06-2.06.94z\"/><path d=\"M17.41 7.96l-1.37-1.37c-.4-.4-.92-.59-1.43-.59-.52 0-1.04.2-1.43.59L10.3 9.45l-7.72 7.72c-.78.78-.78 2.05 0 2.83L4 21.41c.39.39.9.59 1.41.59.51 0 1.02-.2 1.41-.59l7.78-7.78 2.81-2.81c.8-.78.8-2.07 0-2.86zM5.41 20L4 18.59l7.72-7.72 1.47 1.35L5.41 20z\"/>\n",
              "  </svg>\n",
              "      </button>\n",
              "      \n",
              "  <style>\n",
              "    .colab-df-container {\n",
              "      display:flex;\n",
              "      flex-wrap:wrap;\n",
              "      gap: 12px;\n",
              "    }\n",
              "\n",
              "    .colab-df-convert {\n",
              "      background-color: #E8F0FE;\n",
              "      border: none;\n",
              "      border-radius: 50%;\n",
              "      cursor: pointer;\n",
              "      display: none;\n",
              "      fill: #1967D2;\n",
              "      height: 32px;\n",
              "      padding: 0 0 0 0;\n",
              "      width: 32px;\n",
              "    }\n",
              "\n",
              "    .colab-df-convert:hover {\n",
              "      background-color: #E2EBFA;\n",
              "      box-shadow: 0px 1px 2px rgba(60, 64, 67, 0.3), 0px 1px 3px 1px rgba(60, 64, 67, 0.15);\n",
              "      fill: #174EA6;\n",
              "    }\n",
              "\n",
              "    [theme=dark] .colab-df-convert {\n",
              "      background-color: #3B4455;\n",
              "      fill: #D2E3FC;\n",
              "    }\n",
              "\n",
              "    [theme=dark] .colab-df-convert:hover {\n",
              "      background-color: #434B5C;\n",
              "      box-shadow: 0px 1px 3px 1px rgba(0, 0, 0, 0.15);\n",
              "      filter: drop-shadow(0px 1px 2px rgba(0, 0, 0, 0.3));\n",
              "      fill: #FFFFFF;\n",
              "    }\n",
              "  </style>\n",
              "\n",
              "      <script>\n",
              "        const buttonEl =\n",
              "          document.querySelector('#df-04356eea-9051-4596-870c-7b6c44a02817 button.colab-df-convert');\n",
              "        buttonEl.style.display =\n",
              "          google.colab.kernel.accessAllowed ? 'block' : 'none';\n",
              "\n",
              "        async function convertToInteractive(key) {\n",
              "          const element = document.querySelector('#df-04356eea-9051-4596-870c-7b6c44a02817');\n",
              "          const dataTable =\n",
              "            await google.colab.kernel.invokeFunction('convertToInteractive',\n",
              "                                                     [key], {});\n",
              "          if (!dataTable) return;\n",
              "\n",
              "          const docLinkHtml = 'Like what you see? Visit the ' +\n",
              "            '<a target=\"_blank\" href=https://colab.research.google.com/notebooks/data_table.ipynb>data table notebook</a>'\n",
              "            + ' to learn more about interactive tables.';\n",
              "          element.innerHTML = '';\n",
              "          dataTable['output_type'] = 'display_data';\n",
              "          await google.colab.output.renderOutput(dataTable, element);\n",
              "          const docLink = document.createElement('div');\n",
              "          docLink.innerHTML = docLinkHtml;\n",
              "          element.appendChild(docLink);\n",
              "        }\n",
              "      </script>\n",
              "    </div>\n",
              "  </div>\n",
              "  "
            ]
          },
          "metadata": {},
          "execution_count": 7
        }
      ]
    },
    {
      "cell_type": "code",
      "source": [
        "squirrel =  today[today['name']=='squirrel']"
      ],
      "metadata": {
        "id": "84dWSpOK97Vo"
      },
      "execution_count": 8,
      "outputs": []
    },
    {
      "cell_type": "code",
      "source": [
        "squirrel.head(3)"
      ],
      "metadata": {
        "colab": {
          "base_uri": "https://localhost:8080/",
          "height": 289
        },
        "id": "1VJWWTldVPse",
        "outputId": "e88b37b1-7cb4-4020-ade0-eef2221b9947"
      },
      "execution_count": 14,
      "outputs": [
        {
          "output_type": "execute_result",
          "data": {
            "text/plain": [
              "     cnt      name  today_score       date  dayofweek  dayofweek_check  \\\n",
              "144  145  squirrel            6 2022-09-28          4                0   \n",
              "145  146  squirrel            8 2022-09-29          5                0   \n",
              "146  147  squirrel            7 2022-09-30          6                0   \n",
              "\n",
              "     avg_temp  low_temp  high_temp  precipitation  ...  \\\n",
              "144      20.4      16.1       26.1            0.0  ...   \n",
              "145      20.4      16.4       26.5            0.0  ...   \n",
              "146      20.7      14.8       27.7            0.0  ...   \n",
              "\n",
              "     yesterday_exercise_time  yesterday_step_cnt yesterday_drinking period  \\\n",
              "144                        0                5567                  0      0   \n",
              "145                        0                7057                  1      0   \n",
              "146                        0                2441                  1      0   \n",
              "\n",
              "     caffeine  yesterday_satisfaction  gotobed_range  getup_range  \\\n",
              "144         1                       4           02시대         08시대   \n",
              "145         1                       3           00시대         09시대   \n",
              "146         1                       4           00시대         08시대   \n",
              "\n",
              "     gotobed_late  getup_early  \n",
              "144             1            0  \n",
              "145             0            0  \n",
              "146             0            0  \n",
              "\n",
              "[3 rows x 29 columns]"
            ],
            "text/html": [
              "\n",
              "  <div id=\"df-3dffca11-ecc0-447a-88eb-afa7689a3c42\">\n",
              "    <div class=\"colab-df-container\">\n",
              "      <div>\n",
              "<style scoped>\n",
              "    .dataframe tbody tr th:only-of-type {\n",
              "        vertical-align: middle;\n",
              "    }\n",
              "\n",
              "    .dataframe tbody tr th {\n",
              "        vertical-align: top;\n",
              "    }\n",
              "\n",
              "    .dataframe thead th {\n",
              "        text-align: right;\n",
              "    }\n",
              "</style>\n",
              "<table border=\"1\" class=\"dataframe\">\n",
              "  <thead>\n",
              "    <tr style=\"text-align: right;\">\n",
              "      <th></th>\n",
              "      <th>cnt</th>\n",
              "      <th>name</th>\n",
              "      <th>today_score</th>\n",
              "      <th>date</th>\n",
              "      <th>dayofweek</th>\n",
              "      <th>dayofweek_check</th>\n",
              "      <th>avg_temp</th>\n",
              "      <th>low_temp</th>\n",
              "      <th>high_temp</th>\n",
              "      <th>precipitation</th>\n",
              "      <th>...</th>\n",
              "      <th>yesterday_exercise_time</th>\n",
              "      <th>yesterday_step_cnt</th>\n",
              "      <th>yesterday_drinking</th>\n",
              "      <th>period</th>\n",
              "      <th>caffeine</th>\n",
              "      <th>yesterday_satisfaction</th>\n",
              "      <th>gotobed_range</th>\n",
              "      <th>getup_range</th>\n",
              "      <th>gotobed_late</th>\n",
              "      <th>getup_early</th>\n",
              "    </tr>\n",
              "  </thead>\n",
              "  <tbody>\n",
              "    <tr>\n",
              "      <th>144</th>\n",
              "      <td>145</td>\n",
              "      <td>squirrel</td>\n",
              "      <td>6</td>\n",
              "      <td>2022-09-28</td>\n",
              "      <td>4</td>\n",
              "      <td>0</td>\n",
              "      <td>20.4</td>\n",
              "      <td>16.1</td>\n",
              "      <td>26.1</td>\n",
              "      <td>0.0</td>\n",
              "      <td>...</td>\n",
              "      <td>0</td>\n",
              "      <td>5567</td>\n",
              "      <td>0</td>\n",
              "      <td>0</td>\n",
              "      <td>1</td>\n",
              "      <td>4</td>\n",
              "      <td>02시대</td>\n",
              "      <td>08시대</td>\n",
              "      <td>1</td>\n",
              "      <td>0</td>\n",
              "    </tr>\n",
              "    <tr>\n",
              "      <th>145</th>\n",
              "      <td>146</td>\n",
              "      <td>squirrel</td>\n",
              "      <td>8</td>\n",
              "      <td>2022-09-29</td>\n",
              "      <td>5</td>\n",
              "      <td>0</td>\n",
              "      <td>20.4</td>\n",
              "      <td>16.4</td>\n",
              "      <td>26.5</td>\n",
              "      <td>0.0</td>\n",
              "      <td>...</td>\n",
              "      <td>0</td>\n",
              "      <td>7057</td>\n",
              "      <td>1</td>\n",
              "      <td>0</td>\n",
              "      <td>1</td>\n",
              "      <td>3</td>\n",
              "      <td>00시대</td>\n",
              "      <td>09시대</td>\n",
              "      <td>0</td>\n",
              "      <td>0</td>\n",
              "    </tr>\n",
              "    <tr>\n",
              "      <th>146</th>\n",
              "      <td>147</td>\n",
              "      <td>squirrel</td>\n",
              "      <td>7</td>\n",
              "      <td>2022-09-30</td>\n",
              "      <td>6</td>\n",
              "      <td>0</td>\n",
              "      <td>20.7</td>\n",
              "      <td>14.8</td>\n",
              "      <td>27.7</td>\n",
              "      <td>0.0</td>\n",
              "      <td>...</td>\n",
              "      <td>0</td>\n",
              "      <td>2441</td>\n",
              "      <td>1</td>\n",
              "      <td>0</td>\n",
              "      <td>1</td>\n",
              "      <td>4</td>\n",
              "      <td>00시대</td>\n",
              "      <td>08시대</td>\n",
              "      <td>0</td>\n",
              "      <td>0</td>\n",
              "    </tr>\n",
              "  </tbody>\n",
              "</table>\n",
              "<p>3 rows × 29 columns</p>\n",
              "</div>\n",
              "      <button class=\"colab-df-convert\" onclick=\"convertToInteractive('df-3dffca11-ecc0-447a-88eb-afa7689a3c42')\"\n",
              "              title=\"Convert this dataframe to an interactive table.\"\n",
              "              style=\"display:none;\">\n",
              "        \n",
              "  <svg xmlns=\"http://www.w3.org/2000/svg\" height=\"24px\"viewBox=\"0 0 24 24\"\n",
              "       width=\"24px\">\n",
              "    <path d=\"M0 0h24v24H0V0z\" fill=\"none\"/>\n",
              "    <path d=\"M18.56 5.44l.94 2.06.94-2.06 2.06-.94-2.06-.94-.94-2.06-.94 2.06-2.06.94zm-11 1L8.5 8.5l.94-2.06 2.06-.94-2.06-.94L8.5 2.5l-.94 2.06-2.06.94zm10 10l.94 2.06.94-2.06 2.06-.94-2.06-.94-.94-2.06-.94 2.06-2.06.94z\"/><path d=\"M17.41 7.96l-1.37-1.37c-.4-.4-.92-.59-1.43-.59-.52 0-1.04.2-1.43.59L10.3 9.45l-7.72 7.72c-.78.78-.78 2.05 0 2.83L4 21.41c.39.39.9.59 1.41.59.51 0 1.02-.2 1.41-.59l7.78-7.78 2.81-2.81c.8-.78.8-2.07 0-2.86zM5.41 20L4 18.59l7.72-7.72 1.47 1.35L5.41 20z\"/>\n",
              "  </svg>\n",
              "      </button>\n",
              "      \n",
              "  <style>\n",
              "    .colab-df-container {\n",
              "      display:flex;\n",
              "      flex-wrap:wrap;\n",
              "      gap: 12px;\n",
              "    }\n",
              "\n",
              "    .colab-df-convert {\n",
              "      background-color: #E8F0FE;\n",
              "      border: none;\n",
              "      border-radius: 50%;\n",
              "      cursor: pointer;\n",
              "      display: none;\n",
              "      fill: #1967D2;\n",
              "      height: 32px;\n",
              "      padding: 0 0 0 0;\n",
              "      width: 32px;\n",
              "    }\n",
              "\n",
              "    .colab-df-convert:hover {\n",
              "      background-color: #E2EBFA;\n",
              "      box-shadow: 0px 1px 2px rgba(60, 64, 67, 0.3), 0px 1px 3px 1px rgba(60, 64, 67, 0.15);\n",
              "      fill: #174EA6;\n",
              "    }\n",
              "\n",
              "    [theme=dark] .colab-df-convert {\n",
              "      background-color: #3B4455;\n",
              "      fill: #D2E3FC;\n",
              "    }\n",
              "\n",
              "    [theme=dark] .colab-df-convert:hover {\n",
              "      background-color: #434B5C;\n",
              "      box-shadow: 0px 1px 3px 1px rgba(0, 0, 0, 0.15);\n",
              "      filter: drop-shadow(0px 1px 2px rgba(0, 0, 0, 0.3));\n",
              "      fill: #FFFFFF;\n",
              "    }\n",
              "  </style>\n",
              "\n",
              "      <script>\n",
              "        const buttonEl =\n",
              "          document.querySelector('#df-3dffca11-ecc0-447a-88eb-afa7689a3c42 button.colab-df-convert');\n",
              "        buttonEl.style.display =\n",
              "          google.colab.kernel.accessAllowed ? 'block' : 'none';\n",
              "\n",
              "        async function convertToInteractive(key) {\n",
              "          const element = document.querySelector('#df-3dffca11-ecc0-447a-88eb-afa7689a3c42');\n",
              "          const dataTable =\n",
              "            await google.colab.kernel.invokeFunction('convertToInteractive',\n",
              "                                                     [key], {});\n",
              "          if (!dataTable) return;\n",
              "\n",
              "          const docLinkHtml = 'Like what you see? Visit the ' +\n",
              "            '<a target=\"_blank\" href=https://colab.research.google.com/notebooks/data_table.ipynb>data table notebook</a>'\n",
              "            + ' to learn more about interactive tables.';\n",
              "          element.innerHTML = '';\n",
              "          dataTable['output_type'] = 'display_data';\n",
              "          await google.colab.output.renderOutput(dataTable, element);\n",
              "          const docLink = document.createElement('div');\n",
              "          docLink.innerHTML = docLinkHtml;\n",
              "          element.appendChild(docLink);\n",
              "        }\n",
              "      </script>\n",
              "    </div>\n",
              "  </div>\n",
              "  "
            ]
          },
          "metadata": {},
          "execution_count": 14
        }
      ]
    },
    {
      "cell_type": "markdown",
      "source": [
        "## 데이터 확인"
      ],
      "metadata": {
        "id": "h8xqo58-1SbG"
      }
    },
    {
      "cell_type": "code",
      "source": [
        "squirrel.info()"
      ],
      "metadata": {
        "colab": {
          "base_uri": "https://localhost:8080/"
        },
        "id": "tCFe7jiI1MSC",
        "outputId": "51a37625-53f9-45a7-a90f-01a8833dc4ed"
      },
      "execution_count": 9,
      "outputs": [
        {
          "output_type": "stream",
          "name": "stdout",
          "text": [
            "<class 'pandas.core.frame.DataFrame'>\n",
            "Int64Index: 48 entries, 144 to 191\n",
            "Data columns (total 29 columns):\n",
            " #   Column                   Non-Null Count  Dtype         \n",
            "---  ------                   --------------  -----         \n",
            " 0   cnt                      48 non-null     int64         \n",
            " 1   name                     48 non-null     object        \n",
            " 2   today_score              48 non-null     int64         \n",
            " 3   date                     48 non-null     datetime64[ns]\n",
            " 4   dayofweek                48 non-null     int64         \n",
            " 5   dayofweek_check          48 non-null     int64         \n",
            " 6   avg_temp                 48 non-null     float64       \n",
            " 7   low_temp                 48 non-null     float64       \n",
            " 8   high_temp                48 non-null     float64       \n",
            " 9   precipitation            48 non-null     float64       \n",
            " 10  precipitation_check      48 non-null     int64         \n",
            " 11  class_check              48 non-null     int64         \n",
            " 12  gotobed_time             48 non-null     object        \n",
            " 13  getup_time               48 non-null     object        \n",
            " 14  sleep_time               48 non-null     float64       \n",
            " 15  morning_routine          48 non-null     int64         \n",
            " 16  weather_prefer           48 non-null     int64         \n",
            " 17  sleep_score              48 non-null     int64         \n",
            " 18  yesterday_exercise       48 non-null     int64         \n",
            " 19  yesterday_exercise_time  48 non-null     int64         \n",
            " 20  yesterday_step_cnt       48 non-null     int64         \n",
            " 21  yesterday_drinking       48 non-null     int64         \n",
            " 22  period                   48 non-null     int64         \n",
            " 23  caffeine                 48 non-null     int64         \n",
            " 24  yesterday_satisfaction   48 non-null     int64         \n",
            " 25  gotobed_range            48 non-null     object        \n",
            " 26  getup_range              48 non-null     object        \n",
            " 27  gotobed_late             48 non-null     int64         \n",
            " 28  getup_early              48 non-null     int64         \n",
            "dtypes: datetime64[ns](1), float64(5), int64(18), object(5)\n",
            "memory usage: 11.2+ KB\n"
          ]
        }
      ]
    },
    {
      "cell_type": "code",
      "source": [
        "squirrel.describe()"
      ],
      "metadata": {
        "colab": {
          "base_uri": "https://localhost:8080/",
          "height": 394
        },
        "id": "hgCfXl57WBbh",
        "outputId": "9a33d464-db32-4970-d98d-270407c1545e"
      },
      "execution_count": 10,
      "outputs": [
        {
          "output_type": "execute_result",
          "data": {
            "text/plain": [
              "          cnt  today_score  dayofweek  dayofweek_check   avg_temp   low_temp  \\\n",
              "count   48.00    48.000000  48.000000        48.000000  48.000000  48.000000   \n",
              "mean   168.50     6.604167   4.020833         0.291667  13.929167   9.595833   \n",
              "std     14.00     1.898931   2.036785         0.459340   3.762636   3.929591   \n",
              "min    145.00     2.000000   1.000000         0.000000   4.900000   0.800000   \n",
              "25%    156.75     5.000000   2.000000         0.000000  11.175000   6.650000   \n",
              "50%    168.50     7.000000   4.000000         0.000000  13.550000   9.550000   \n",
              "75%    180.25     8.000000   6.000000         1.000000  16.300000  11.800000   \n",
              "max    192.00    10.000000   7.000000         1.000000  21.400000  17.500000   \n",
              "\n",
              "       high_temp  precipitation  precipitation_check  class_check  ...  \\\n",
              "count  48.000000      48.000000            48.000000    48.000000  ...   \n",
              "mean   19.250000       3.792500             0.208333     0.750000  ...   \n",
              "std     4.017197      14.023592             0.410414     0.437595  ...   \n",
              "min     9.800000       0.000000             0.000000     0.000000  ...   \n",
              "25%    16.550000       0.000000             0.000000     0.750000  ...   \n",
              "50%    19.100000       0.000000             0.000000     1.000000  ...   \n",
              "75%    21.600000       0.000000             0.000000     1.000000  ...   \n",
              "max    27.700000      76.000000             1.000000     1.000000  ...   \n",
              "\n",
              "       sleep_score  yesterday_exercise  yesterday_exercise_time  \\\n",
              "count    48.000000                48.0                     48.0   \n",
              "mean      3.750000                 0.0                      0.0   \n",
              "std       1.193956                 0.0                      0.0   \n",
              "min       1.000000                 0.0                      0.0   \n",
              "25%       3.000000                 0.0                      0.0   \n",
              "50%       4.000000                 0.0                      0.0   \n",
              "75%       5.000000                 0.0                      0.0   \n",
              "max       5.000000                 0.0                      0.0   \n",
              "\n",
              "       yesterday_step_cnt  yesterday_drinking  period   caffeine  \\\n",
              "count           48.000000           48.000000    48.0  48.000000   \n",
              "mean          6466.083333            0.333333     0.0   0.750000   \n",
              "std           3572.866457            0.476393     0.0   0.437595   \n",
              "min            118.000000            0.000000     0.0   0.000000   \n",
              "25%           4897.250000            0.000000     0.0   0.750000   \n",
              "50%           5938.000000            0.000000     0.0   1.000000   \n",
              "75%           8333.500000            1.000000     0.0   1.000000   \n",
              "max          13930.000000            1.000000     0.0   1.000000   \n",
              "\n",
              "       yesterday_satisfaction  gotobed_late  getup_early  \n",
              "count               48.000000     48.000000    48.000000  \n",
              "mean                 3.625000      0.541667     0.229167  \n",
              "std                  1.023656      0.503534     0.424744  \n",
              "min                  2.000000      0.000000     0.000000  \n",
              "25%                  3.000000      0.000000     0.000000  \n",
              "50%                  4.000000      1.000000     0.000000  \n",
              "75%                  4.000000      1.000000     0.000000  \n",
              "max                  5.000000      1.000000     1.000000  \n",
              "\n",
              "[8 rows x 23 columns]"
            ],
            "text/html": [
              "\n",
              "  <div id=\"df-3e1e7c74-7b7d-4a6f-b07a-d5f07912b01f\">\n",
              "    <div class=\"colab-df-container\">\n",
              "      <div>\n",
              "<style scoped>\n",
              "    .dataframe tbody tr th:only-of-type {\n",
              "        vertical-align: middle;\n",
              "    }\n",
              "\n",
              "    .dataframe tbody tr th {\n",
              "        vertical-align: top;\n",
              "    }\n",
              "\n",
              "    .dataframe thead th {\n",
              "        text-align: right;\n",
              "    }\n",
              "</style>\n",
              "<table border=\"1\" class=\"dataframe\">\n",
              "  <thead>\n",
              "    <tr style=\"text-align: right;\">\n",
              "      <th></th>\n",
              "      <th>cnt</th>\n",
              "      <th>today_score</th>\n",
              "      <th>dayofweek</th>\n",
              "      <th>dayofweek_check</th>\n",
              "      <th>avg_temp</th>\n",
              "      <th>low_temp</th>\n",
              "      <th>high_temp</th>\n",
              "      <th>precipitation</th>\n",
              "      <th>precipitation_check</th>\n",
              "      <th>class_check</th>\n",
              "      <th>...</th>\n",
              "      <th>sleep_score</th>\n",
              "      <th>yesterday_exercise</th>\n",
              "      <th>yesterday_exercise_time</th>\n",
              "      <th>yesterday_step_cnt</th>\n",
              "      <th>yesterday_drinking</th>\n",
              "      <th>period</th>\n",
              "      <th>caffeine</th>\n",
              "      <th>yesterday_satisfaction</th>\n",
              "      <th>gotobed_late</th>\n",
              "      <th>getup_early</th>\n",
              "    </tr>\n",
              "  </thead>\n",
              "  <tbody>\n",
              "    <tr>\n",
              "      <th>count</th>\n",
              "      <td>48.00</td>\n",
              "      <td>48.000000</td>\n",
              "      <td>48.000000</td>\n",
              "      <td>48.000000</td>\n",
              "      <td>48.000000</td>\n",
              "      <td>48.000000</td>\n",
              "      <td>48.000000</td>\n",
              "      <td>48.000000</td>\n",
              "      <td>48.000000</td>\n",
              "      <td>48.000000</td>\n",
              "      <td>...</td>\n",
              "      <td>48.000000</td>\n",
              "      <td>48.0</td>\n",
              "      <td>48.0</td>\n",
              "      <td>48.000000</td>\n",
              "      <td>48.000000</td>\n",
              "      <td>48.0</td>\n",
              "      <td>48.000000</td>\n",
              "      <td>48.000000</td>\n",
              "      <td>48.000000</td>\n",
              "      <td>48.000000</td>\n",
              "    </tr>\n",
              "    <tr>\n",
              "      <th>mean</th>\n",
              "      <td>168.50</td>\n",
              "      <td>6.604167</td>\n",
              "      <td>4.020833</td>\n",
              "      <td>0.291667</td>\n",
              "      <td>13.929167</td>\n",
              "      <td>9.595833</td>\n",
              "      <td>19.250000</td>\n",
              "      <td>3.792500</td>\n",
              "      <td>0.208333</td>\n",
              "      <td>0.750000</td>\n",
              "      <td>...</td>\n",
              "      <td>3.750000</td>\n",
              "      <td>0.0</td>\n",
              "      <td>0.0</td>\n",
              "      <td>6466.083333</td>\n",
              "      <td>0.333333</td>\n",
              "      <td>0.0</td>\n",
              "      <td>0.750000</td>\n",
              "      <td>3.625000</td>\n",
              "      <td>0.541667</td>\n",
              "      <td>0.229167</td>\n",
              "    </tr>\n",
              "    <tr>\n",
              "      <th>std</th>\n",
              "      <td>14.00</td>\n",
              "      <td>1.898931</td>\n",
              "      <td>2.036785</td>\n",
              "      <td>0.459340</td>\n",
              "      <td>3.762636</td>\n",
              "      <td>3.929591</td>\n",
              "      <td>4.017197</td>\n",
              "      <td>14.023592</td>\n",
              "      <td>0.410414</td>\n",
              "      <td>0.437595</td>\n",
              "      <td>...</td>\n",
              "      <td>1.193956</td>\n",
              "      <td>0.0</td>\n",
              "      <td>0.0</td>\n",
              "      <td>3572.866457</td>\n",
              "      <td>0.476393</td>\n",
              "      <td>0.0</td>\n",
              "      <td>0.437595</td>\n",
              "      <td>1.023656</td>\n",
              "      <td>0.503534</td>\n",
              "      <td>0.424744</td>\n",
              "    </tr>\n",
              "    <tr>\n",
              "      <th>min</th>\n",
              "      <td>145.00</td>\n",
              "      <td>2.000000</td>\n",
              "      <td>1.000000</td>\n",
              "      <td>0.000000</td>\n",
              "      <td>4.900000</td>\n",
              "      <td>0.800000</td>\n",
              "      <td>9.800000</td>\n",
              "      <td>0.000000</td>\n",
              "      <td>0.000000</td>\n",
              "      <td>0.000000</td>\n",
              "      <td>...</td>\n",
              "      <td>1.000000</td>\n",
              "      <td>0.0</td>\n",
              "      <td>0.0</td>\n",
              "      <td>118.000000</td>\n",
              "      <td>0.000000</td>\n",
              "      <td>0.0</td>\n",
              "      <td>0.000000</td>\n",
              "      <td>2.000000</td>\n",
              "      <td>0.000000</td>\n",
              "      <td>0.000000</td>\n",
              "    </tr>\n",
              "    <tr>\n",
              "      <th>25%</th>\n",
              "      <td>156.75</td>\n",
              "      <td>5.000000</td>\n",
              "      <td>2.000000</td>\n",
              "      <td>0.000000</td>\n",
              "      <td>11.175000</td>\n",
              "      <td>6.650000</td>\n",
              "      <td>16.550000</td>\n",
              "      <td>0.000000</td>\n",
              "      <td>0.000000</td>\n",
              "      <td>0.750000</td>\n",
              "      <td>...</td>\n",
              "      <td>3.000000</td>\n",
              "      <td>0.0</td>\n",
              "      <td>0.0</td>\n",
              "      <td>4897.250000</td>\n",
              "      <td>0.000000</td>\n",
              "      <td>0.0</td>\n",
              "      <td>0.750000</td>\n",
              "      <td>3.000000</td>\n",
              "      <td>0.000000</td>\n",
              "      <td>0.000000</td>\n",
              "    </tr>\n",
              "    <tr>\n",
              "      <th>50%</th>\n",
              "      <td>168.50</td>\n",
              "      <td>7.000000</td>\n",
              "      <td>4.000000</td>\n",
              "      <td>0.000000</td>\n",
              "      <td>13.550000</td>\n",
              "      <td>9.550000</td>\n",
              "      <td>19.100000</td>\n",
              "      <td>0.000000</td>\n",
              "      <td>0.000000</td>\n",
              "      <td>1.000000</td>\n",
              "      <td>...</td>\n",
              "      <td>4.000000</td>\n",
              "      <td>0.0</td>\n",
              "      <td>0.0</td>\n",
              "      <td>5938.000000</td>\n",
              "      <td>0.000000</td>\n",
              "      <td>0.0</td>\n",
              "      <td>1.000000</td>\n",
              "      <td>4.000000</td>\n",
              "      <td>1.000000</td>\n",
              "      <td>0.000000</td>\n",
              "    </tr>\n",
              "    <tr>\n",
              "      <th>75%</th>\n",
              "      <td>180.25</td>\n",
              "      <td>8.000000</td>\n",
              "      <td>6.000000</td>\n",
              "      <td>1.000000</td>\n",
              "      <td>16.300000</td>\n",
              "      <td>11.800000</td>\n",
              "      <td>21.600000</td>\n",
              "      <td>0.000000</td>\n",
              "      <td>0.000000</td>\n",
              "      <td>1.000000</td>\n",
              "      <td>...</td>\n",
              "      <td>5.000000</td>\n",
              "      <td>0.0</td>\n",
              "      <td>0.0</td>\n",
              "      <td>8333.500000</td>\n",
              "      <td>1.000000</td>\n",
              "      <td>0.0</td>\n",
              "      <td>1.000000</td>\n",
              "      <td>4.000000</td>\n",
              "      <td>1.000000</td>\n",
              "      <td>0.000000</td>\n",
              "    </tr>\n",
              "    <tr>\n",
              "      <th>max</th>\n",
              "      <td>192.00</td>\n",
              "      <td>10.000000</td>\n",
              "      <td>7.000000</td>\n",
              "      <td>1.000000</td>\n",
              "      <td>21.400000</td>\n",
              "      <td>17.500000</td>\n",
              "      <td>27.700000</td>\n",
              "      <td>76.000000</td>\n",
              "      <td>1.000000</td>\n",
              "      <td>1.000000</td>\n",
              "      <td>...</td>\n",
              "      <td>5.000000</td>\n",
              "      <td>0.0</td>\n",
              "      <td>0.0</td>\n",
              "      <td>13930.000000</td>\n",
              "      <td>1.000000</td>\n",
              "      <td>0.0</td>\n",
              "      <td>1.000000</td>\n",
              "      <td>5.000000</td>\n",
              "      <td>1.000000</td>\n",
              "      <td>1.000000</td>\n",
              "    </tr>\n",
              "  </tbody>\n",
              "</table>\n",
              "<p>8 rows × 23 columns</p>\n",
              "</div>\n",
              "      <button class=\"colab-df-convert\" onclick=\"convertToInteractive('df-3e1e7c74-7b7d-4a6f-b07a-d5f07912b01f')\"\n",
              "              title=\"Convert this dataframe to an interactive table.\"\n",
              "              style=\"display:none;\">\n",
              "        \n",
              "  <svg xmlns=\"http://www.w3.org/2000/svg\" height=\"24px\"viewBox=\"0 0 24 24\"\n",
              "       width=\"24px\">\n",
              "    <path d=\"M0 0h24v24H0V0z\" fill=\"none\"/>\n",
              "    <path d=\"M18.56 5.44l.94 2.06.94-2.06 2.06-.94-2.06-.94-.94-2.06-.94 2.06-2.06.94zm-11 1L8.5 8.5l.94-2.06 2.06-.94-2.06-.94L8.5 2.5l-.94 2.06-2.06.94zm10 10l.94 2.06.94-2.06 2.06-.94-2.06-.94-.94-2.06-.94 2.06-2.06.94z\"/><path d=\"M17.41 7.96l-1.37-1.37c-.4-.4-.92-.59-1.43-.59-.52 0-1.04.2-1.43.59L10.3 9.45l-7.72 7.72c-.78.78-.78 2.05 0 2.83L4 21.41c.39.39.9.59 1.41.59.51 0 1.02-.2 1.41-.59l7.78-7.78 2.81-2.81c.8-.78.8-2.07 0-2.86zM5.41 20L4 18.59l7.72-7.72 1.47 1.35L5.41 20z\"/>\n",
              "  </svg>\n",
              "      </button>\n",
              "      \n",
              "  <style>\n",
              "    .colab-df-container {\n",
              "      display:flex;\n",
              "      flex-wrap:wrap;\n",
              "      gap: 12px;\n",
              "    }\n",
              "\n",
              "    .colab-df-convert {\n",
              "      background-color: #E8F0FE;\n",
              "      border: none;\n",
              "      border-radius: 50%;\n",
              "      cursor: pointer;\n",
              "      display: none;\n",
              "      fill: #1967D2;\n",
              "      height: 32px;\n",
              "      padding: 0 0 0 0;\n",
              "      width: 32px;\n",
              "    }\n",
              "\n",
              "    .colab-df-convert:hover {\n",
              "      background-color: #E2EBFA;\n",
              "      box-shadow: 0px 1px 2px rgba(60, 64, 67, 0.3), 0px 1px 3px 1px rgba(60, 64, 67, 0.15);\n",
              "      fill: #174EA6;\n",
              "    }\n",
              "\n",
              "    [theme=dark] .colab-df-convert {\n",
              "      background-color: #3B4455;\n",
              "      fill: #D2E3FC;\n",
              "    }\n",
              "\n",
              "    [theme=dark] .colab-df-convert:hover {\n",
              "      background-color: #434B5C;\n",
              "      box-shadow: 0px 1px 3px 1px rgba(0, 0, 0, 0.15);\n",
              "      filter: drop-shadow(0px 1px 2px rgba(0, 0, 0, 0.3));\n",
              "      fill: #FFFFFF;\n",
              "    }\n",
              "  </style>\n",
              "\n",
              "      <script>\n",
              "        const buttonEl =\n",
              "          document.querySelector('#df-3e1e7c74-7b7d-4a6f-b07a-d5f07912b01f button.colab-df-convert');\n",
              "        buttonEl.style.display =\n",
              "          google.colab.kernel.accessAllowed ? 'block' : 'none';\n",
              "\n",
              "        async function convertToInteractive(key) {\n",
              "          const element = document.querySelector('#df-3e1e7c74-7b7d-4a6f-b07a-d5f07912b01f');\n",
              "          const dataTable =\n",
              "            await google.colab.kernel.invokeFunction('convertToInteractive',\n",
              "                                                     [key], {});\n",
              "          if (!dataTable) return;\n",
              "\n",
              "          const docLinkHtml = 'Like what you see? Visit the ' +\n",
              "            '<a target=\"_blank\" href=https://colab.research.google.com/notebooks/data_table.ipynb>data table notebook</a>'\n",
              "            + ' to learn more about interactive tables.';\n",
              "          element.innerHTML = '';\n",
              "          dataTable['output_type'] = 'display_data';\n",
              "          await google.colab.output.renderOutput(dataTable, element);\n",
              "          const docLink = document.createElement('div');\n",
              "          docLink.innerHTML = docLinkHtml;\n",
              "          element.appendChild(docLink);\n",
              "        }\n",
              "      </script>\n",
              "    </div>\n",
              "  </div>\n",
              "  "
            ]
          },
          "metadata": {},
          "execution_count": 10
        }
      ]
    },
    {
      "cell_type": "markdown",
      "source": [
        "# 2. 데이터 전처리"
      ],
      "metadata": {
        "id": "RJfzIKeMT091"
      }
    },
    {
      "cell_type": "code",
      "source": [
        "print(squirrel['yesterday_exercise'].value_counts())\n",
        "print('-----------------------------------------------------')\n",
        "print(squirrel['yesterday_exercise_time'].value_counts())\n",
        "print('-----------------------------------------------------')\n",
        "print(squirrel['period'].value_counts())"
      ],
      "metadata": {
        "colab": {
          "base_uri": "https://localhost:8080/"
        },
        "id": "CpY0DJsbTz68",
        "outputId": "09754918-f376-437e-94c0-aea88251f125"
      },
      "execution_count": 11,
      "outputs": [
        {
          "output_type": "stream",
          "name": "stdout",
          "text": [
            "0    48\n",
            "Name: yesterday_exercise, dtype: int64\n",
            "-----------------------------------------------------\n",
            "0    48\n",
            "Name: yesterday_exercise_time, dtype: int64\n",
            "-----------------------------------------------------\n",
            "0    48\n",
            "Name: period, dtype: int64\n"
          ]
        }
      ]
    },
    {
      "cell_type": "markdown",
      "source": [
        "yesterday_exercise, yesterday_exercise_time, period 변수는 모든 값이 0이므로 제외\n",
        "\n",
        "cnt 변수는 의미 없는 값이므로 제외\n",
        "\n",
        "name 변수는 모든 값이 squirrel이므로 제외"
      ],
      "metadata": {
        "id": "MH3PGhSVUbys"
      }
    },
    {
      "cell_type": "code",
      "source": [
        "# 사용하지 않을 column drop\n",
        "\n",
        "squirrel = squirrel.drop(labels=['cnt', 'name', 'yesterday_exercise','yesterday_exercise_time', 'period'],axis=1)"
      ],
      "metadata": {
        "id": "cjyaLN12Ua5Y"
      },
      "execution_count": 31,
      "outputs": []
    },
    {
      "cell_type": "code",
      "source": [
        "# sleep_time 반올림\n",
        "\n",
        "#squirrel['sleep_time'] = squirrel.round({'sleep_time':1})['sleep_time']"
      ],
      "metadata": {
        "id": "WIS60G5_H2yr"
      },
      "execution_count": 19,
      "outputs": []
    },
    {
      "cell_type": "markdown",
      "source": [
        "# 3. EDA"
      ],
      "metadata": {
        "id": "2wz05G1ZTcJp"
      }
    },
    {
      "cell_type": "markdown",
      "source": [
        "### 늦은 수면 시간대 변수 분포 확인"
      ],
      "metadata": {
        "id": "EeYW8AkzCyV8"
      }
    },
    {
      "cell_type": "code",
      "source": [
        "x = squirrel.gotobed_range.value_counts().sort_index().index\n",
        "y = squirrel.gotobed_range.value_counts().sort_index().values"
      ],
      "metadata": {
        "id": "jI5aCIhrCWjJ"
      },
      "execution_count": 15,
      "outputs": []
    },
    {
      "cell_type": "code",
      "source": [
        "import matplotlib\n",
        "matplotlib.rcParams['font.family'] ='Malgun Gothic'\n",
        "matplotlib.rcParams['axes.unicode_minus'] =False\n",
        "plt.figure(figsize=(12,6))\n",
        "plt.bar(x,y)"
      ],
      "metadata": {
        "colab": {
          "base_uri": "https://localhost:8080/",
          "height": 541
        },
        "id": "ZfC1oEAxC90J",
        "outputId": "ae8482ee-a06a-40f4-db5b-5f4a5b2f9978"
      },
      "execution_count": 16,
      "outputs": [
        {
          "output_type": "execute_result",
          "data": {
            "text/plain": [
              "<BarContainer object of 6 artists>"
            ]
          },
          "metadata": {},
          "execution_count": 16
        },
        {
          "output_type": "stream",
          "name": "stderr",
          "text": [
            "WARNING:matplotlib.font_manager:findfont: Font family ['Malgun Gothic'] not found. Falling back to DejaVu Sans.\n",
            "/usr/local/lib/python3.7/dist-packages/matplotlib/backends/backend_agg.py:214: RuntimeWarning: Glyph 49884 missing from current font.\n",
            "  font.set_text(s, 0.0, flags=flags)\n",
            "/usr/local/lib/python3.7/dist-packages/matplotlib/backends/backend_agg.py:214: RuntimeWarning: Glyph 45824 missing from current font.\n",
            "  font.set_text(s, 0.0, flags=flags)\n",
            "/usr/local/lib/python3.7/dist-packages/matplotlib/backends/backend_agg.py:183: RuntimeWarning: Glyph 49884 missing from current font.\n",
            "  font.set_text(s, 0, flags=flags)\n",
            "/usr/local/lib/python3.7/dist-packages/matplotlib/backends/backend_agg.py:183: RuntimeWarning: Glyph 45824 missing from current font.\n",
            "  font.set_text(s, 0, flags=flags)\n"
          ]
        },
        {
          "output_type": "display_data",
          "data": {
            "text/plain": [
              "<Figure size 864x432 with 1 Axes>"
            ],
            "image/png": "[encoded data removed]"
          },
          "metadata": {
            "needs_background": "light"
          }
        }
      ]
    },
    {
      "cell_type": "code",
      "source": [
        "squirrel.gotobed_range.value_counts()"
      ],
      "metadata": {
        "colab": {
          "base_uri": "https://localhost:8080/"
        },
        "id": "birTxUN_CuwY",
        "outputId": "d7615ba4-e36c-4600-f421-c73eaa71dd39"
      },
      "execution_count": 17,
      "outputs": [
        {
          "output_type": "execute_result",
          "data": {
            "text/plain": [
              "02시대    18\n",
              "01시대    13\n",
              "03시대     8\n",
              "00시대     7\n",
              "18시대     1\n",
              "23시대     1\n",
              "Name: gotobed_range, dtype: int64"
            ]
          },
          "metadata": {},
          "execution_count": 17
        }
      ]
    },
    {
      "cell_type": "code",
      "source": [
        "squirrel.gotobed_late.value_counts()"
      ],
      "metadata": {
        "colab": {
          "base_uri": "https://localhost:8080/"
        },
        "id": "sL8yRvpYCumY",
        "outputId": "d84aa621-d637-4b49-a33e-100e69487762"
      },
      "execution_count": 18,
      "outputs": [
        {
          "output_type": "execute_result",
          "data": {
            "text/plain": [
              "1    26\n",
              "0    22\n",
              "Name: gotobed_late, dtype: int64"
            ]
          },
          "metadata": {},
          "execution_count": 18
        }
      ]
    },
    {
      "cell_type": "markdown",
      "source": [
        "수면 시간대별 분포 확인 결과, 2시대를 기준으로 늦은 수면 여부를 나누는 것이 적절하다고 판단"
      ],
      "metadata": {
        "id": "-S_PKFemDgPW"
      }
    },
    {
      "cell_type": "markdown",
      "source": [
        "### 이른 기상 시간대 변수 분포 확인"
      ],
      "metadata": {
        "id": "n_a6oGv3D0cl"
      }
    },
    {
      "cell_type": "code",
      "source": [
        "x = squirrel.getup_range.value_counts().sort_index().index\n",
        "y = squirrel.getup_range.value_counts().sort_index().values"
      ],
      "metadata": {
        "id": "Db0Gec46D2uR"
      },
      "execution_count": 19,
      "outputs": []
    },
    {
      "cell_type": "code",
      "source": [
        "import matplotlib\n",
        "matplotlib.rcParams['font.family'] ='Malgun Gothic'\n",
        "matplotlib.rcParams['axes.unicode_minus'] =False\n",
        "plt.figure(figsize=(12,6))\n",
        "plt.bar(x,y)"
      ],
      "metadata": {
        "colab": {
          "base_uri": "https://localhost:8080/",
          "height": 394
        },
        "id": "8dYPg5vBD3D0",
        "outputId": "9e2d9463-f109-4210-dbd5-05fb0a6353f3"
      },
      "execution_count": 20,
      "outputs": [
        {
          "output_type": "execute_result",
          "data": {
            "text/plain": [
              "<BarContainer object of 7 artists>"
            ]
          },
          "metadata": {},
          "execution_count": 20
        },
        {
          "output_type": "display_data",
          "data": {
            "text/plain": [
              "<Figure size 864x432 with 1 Axes>"
            ],
            "image/png": "[encoded data removed]"
          },
          "metadata": {
            "needs_background": "light"
          }
        }
      ]
    },
    {
      "cell_type": "code",
      "source": [
        "squirrel.getup_range.value_counts()"
      ],
      "metadata": {
        "colab": {
          "base_uri": "https://localhost:8080/"
        },
        "id": "PZI0w8oaD-bj",
        "outputId": "370311d8-472f-4410-fc8f-2d76e6906c65"
      },
      "execution_count": 21,
      "outputs": [
        {
          "output_type": "execute_result",
          "data": {
            "text/plain": [
              "08시대    24\n",
              "09시대     8\n",
              "07시대     8\n",
              "10시대     4\n",
              "06시대     2\n",
              "21시대     1\n",
              "05시대     1\n",
              "Name: getup_range, dtype: int64"
            ]
          },
          "metadata": {},
          "execution_count": 21
        }
      ]
    },
    {
      "cell_type": "code",
      "source": [
        "squirrel.getup_early.value_counts()"
      ],
      "metadata": {
        "colab": {
          "base_uri": "https://localhost:8080/"
        },
        "id": "Zvc1lj6pEDDE",
        "outputId": "aba41cd7-4d6b-48f2-9809-1b07354f3c5b"
      },
      "execution_count": 22,
      "outputs": [
        {
          "output_type": "execute_result",
          "data": {
            "text/plain": [
              "0    37\n",
              "1    11\n",
              "Name: getup_early, dtype: int64"
            ]
          },
          "metadata": {},
          "execution_count": 22
        }
      ]
    },
    {
      "cell_type": "markdown",
      "source": [
        "기상 시간대별 분포 확인 결과, 7시대를 기준으로 이른 기상 여부를 나누는 것이 적절하다고 판단"
      ],
      "metadata": {
        "id": "FAZVw8uyEgyL"
      }
    },
    {
      "cell_type": "markdown",
      "source": [
        "## bar chart를 통한 칼럼별 값 개수 확인"
      ],
      "metadata": {
        "id": "b0b-hmFJIuMd"
      }
    },
    {
      "cell_type": "code",
      "source": [
        "# bar chart 그릴 column\n",
        "\n",
        "col_eda_bar = list(set(squirrel.columns) - set(['gotobed_late','getup_early','sleep_time','date','avg_temp', 'low_temp', 'high_temp', 'precipitation', 'yesterday_step_cnt','gotobed_time','getup_time']))\n",
        "col_eda_bar"
      ],
      "metadata": {
        "colab": {
          "base_uri": "https://localhost:8080/"
        },
        "id": "QytjDRMfnLf2",
        "outputId": "6cfb7116-3c81-46d2-e026-082af3ad1d54"
      },
      "execution_count": 34,
      "outputs": [
        {
          "output_type": "execute_result",
          "data": {
            "text/plain": [
              "['class_check',\n",
              " 'yesterday_drinking',\n",
              " 'morning_routine',\n",
              " 'today_score',\n",
              " 'gotobed_range',\n",
              " 'weather_prefer',\n",
              " 'dayofweek_check',\n",
              " 'getup_range',\n",
              " 'caffeine',\n",
              " 'yesterday_satisfaction',\n",
              " 'dayofweek',\n",
              " 'sleep_score',\n",
              " 'precipitation_check']"
            ]
          },
          "metadata": {},
          "execution_count": 34
        }
      ]
    },
    {
      "cell_type": "code",
      "source": [
        "for col in col_eda_bar:\n",
        "    squirrel[col].value_counts().plot(kind='bar')\n",
        "    plt.title(col)\n",
        "    plt.show()"
      ],
      "metadata": {
        "colab": {
          "base_uri": "https://localhost:8080/",
          "height": 1000
        },
        "id": "TPyspbslHTAb",
        "outputId": "e313aa4b-9e83-45f0-ff65-3b6186f5f449"
      },
      "execution_count": 35,
      "outputs": [
        {
          "output_type": "display_data",
          "data": {
            "text/plain": [
              "<Figure size 432x288 with 1 Axes>"
            ],
            "image/png": "[encoded data removed]"
          },
          "metadata": {
            "needs_background": "light"
          }
        },
        {
          "output_type": "display_data",
          "data": {
            "text/plain": [
              "<Figure size 432x288 with 1 Axes>"
            ],
            "image/png": "[encoded data removed]"
          },
          "metadata": {
            "needs_background": "light"
          }
        },
        {
          "output_type": "display_data",
          "data": {
            "text/plain": [
              "<Figure size 432x288 with 1 Axes>"
            ],
            "image/png": "[encoded data removed]"
          },
          "metadata": {
            "needs_background": "light"
          }
        },
        {
          "output_type": "display_data",
          "data": {
            "text/plain": [
              "<Figure size 432x288 with 1 Axes>"
            ],
            "image/png": "[encoded data removed]"
          },
          "metadata": {
            "needs_background": "light"
          }
        },
        {
          "output_type": "stream",
          "name": "stderr",
          "text": [
            "/usr/local/lib/python3.7/dist-packages/matplotlib/backends/backend_agg.py:214: RuntimeWarning: Glyph 49884 missing from current font.\n",
            "  font.set_text(s, 0.0, flags=flags)\n",
            "/usr/local/lib/python3.7/dist-packages/matplotlib/backends/backend_agg.py:214: RuntimeWarning: Glyph 45824 missing from current font.\n",
            "  font.set_text(s, 0.0, flags=flags)\n",
            "/usr/local/lib/python3.7/dist-packages/matplotlib/backends/backend_agg.py:183: RuntimeWarning: Glyph 49884 missing from current font.\n",
            "  font.set_text(s, 0, flags=flags)\n",
            "/usr/local/lib/python3.7/dist-packages/matplotlib/backends/backend_agg.py:183: RuntimeWarning: Glyph 45824 missing from current font.\n",
            "  font.set_text(s, 0, flags=flags)\n"
          ]
        },
        {
          "output_type": "display_data",
          "data": {
            "text/plain": [
              "<Figure size 432x288 with 1 Axes>"
            ],
            "image/png": "[encoded data removed]"
          },
          "metadata": {
            "needs_background": "light"
          }
        },
        {
          "output_type": "display_data",
          "data": {
            "text/plain": [
              "<Figure size 432x288 with 1 Axes>"
            ],
            "image/png": "[encoded data removed]"
          },
          "metadata": {
            "needs_background": "light"
          }
        },
        {
          "output_type": "display_data",
          "data": {
            "text/plain": [
              "<Figure size 432x288 with 1 Axes>"
            ],
            "image/png": "[encoded data removed]"
          },
          "metadata": {
            "needs_background": "light"
          }
        },
        {
          "output_type": "display_data",
          "data": {
            "text/plain": [
              "<Figure size 432x288 with 1 Axes>"
            ],
            "image/png": "[encoded data removed]"
          },
          "metadata": {
            "needs_background": "light"
          }
        },
        {
          "output_type": "display_data",
          "data": {
            "text/plain": [
              "<Figure size 432x288 with 1 Axes>"
            ],
            "image/png": "[encoded data removed]"
          },
          "metadata": {
            "needs_background": "light"
          }
        },
        {
          "output_type": "display_data",
          "data": {
            "text/plain": [
              "<Figure size 432x288 with 1 Axes>"
            ],
            "image/png": "[encoded data removed]"
          },
          "metadata": {
            "needs_background": "light"
          }
        },
        {
          "output_type": "display_data",
          "data": {
            "text/plain": [
              "<Figure size 432x288 with 1 Axes>"
            ],
            "image/png": "[encoded data removed]"
          },
          "metadata": {
            "needs_background": "light"
          }
        },
        {
          "output_type": "display_data",
          "data": {
            "text/plain": [
              "<Figure size 432x288 with 1 Axes>"
            ],
            "image/png": "[encoded data removed]"
          },
          "metadata": {
            "needs_background": "light"
          }
        },
        {
          "output_type": "display_data",
          "data": {
            "text/plain": [
              "<Figure size 432x288 with 1 Axes>"
            ],
            "image/png": "[encoded data removed]"
          },
          "metadata": {
            "needs_background": "light"
          }
        }
      ]
    },
    {
      "cell_type": "markdown",
      "source": [
        "## 수치형 변수 distplot"
      ],
      "metadata": {
        "id": "xUZ7nZmMZH8x"
      }
    },
    {
      "cell_type": "code",
      "source": [
        "# 수치형 변수 distplot\n",
        "\n",
        "fig, ax = plt.subplots(ncols=2, nrows=2, figsize=(20,row_n*5))\n",
        "\n",
        "sns.distplot(squirrel['today_score'], ax=ax[0,0])\n",
        "sns.distplot(squirrel['sleep_time'], ax=ax[0,1])\n",
        "sns.distplot(squirrel['yesterday_satisfaction'], ax=ax[1,0])\n",
        "sns.distplot(squirrel['yesterday_step_cnt'], ax=ax[1,1])"
      ],
      "metadata": {
        "colab": {
          "base_uri": "https://localhost:8080/",
          "height": 793
        },
        "id": "3EW0q-gKJZvh",
        "outputId": "5a916227-3a2d-4776-ff43-4a6e9c0b770f"
      },
      "execution_count": 39,
      "outputs": [
        {
          "output_type": "stream",
          "name": "stderr",
          "text": [
            "/usr/local/lib/python3.7/dist-packages/seaborn/distributions.py:2619: FutureWarning: `distplot` is a deprecated function and will be removed in a future version. Please adapt your code to use either `displot` (a figure-level function with similar flexibility) or `histplot` (an axes-level function for histograms).\n",
            "  warnings.warn(msg, FutureWarning)\n",
            "/usr/local/lib/python3.7/dist-packages/seaborn/distributions.py:2619: FutureWarning: `distplot` is a deprecated function and will be removed in a future version. Please adapt your code to use either `displot` (a figure-level function with similar flexibility) or `histplot` (an axes-level function for histograms).\n",
            "  warnings.warn(msg, FutureWarning)\n",
            "/usr/local/lib/python3.7/dist-packages/seaborn/distributions.py:2619: FutureWarning: `distplot` is a deprecated function and will be removed in a future version. Please adapt your code to use either `displot` (a figure-level function with similar flexibility) or `histplot` (an axes-level function for histograms).\n",
            "  warnings.warn(msg, FutureWarning)\n",
            "/usr/local/lib/python3.7/dist-packages/seaborn/distributions.py:2619: FutureWarning: `distplot` is a deprecated function and will be removed in a future version. Please adapt your code to use either `displot` (a figure-level function with similar flexibility) or `histplot` (an axes-level function for histograms).\n",
            "  warnings.warn(msg, FutureWarning)\n"
          ]
        },
        {
          "output_type": "execute_result",
          "data": {
            "text/plain": [
              "<matplotlib.axes._subplots.AxesSubplot at 0x7fca21dabc50>"
            ]
          },
          "metadata": {},
          "execution_count": 39
        },
        {
          "output_type": "display_data",
          "data": {
            "text/plain": [
              "<Figure size 1440x720 with 4 Axes>"
            ],
            "image/png": "[encoded data removed]"
          },
          "metadata": {
            "needs_background": "light"
          }
        }
      ]
    },
    {
      "cell_type": "markdown",
      "source": [
        "## 상관분석"
      ],
      "metadata": {
        "id": "sEN4AGEATeaH"
      }
    },
    {
      "cell_type": "code",
      "source": [
        "# 히트맵\n",
        "\n",
        "# 삼각형 마스크를 만든다(위 쪽 삼각형에 True, 아래 삼각형에 False)\n",
        "mask = np.zeros_like(squirrel.corr(), dtype=np.bool)\n",
        "mask[np.triu_indices_from(mask)] = True\n",
        "\n",
        "# 히트맵 그리기\n",
        "plt.figure(figsize=(20,15)) # 그림 사이즈 지정\n",
        "heat = sns.heatmap(squirrel.corr(), \n",
        "                   annot=True, # 실제 값 표시\n",
        "                   fmt = '.2f', #\n",
        "                   mask=mask,      # 표시하지 않을 마스크 부분을 지정한다\n",
        "                   linewidths=0.2, # 경계면 구분\n",
        "                   cbar_kws={\"shrink\": .5},  # 컬러바 크기 절반으로 줄이기\n",
        "                   cmap='PiYG',  # 히트맵 팔레트 색상 불러오기\n",
        "                   vmin = -1,vmax = 1)  # 컬러바 범위 -1 ~ 1\n",
        "\n",
        "plt.show()"
      ],
      "metadata": {
        "colab": {
          "base_uri": "https://localhost:8080/",
          "height": 1000
        },
        "id": "yFJOgLyJTbh8",
        "outputId": "591bcc02-2ba7-4c77-964a-40a5eeb231f4"
      },
      "execution_count": 40,
      "outputs": [
        {
          "output_type": "stream",
          "name": "stderr",
          "text": [
            "/usr/local/lib/python3.7/dist-packages/ipykernel_launcher.py:4: DeprecationWarning: `np.bool` is a deprecated alias for the builtin `bool`. To silence this warning, use `bool` by itself. Doing this will not modify any behavior and is safe. If you specifically wanted the numpy scalar type, use `np.bool_` here.\n",
            "Deprecated in NumPy 1.20; for more details and guidance: https://numpy.org/devdocs/release/1.20.0-notes.html#deprecations\n",
            "  after removing the cwd from sys.path.\n"
          ]
        },
        {
          "output_type": "display_data",
          "data": {
            "text/plain": [
              "<Figure size 1440x1080 with 2 Axes>"
            ],
            "image/png": "[encoded data removed]"
          },
          "metadata": {
            "needs_background": "light"
          }
        }
      ]
    },
    {
      "cell_type": "markdown",
      "source": [
        "# 4. squirrel 단순 회귀"
      ],
      "metadata": {
        "id": "R117odoM-DuM"
      }
    },
    {
      "cell_type": "markdown",
      "source": [
        "## 전날 걸음수 단순회귀"
      ],
      "metadata": {
        "id": "vVCYXs5n-K7o"
      }
    },
    {
      "cell_type": "code",
      "source": [
        "ols('today_score ~ yesterday_step_cnt', data = squirrel).fit().summary()"
      ],
      "metadata": {
        "colab": {
          "base_uri": "https://localhost:8080/",
          "height": 471
        },
        "id": "M7PwlToC97Yx",
        "outputId": "3a42b75a-a12d-4024-ed8a-3ada7bd72bc3"
      },
      "execution_count": 44,
      "outputs": [
        {
          "output_type": "execute_result",
          "data": {
            "text/plain": [
              "<class 'statsmodels.iolib.summary.Summary'>\n",
              "\"\"\"\n",
              "                            OLS Regression Results                            \n",
              "==============================================================================\n",
              "Dep. Variable:            today_score   R-squared:                       0.001\n",
              "Model:                            OLS   Adj. R-squared:                 -0.021\n",
              "Method:                 Least Squares   F-statistic:                   0.03739\n",
              "Date:                Sat, 26 Nov 2022   Prob (F-statistic):              0.848\n",
              "Time:                        15:50:38   Log-Likelihood:                -98.366\n",
              "No. Observations:                  48   AIC:                             200.7\n",
              "Df Residuals:                      46   BIC:                             204.5\n",
              "Df Model:                           1                                         \n",
              "Covariance Type:            nonrobust                                         \n",
              "======================================================================================\n",
              "                         coef    std err          t      P>|t|      [0.025      0.975]\n",
              "--------------------------------------------------------------------------------------\n",
              "Intercept              6.7021      0.577     11.610      0.000       5.540       7.864\n",
              "yesterday_step_cnt -1.515e-05   7.83e-05     -0.193      0.848      -0.000       0.000\n",
              "==============================================================================\n",
              "Omnibus:                        1.280   Durbin-Watson:                   1.819\n",
              "Prob(Omnibus):                  0.527   Jarque-Bera (JB):                1.298\n",
              "Skew:                          -0.334   Prob(JB):                        0.523\n",
              "Kurtosis:                       2.550   Cond. No.                     1.54e+04\n",
              "==============================================================================\n",
              "\n",
              "Notes:\n",
              "[1] Standard Errors assume that the covariance matrix of the errors is correctly specified.\n",
              "[2] The condition number is large, 1.54e+04. This might indicate that there are\n",
              "strong multicollinearity or other numerical problems.\n",
              "\"\"\""
            ],
            "text/html": [
              "<table class=\"simpletable\">\n",
              "<caption>OLS Regression Results</caption>\n",
              "<tr>\n",
              "  <th>Dep. Variable:</th>       <td>today_score</td>   <th>  R-squared:         </th> <td>   0.001</td>\n",
              "</tr>\n",
              "<tr>\n",
              "  <th>Model:</th>                   <td>OLS</td>       <th>  Adj. R-squared:    </th> <td>  -0.021</td>\n",
              "</tr>\n",
              "<tr>\n",
              "  <th>Method:</th>             <td>Least Squares</td>  <th>  F-statistic:       </th> <td> 0.03739</td>\n",
              "</tr>\n",
              "<tr>\n",
              "  <th>Date:</th>             <td>Sat, 26 Nov 2022</td> <th>  Prob (F-statistic):</th>  <td> 0.848</td> \n",
              "</tr>\n",
              "<tr>\n",
              "  <th>Time:</th>                 <td>15:50:38</td>     <th>  Log-Likelihood:    </th> <td> -98.366</td>\n",
              "</tr>\n",
              "<tr>\n",
              "  <th>No. Observations:</th>      <td>    48</td>      <th>  AIC:               </th> <td>   200.7</td>\n",
              "</tr>\n",
              "<tr>\n",
              "  <th>Df Residuals:</th>          <td>    46</td>      <th>  BIC:               </th> <td>   204.5</td>\n",
              "</tr>\n",
              "<tr>\n",
              "  <th>Df Model:</th>              <td>     1</td>      <th>                     </th>     <td> </td>   \n",
              "</tr>\n",
              "<tr>\n",
              "  <th>Covariance Type:</th>      <td>nonrobust</td>    <th>                     </th>     <td> </td>   \n",
              "</tr>\n",
              "</table>\n",
              "<table class=\"simpletable\">\n",
              "<tr>\n",
              "           <td></td>             <th>coef</th>     <th>std err</th>      <th>t</th>      <th>P>|t|</th>  <th>[0.025</th>    <th>0.975]</th>  \n",
              "</tr>\n",
              "<tr>\n",
              "  <th>Intercept</th>          <td>    6.7021</td> <td>    0.577</td> <td>   11.610</td> <td> 0.000</td> <td>    5.540</td> <td>    7.864</td>\n",
              "</tr>\n",
              "<tr>\n",
              "  <th>yesterday_step_cnt</th> <td>-1.515e-05</td> <td> 7.83e-05</td> <td>   -0.193</td> <td> 0.848</td> <td>   -0.000</td> <td>    0.000</td>\n",
              "</tr>\n",
              "</table>\n",
              "<table class=\"simpletable\">\n",
              "<tr>\n",
              "  <th>Omnibus:</th>       <td> 1.280</td> <th>  Durbin-Watson:     </th> <td>   1.819</td>\n",
              "</tr>\n",
              "<tr>\n",
              "  <th>Prob(Omnibus):</th> <td> 0.527</td> <th>  Jarque-Bera (JB):  </th> <td>   1.298</td>\n",
              "</tr>\n",
              "<tr>\n",
              "  <th>Skew:</th>          <td>-0.334</td> <th>  Prob(JB):          </th> <td>   0.523</td>\n",
              "</tr>\n",
              "<tr>\n",
              "  <th>Kurtosis:</th>      <td> 2.550</td> <th>  Cond. No.          </th> <td>1.54e+04</td>\n",
              "</tr>\n",
              "</table><br/><br/>Notes:<br/>[1] Standard Errors assume that the covariance matrix of the errors is correctly specified.<br/>[2] The condition number is large, 1.54e+04. This might indicate that there are<br/>strong multicollinearity or other numerical problems."
            ]
          },
          "metadata": {},
          "execution_count": 44
        }
      ]
    },
    {
      "cell_type": "markdown",
      "source": [
        "yesterday_step_cnt 변수의 p-value가 0.05보다 커, 유의미하지 않다."
      ],
      "metadata": {
        "id": "vVUf-_RQozCo"
      }
    },
    {
      "cell_type": "markdown",
      "source": [
        "## 💫전날만족도 단순회귀"
      ],
      "metadata": {
        "id": "17zzV07f-Oku"
      }
    },
    {
      "cell_type": "code",
      "source": [
        "ols('today_score ~ yesterday_satisfaction', data = squirrel).fit().summary()"
      ],
      "metadata": {
        "colab": {
          "base_uri": "https://localhost:8080/",
          "height": 436
        },
        "id": "3Tabl0Un_Hs4",
        "outputId": "0a913f1c-6622-43a6-cc3c-35eb6cb9c561"
      },
      "execution_count": 45,
      "outputs": [
        {
          "output_type": "execute_result",
          "data": {
            "text/plain": [
              "<class 'statsmodels.iolib.summary.Summary'>\n",
              "\"\"\"\n",
              "                            OLS Regression Results                            \n",
              "==============================================================================\n",
              "Dep. Variable:            today_score   R-squared:                       0.200\n",
              "Model:                            OLS   Adj. R-squared:                  0.183\n",
              "Method:                 Least Squares   F-statistic:                     11.51\n",
              "Date:                Sat, 26 Nov 2022   Prob (F-statistic):            0.00143\n",
              "Time:                        15:50:40   Log-Likelihood:                -93.025\n",
              "No. Observations:                  48   AIC:                             190.1\n",
              "Df Residuals:                      46   BIC:                             193.8\n",
              "Df Model:                           1                                         \n",
              "Covariance Type:            nonrobust                                         \n",
              "==========================================================================================\n",
              "                             coef    std err          t      P>|t|      [0.025      0.975]\n",
              "------------------------------------------------------------------------------------------\n",
              "Intercept                  3.5956      0.921      3.905      0.000       1.742       5.449\n",
              "yesterday_satisfaction     0.8299      0.245      3.393      0.001       0.338       1.322\n",
              "==============================================================================\n",
              "Omnibus:                        0.397   Durbin-Watson:                   1.805\n",
              "Prob(Omnibus):                  0.820   Jarque-Bera (JB):                0.525\n",
              "Skew:                          -0.187   Prob(JB):                        0.769\n",
              "Kurtosis:                       2.650   Cond. No.                         14.9\n",
              "==============================================================================\n",
              "\n",
              "Notes:\n",
              "[1] Standard Errors assume that the covariance matrix of the errors is correctly specified.\n",
              "\"\"\""
            ],
            "text/html": [
              "<table class=\"simpletable\">\n",
              "<caption>OLS Regression Results</caption>\n",
              "<tr>\n",
              "  <th>Dep. Variable:</th>       <td>today_score</td>   <th>  R-squared:         </th> <td>   0.200</td>\n",
              "</tr>\n",
              "<tr>\n",
              "  <th>Model:</th>                   <td>OLS</td>       <th>  Adj. R-squared:    </th> <td>   0.183</td>\n",
              "</tr>\n",
              "<tr>\n",
              "  <th>Method:</th>             <td>Least Squares</td>  <th>  F-statistic:       </th> <td>   11.51</td>\n",
              "</tr>\n",
              "<tr>\n",
              "  <th>Date:</th>             <td>Sat, 26 Nov 2022</td> <th>  Prob (F-statistic):</th>  <td>0.00143</td>\n",
              "</tr>\n",
              "<tr>\n",
              "  <th>Time:</th>                 <td>15:50:40</td>     <th>  Log-Likelihood:    </th> <td> -93.025</td>\n",
              "</tr>\n",
              "<tr>\n",
              "  <th>No. Observations:</th>      <td>    48</td>      <th>  AIC:               </th> <td>   190.1</td>\n",
              "</tr>\n",
              "<tr>\n",
              "  <th>Df Residuals:</th>          <td>    46</td>      <th>  BIC:               </th> <td>   193.8</td>\n",
              "</tr>\n",
              "<tr>\n",
              "  <th>Df Model:</th>              <td>     1</td>      <th>                     </th>     <td> </td>   \n",
              "</tr>\n",
              "<tr>\n",
              "  <th>Covariance Type:</th>      <td>nonrobust</td>    <th>                     </th>     <td> </td>   \n",
              "</tr>\n",
              "</table>\n",
              "<table class=\"simpletable\">\n",
              "<tr>\n",
              "             <td></td>               <th>coef</th>     <th>std err</th>      <th>t</th>      <th>P>|t|</th>  <th>[0.025</th>    <th>0.975]</th>  \n",
              "</tr>\n",
              "<tr>\n",
              "  <th>Intercept</th>              <td>    3.5956</td> <td>    0.921</td> <td>    3.905</td> <td> 0.000</td> <td>    1.742</td> <td>    5.449</td>\n",
              "</tr>\n",
              "<tr>\n",
              "  <th>yesterday_satisfaction</th> <td>    0.8299</td> <td>    0.245</td> <td>    3.393</td> <td> 0.001</td> <td>    0.338</td> <td>    1.322</td>\n",
              "</tr>\n",
              "</table>\n",
              "<table class=\"simpletable\">\n",
              "<tr>\n",
              "  <th>Omnibus:</th>       <td> 0.397</td> <th>  Durbin-Watson:     </th> <td>   1.805</td>\n",
              "</tr>\n",
              "<tr>\n",
              "  <th>Prob(Omnibus):</th> <td> 0.820</td> <th>  Jarque-Bera (JB):  </th> <td>   0.525</td>\n",
              "</tr>\n",
              "<tr>\n",
              "  <th>Skew:</th>          <td>-0.187</td> <th>  Prob(JB):          </th> <td>   0.769</td>\n",
              "</tr>\n",
              "<tr>\n",
              "  <th>Kurtosis:</th>      <td> 2.650</td> <th>  Cond. No.          </th> <td>    14.9</td>\n",
              "</tr>\n",
              "</table><br/><br/>Notes:<br/>[1] Standard Errors assume that the covariance matrix of the errors is correctly specified."
            ]
          },
          "metadata": {},
          "execution_count": 45
        }
      ]
    },
    {
      "cell_type": "markdown",
      "source": [
        "전날 만족도가 '오늘의 점수'의 약 18%를 설명하고 있다.\n",
        "\n",
        "또한 coefficient 계수가 0.8299로 전날 만족도가 1점 높아지면, 오늘의 점수가 0.8299점 높아짐을 알 수 있다."
      ],
      "metadata": {
        "id": "OU82VzxyymOm"
      }
    },
    {
      "cell_type": "markdown",
      "source": [
        "## 날씨 선호 여부 단순회귀"
      ],
      "metadata": {
        "id": "lwP34M0MHp8x"
      }
    },
    {
      "cell_type": "code",
      "source": [
        "ols('today_score ~ weather_prefer', data = squirrel).fit().summary()"
      ],
      "metadata": {
        "colab": {
          "base_uri": "https://localhost:8080/",
          "height": 436
        },
        "id": "btWu6-sWHsEL",
        "outputId": "0b86221b-232e-4f16-8146-0ac144666d3c"
      },
      "execution_count": 18,
      "outputs": [
        {
          "output_type": "execute_result",
          "data": {
            "text/plain": [
              "<class 'statsmodels.iolib.summary.Summary'>\n",
              "\"\"\"\n",
              "                            OLS Regression Results                            \n",
              "==============================================================================\n",
              "Dep. Variable:            today_score   R-squared:                       0.016\n",
              "Model:                            OLS   Adj. R-squared:                 -0.005\n",
              "Method:                 Least Squares   F-statistic:                    0.7543\n",
              "Date:                Fri, 25 Nov 2022   Prob (F-statistic):              0.390\n",
              "Time:                        03:21:00   Log-Likelihood:                -97.995\n",
              "No. Observations:                  48   AIC:                             200.0\n",
              "Df Residuals:                      46   BIC:                             203.7\n",
              "Df Model:                           1                                         \n",
              "Covariance Type:            nonrobust                                         \n",
              "=======================================================================================\n",
              "                          coef    std err          t      P>|t|      [0.025      0.975]\n",
              "---------------------------------------------------------------------------------------\n",
              "Intercept               6.8636      0.406     16.909      0.000       6.047       7.681\n",
              "weather_prefer[T.1]    -0.4790      0.552     -0.869      0.390      -1.589       0.631\n",
              "==============================================================================\n",
              "Omnibus:                        1.869   Durbin-Watson:                   1.833\n",
              "Prob(Omnibus):                  0.393   Jarque-Bera (JB):                1.721\n",
              "Skew:                          -0.360   Prob(JB):                        0.423\n",
              "Kurtosis:                       2.414   Cond. No.                         2.73\n",
              "==============================================================================\n",
              "\n",
              "Notes:\n",
              "[1] Standard Errors assume that the covariance matrix of the errors is correctly specified.\n",
              "\"\"\""
            ],
            "text/html": [
              "<table class=\"simpletable\">\n",
              "<caption>OLS Regression Results</caption>\n",
              "<tr>\n",
              "  <th>Dep. Variable:</th>       <td>today_score</td>   <th>  R-squared:         </th> <td>   0.016</td>\n",
              "</tr>\n",
              "<tr>\n",
              "  <th>Model:</th>                   <td>OLS</td>       <th>  Adj. R-squared:    </th> <td>  -0.005</td>\n",
              "</tr>\n",
              "<tr>\n",
              "  <th>Method:</th>             <td>Least Squares</td>  <th>  F-statistic:       </th> <td>  0.7543</td>\n",
              "</tr>\n",
              "<tr>\n",
              "  <th>Date:</th>             <td>Fri, 25 Nov 2022</td> <th>  Prob (F-statistic):</th>  <td> 0.390</td> \n",
              "</tr>\n",
              "<tr>\n",
              "  <th>Time:</th>                 <td>03:21:00</td>     <th>  Log-Likelihood:    </th> <td> -97.995</td>\n",
              "</tr>\n",
              "<tr>\n",
              "  <th>No. Observations:</th>      <td>    48</td>      <th>  AIC:               </th> <td>   200.0</td>\n",
              "</tr>\n",
              "<tr>\n",
              "  <th>Df Residuals:</th>          <td>    46</td>      <th>  BIC:               </th> <td>   203.7</td>\n",
              "</tr>\n",
              "<tr>\n",
              "  <th>Df Model:</th>              <td>     1</td>      <th>                     </th>     <td> </td>   \n",
              "</tr>\n",
              "<tr>\n",
              "  <th>Covariance Type:</th>      <td>nonrobust</td>    <th>                     </th>     <td> </td>   \n",
              "</tr>\n",
              "</table>\n",
              "<table class=\"simpletable\">\n",
              "<tr>\n",
              "           <td></td>              <th>coef</th>     <th>std err</th>      <th>t</th>      <th>P>|t|</th>  <th>[0.025</th>    <th>0.975]</th>  \n",
              "</tr>\n",
              "<tr>\n",
              "  <th>Intercept</th>           <td>    6.8636</td> <td>    0.406</td> <td>   16.909</td> <td> 0.000</td> <td>    6.047</td> <td>    7.681</td>\n",
              "</tr>\n",
              "<tr>\n",
              "  <th>weather_prefer[T.1]</th> <td>   -0.4790</td> <td>    0.552</td> <td>   -0.869</td> <td> 0.390</td> <td>   -1.589</td> <td>    0.631</td>\n",
              "</tr>\n",
              "</table>\n",
              "<table class=\"simpletable\">\n",
              "<tr>\n",
              "  <th>Omnibus:</th>       <td> 1.869</td> <th>  Durbin-Watson:     </th> <td>   1.833</td>\n",
              "</tr>\n",
              "<tr>\n",
              "  <th>Prob(Omnibus):</th> <td> 0.393</td> <th>  Jarque-Bera (JB):  </th> <td>   1.721</td>\n",
              "</tr>\n",
              "<tr>\n",
              "  <th>Skew:</th>          <td>-0.360</td> <th>  Prob(JB):          </th> <td>   0.423</td>\n",
              "</tr>\n",
              "<tr>\n",
              "  <th>Kurtosis:</th>      <td> 2.414</td> <th>  Cond. No.          </th> <td>    2.73</td>\n",
              "</tr>\n",
              "</table><br/><br/>Notes:<br/>[1] Standard Errors assume that the covariance matrix of the errors is correctly specified."
            ]
          },
          "metadata": {},
          "execution_count": 18
        }
      ]
    },
    {
      "cell_type": "markdown",
      "source": [
        "weather_prefer 변수의 p-value가 0.05보다 커, 유의미하지 않다."
      ],
      "metadata": {
        "id": "B6Gyj3Hwo2vZ"
      }
    },
    {
      "cell_type": "markdown",
      "source": [
        "## 수업 여부 단순회귀"
      ],
      "metadata": {
        "id": "nZoPwXuSE8cd"
      }
    },
    {
      "cell_type": "code",
      "source": [
        "ols('today_score ~ class_check', data = squirrel).fit().summary()"
      ],
      "metadata": {
        "colab": {
          "base_uri": "https://localhost:8080/",
          "height": 436
        },
        "id": "WgcTMU2rE-uK",
        "outputId": "b537656c-6f79-4206-86f4-ae5318bf3c64"
      },
      "execution_count": 19,
      "outputs": [
        {
          "output_type": "execute_result",
          "data": {
            "text/plain": [
              "<class 'statsmodels.iolib.summary.Summary'>\n",
              "\"\"\"\n",
              "                            OLS Regression Results                            \n",
              "==============================================================================\n",
              "Dep. Variable:            today_score   R-squared:                       0.062\n",
              "Model:                            OLS   Adj. R-squared:                  0.042\n",
              "Method:                 Least Squares   F-statistic:                     3.057\n",
              "Date:                Fri, 25 Nov 2022   Prob (F-statistic):             0.0870\n",
              "Time:                        03:21:01   Log-Likelihood:                -96.841\n",
              "No. Observations:                  48   AIC:                             197.7\n",
              "Df Residuals:                      46   BIC:                             201.4\n",
              "Df Model:                           1                                         \n",
              "Covariance Type:            nonrobust                                         \n",
              "====================================================================================\n",
              "                       coef    std err          t      P>|t|      [0.025      0.975]\n",
              "------------------------------------------------------------------------------------\n",
              "Intercept            7.4167      0.537     13.823      0.000       6.337       8.497\n",
              "class_check[T.1]    -1.0833      0.620     -1.749      0.087      -2.330       0.164\n",
              "==============================================================================\n",
              "Omnibus:                        4.673   Durbin-Watson:                   1.801\n",
              "Prob(Omnibus):                  0.097   Jarque-Bera (JB):                3.983\n",
              "Skew:                          -0.703   Prob(JB):                        0.137\n",
              "Kurtosis:                       3.115   Cond. No.                         3.78\n",
              "==============================================================================\n",
              "\n",
              "Notes:\n",
              "[1] Standard Errors assume that the covariance matrix of the errors is correctly specified.\n",
              "\"\"\""
            ],
            "text/html": [
              "<table class=\"simpletable\">\n",
              "<caption>OLS Regression Results</caption>\n",
              "<tr>\n",
              "  <th>Dep. Variable:</th>       <td>today_score</td>   <th>  R-squared:         </th> <td>   0.062</td>\n",
              "</tr>\n",
              "<tr>\n",
              "  <th>Model:</th>                   <td>OLS</td>       <th>  Adj. R-squared:    </th> <td>   0.042</td>\n",
              "</tr>\n",
              "<tr>\n",
              "  <th>Method:</th>             <td>Least Squares</td>  <th>  F-statistic:       </th> <td>   3.057</td>\n",
              "</tr>\n",
              "<tr>\n",
              "  <th>Date:</th>             <td>Fri, 25 Nov 2022</td> <th>  Prob (F-statistic):</th>  <td>0.0870</td> \n",
              "</tr>\n",
              "<tr>\n",
              "  <th>Time:</th>                 <td>03:21:01</td>     <th>  Log-Likelihood:    </th> <td> -96.841</td>\n",
              "</tr>\n",
              "<tr>\n",
              "  <th>No. Observations:</th>      <td>    48</td>      <th>  AIC:               </th> <td>   197.7</td>\n",
              "</tr>\n",
              "<tr>\n",
              "  <th>Df Residuals:</th>          <td>    46</td>      <th>  BIC:               </th> <td>   201.4</td>\n",
              "</tr>\n",
              "<tr>\n",
              "  <th>Df Model:</th>              <td>     1</td>      <th>                     </th>     <td> </td>   \n",
              "</tr>\n",
              "<tr>\n",
              "  <th>Covariance Type:</th>      <td>nonrobust</td>    <th>                     </th>     <td> </td>   \n",
              "</tr>\n",
              "</table>\n",
              "<table class=\"simpletable\">\n",
              "<tr>\n",
              "          <td></td>            <th>coef</th>     <th>std err</th>      <th>t</th>      <th>P>|t|</th>  <th>[0.025</th>    <th>0.975]</th>  \n",
              "</tr>\n",
              "<tr>\n",
              "  <th>Intercept</th>        <td>    7.4167</td> <td>    0.537</td> <td>   13.823</td> <td> 0.000</td> <td>    6.337</td> <td>    8.497</td>\n",
              "</tr>\n",
              "<tr>\n",
              "  <th>class_check[T.1]</th> <td>   -1.0833</td> <td>    0.620</td> <td>   -1.749</td> <td> 0.087</td> <td>   -2.330</td> <td>    0.164</td>\n",
              "</tr>\n",
              "</table>\n",
              "<table class=\"simpletable\">\n",
              "<tr>\n",
              "  <th>Omnibus:</th>       <td> 4.673</td> <th>  Durbin-Watson:     </th> <td>   1.801</td>\n",
              "</tr>\n",
              "<tr>\n",
              "  <th>Prob(Omnibus):</th> <td> 0.097</td> <th>  Jarque-Bera (JB):  </th> <td>   3.983</td>\n",
              "</tr>\n",
              "<tr>\n",
              "  <th>Skew:</th>          <td>-0.703</td> <th>  Prob(JB):          </th> <td>   0.137</td>\n",
              "</tr>\n",
              "<tr>\n",
              "  <th>Kurtosis:</th>      <td> 3.115</td> <th>  Cond. No.          </th> <td>    3.78</td>\n",
              "</tr>\n",
              "</table><br/><br/>Notes:<br/>[1] Standard Errors assume that the covariance matrix of the errors is correctly specified."
            ]
          },
          "metadata": {},
          "execution_count": 19
        }
      ]
    },
    {
      "cell_type": "markdown",
      "source": [
        "## 평균기온 단순회귀"
      ],
      "metadata": {
        "id": "SzTZErCv-VfH"
      }
    },
    {
      "cell_type": "code",
      "source": [
        "ols('today_score ~ avg_temp', data = squirrel).fit().summary()"
      ],
      "metadata": {
        "colab": {
          "base_uri": "https://localhost:8080/",
          "height": 436
        },
        "id": "7fmXDGh4-RkW",
        "outputId": "9179c3e4-11ed-4277-92d6-e3bc005eaa4e"
      },
      "execution_count": 20,
      "outputs": [
        {
          "output_type": "execute_result",
          "data": {
            "text/plain": [
              "<class 'statsmodels.iolib.summary.Summary'>\n",
              "\"\"\"\n",
              "                            OLS Regression Results                            \n",
              "==============================================================================\n",
              "Dep. Variable:            today_score   R-squared:                       0.005\n",
              "Model:                            OLS   Adj. R-squared:                 -0.016\n",
              "Method:                 Least Squares   F-statistic:                    0.2412\n",
              "Date:                Fri, 25 Nov 2022   Prob (F-statistic):              0.626\n",
              "Time:                        03:21:01   Log-Likelihood:                -98.260\n",
              "No. Observations:                  48   AIC:                             200.5\n",
              "Df Residuals:                      46   BIC:                             204.3\n",
              "Df Model:                           1                                         \n",
              "Covariance Type:            nonrobust                                         \n",
              "==============================================================================\n",
              "                 coef    std err          t      P>|t|      [0.025      0.975]\n",
              "------------------------------------------------------------------------------\n",
              "Intercept      6.0964      1.070      5.697      0.000       3.942       8.250\n",
              "avg_temp       0.0365      0.074      0.491      0.626      -0.113       0.186\n",
              "==============================================================================\n",
              "Omnibus:                        1.350   Durbin-Watson:                   1.809\n",
              "Prob(Omnibus):                  0.509   Jarque-Bera (JB):                1.341\n",
              "Skew:                          -0.364   Prob(JB):                        0.511\n",
              "Kurtosis:                       2.627   Cond. No.                         56.1\n",
              "==============================================================================\n",
              "\n",
              "Notes:\n",
              "[1] Standard Errors assume that the covariance matrix of the errors is correctly specified.\n",
              "\"\"\""
            ],
            "text/html": [
              "<table class=\"simpletable\">\n",
              "<caption>OLS Regression Results</caption>\n",
              "<tr>\n",
              "  <th>Dep. Variable:</th>       <td>today_score</td>   <th>  R-squared:         </th> <td>   0.005</td>\n",
              "</tr>\n",
              "<tr>\n",
              "  <th>Model:</th>                   <td>OLS</td>       <th>  Adj. R-squared:    </th> <td>  -0.016</td>\n",
              "</tr>\n",
              "<tr>\n",
              "  <th>Method:</th>             <td>Least Squares</td>  <th>  F-statistic:       </th> <td>  0.2412</td>\n",
              "</tr>\n",
              "<tr>\n",
              "  <th>Date:</th>             <td>Fri, 25 Nov 2022</td> <th>  Prob (F-statistic):</th>  <td> 0.626</td> \n",
              "</tr>\n",
              "<tr>\n",
              "  <th>Time:</th>                 <td>03:21:01</td>     <th>  Log-Likelihood:    </th> <td> -98.260</td>\n",
              "</tr>\n",
              "<tr>\n",
              "  <th>No. Observations:</th>      <td>    48</td>      <th>  AIC:               </th> <td>   200.5</td>\n",
              "</tr>\n",
              "<tr>\n",
              "  <th>Df Residuals:</th>          <td>    46</td>      <th>  BIC:               </th> <td>   204.3</td>\n",
              "</tr>\n",
              "<tr>\n",
              "  <th>Df Model:</th>              <td>     1</td>      <th>                     </th>     <td> </td>   \n",
              "</tr>\n",
              "<tr>\n",
              "  <th>Covariance Type:</th>      <td>nonrobust</td>    <th>                     </th>     <td> </td>   \n",
              "</tr>\n",
              "</table>\n",
              "<table class=\"simpletable\">\n",
              "<tr>\n",
              "      <td></td>         <th>coef</th>     <th>std err</th>      <th>t</th>      <th>P>|t|</th>  <th>[0.025</th>    <th>0.975]</th>  \n",
              "</tr>\n",
              "<tr>\n",
              "  <th>Intercept</th> <td>    6.0964</td> <td>    1.070</td> <td>    5.697</td> <td> 0.000</td> <td>    3.942</td> <td>    8.250</td>\n",
              "</tr>\n",
              "<tr>\n",
              "  <th>avg_temp</th>  <td>    0.0365</td> <td>    0.074</td> <td>    0.491</td> <td> 0.626</td> <td>   -0.113</td> <td>    0.186</td>\n",
              "</tr>\n",
              "</table>\n",
              "<table class=\"simpletable\">\n",
              "<tr>\n",
              "  <th>Omnibus:</th>       <td> 1.350</td> <th>  Durbin-Watson:     </th> <td>   1.809</td>\n",
              "</tr>\n",
              "<tr>\n",
              "  <th>Prob(Omnibus):</th> <td> 0.509</td> <th>  Jarque-Bera (JB):  </th> <td>   1.341</td>\n",
              "</tr>\n",
              "<tr>\n",
              "  <th>Skew:</th>          <td>-0.364</td> <th>  Prob(JB):          </th> <td>   0.511</td>\n",
              "</tr>\n",
              "<tr>\n",
              "  <th>Kurtosis:</th>      <td> 2.627</td> <th>  Cond. No.          </th> <td>    56.1</td>\n",
              "</tr>\n",
              "</table><br/><br/>Notes:<br/>[1] Standard Errors assume that the covariance matrix of the errors is correctly specified."
            ]
          },
          "metadata": {},
          "execution_count": 20
        }
      ]
    },
    {
      "cell_type": "markdown",
      "source": [
        "avg_temp 변수의 p-value가 0.05보다 커, 유의미하지 않다."
      ],
      "metadata": {
        "id": "xi6NHRjbo5qV"
      }
    },
    {
      "cell_type": "markdown",
      "source": [
        "## 최저기온 단순회귀"
      ],
      "metadata": {
        "id": "1YNBy9kx-edC"
      }
    },
    {
      "cell_type": "code",
      "source": [
        "ols('today_score ~ low_temp', data = squirrel).fit().summary()"
      ],
      "metadata": {
        "colab": {
          "base_uri": "https://localhost:8080/",
          "height": 436
        },
        "id": "sM7mbEkD-RnC",
        "outputId": "4c0b40bc-d1ed-4752-8998-a86d1f0747d4"
      },
      "execution_count": 21,
      "outputs": [
        {
          "output_type": "execute_result",
          "data": {
            "text/plain": [
              "<class 'statsmodels.iolib.summary.Summary'>\n",
              "\"\"\"\n",
              "                            OLS Regression Results                            \n",
              "==============================================================================\n",
              "Dep. Variable:            today_score   R-squared:                       0.001\n",
              "Model:                            OLS   Adj. R-squared:                 -0.021\n",
              "Method:                 Least Squares   F-statistic:                   0.02846\n",
              "Date:                Fri, 25 Nov 2022   Prob (F-statistic):              0.867\n",
              "Time:                        03:21:01   Log-Likelihood:                -98.371\n",
              "No. Observations:                  48   AIC:                             200.7\n",
              "Df Residuals:                      46   BIC:                             204.5\n",
              "Df Model:                           1                                         \n",
              "Covariance Type:            nonrobust                                         \n",
              "==============================================================================\n",
              "                 coef    std err          t      P>|t|      [0.025      0.975]\n",
              "------------------------------------------------------------------------------\n",
              "Intercept      6.4889      0.737      8.799      0.000       5.004       7.973\n",
              "low_temp       0.0120      0.071      0.169      0.867      -0.131       0.155\n",
              "==============================================================================\n",
              "Omnibus:                        1.306   Durbin-Watson:                   1.819\n",
              "Prob(Omnibus):                  0.521   Jarque-Bera (JB):                1.319\n",
              "Skew:                          -0.344   Prob(JB):                        0.517\n",
              "Kurtosis:                       2.568   Cond. No.                         27.8\n",
              "==============================================================================\n",
              "\n",
              "Notes:\n",
              "[1] Standard Errors assume that the covariance matrix of the errors is correctly specified.\n",
              "\"\"\""
            ],
            "text/html": [
              "<table class=\"simpletable\">\n",
              "<caption>OLS Regression Results</caption>\n",
              "<tr>\n",
              "  <th>Dep. Variable:</th>       <td>today_score</td>   <th>  R-squared:         </th> <td>   0.001</td>\n",
              "</tr>\n",
              "<tr>\n",
              "  <th>Model:</th>                   <td>OLS</td>       <th>  Adj. R-squared:    </th> <td>  -0.021</td>\n",
              "</tr>\n",
              "<tr>\n",
              "  <th>Method:</th>             <td>Least Squares</td>  <th>  F-statistic:       </th> <td> 0.02846</td>\n",
              "</tr>\n",
              "<tr>\n",
              "  <th>Date:</th>             <td>Fri, 25 Nov 2022</td> <th>  Prob (F-statistic):</th>  <td> 0.867</td> \n",
              "</tr>\n",
              "<tr>\n",
              "  <th>Time:</th>                 <td>03:21:01</td>     <th>  Log-Likelihood:    </th> <td> -98.371</td>\n",
              "</tr>\n",
              "<tr>\n",
              "  <th>No. Observations:</th>      <td>    48</td>      <th>  AIC:               </th> <td>   200.7</td>\n",
              "</tr>\n",
              "<tr>\n",
              "  <th>Df Residuals:</th>          <td>    46</td>      <th>  BIC:               </th> <td>   204.5</td>\n",
              "</tr>\n",
              "<tr>\n",
              "  <th>Df Model:</th>              <td>     1</td>      <th>                     </th>     <td> </td>   \n",
              "</tr>\n",
              "<tr>\n",
              "  <th>Covariance Type:</th>      <td>nonrobust</td>    <th>                     </th>     <td> </td>   \n",
              "</tr>\n",
              "</table>\n",
              "<table class=\"simpletable\">\n",
              "<tr>\n",
              "      <td></td>         <th>coef</th>     <th>std err</th>      <th>t</th>      <th>P>|t|</th>  <th>[0.025</th>    <th>0.975]</th>  \n",
              "</tr>\n",
              "<tr>\n",
              "  <th>Intercept</th> <td>    6.4889</td> <td>    0.737</td> <td>    8.799</td> <td> 0.000</td> <td>    5.004</td> <td>    7.973</td>\n",
              "</tr>\n",
              "<tr>\n",
              "  <th>low_temp</th>  <td>    0.0120</td> <td>    0.071</td> <td>    0.169</td> <td> 0.867</td> <td>   -0.131</td> <td>    0.155</td>\n",
              "</tr>\n",
              "</table>\n",
              "<table class=\"simpletable\">\n",
              "<tr>\n",
              "  <th>Omnibus:</th>       <td> 1.306</td> <th>  Durbin-Watson:     </th> <td>   1.819</td>\n",
              "</tr>\n",
              "<tr>\n",
              "  <th>Prob(Omnibus):</th> <td> 0.521</td> <th>  Jarque-Bera (JB):  </th> <td>   1.319</td>\n",
              "</tr>\n",
              "<tr>\n",
              "  <th>Skew:</th>          <td>-0.344</td> <th>  Prob(JB):          </th> <td>   0.517</td>\n",
              "</tr>\n",
              "<tr>\n",
              "  <th>Kurtosis:</th>      <td> 2.568</td> <th>  Cond. No.          </th> <td>    27.8</td>\n",
              "</tr>\n",
              "</table><br/><br/>Notes:<br/>[1] Standard Errors assume that the covariance matrix of the errors is correctly specified."
            ]
          },
          "metadata": {},
          "execution_count": 21
        }
      ]
    },
    {
      "cell_type": "markdown",
      "source": [
        "low_temp 변수의 p-value가 0.05보다 커, 유의미하지 않다."
      ],
      "metadata": {
        "id": "d1HJOQpqo8D5"
      }
    },
    {
      "cell_type": "markdown",
      "source": [
        "## 최고기온 단순회귀"
      ],
      "metadata": {
        "id": "N5Rp2rnR-iMe"
      }
    },
    {
      "cell_type": "code",
      "source": [
        "ols('today_score ~ high_temp', data = squirrel).fit().summary()"
      ],
      "metadata": {
        "colab": {
          "base_uri": "https://localhost:8080/",
          "height": 436
        },
        "id": "UBWfB6Fr-RqP",
        "outputId": "85c985b9-1acc-45b4-c950-56674331bae8"
      },
      "execution_count": 22,
      "outputs": [
        {
          "output_type": "execute_result",
          "data": {
            "text/plain": [
              "<class 'statsmodels.iolib.summary.Summary'>\n",
              "\"\"\"\n",
              "                            OLS Regression Results                            \n",
              "==============================================================================\n",
              "Dep. Variable:            today_score   R-squared:                       0.019\n",
              "Model:                            OLS   Adj. R-squared:                 -0.002\n",
              "Method:                 Least Squares   F-statistic:                    0.9031\n",
              "Date:                Fri, 25 Nov 2022   Prob (F-statistic):              0.347\n",
              "Time:                        03:21:02   Log-Likelihood:                -97.919\n",
              "No. Observations:                  48   AIC:                             199.8\n",
              "Df Residuals:                      46   BIC:                             203.6\n",
              "Df Model:                           1                                         \n",
              "Covariance Type:            nonrobust                                         \n",
              "==============================================================================\n",
              "                 coef    std err          t      P>|t|      [0.025      0.975]\n",
              "------------------------------------------------------------------------------\n",
              "Intercept      5.3415      1.357      3.937      0.000       2.611       8.072\n",
              "high_temp      0.0656      0.069      0.950      0.347      -0.073       0.205\n",
              "==============================================================================\n",
              "Omnibus:                        1.274   Durbin-Watson:                   1.796\n",
              "Prob(Omnibus):                  0.529   Jarque-Bera (JB):                1.280\n",
              "Skew:                          -0.351   Prob(JB):                        0.527\n",
              "Kurtosis:                       2.616   Cond. No.                         97.4\n",
              "==============================================================================\n",
              "\n",
              "Notes:\n",
              "[1] Standard Errors assume that the covariance matrix of the errors is correctly specified.\n",
              "\"\"\""
            ],
            "text/html": [
              "<table class=\"simpletable\">\n",
              "<caption>OLS Regression Results</caption>\n",
              "<tr>\n",
              "  <th>Dep. Variable:</th>       <td>today_score</td>   <th>  R-squared:         </th> <td>   0.019</td>\n",
              "</tr>\n",
              "<tr>\n",
              "  <th>Model:</th>                   <td>OLS</td>       <th>  Adj. R-squared:    </th> <td>  -0.002</td>\n",
              "</tr>\n",
              "<tr>\n",
              "  <th>Method:</th>             <td>Least Squares</td>  <th>  F-statistic:       </th> <td>  0.9031</td>\n",
              "</tr>\n",
              "<tr>\n",
              "  <th>Date:</th>             <td>Fri, 25 Nov 2022</td> <th>  Prob (F-statistic):</th>  <td> 0.347</td> \n",
              "</tr>\n",
              "<tr>\n",
              "  <th>Time:</th>                 <td>03:21:02</td>     <th>  Log-Likelihood:    </th> <td> -97.919</td>\n",
              "</tr>\n",
              "<tr>\n",
              "  <th>No. Observations:</th>      <td>    48</td>      <th>  AIC:               </th> <td>   199.8</td>\n",
              "</tr>\n",
              "<tr>\n",
              "  <th>Df Residuals:</th>          <td>    46</td>      <th>  BIC:               </th> <td>   203.6</td>\n",
              "</tr>\n",
              "<tr>\n",
              "  <th>Df Model:</th>              <td>     1</td>      <th>                     </th>     <td> </td>   \n",
              "</tr>\n",
              "<tr>\n",
              "  <th>Covariance Type:</th>      <td>nonrobust</td>    <th>                     </th>     <td> </td>   \n",
              "</tr>\n",
              "</table>\n",
              "<table class=\"simpletable\">\n",
              "<tr>\n",
              "      <td></td>         <th>coef</th>     <th>std err</th>      <th>t</th>      <th>P>|t|</th>  <th>[0.025</th>    <th>0.975]</th>  \n",
              "</tr>\n",
              "<tr>\n",
              "  <th>Intercept</th> <td>    5.3415</td> <td>    1.357</td> <td>    3.937</td> <td> 0.000</td> <td>    2.611</td> <td>    8.072</td>\n",
              "</tr>\n",
              "<tr>\n",
              "  <th>high_temp</th> <td>    0.0656</td> <td>    0.069</td> <td>    0.950</td> <td> 0.347</td> <td>   -0.073</td> <td>    0.205</td>\n",
              "</tr>\n",
              "</table>\n",
              "<table class=\"simpletable\">\n",
              "<tr>\n",
              "  <th>Omnibus:</th>       <td> 1.274</td> <th>  Durbin-Watson:     </th> <td>   1.796</td>\n",
              "</tr>\n",
              "<tr>\n",
              "  <th>Prob(Omnibus):</th> <td> 0.529</td> <th>  Jarque-Bera (JB):  </th> <td>   1.280</td>\n",
              "</tr>\n",
              "<tr>\n",
              "  <th>Skew:</th>          <td>-0.351</td> <th>  Prob(JB):          </th> <td>   0.527</td>\n",
              "</tr>\n",
              "<tr>\n",
              "  <th>Kurtosis:</th>      <td> 2.616</td> <th>  Cond. No.          </th> <td>    97.4</td>\n",
              "</tr>\n",
              "</table><br/><br/>Notes:<br/>[1] Standard Errors assume that the covariance matrix of the errors is correctly specified."
            ]
          },
          "metadata": {},
          "execution_count": 22
        }
      ]
    },
    {
      "cell_type": "markdown",
      "source": [
        "high_temp 변수의 p-value가 0.05보다 커, 유의미하지 않다."
      ],
      "metadata": {
        "id": "xjasknqxo-qK"
      }
    },
    {
      "cell_type": "markdown",
      "source": [
        "## 💫수면시간 단순회귀"
      ],
      "metadata": {
        "id": "n_kO8aoQ-nSb"
      }
    },
    {
      "cell_type": "code",
      "source": [
        "ols('today_score ~ sleep_time', data = squirrel).fit().summary()"
      ],
      "metadata": {
        "colab": {
          "base_uri": "https://localhost:8080/",
          "height": 471
        },
        "id": "4NcnLXVr-hZ9",
        "outputId": "80c82346-cae0-4338-dbfa-66e1a761b77f"
      },
      "execution_count": 23,
      "outputs": [
        {
          "output_type": "execute_result",
          "data": {
            "text/plain": [
              "<class 'statsmodels.iolib.summary.Summary'>\n",
              "\"\"\"\n",
              "                            OLS Regression Results                            \n",
              "==============================================================================\n",
              "Dep. Variable:            today_score   R-squared:                       0.134\n",
              "Model:                            OLS   Adj. R-squared:                  0.115\n",
              "Method:                 Least Squares   F-statistic:                     7.096\n",
              "Date:                Fri, 25 Nov 2022   Prob (F-statistic):             0.0106\n",
              "Time:                        03:21:02   Log-Likelihood:                -94.943\n",
              "No. Observations:                  48   AIC:                             193.9\n",
              "Df Residuals:                      46   BIC:                             197.6\n",
              "Df Model:                           1                                         \n",
              "Covariance Type:            nonrobust                                         \n",
              "==============================================================================\n",
              "                 coef    std err          t      P>|t|      [0.025      0.975]\n",
              "------------------------------------------------------------------------------\n",
              "Intercept      3.2485      1.286      2.526      0.015       0.660       5.837\n",
              "sleep_time     0.0086      0.003      2.664      0.011       0.002       0.015\n",
              "==============================================================================\n",
              "Omnibus:                        2.069   Durbin-Watson:                   1.732\n",
              "Prob(Omnibus):                  0.355   Jarque-Bera (JB):                1.316\n",
              "Skew:                          -0.092   Prob(JB):                        0.518\n",
              "Kurtosis:                       2.210   Cond. No.                     1.99e+03\n",
              "==============================================================================\n",
              "\n",
              "Notes:\n",
              "[1] Standard Errors assume that the covariance matrix of the errors is correctly specified.\n",
              "[2] The condition number is large, 1.99e+03. This might indicate that there are\n",
              "strong multicollinearity or other numerical problems.\n",
              "\"\"\""
            ],
            "text/html": [
              "<table class=\"simpletable\">\n",
              "<caption>OLS Regression Results</caption>\n",
              "<tr>\n",
              "  <th>Dep. Variable:</th>       <td>today_score</td>   <th>  R-squared:         </th> <td>   0.134</td>\n",
              "</tr>\n",
              "<tr>\n",
              "  <th>Model:</th>                   <td>OLS</td>       <th>  Adj. R-squared:    </th> <td>   0.115</td>\n",
              "</tr>\n",
              "<tr>\n",
              "  <th>Method:</th>             <td>Least Squares</td>  <th>  F-statistic:       </th> <td>   7.096</td>\n",
              "</tr>\n",
              "<tr>\n",
              "  <th>Date:</th>             <td>Fri, 25 Nov 2022</td> <th>  Prob (F-statistic):</th>  <td>0.0106</td> \n",
              "</tr>\n",
              "<tr>\n",
              "  <th>Time:</th>                 <td>03:21:02</td>     <th>  Log-Likelihood:    </th> <td> -94.943</td>\n",
              "</tr>\n",
              "<tr>\n",
              "  <th>No. Observations:</th>      <td>    48</td>      <th>  AIC:               </th> <td>   193.9</td>\n",
              "</tr>\n",
              "<tr>\n",
              "  <th>Df Residuals:</th>          <td>    46</td>      <th>  BIC:               </th> <td>   197.6</td>\n",
              "</tr>\n",
              "<tr>\n",
              "  <th>Df Model:</th>              <td>     1</td>      <th>                     </th>     <td> </td>   \n",
              "</tr>\n",
              "<tr>\n",
              "  <th>Covariance Type:</th>      <td>nonrobust</td>    <th>                     </th>     <td> </td>   \n",
              "</tr>\n",
              "</table>\n",
              "<table class=\"simpletable\">\n",
              "<tr>\n",
              "       <td></td>         <th>coef</th>     <th>std err</th>      <th>t</th>      <th>P>|t|</th>  <th>[0.025</th>    <th>0.975]</th>  \n",
              "</tr>\n",
              "<tr>\n",
              "  <th>Intercept</th>  <td>    3.2485</td> <td>    1.286</td> <td>    2.526</td> <td> 0.015</td> <td>    0.660</td> <td>    5.837</td>\n",
              "</tr>\n",
              "<tr>\n",
              "  <th>sleep_time</th> <td>    0.0086</td> <td>    0.003</td> <td>    2.664</td> <td> 0.011</td> <td>    0.002</td> <td>    0.015</td>\n",
              "</tr>\n",
              "</table>\n",
              "<table class=\"simpletable\">\n",
              "<tr>\n",
              "  <th>Omnibus:</th>       <td> 2.069</td> <th>  Durbin-Watson:     </th> <td>   1.732</td>\n",
              "</tr>\n",
              "<tr>\n",
              "  <th>Prob(Omnibus):</th> <td> 0.355</td> <th>  Jarque-Bera (JB):  </th> <td>   1.316</td>\n",
              "</tr>\n",
              "<tr>\n",
              "  <th>Skew:</th>          <td>-0.092</td> <th>  Prob(JB):          </th> <td>   0.518</td>\n",
              "</tr>\n",
              "<tr>\n",
              "  <th>Kurtosis:</th>      <td> 2.210</td> <th>  Cond. No.          </th> <td>1.99e+03</td>\n",
              "</tr>\n",
              "</table><br/><br/>Notes:<br/>[1] Standard Errors assume that the covariance matrix of the errors is correctly specified.<br/>[2] The condition number is large, 1.99e+03. This might indicate that there are<br/>strong multicollinearity or other numerical problems."
            ]
          },
          "metadata": {},
          "execution_count": 23
        }
      ]
    },
    {
      "cell_type": "markdown",
      "source": [
        "수면시간이 '오늘의 점수'를 약 11% 설명하고 있다.\n",
        "\n",
        "또한 coefficient 계수는 0.0086로 수면시간이 1분 증가하면, 오늘의 점수가 0.0086점 높아짐을 알 수 있다."
      ],
      "metadata": {
        "id": "3A0tF92kGJHI"
      }
    },
    {
      "cell_type": "markdown",
      "source": [
        "## 💫강수량 단순회귀"
      ],
      "metadata": {
        "id": "6ZdyjcS5-rWY"
      }
    },
    {
      "cell_type": "code",
      "source": [
        "ols('today_score ~ precipitation', data = squirrel).fit().summary()"
      ],
      "metadata": {
        "colab": {
          "base_uri": "https://localhost:8080/",
          "height": 436
        },
        "id": "IQ6AVfTE-hc-",
        "outputId": "77357957-2b1e-49f4-e4b7-8eb2997764c1"
      },
      "execution_count": 24,
      "outputs": [
        {
          "output_type": "execute_result",
          "data": {
            "text/plain": [
              "<class 'statsmodels.iolib.summary.Summary'>\n",
              "\"\"\"\n",
              "                            OLS Regression Results                            \n",
              "==============================================================================\n",
              "Dep. Variable:            today_score   R-squared:                       0.079\n",
              "Model:                            OLS   Adj. R-squared:                  0.059\n",
              "Method:                 Least Squares   F-statistic:                     3.927\n",
              "Date:                Fri, 25 Nov 2022   Prob (F-statistic):             0.0535\n",
              "Time:                        03:21:03   Log-Likelihood:                -96.420\n",
              "No. Observations:                  48   AIC:                             196.8\n",
              "Df Residuals:                      46   BIC:                             200.6\n",
              "Df Model:                           1                                         \n",
              "Covariance Type:            nonrobust                                         \n",
              "=================================================================================\n",
              "                    coef    std err          t      P>|t|      [0.025      0.975]\n",
              "---------------------------------------------------------------------------------\n",
              "Intercept         6.4601      0.276     23.433      0.000       5.905       7.015\n",
              "precipitation     0.0380      0.019      1.982      0.054      -0.001       0.077\n",
              "==============================================================================\n",
              "Omnibus:                        2.312   Durbin-Watson:                   1.839\n",
              "Prob(Omnibus):                  0.315   Jarque-Bera (JB):                1.816\n",
              "Skew:                          -0.476   Prob(JB):                        0.403\n",
              "Kurtosis:                       3.005   Cond. No.                         14.9\n",
              "==============================================================================\n",
              "\n",
              "Notes:\n",
              "[1] Standard Errors assume that the covariance matrix of the errors is correctly specified.\n",
              "\"\"\""
            ],
            "text/html": [
              "<table class=\"simpletable\">\n",
              "<caption>OLS Regression Results</caption>\n",
              "<tr>\n",
              "  <th>Dep. Variable:</th>       <td>today_score</td>   <th>  R-squared:         </th> <td>   0.079</td>\n",
              "</tr>\n",
              "<tr>\n",
              "  <th>Model:</th>                   <td>OLS</td>       <th>  Adj. R-squared:    </th> <td>   0.059</td>\n",
              "</tr>\n",
              "<tr>\n",
              "  <th>Method:</th>             <td>Least Squares</td>  <th>  F-statistic:       </th> <td>   3.927</td>\n",
              "</tr>\n",
              "<tr>\n",
              "  <th>Date:</th>             <td>Fri, 25 Nov 2022</td> <th>  Prob (F-statistic):</th>  <td>0.0535</td> \n",
              "</tr>\n",
              "<tr>\n",
              "  <th>Time:</th>                 <td>03:21:03</td>     <th>  Log-Likelihood:    </th> <td> -96.420</td>\n",
              "</tr>\n",
              "<tr>\n",
              "  <th>No. Observations:</th>      <td>    48</td>      <th>  AIC:               </th> <td>   196.8</td>\n",
              "</tr>\n",
              "<tr>\n",
              "  <th>Df Residuals:</th>          <td>    46</td>      <th>  BIC:               </th> <td>   200.6</td>\n",
              "</tr>\n",
              "<tr>\n",
              "  <th>Df Model:</th>              <td>     1</td>      <th>                     </th>     <td> </td>   \n",
              "</tr>\n",
              "<tr>\n",
              "  <th>Covariance Type:</th>      <td>nonrobust</td>    <th>                     </th>     <td> </td>   \n",
              "</tr>\n",
              "</table>\n",
              "<table class=\"simpletable\">\n",
              "<tr>\n",
              "        <td></td>           <th>coef</th>     <th>std err</th>      <th>t</th>      <th>P>|t|</th>  <th>[0.025</th>    <th>0.975]</th>  \n",
              "</tr>\n",
              "<tr>\n",
              "  <th>Intercept</th>     <td>    6.4601</td> <td>    0.276</td> <td>   23.433</td> <td> 0.000</td> <td>    5.905</td> <td>    7.015</td>\n",
              "</tr>\n",
              "<tr>\n",
              "  <th>precipitation</th> <td>    0.0380</td> <td>    0.019</td> <td>    1.982</td> <td> 0.054</td> <td>   -0.001</td> <td>    0.077</td>\n",
              "</tr>\n",
              "</table>\n",
              "<table class=\"simpletable\">\n",
              "<tr>\n",
              "  <th>Omnibus:</th>       <td> 2.312</td> <th>  Durbin-Watson:     </th> <td>   1.839</td>\n",
              "</tr>\n",
              "<tr>\n",
              "  <th>Prob(Omnibus):</th> <td> 0.315</td> <th>  Jarque-Bera (JB):  </th> <td>   1.816</td>\n",
              "</tr>\n",
              "<tr>\n",
              "  <th>Skew:</th>          <td>-0.476</td> <th>  Prob(JB):          </th> <td>   0.403</td>\n",
              "</tr>\n",
              "<tr>\n",
              "  <th>Kurtosis:</th>      <td> 3.005</td> <th>  Cond. No.          </th> <td>    14.9</td>\n",
              "</tr>\n",
              "</table><br/><br/>Notes:<br/>[1] Standard Errors assume that the covariance matrix of the errors is correctly specified."
            ]
          },
          "metadata": {},
          "execution_count": 24
        }
      ]
    },
    {
      "cell_type": "markdown",
      "source": [
        "강수량이 '오늘의 점수'를 약 5% 설명하고 있다.\n",
        "\n",
        "또한 coefficient 계수는 0.0380로 강수량이 1만큼 증가하면, 오늘의 점수가 0.0380점 높아짐을 알 수 있다."
      ],
      "metadata": {
        "id": "o3zB_ql6Gdos"
      }
    },
    {
      "cell_type": "markdown",
      "source": [
        "## 💫수면점수 단순회귀"
      ],
      "metadata": {
        "id": "Pc8PjkAA-vgS"
      }
    },
    {
      "cell_type": "code",
      "source": [
        "ols('today_score ~ sleep_score', data = squirrel).fit().summary()"
      ],
      "metadata": {
        "colab": {
          "base_uri": "https://localhost:8080/",
          "height": 436
        },
        "id": "DYcET9GM-hgC",
        "outputId": "6a0ffff5-2e34-48ec-f7ca-947ca03929a1"
      },
      "execution_count": 25,
      "outputs": [
        {
          "output_type": "execute_result",
          "data": {
            "text/plain": [
              "<class 'statsmodels.iolib.summary.Summary'>\n",
              "\"\"\"\n",
              "                            OLS Regression Results                            \n",
              "==============================================================================\n",
              "Dep. Variable:            today_score   R-squared:                       0.387\n",
              "Model:                            OLS   Adj. R-squared:                  0.373\n",
              "Method:                 Least Squares   F-statistic:                     28.98\n",
              "Date:                Fri, 25 Nov 2022   Prob (F-statistic):           2.40e-06\n",
              "Time:                        03:21:05   Log-Likelihood:                -86.659\n",
              "No. Observations:                  48   AIC:                             177.3\n",
              "Df Residuals:                      46   BIC:                             181.1\n",
              "Df Model:                           1                                         \n",
              "Covariance Type:            nonrobust                                         \n",
              "===============================================================================\n",
              "                  coef    std err          t      P>|t|      [0.025      0.975]\n",
              "-------------------------------------------------------------------------------\n",
              "Intercept       2.8961      0.722      4.011      0.000       1.443       4.350\n",
              "sleep_score     0.9888      0.184      5.384      0.000       0.619       1.359\n",
              "==============================================================================\n",
              "Omnibus:                        1.701   Durbin-Watson:                   1.558\n",
              "Prob(Omnibus):                  0.427   Jarque-Bera (JB):                1.646\n",
              "Skew:                          -0.415   Prob(JB):                        0.439\n",
              "Kurtosis:                       2.632   Cond. No.                         13.9\n",
              "==============================================================================\n",
              "\n",
              "Notes:\n",
              "[1] Standard Errors assume that the covariance matrix of the errors is correctly specified.\n",
              "\"\"\""
            ],
            "text/html": [
              "<table class=\"simpletable\">\n",
              "<caption>OLS Regression Results</caption>\n",
              "<tr>\n",
              "  <th>Dep. Variable:</th>       <td>today_score</td>   <th>  R-squared:         </th> <td>   0.387</td>\n",
              "</tr>\n",
              "<tr>\n",
              "  <th>Model:</th>                   <td>OLS</td>       <th>  Adj. R-squared:    </th> <td>   0.373</td>\n",
              "</tr>\n",
              "<tr>\n",
              "  <th>Method:</th>             <td>Least Squares</td>  <th>  F-statistic:       </th> <td>   28.98</td>\n",
              "</tr>\n",
              "<tr>\n",
              "  <th>Date:</th>             <td>Fri, 25 Nov 2022</td> <th>  Prob (F-statistic):</th> <td>2.40e-06</td>\n",
              "</tr>\n",
              "<tr>\n",
              "  <th>Time:</th>                 <td>03:21:05</td>     <th>  Log-Likelihood:    </th> <td> -86.659</td>\n",
              "</tr>\n",
              "<tr>\n",
              "  <th>No. Observations:</th>      <td>    48</td>      <th>  AIC:               </th> <td>   177.3</td>\n",
              "</tr>\n",
              "<tr>\n",
              "  <th>Df Residuals:</th>          <td>    46</td>      <th>  BIC:               </th> <td>   181.1</td>\n",
              "</tr>\n",
              "<tr>\n",
              "  <th>Df Model:</th>              <td>     1</td>      <th>                     </th>     <td> </td>   \n",
              "</tr>\n",
              "<tr>\n",
              "  <th>Covariance Type:</th>      <td>nonrobust</td>    <th>                     </th>     <td> </td>   \n",
              "</tr>\n",
              "</table>\n",
              "<table class=\"simpletable\">\n",
              "<tr>\n",
              "       <td></td>          <th>coef</th>     <th>std err</th>      <th>t</th>      <th>P>|t|</th>  <th>[0.025</th>    <th>0.975]</th>  \n",
              "</tr>\n",
              "<tr>\n",
              "  <th>Intercept</th>   <td>    2.8961</td> <td>    0.722</td> <td>    4.011</td> <td> 0.000</td> <td>    1.443</td> <td>    4.350</td>\n",
              "</tr>\n",
              "<tr>\n",
              "  <th>sleep_score</th> <td>    0.9888</td> <td>    0.184</td> <td>    5.384</td> <td> 0.000</td> <td>    0.619</td> <td>    1.359</td>\n",
              "</tr>\n",
              "</table>\n",
              "<table class=\"simpletable\">\n",
              "<tr>\n",
              "  <th>Omnibus:</th>       <td> 1.701</td> <th>  Durbin-Watson:     </th> <td>   1.558</td>\n",
              "</tr>\n",
              "<tr>\n",
              "  <th>Prob(Omnibus):</th> <td> 0.427</td> <th>  Jarque-Bera (JB):  </th> <td>   1.646</td>\n",
              "</tr>\n",
              "<tr>\n",
              "  <th>Skew:</th>          <td>-0.415</td> <th>  Prob(JB):          </th> <td>   0.439</td>\n",
              "</tr>\n",
              "<tr>\n",
              "  <th>Kurtosis:</th>      <td> 2.632</td> <th>  Cond. No.          </th> <td>    13.9</td>\n",
              "</tr>\n",
              "</table><br/><br/>Notes:<br/>[1] Standard Errors assume that the covariance matrix of the errors is correctly specified."
            ]
          },
          "metadata": {},
          "execution_count": 25
        }
      ]
    },
    {
      "cell_type": "markdown",
      "source": [
        "수면점수가 '오늘의 점수'를 약 37% 설명하고 있다.\n",
        "\n",
        "또한 coefficient 계수는 0.9888로 수면점수가 1만큼 증가하면, 오늘의 점수가 0.9888점 높아짐을 알 수 있다."
      ],
      "metadata": {
        "id": "wMrdZnoNGm08"
      }
    },
    {
      "cell_type": "markdown",
      "source": [
        "## 늦은 수면 여부 단순회귀"
      ],
      "metadata": {
        "id": "C1jGF-1iCbnC"
      }
    },
    {
      "cell_type": "code",
      "source": [
        "ols('today_score ~ C(gotobed_late)', data = squirrel).fit().summary()"
      ],
      "metadata": {
        "colab": {
          "base_uri": "https://localhost:8080/",
          "height": 436
        },
        "id": "ooJa2gmvCQX_",
        "outputId": "c9af0c77-c78b-4d57-e67d-4daae04cdb27"
      },
      "execution_count": 26,
      "outputs": [
        {
          "output_type": "execute_result",
          "data": {
            "text/plain": [
              "<class 'statsmodels.iolib.summary.Summary'>\n",
              "\"\"\"\n",
              "                            OLS Regression Results                            \n",
              "==============================================================================\n",
              "Dep. Variable:            today_score   R-squared:                       0.009\n",
              "Model:                            OLS   Adj. R-squared:                 -0.012\n",
              "Method:                 Least Squares   F-statistic:                    0.4234\n",
              "Date:                Fri, 25 Nov 2022   Prob (F-statistic):              0.518\n",
              "Time:                        03:21:06   Log-Likelihood:                -98.166\n",
              "No. Observations:                  48   AIC:                             200.3\n",
              "Df Residuals:                      46   BIC:                             204.1\n",
              "Df Model:                           1                                         \n",
              "Covariance Type:            nonrobust                                         \n",
              "========================================================================================\n",
              "                           coef    std err          t      P>|t|      [0.025      0.975]\n",
              "----------------------------------------------------------------------------------------\n",
              "Intercept                6.4091      0.407     15.733      0.000       5.589       7.229\n",
              "C(gotobed_late)[T.1]     0.3601      0.553      0.651      0.518      -0.754       1.474\n",
              "==============================================================================\n",
              "Omnibus:                        1.218   Durbin-Watson:                   1.786\n",
              "Prob(Omnibus):                  0.544   Jarque-Bera (JB):                1.218\n",
              "Skew:                          -0.285   Prob(JB):                        0.544\n",
              "Kurtosis:                       2.466   Cond. No.                         2.73\n",
              "==============================================================================\n",
              "\n",
              "Notes:\n",
              "[1] Standard Errors assume that the covariance matrix of the errors is correctly specified.\n",
              "\"\"\""
            ],
            "text/html": [
              "<table class=\"simpletable\">\n",
              "<caption>OLS Regression Results</caption>\n",
              "<tr>\n",
              "  <th>Dep. Variable:</th>       <td>today_score</td>   <th>  R-squared:         </th> <td>   0.009</td>\n",
              "</tr>\n",
              "<tr>\n",
              "  <th>Model:</th>                   <td>OLS</td>       <th>  Adj. R-squared:    </th> <td>  -0.012</td>\n",
              "</tr>\n",
              "<tr>\n",
              "  <th>Method:</th>             <td>Least Squares</td>  <th>  F-statistic:       </th> <td>  0.4234</td>\n",
              "</tr>\n",
              "<tr>\n",
              "  <th>Date:</th>             <td>Fri, 25 Nov 2022</td> <th>  Prob (F-statistic):</th>  <td> 0.518</td> \n",
              "</tr>\n",
              "<tr>\n",
              "  <th>Time:</th>                 <td>03:21:06</td>     <th>  Log-Likelihood:    </th> <td> -98.166</td>\n",
              "</tr>\n",
              "<tr>\n",
              "  <th>No. Observations:</th>      <td>    48</td>      <th>  AIC:               </th> <td>   200.3</td>\n",
              "</tr>\n",
              "<tr>\n",
              "  <th>Df Residuals:</th>          <td>    46</td>      <th>  BIC:               </th> <td>   204.1</td>\n",
              "</tr>\n",
              "<tr>\n",
              "  <th>Df Model:</th>              <td>     1</td>      <th>                     </th>     <td> </td>   \n",
              "</tr>\n",
              "<tr>\n",
              "  <th>Covariance Type:</th>      <td>nonrobust</td>    <th>                     </th>     <td> </td>   \n",
              "</tr>\n",
              "</table>\n",
              "<table class=\"simpletable\">\n",
              "<tr>\n",
              "            <td></td>              <th>coef</th>     <th>std err</th>      <th>t</th>      <th>P>|t|</th>  <th>[0.025</th>    <th>0.975]</th>  \n",
              "</tr>\n",
              "<tr>\n",
              "  <th>Intercept</th>            <td>    6.4091</td> <td>    0.407</td> <td>   15.733</td> <td> 0.000</td> <td>    5.589</td> <td>    7.229</td>\n",
              "</tr>\n",
              "<tr>\n",
              "  <th>C(gotobed_late)[T.1]</th> <td>    0.3601</td> <td>    0.553</td> <td>    0.651</td> <td> 0.518</td> <td>   -0.754</td> <td>    1.474</td>\n",
              "</tr>\n",
              "</table>\n",
              "<table class=\"simpletable\">\n",
              "<tr>\n",
              "  <th>Omnibus:</th>       <td> 1.218</td> <th>  Durbin-Watson:     </th> <td>   1.786</td>\n",
              "</tr>\n",
              "<tr>\n",
              "  <th>Prob(Omnibus):</th> <td> 0.544</td> <th>  Jarque-Bera (JB):  </th> <td>   1.218</td>\n",
              "</tr>\n",
              "<tr>\n",
              "  <th>Skew:</th>          <td>-0.285</td> <th>  Prob(JB):          </th> <td>   0.544</td>\n",
              "</tr>\n",
              "<tr>\n",
              "  <th>Kurtosis:</th>      <td> 2.466</td> <th>  Cond. No.          </th> <td>    2.73</td>\n",
              "</tr>\n",
              "</table><br/><br/>Notes:<br/>[1] Standard Errors assume that the covariance matrix of the errors is correctly specified."
            ]
          },
          "metadata": {},
          "execution_count": 26
        }
      ]
    },
    {
      "cell_type": "markdown",
      "source": [
        "gotobed_late 변수의 p-value가 0.05보다 커, 유의미하지 않다."
      ],
      "metadata": {
        "id": "FatpBN4JpB0b"
      }
    },
    {
      "cell_type": "markdown",
      "source": [
        "## 이른 기상 여부 단순회귀\n"
      ],
      "metadata": {
        "id": "RCOL8ss6CgC9"
      }
    },
    {
      "cell_type": "code",
      "source": [
        "ols('today_score ~ C(getup_early)', data = squirrel).fit().summary()"
      ],
      "metadata": {
        "colab": {
          "base_uri": "https://localhost:8080/",
          "height": 436
        },
        "id": "n0NpmQTfCQAe",
        "outputId": "2b8ae29d-0e10-42a6-f110-1c742021a025"
      },
      "execution_count": 183,
      "outputs": [
        {
          "output_type": "execute_result",
          "data": {
            "text/plain": [
              "<class 'statsmodels.iolib.summary.Summary'>\n",
              "\"\"\"\n",
              "                            OLS Regression Results                            \n",
              "==============================================================================\n",
              "Dep. Variable:            today_score   R-squared:                       0.015\n",
              "Model:                            OLS   Adj. R-squared:                 -0.006\n",
              "Method:                 Least Squares   F-statistic:                    0.7014\n",
              "Date:                Fri, 25 Nov 2022   Prob (F-statistic):              0.407\n",
              "Time:                        06:20:25   Log-Likelihood:                -98.023\n",
              "No. Observations:                  48   AIC:                             200.0\n",
              "Df Residuals:                      46   BIC:                             203.8\n",
              "Df Model:                           1                                         \n",
              "Covariance Type:            nonrobust                                         \n",
              "=======================================================================================\n",
              "                          coef    std err          t      P>|t|      [0.025      0.975]\n",
              "---------------------------------------------------------------------------------------\n",
              "Intercept               6.7297      0.313     21.488      0.000       6.099       7.360\n",
              "C(getup_early)[T.1]    -0.5479      0.654     -0.838      0.407      -1.865       0.769\n",
              "==============================================================================\n",
              "Omnibus:                        0.937   Durbin-Watson:                   1.789\n",
              "Prob(Omnibus):                  0.626   Jarque-Bera (JB):                1.006\n",
              "Skew:                          -0.268   Prob(JB):                        0.605\n",
              "Kurtosis:                       2.534   Cond. No.                         2.53\n",
              "==============================================================================\n",
              "\n",
              "Notes:\n",
              "[1] Standard Errors assume that the covariance matrix of the errors is correctly specified.\n",
              "\"\"\""
            ],
            "text/html": [
              "<table class=\"simpletable\">\n",
              "<caption>OLS Regression Results</caption>\n",
              "<tr>\n",
              "  <th>Dep. Variable:</th>       <td>today_score</td>   <th>  R-squared:         </th> <td>   0.015</td>\n",
              "</tr>\n",
              "<tr>\n",
              "  <th>Model:</th>                   <td>OLS</td>       <th>  Adj. R-squared:    </th> <td>  -0.006</td>\n",
              "</tr>\n",
              "<tr>\n",
              "  <th>Method:</th>             <td>Least Squares</td>  <th>  F-statistic:       </th> <td>  0.7014</td>\n",
              "</tr>\n",
              "<tr>\n",
              "  <th>Date:</th>             <td>Fri, 25 Nov 2022</td> <th>  Prob (F-statistic):</th>  <td> 0.407</td> \n",
              "</tr>\n",
              "<tr>\n",
              "  <th>Time:</th>                 <td>06:20:25</td>     <th>  Log-Likelihood:    </th> <td> -98.023</td>\n",
              "</tr>\n",
              "<tr>\n",
              "  <th>No. Observations:</th>      <td>    48</td>      <th>  AIC:               </th> <td>   200.0</td>\n",
              "</tr>\n",
              "<tr>\n",
              "  <th>Df Residuals:</th>          <td>    46</td>      <th>  BIC:               </th> <td>   203.8</td>\n",
              "</tr>\n",
              "<tr>\n",
              "  <th>Df Model:</th>              <td>     1</td>      <th>                     </th>     <td> </td>   \n",
              "</tr>\n",
              "<tr>\n",
              "  <th>Covariance Type:</th>      <td>nonrobust</td>    <th>                     </th>     <td> </td>   \n",
              "</tr>\n",
              "</table>\n",
              "<table class=\"simpletable\">\n",
              "<tr>\n",
              "           <td></td>              <th>coef</th>     <th>std err</th>      <th>t</th>      <th>P>|t|</th>  <th>[0.025</th>    <th>0.975]</th>  \n",
              "</tr>\n",
              "<tr>\n",
              "  <th>Intercept</th>           <td>    6.7297</td> <td>    0.313</td> <td>   21.488</td> <td> 0.000</td> <td>    6.099</td> <td>    7.360</td>\n",
              "</tr>\n",
              "<tr>\n",
              "  <th>C(getup_early)[T.1]</th> <td>   -0.5479</td> <td>    0.654</td> <td>   -0.838</td> <td> 0.407</td> <td>   -1.865</td> <td>    0.769</td>\n",
              "</tr>\n",
              "</table>\n",
              "<table class=\"simpletable\">\n",
              "<tr>\n",
              "  <th>Omnibus:</th>       <td> 0.937</td> <th>  Durbin-Watson:     </th> <td>   1.789</td>\n",
              "</tr>\n",
              "<tr>\n",
              "  <th>Prob(Omnibus):</th> <td> 0.626</td> <th>  Jarque-Bera (JB):  </th> <td>   1.006</td>\n",
              "</tr>\n",
              "<tr>\n",
              "  <th>Skew:</th>          <td>-0.268</td> <th>  Prob(JB):          </th> <td>   0.605</td>\n",
              "</tr>\n",
              "<tr>\n",
              "  <th>Kurtosis:</th>      <td> 2.534</td> <th>  Cond. No.          </th> <td>    2.53</td>\n",
              "</tr>\n",
              "</table><br/><br/>Notes:<br/>[1] Standard Errors assume that the covariance matrix of the errors is correctly specified."
            ]
          },
          "metadata": {},
          "execution_count": 183
        }
      ]
    },
    {
      "cell_type": "markdown",
      "source": [
        "getup_early 변수의 p-value가 0.05보다 커, 유의미하지 않다."
      ],
      "metadata": {
        "id": "ppNAa5OXpD5y"
      }
    },
    {
      "cell_type": "markdown",
      "source": [
        "# 5. squirrel 다중회귀"
      ],
      "metadata": {
        "id": "pcf2CaSN_gZr"
      }
    },
    {
      "cell_type": "markdown",
      "source": [
        "## 단순회귀에서 유의미한 결과를 도출한 독립변수 사용한 다중회귀"
      ],
      "metadata": {
        "id": "MFfVWQiXB36j"
      }
    },
    {
      "cell_type": "code",
      "source": [
        "ols('today_score ~ yesterday_satisfaction + sleep_time + precipitation +sleep_score', data = squirrel).fit().summary()"
      ],
      "metadata": {
        "colab": {
          "base_uri": "https://localhost:8080/",
          "height": 533
        },
        "id": "U_Z7-rn2-RtE",
        "outputId": "d1a64f87-4d04-44ea-d2ae-c546492454ce"
      },
      "execution_count": 36,
      "outputs": [
        {
          "output_type": "execute_result",
          "data": {
            "text/plain": [
              "<class 'statsmodels.iolib.summary.Summary'>\n",
              "\"\"\"\n",
              "                            OLS Regression Results                            \n",
              "==============================================================================\n",
              "Dep. Variable:            today_score   R-squared:                       0.456\n",
              "Model:                            OLS   Adj. R-squared:                  0.406\n",
              "Method:                 Least Squares   F-statistic:                     9.024\n",
              "Date:                Fri, 25 Nov 2022   Prob (F-statistic):           2.20e-05\n",
              "Time:                        03:21:16   Log-Likelihood:                -83.758\n",
              "No. Observations:                  48   AIC:                             177.5\n",
              "Df Residuals:                      43   BIC:                             186.9\n",
              "Df Model:                           4                                         \n",
              "Covariance Type:            nonrobust                                         \n",
              "==========================================================================================\n",
              "                             coef    std err          t      P>|t|      [0.025      0.975]\n",
              "------------------------------------------------------------------------------------------\n",
              "Intercept                  1.2528      1.255      0.998      0.324      -1.278       3.783\n",
              "yesterday_satisfaction     0.2942      0.256      1.148      0.257      -0.223       0.811\n",
              "sleep_time                 0.0040      0.003      1.381      0.174      -0.002       0.010\n",
              "precipitation              0.0231      0.015      1.494      0.143      -0.008       0.054\n",
              "sleep_score                0.7053      0.235      3.001      0.004       0.231       1.179\n",
              "==============================================================================\n",
              "Omnibus:                        1.077   Durbin-Watson:                   1.621\n",
              "Prob(Omnibus):                  0.584   Jarque-Bera (JB):                1.073\n",
              "Skew:                          -0.232   Prob(JB):                        0.585\n",
              "Kurtosis:                       2.433   Cond. No.                     2.39e+03\n",
              "==============================================================================\n",
              "\n",
              "Notes:\n",
              "[1] Standard Errors assume that the covariance matrix of the errors is correctly specified.\n",
              "[2] The condition number is large, 2.39e+03. This might indicate that there are\n",
              "strong multicollinearity or other numerical problems.\n",
              "\"\"\""
            ],
            "text/html": [
              "<table class=\"simpletable\">\n",
              "<caption>OLS Regression Results</caption>\n",
              "<tr>\n",
              "  <th>Dep. Variable:</th>       <td>today_score</td>   <th>  R-squared:         </th> <td>   0.456</td>\n",
              "</tr>\n",
              "<tr>\n",
              "  <th>Model:</th>                   <td>OLS</td>       <th>  Adj. R-squared:    </th> <td>   0.406</td>\n",
              "</tr>\n",
              "<tr>\n",
              "  <th>Method:</th>             <td>Least Squares</td>  <th>  F-statistic:       </th> <td>   9.024</td>\n",
              "</tr>\n",
              "<tr>\n",
              "  <th>Date:</th>             <td>Fri, 25 Nov 2022</td> <th>  Prob (F-statistic):</th> <td>2.20e-05</td>\n",
              "</tr>\n",
              "<tr>\n",
              "  <th>Time:</th>                 <td>03:21:16</td>     <th>  Log-Likelihood:    </th> <td> -83.758</td>\n",
              "</tr>\n",
              "<tr>\n",
              "  <th>No. Observations:</th>      <td>    48</td>      <th>  AIC:               </th> <td>   177.5</td>\n",
              "</tr>\n",
              "<tr>\n",
              "  <th>Df Residuals:</th>          <td>    43</td>      <th>  BIC:               </th> <td>   186.9</td>\n",
              "</tr>\n",
              "<tr>\n",
              "  <th>Df Model:</th>              <td>     4</td>      <th>                     </th>     <td> </td>   \n",
              "</tr>\n",
              "<tr>\n",
              "  <th>Covariance Type:</th>      <td>nonrobust</td>    <th>                     </th>     <td> </td>   \n",
              "</tr>\n",
              "</table>\n",
              "<table class=\"simpletable\">\n",
              "<tr>\n",
              "             <td></td>               <th>coef</th>     <th>std err</th>      <th>t</th>      <th>P>|t|</th>  <th>[0.025</th>    <th>0.975]</th>  \n",
              "</tr>\n",
              "<tr>\n",
              "  <th>Intercept</th>              <td>    1.2528</td> <td>    1.255</td> <td>    0.998</td> <td> 0.324</td> <td>   -1.278</td> <td>    3.783</td>\n",
              "</tr>\n",
              "<tr>\n",
              "  <th>yesterday_satisfaction</th> <td>    0.2942</td> <td>    0.256</td> <td>    1.148</td> <td> 0.257</td> <td>   -0.223</td> <td>    0.811</td>\n",
              "</tr>\n",
              "<tr>\n",
              "  <th>sleep_time</th>             <td>    0.0040</td> <td>    0.003</td> <td>    1.381</td> <td> 0.174</td> <td>   -0.002</td> <td>    0.010</td>\n",
              "</tr>\n",
              "<tr>\n",
              "  <th>precipitation</th>          <td>    0.0231</td> <td>    0.015</td> <td>    1.494</td> <td> 0.143</td> <td>   -0.008</td> <td>    0.054</td>\n",
              "</tr>\n",
              "<tr>\n",
              "  <th>sleep_score</th>            <td>    0.7053</td> <td>    0.235</td> <td>    3.001</td> <td> 0.004</td> <td>    0.231</td> <td>    1.179</td>\n",
              "</tr>\n",
              "</table>\n",
              "<table class=\"simpletable\">\n",
              "<tr>\n",
              "  <th>Omnibus:</th>       <td> 1.077</td> <th>  Durbin-Watson:     </th> <td>   1.621</td>\n",
              "</tr>\n",
              "<tr>\n",
              "  <th>Prob(Omnibus):</th> <td> 0.584</td> <th>  Jarque-Bera (JB):  </th> <td>   1.073</td>\n",
              "</tr>\n",
              "<tr>\n",
              "  <th>Skew:</th>          <td>-0.232</td> <th>  Prob(JB):          </th> <td>   0.585</td>\n",
              "</tr>\n",
              "<tr>\n",
              "  <th>Kurtosis:</th>      <td> 2.433</td> <th>  Cond. No.          </th> <td>2.39e+03</td>\n",
              "</tr>\n",
              "</table><br/><br/>Notes:<br/>[1] Standard Errors assume that the covariance matrix of the errors is correctly specified.<br/>[2] The condition number is large, 2.39e+03. This might indicate that there are<br/>strong multicollinearity or other numerical problems."
            ]
          },
          "metadata": {},
          "execution_count": 36
        }
      ]
    },
    {
      "cell_type": "markdown",
      "source": [
        "sleep_score를 제외한 모든 독립변수의 p-value가 0.05보다 높게 나타나, 유의미하지 않은 결과가 도출되었다."
      ],
      "metadata": {
        "id": "FPLhZH2HAESN"
      }
    },
    {
      "cell_type": "code",
      "source": [
        "x = squirrel[['yesterday_satisfaction', 'precipitation','sleep_time', 'sleep_score']]\n",
        "             \n",
        "def feature_vif(x):\n",
        "  vif = pd.DataFrame()\n",
        "  vif['vif_factor'] = [variance_inflation_factor(x.values, i)\n",
        "                      for i in range(x.shape[1])]\n",
        "  vif['feature'] = x.columns\n",
        "  return vif\n",
        "vif = feature_vif(x)\n",
        "print(vif)"
      ],
      "metadata": {
        "colab": {
          "base_uri": "https://localhost:8080/"
        },
        "id": "WJDAg2ZhAWwX",
        "outputId": "30ab8f9a-7902-48ce-e4d8-3c39fcc6d7fd"
      },
      "execution_count": 37,
      "outputs": [
        {
          "output_type": "stream",
          "name": "stdout",
          "text": [
            "   vif_factor                 feature\n",
            "0   16.144398  yesterday_satisfaction\n",
            "1    1.096938           precipitation\n",
            "2   13.258167              sleep_time\n",
            "3   19.074139             sleep_score\n"
          ]
        }
      ]
    },
    {
      "cell_type": "markdown",
      "source": [
        "변수 yesterday_satisfaction과 sleep_time과 sleep_score에서 vif가 10보다 큰 다중공선성을 확인하였다."
      ],
      "metadata": {
        "id": "V89RurUaAB5T"
      }
    },
    {
      "cell_type": "markdown",
      "source": [
        "## 💫전날 만족도, 수면 시간 다중회귀"
      ],
      "metadata": {
        "id": "9qdB6or4FGma"
      }
    },
    {
      "cell_type": "code",
      "source": [
        "ols('today_score ~ yesterday_satisfaction + sleep_time  ', data = squirrel).fit().summary()"
      ],
      "metadata": {
        "colab": {
          "base_uri": "https://localhost:8080/",
          "height": 491
        },
        "id": "UMEkNFX6ACH9",
        "outputId": "b0ac98eb-0ee2-44e0-87e5-4daa0101add1"
      },
      "execution_count": 38,
      "outputs": [
        {
          "output_type": "execute_result",
          "data": {
            "text/plain": [
              "<class 'statsmodels.iolib.summary.Summary'>\n",
              "\"\"\"\n",
              "                            OLS Regression Results                            \n",
              "==============================================================================\n",
              "Dep. Variable:            today_score   R-squared:                       0.306\n",
              "Model:                            OLS   Adj. R-squared:                  0.275\n",
              "Method:                 Least Squares   F-statistic:                     9.920\n",
              "Date:                Fri, 25 Nov 2022   Prob (F-statistic):           0.000270\n",
              "Time:                        03:21:18   Log-Likelihood:                -89.619\n",
              "No. Observations:                  48   AIC:                             185.2\n",
              "Df Residuals:                      45   BIC:                             190.9\n",
              "Df Model:                           2                                         \n",
              "Covariance Type:            nonrobust                                         \n",
              "==========================================================================================\n",
              "                             coef    std err          t      P>|t|      [0.025      0.975]\n",
              "------------------------------------------------------------------------------------------\n",
              "Intercept                  0.8013      1.375      0.583      0.563      -1.967       3.570\n",
              "yesterday_satisfaction     0.7735      0.231      3.343      0.002       0.307       1.239\n",
              "sleep_time                 0.0077      0.003      2.619      0.012       0.002       0.014\n",
              "==============================================================================\n",
              "Omnibus:                        2.888   Durbin-Watson:                   1.824\n",
              "Prob(Omnibus):                  0.236   Jarque-Bera (JB):                1.572\n",
              "Skew:                           0.102   Prob(JB):                        0.456\n",
              "Kurtosis:                       2.137   Cond. No.                     2.37e+03\n",
              "==============================================================================\n",
              "\n",
              "Notes:\n",
              "[1] Standard Errors assume that the covariance matrix of the errors is correctly specified.\n",
              "[2] The condition number is large, 2.37e+03. This might indicate that there are\n",
              "strong multicollinearity or other numerical problems.\n",
              "\"\"\""
            ],
            "text/html": [
              "<table class=\"simpletable\">\n",
              "<caption>OLS Regression Results</caption>\n",
              "<tr>\n",
              "  <th>Dep. Variable:</th>       <td>today_score</td>   <th>  R-squared:         </th> <td>   0.306</td>\n",
              "</tr>\n",
              "<tr>\n",
              "  <th>Model:</th>                   <td>OLS</td>       <th>  Adj. R-squared:    </th> <td>   0.275</td>\n",
              "</tr>\n",
              "<tr>\n",
              "  <th>Method:</th>             <td>Least Squares</td>  <th>  F-statistic:       </th> <td>   9.920</td>\n",
              "</tr>\n",
              "<tr>\n",
              "  <th>Date:</th>             <td>Fri, 25 Nov 2022</td> <th>  Prob (F-statistic):</th> <td>0.000270</td>\n",
              "</tr>\n",
              "<tr>\n",
              "  <th>Time:</th>                 <td>03:21:18</td>     <th>  Log-Likelihood:    </th> <td> -89.619</td>\n",
              "</tr>\n",
              "<tr>\n",
              "  <th>No. Observations:</th>      <td>    48</td>      <th>  AIC:               </th> <td>   185.2</td>\n",
              "</tr>\n",
              "<tr>\n",
              "  <th>Df Residuals:</th>          <td>    45</td>      <th>  BIC:               </th> <td>   190.9</td>\n",
              "</tr>\n",
              "<tr>\n",
              "  <th>Df Model:</th>              <td>     2</td>      <th>                     </th>     <td> </td>   \n",
              "</tr>\n",
              "<tr>\n",
              "  <th>Covariance Type:</th>      <td>nonrobust</td>    <th>                     </th>     <td> </td>   \n",
              "</tr>\n",
              "</table>\n",
              "<table class=\"simpletable\">\n",
              "<tr>\n",
              "             <td></td>               <th>coef</th>     <th>std err</th>      <th>t</th>      <th>P>|t|</th>  <th>[0.025</th>    <th>0.975]</th>  \n",
              "</tr>\n",
              "<tr>\n",
              "  <th>Intercept</th>              <td>    0.8013</td> <td>    1.375</td> <td>    0.583</td> <td> 0.563</td> <td>   -1.967</td> <td>    3.570</td>\n",
              "</tr>\n",
              "<tr>\n",
              "  <th>yesterday_satisfaction</th> <td>    0.7735</td> <td>    0.231</td> <td>    3.343</td> <td> 0.002</td> <td>    0.307</td> <td>    1.239</td>\n",
              "</tr>\n",
              "<tr>\n",
              "  <th>sleep_time</th>             <td>    0.0077</td> <td>    0.003</td> <td>    2.619</td> <td> 0.012</td> <td>    0.002</td> <td>    0.014</td>\n",
              "</tr>\n",
              "</table>\n",
              "<table class=\"simpletable\">\n",
              "<tr>\n",
              "  <th>Omnibus:</th>       <td> 2.888</td> <th>  Durbin-Watson:     </th> <td>   1.824</td>\n",
              "</tr>\n",
              "<tr>\n",
              "  <th>Prob(Omnibus):</th> <td> 0.236</td> <th>  Jarque-Bera (JB):  </th> <td>   1.572</td>\n",
              "</tr>\n",
              "<tr>\n",
              "  <th>Skew:</th>          <td> 0.102</td> <th>  Prob(JB):          </th> <td>   0.456</td>\n",
              "</tr>\n",
              "<tr>\n",
              "  <th>Kurtosis:</th>      <td> 2.137</td> <th>  Cond. No.          </th> <td>2.37e+03</td>\n",
              "</tr>\n",
              "</table><br/><br/>Notes:<br/>[1] Standard Errors assume that the covariance matrix of the errors is correctly specified.<br/>[2] The condition number is large, 2.37e+03. This might indicate that there are<br/>strong multicollinearity or other numerical problems."
            ]
          },
          "metadata": {},
          "execution_count": 38
        }
      ]
    },
    {
      "cell_type": "code",
      "source": [
        "x = squirrel[['yesterday_satisfaction','sleep_time']]\n",
        "             \n",
        "def feature_vif(x):\n",
        "  vif = pd.DataFrame()\n",
        "  vif['vif_factor'] = [variance_inflation_factor(x.values, i)\n",
        "                      for i in range(x.shape[1])]\n",
        "  vif['feature'] = x.columns\n",
        "  return vif\n",
        "vif = feature_vif(x)\n",
        "print(vif)"
      ],
      "metadata": {
        "colab": {
          "base_uri": "https://localhost:8080/"
        },
        "id": "yYtY0TUOA1ah",
        "outputId": "973d805f-74e5-462f-fdf7-1911a558037d"
      },
      "execution_count": 39,
      "outputs": [
        {
          "output_type": "stream",
          "name": "stdout",
          "text": [
            "   vif_factor                 feature\n",
            "0    9.978212  yesterday_satisfaction\n",
            "1    9.978212              sleep_time\n"
          ]
        }
      ]
    },
    {
      "cell_type": "markdown",
      "source": [
        "변수 yesterday_satisfaction 과 sleep_time의 vif = 9.978212  "
      ],
      "metadata": {
        "id": "Aci1MZdsA5KM"
      }
    },
    {
      "cell_type": "markdown",
      "source": [
        "독립변수 '전날 만족도'와 '수면시간'이 squirrel의 '오늘의 점수'를 약 27% 설명한다.\n",
        "\n",
        "전날 만족도가 1점 높아지면 '오늘의 점수'가 0.7735점 높아지고, 수면 시간이 1분 증가하면 '오늘의 점수'는 0.0077점 높아짐을 알 수 있다."
      ],
      "metadata": {
        "id": "kyj_EJ4UI89w"
      }
    },
    {
      "cell_type": "markdown",
      "source": [
        "## 전날 만족도, 수면점수 다중회귀"
      ],
      "metadata": {
        "id": "2NwjQrIvFMQq"
      }
    },
    {
      "cell_type": "code",
      "source": [
        "ols('today_score ~ yesterday_satisfaction + sleep_score ', data = squirrel).fit().summary()"
      ],
      "metadata": {
        "colab": {
          "base_uri": "https://localhost:8080/",
          "height": 457
        },
        "id": "2gH_UUK2-R29",
        "outputId": "d40162de-4c70-41ea-eab3-850b068c85cb"
      },
      "execution_count": 40,
      "outputs": [
        {
          "output_type": "execute_result",
          "data": {
            "text/plain": [
              "<class 'statsmodels.iolib.summary.Summary'>\n",
              "\"\"\"\n",
              "                            OLS Regression Results                            \n",
              "==============================================================================\n",
              "Dep. Variable:            today_score   R-squared:                       0.400\n",
              "Model:                            OLS   Adj. R-squared:                  0.373\n",
              "Method:                 Least Squares   F-statistic:                     15.00\n",
              "Date:                Fri, 25 Nov 2022   Prob (F-statistic):           1.02e-05\n",
              "Time:                        03:21:21   Log-Likelihood:                -86.127\n",
              "No. Observations:                  48   AIC:                             178.3\n",
              "Df Residuals:                      45   BIC:                             183.9\n",
              "Df Model:                           2                                         \n",
              "Covariance Type:            nonrobust                                         \n",
              "==========================================================================================\n",
              "                             coef    std err          t      P>|t|      [0.025      0.975]\n",
              "------------------------------------------------------------------------------------------\n",
              "Intercept                  2.4248      0.861      2.816      0.007       0.690       4.159\n",
              "yesterday_satisfaction     0.2610      0.260      1.005      0.320      -0.262       0.784\n",
              "sleep_score                0.8622      0.223      3.871      0.000       0.414       1.311\n",
              "==============================================================================\n",
              "Omnibus:                        1.166   Durbin-Watson:                   1.585\n",
              "Prob(Omnibus):                  0.558   Jarque-Bera (JB):                1.066\n",
              "Skew:                          -0.348   Prob(JB):                        0.587\n",
              "Kurtosis:                       2.777   Cond. No.                         22.1\n",
              "==============================================================================\n",
              "\n",
              "Notes:\n",
              "[1] Standard Errors assume that the covariance matrix of the errors is correctly specified.\n",
              "\"\"\""
            ],
            "text/html": [
              "<table class=\"simpletable\">\n",
              "<caption>OLS Regression Results</caption>\n",
              "<tr>\n",
              "  <th>Dep. Variable:</th>       <td>today_score</td>   <th>  R-squared:         </th> <td>   0.400</td>\n",
              "</tr>\n",
              "<tr>\n",
              "  <th>Model:</th>                   <td>OLS</td>       <th>  Adj. R-squared:    </th> <td>   0.373</td>\n",
              "</tr>\n",
              "<tr>\n",
              "  <th>Method:</th>             <td>Least Squares</td>  <th>  F-statistic:       </th> <td>   15.00</td>\n",
              "</tr>\n",
              "<tr>\n",
              "  <th>Date:</th>             <td>Fri, 25 Nov 2022</td> <th>  Prob (F-statistic):</th> <td>1.02e-05</td>\n",
              "</tr>\n",
              "<tr>\n",
              "  <th>Time:</th>                 <td>03:21:21</td>     <th>  Log-Likelihood:    </th> <td> -86.127</td>\n",
              "</tr>\n",
              "<tr>\n",
              "  <th>No. Observations:</th>      <td>    48</td>      <th>  AIC:               </th> <td>   178.3</td>\n",
              "</tr>\n",
              "<tr>\n",
              "  <th>Df Residuals:</th>          <td>    45</td>      <th>  BIC:               </th> <td>   183.9</td>\n",
              "</tr>\n",
              "<tr>\n",
              "  <th>Df Model:</th>              <td>     2</td>      <th>                     </th>     <td> </td>   \n",
              "</tr>\n",
              "<tr>\n",
              "  <th>Covariance Type:</th>      <td>nonrobust</td>    <th>                     </th>     <td> </td>   \n",
              "</tr>\n",
              "</table>\n",
              "<table class=\"simpletable\">\n",
              "<tr>\n",
              "             <td></td>               <th>coef</th>     <th>std err</th>      <th>t</th>      <th>P>|t|</th>  <th>[0.025</th>    <th>0.975]</th>  \n",
              "</tr>\n",
              "<tr>\n",
              "  <th>Intercept</th>              <td>    2.4248</td> <td>    0.861</td> <td>    2.816</td> <td> 0.007</td> <td>    0.690</td> <td>    4.159</td>\n",
              "</tr>\n",
              "<tr>\n",
              "  <th>yesterday_satisfaction</th> <td>    0.2610</td> <td>    0.260</td> <td>    1.005</td> <td> 0.320</td> <td>   -0.262</td> <td>    0.784</td>\n",
              "</tr>\n",
              "<tr>\n",
              "  <th>sleep_score</th>            <td>    0.8622</td> <td>    0.223</td> <td>    3.871</td> <td> 0.000</td> <td>    0.414</td> <td>    1.311</td>\n",
              "</tr>\n",
              "</table>\n",
              "<table class=\"simpletable\">\n",
              "<tr>\n",
              "  <th>Omnibus:</th>       <td> 1.166</td> <th>  Durbin-Watson:     </th> <td>   1.585</td>\n",
              "</tr>\n",
              "<tr>\n",
              "  <th>Prob(Omnibus):</th> <td> 0.558</td> <th>  Jarque-Bera (JB):  </th> <td>   1.066</td>\n",
              "</tr>\n",
              "<tr>\n",
              "  <th>Skew:</th>          <td>-0.348</td> <th>  Prob(JB):          </th> <td>   0.587</td>\n",
              "</tr>\n",
              "<tr>\n",
              "  <th>Kurtosis:</th>      <td> 2.777</td> <th>  Cond. No.          </th> <td>    22.1</td>\n",
              "</tr>\n",
              "</table><br/><br/>Notes:<br/>[1] Standard Errors assume that the covariance matrix of the errors is correctly specified."
            ]
          },
          "metadata": {},
          "execution_count": 40
        }
      ]
    },
    {
      "cell_type": "markdown",
      "source": [
        "yesterday_satisfaction 변수의 p-value가 0.05보다 커, 유의미하지 않다."
      ],
      "metadata": {
        "id": "D2ULD6YPBDgv"
      }
    },
    {
      "cell_type": "markdown",
      "source": [
        "## 전날 만족도, 수면시간, 수업 여부 다중회귀"
      ],
      "metadata": {
        "id": "pyeIGPcgFYOr"
      }
    },
    {
      "cell_type": "code",
      "source": [
        "ols('today_score ~ yesterday_satisfaction + sleep_time + class_check  ', data = squirrel).fit().summary()"
      ],
      "metadata": {
        "colab": {
          "base_uri": "https://localhost:8080/",
          "height": 512
        },
        "id": "8Fev2YSdBu7R",
        "outputId": "3e480b16-8cec-46c9-c51c-44a10e9a4551"
      },
      "execution_count": 42,
      "outputs": [
        {
          "output_type": "execute_result",
          "data": {
            "text/plain": [
              "<class 'statsmodels.iolib.summary.Summary'>\n",
              "\"\"\"\n",
              "                            OLS Regression Results                            \n",
              "==============================================================================\n",
              "Dep. Variable:            today_score   R-squared:                       0.328\n",
              "Model:                            OLS   Adj. R-squared:                  0.282\n",
              "Method:                 Least Squares   F-statistic:                     7.148\n",
              "Date:                Fri, 25 Nov 2022   Prob (F-statistic):           0.000517\n",
              "Time:                        03:21:22   Log-Likelihood:                -88.858\n",
              "No. Observations:                  48   AIC:                             185.7\n",
              "Df Residuals:                      44   BIC:                             193.2\n",
              "Df Model:                           3                                         \n",
              "Covariance Type:            nonrobust                                         \n",
              "==========================================================================================\n",
              "                             coef    std err          t      P>|t|      [0.025      0.975]\n",
              "------------------------------------------------------------------------------------------\n",
              "Intercept                  1.7323      1.576      1.099      0.278      -1.444       4.908\n",
              "class_check[T.1]          -0.6707      0.563     -1.191      0.240      -1.806       0.464\n",
              "yesterday_satisfaction     0.7748      0.230      3.364      0.002       0.311       1.239\n",
              "sleep_time                 0.0065      0.003      2.145      0.037       0.000       0.013\n",
              "==============================================================================\n",
              "Omnibus:                        2.793   Durbin-Watson:                   1.824\n",
              "Prob(Omnibus):                  0.247   Jarque-Bera (JB):                1.512\n",
              "Skew:                          -0.063   Prob(JB):                        0.470\n",
              "Kurtosis:                       2.140   Cond. No.                     2.77e+03\n",
              "==============================================================================\n",
              "\n",
              "Notes:\n",
              "[1] Standard Errors assume that the covariance matrix of the errors is correctly specified.\n",
              "[2] The condition number is large, 2.77e+03. This might indicate that there are\n",
              "strong multicollinearity or other numerical problems.\n",
              "\"\"\""
            ],
            "text/html": [
              "<table class=\"simpletable\">\n",
              "<caption>OLS Regression Results</caption>\n",
              "<tr>\n",
              "  <th>Dep. Variable:</th>       <td>today_score</td>   <th>  R-squared:         </th> <td>   0.328</td>\n",
              "</tr>\n",
              "<tr>\n",
              "  <th>Model:</th>                   <td>OLS</td>       <th>  Adj. R-squared:    </th> <td>   0.282</td>\n",
              "</tr>\n",
              "<tr>\n",
              "  <th>Method:</th>             <td>Least Squares</td>  <th>  F-statistic:       </th> <td>   7.148</td>\n",
              "</tr>\n",
              "<tr>\n",
              "  <th>Date:</th>             <td>Fri, 25 Nov 2022</td> <th>  Prob (F-statistic):</th> <td>0.000517</td>\n",
              "</tr>\n",
              "<tr>\n",
              "  <th>Time:</th>                 <td>03:21:22</td>     <th>  Log-Likelihood:    </th> <td> -88.858</td>\n",
              "</tr>\n",
              "<tr>\n",
              "  <th>No. Observations:</th>      <td>    48</td>      <th>  AIC:               </th> <td>   185.7</td>\n",
              "</tr>\n",
              "<tr>\n",
              "  <th>Df Residuals:</th>          <td>    44</td>      <th>  BIC:               </th> <td>   193.2</td>\n",
              "</tr>\n",
              "<tr>\n",
              "  <th>Df Model:</th>              <td>     3</td>      <th>                     </th>     <td> </td>   \n",
              "</tr>\n",
              "<tr>\n",
              "  <th>Covariance Type:</th>      <td>nonrobust</td>    <th>                     </th>     <td> </td>   \n",
              "</tr>\n",
              "</table>\n",
              "<table class=\"simpletable\">\n",
              "<tr>\n",
              "             <td></td>               <th>coef</th>     <th>std err</th>      <th>t</th>      <th>P>|t|</th>  <th>[0.025</th>    <th>0.975]</th>  \n",
              "</tr>\n",
              "<tr>\n",
              "  <th>Intercept</th>              <td>    1.7323</td> <td>    1.576</td> <td>    1.099</td> <td> 0.278</td> <td>   -1.444</td> <td>    4.908</td>\n",
              "</tr>\n",
              "<tr>\n",
              "  <th>class_check[T.1]</th>       <td>   -0.6707</td> <td>    0.563</td> <td>   -1.191</td> <td> 0.240</td> <td>   -1.806</td> <td>    0.464</td>\n",
              "</tr>\n",
              "<tr>\n",
              "  <th>yesterday_satisfaction</th> <td>    0.7748</td> <td>    0.230</td> <td>    3.364</td> <td> 0.002</td> <td>    0.311</td> <td>    1.239</td>\n",
              "</tr>\n",
              "<tr>\n",
              "  <th>sleep_time</th>             <td>    0.0065</td> <td>    0.003</td> <td>    2.145</td> <td> 0.037</td> <td>    0.000</td> <td>    0.013</td>\n",
              "</tr>\n",
              "</table>\n",
              "<table class=\"simpletable\">\n",
              "<tr>\n",
              "  <th>Omnibus:</th>       <td> 2.793</td> <th>  Durbin-Watson:     </th> <td>   1.824</td>\n",
              "</tr>\n",
              "<tr>\n",
              "  <th>Prob(Omnibus):</th> <td> 0.247</td> <th>  Jarque-Bera (JB):  </th> <td>   1.512</td>\n",
              "</tr>\n",
              "<tr>\n",
              "  <th>Skew:</th>          <td>-0.063</td> <th>  Prob(JB):          </th> <td>   0.470</td>\n",
              "</tr>\n",
              "<tr>\n",
              "  <th>Kurtosis:</th>      <td> 2.140</td> <th>  Cond. No.          </th> <td>2.77e+03</td>\n",
              "</tr>\n",
              "</table><br/><br/>Notes:<br/>[1] Standard Errors assume that the covariance matrix of the errors is correctly specified.<br/>[2] The condition number is large, 2.77e+03. This might indicate that there are<br/>strong multicollinearity or other numerical problems."
            ]
          },
          "metadata": {},
          "execution_count": 42
        }
      ]
    },
    {
      "cell_type": "markdown",
      "source": [
        "다른 독립변수들도 추가해보았지만, p-value가 0.05보다 높게 나타나 유의미하지 않음을 확인\n",
        "\n",
        "따라서 최적의 회귀모델은 독립변수가 전날 만족도(yesterday_satisfaction), 수면시간(sleep_time)인 회귀식으로 나타났다."
      ],
      "metadata": {
        "id": "Hl_-58y4Fktv"
      }
    },
    {
      "cell_type": "markdown",
      "source": [
        "# 6. p-value 0.1 기준 다중회귀"
      ],
      "metadata": {
        "id": "dlzmR3uDLFI3"
      }
    },
    {
      "cell_type": "markdown",
      "source": [
        "## 💫전날 만족도, 수면시간, 날씨 선호 여부"
      ],
      "metadata": {
        "id": "AlHsd9PELIC3"
      }
    },
    {
      "cell_type": "code",
      "source": [
        "ols('today_score ~ yesterday_satisfaction + sleep_time + weather_prefer  ', data = squirrel).fit().summary()"
      ],
      "metadata": {
        "colab": {
          "base_uri": "https://localhost:8080/",
          "height": 512
        },
        "id": "GAUWfbvdFeOu",
        "outputId": "f29b05ff-42d2-490d-c95b-f475d297a1b2"
      },
      "execution_count": 43,
      "outputs": [
        {
          "output_type": "execute_result",
          "data": {
            "text/plain": [
              "<class 'statsmodels.iolib.summary.Summary'>\n",
              "\"\"\"\n",
              "                            OLS Regression Results                            \n",
              "==============================================================================\n",
              "Dep. Variable:            today_score   R-squared:                       0.360\n",
              "Model:                            OLS   Adj. R-squared:                  0.316\n",
              "Method:                 Least Squares   F-statistic:                     8.236\n",
              "Date:                Fri, 25 Nov 2022   Prob (F-statistic):           0.000185\n",
              "Time:                        03:21:24   Log-Likelihood:                -87.689\n",
              "No. Observations:                  48   AIC:                             183.4\n",
              "Df Residuals:                      44   BIC:                             190.9\n",
              "Df Model:                           3                                         \n",
              "Covariance Type:            nonrobust                                         \n",
              "==========================================================================================\n",
              "                             coef    std err          t      P>|t|      [0.025      0.975]\n",
              "------------------------------------------------------------------------------------------\n",
              "Intercept                  0.8419      1.336      0.630      0.532      -1.850       3.534\n",
              "weather_prefer[T.1]       -0.8882      0.463     -1.920      0.061      -1.821       0.044\n",
              "yesterday_satisfaction     0.8372      0.227      3.685      0.001       0.379       1.295\n",
              "sleep_time                 0.0082      0.003      2.871      0.006       0.002       0.014\n",
              "==============================================================================\n",
              "Omnibus:                        5.280   Durbin-Watson:                   1.810\n",
              "Prob(Omnibus):                  0.071   Jarque-Bera (JB):                2.070\n",
              "Skew:                           0.051   Prob(JB):                        0.355\n",
              "Kurtosis:                       1.988   Cond. No.                     2.37e+03\n",
              "==============================================================================\n",
              "\n",
              "Notes:\n",
              "[1] Standard Errors assume that the covariance matrix of the errors is correctly specified.\n",
              "[2] The condition number is large, 2.37e+03. This might indicate that there are\n",
              "strong multicollinearity or other numerical problems.\n",
              "\"\"\""
            ],
            "text/html": [
              "<table class=\"simpletable\">\n",
              "<caption>OLS Regression Results</caption>\n",
              "<tr>\n",
              "  <th>Dep. Variable:</th>       <td>today_score</td>   <th>  R-squared:         </th> <td>   0.360</td>\n",
              "</tr>\n",
              "<tr>\n",
              "  <th>Model:</th>                   <td>OLS</td>       <th>  Adj. R-squared:    </th> <td>   0.316</td>\n",
              "</tr>\n",
              "<tr>\n",
              "  <th>Method:</th>             <td>Least Squares</td>  <th>  F-statistic:       </th> <td>   8.236</td>\n",
              "</tr>\n",
              "<tr>\n",
              "  <th>Date:</th>             <td>Fri, 25 Nov 2022</td> <th>  Prob (F-statistic):</th> <td>0.000185</td>\n",
              "</tr>\n",
              "<tr>\n",
              "  <th>Time:</th>                 <td>03:21:24</td>     <th>  Log-Likelihood:    </th> <td> -87.689</td>\n",
              "</tr>\n",
              "<tr>\n",
              "  <th>No. Observations:</th>      <td>    48</td>      <th>  AIC:               </th> <td>   183.4</td>\n",
              "</tr>\n",
              "<tr>\n",
              "  <th>Df Residuals:</th>          <td>    44</td>      <th>  BIC:               </th> <td>   190.9</td>\n",
              "</tr>\n",
              "<tr>\n",
              "  <th>Df Model:</th>              <td>     3</td>      <th>                     </th>     <td> </td>   \n",
              "</tr>\n",
              "<tr>\n",
              "  <th>Covariance Type:</th>      <td>nonrobust</td>    <th>                     </th>     <td> </td>   \n",
              "</tr>\n",
              "</table>\n",
              "<table class=\"simpletable\">\n",
              "<tr>\n",
              "             <td></td>               <th>coef</th>     <th>std err</th>      <th>t</th>      <th>P>|t|</th>  <th>[0.025</th>    <th>0.975]</th>  \n",
              "</tr>\n",
              "<tr>\n",
              "  <th>Intercept</th>              <td>    0.8419</td> <td>    1.336</td> <td>    0.630</td> <td> 0.532</td> <td>   -1.850</td> <td>    3.534</td>\n",
              "</tr>\n",
              "<tr>\n",
              "  <th>weather_prefer[T.1]</th>    <td>   -0.8882</td> <td>    0.463</td> <td>   -1.920</td> <td> 0.061</td> <td>   -1.821</td> <td>    0.044</td>\n",
              "</tr>\n",
              "<tr>\n",
              "  <th>yesterday_satisfaction</th> <td>    0.8372</td> <td>    0.227</td> <td>    3.685</td> <td> 0.001</td> <td>    0.379</td> <td>    1.295</td>\n",
              "</tr>\n",
              "<tr>\n",
              "  <th>sleep_time</th>             <td>    0.0082</td> <td>    0.003</td> <td>    2.871</td> <td> 0.006</td> <td>    0.002</td> <td>    0.014</td>\n",
              "</tr>\n",
              "</table>\n",
              "<table class=\"simpletable\">\n",
              "<tr>\n",
              "  <th>Omnibus:</th>       <td> 5.280</td> <th>  Durbin-Watson:     </th> <td>   1.810</td>\n",
              "</tr>\n",
              "<tr>\n",
              "  <th>Prob(Omnibus):</th> <td> 0.071</td> <th>  Jarque-Bera (JB):  </th> <td>   2.070</td>\n",
              "</tr>\n",
              "<tr>\n",
              "  <th>Skew:</th>          <td> 0.051</td> <th>  Prob(JB):          </th> <td>   0.355</td>\n",
              "</tr>\n",
              "<tr>\n",
              "  <th>Kurtosis:</th>      <td> 1.988</td> <th>  Cond. No.          </th> <td>2.37e+03</td>\n",
              "</tr>\n",
              "</table><br/><br/>Notes:<br/>[1] Standard Errors assume that the covariance matrix of the errors is correctly specified.<br/>[2] The condition number is large, 2.37e+03. This might indicate that there are<br/>strong multicollinearity or other numerical problems."
            ]
          },
          "metadata": {},
          "execution_count": 43
        }
      ]
    },
    {
      "cell_type": "markdown",
      "source": [
        "다만, 날씨 선호 여부 변수를 추가했을 때, 날씨 선호 여부 변수의 p-value가 0.061로 0.05보다는 높다. \n",
        "만약 완화된 기준으로 p-value가 1일 때까지를 '유의하다'고 본다면,\n",
        "\n",
        "\n",
        "squirrel의 오늘의 점수는 '어제의 만족도', '수면시간', '날씨 선호여부'로 약 31%가 설명된다.\n",
        "또한 어제의 만족도가 1점 높아질 때 '오늘의 점수'가 0.8372점 증가하며, 수면시간이 1분 증가할 때 '오늘의 점수'가 0.0082점 증가한다. \n",
        "\n",
        "한편, 날씨를 선호할때, 날씨를 선호하지 않을 때보다 '오늘의 점수'가 0.8882점 낮게 나타나, \"오늘 날씨를 선호하면 '오늘의 점수'가 높을 것이다\" 라는 예상과 다른 의외의 결과가 도출되었음을 알 수 있다. "
      ],
      "metadata": {
        "id": "00TCfrffH0If"
      }
    },
    {
      "cell_type": "code",
      "source": [
        "x = squirrel[['yesterday_satisfaction','sleep_time', 'weather_prefer']]\n",
        "             \n",
        "def feature_vif(x):\n",
        "  vif = pd.DataFrame()\n",
        "  vif['vif_factor'] = [variance_inflation_factor(x.values, i)\n",
        "                      for i in range(x.shape[1])]\n",
        "  vif['feature'] = x.columns\n",
        "  return vif\n",
        "vif = feature_vif(x)\n",
        "print(vif)"
      ],
      "metadata": {
        "colab": {
          "base_uri": "https://localhost:8080/"
        },
        "id": "JyIsIYJ_LRHn",
        "outputId": "b4ffee6f-bffe-482b-b503-30f6ee89312d"
      },
      "execution_count": 57,
      "outputs": [
        {
          "output_type": "stream",
          "name": "stdout",
          "text": [
            "   vif_factor                 feature\n",
            "0   10.317211  yesterday_satisfaction\n",
            "1   10.284388              sleep_time\n",
            "2    2.256377          weather_prefer\n"
          ]
        }
      ]
    },
    {
      "cell_type": "markdown",
      "source": [
        "vif 10보다 높다. 다중공선성 문제가 있다."
      ],
      "metadata": {
        "id": "x4HLw0zbLWKH"
      }
    },
    {
      "cell_type": "markdown",
      "source": [
        "## 💫전날 만족도, 수면시간, 전날 걸음수"
      ],
      "metadata": {
        "id": "CeQLjdxsLwdq"
      }
    },
    {
      "cell_type": "code",
      "source": [
        "ols('today_score ~ yesterday_satisfaction + sleep_time + yesterday_step_cnt  ', data = squirrel).fit().summary()"
      ],
      "metadata": {
        "colab": {
          "base_uri": "https://localhost:8080/",
          "height": 512
        },
        "id": "qKMtsTnzHSia",
        "outputId": "ceb67008-4d32-4c20-8de0-96770aa2e791"
      },
      "execution_count": 45,
      "outputs": [
        {
          "output_type": "execute_result",
          "data": {
            "text/plain": [
              "<class 'statsmodels.iolib.summary.Summary'>\n",
              "\"\"\"\n",
              "                            OLS Regression Results                            \n",
              "==============================================================================\n",
              "Dep. Variable:            today_score   R-squared:                       0.352\n",
              "Model:                            OLS   Adj. R-squared:                  0.308\n",
              "Method:                 Least Squares   F-statistic:                     7.973\n",
              "Date:                Fri, 25 Nov 2022   Prob (F-statistic):           0.000236\n",
              "Time:                        03:21:28   Log-Likelihood:                -87.966\n",
              "No. Observations:                  48   AIC:                             183.9\n",
              "Df Residuals:                      44   BIC:                             191.4\n",
              "Df Model:                           3                                         \n",
              "Covariance Type:            nonrobust                                         \n",
              "==========================================================================================\n",
              "                             coef    std err          t      P>|t|      [0.025      0.975]\n",
              "------------------------------------------------------------------------------------------\n",
              "Intercept                  0.8016      1.343      0.597      0.554      -1.905       3.509\n",
              "yesterday_satisfaction     0.8633      0.232      3.726      0.001       0.396       1.330\n",
              "sleep_time                 0.0088      0.003      3.008      0.004       0.003       0.015\n",
              "yesterday_step_cnt        -0.0001    6.8e-05     -1.771      0.083      -0.000    1.66e-05\n",
              "==============================================================================\n",
              "Omnibus:                        0.105   Durbin-Watson:                   1.856\n",
              "Prob(Omnibus):                  0.949   Jarque-Bera (JB):                0.310\n",
              "Skew:                           0.032   Prob(JB):                        0.856\n",
              "Kurtosis:                       2.611   Cond. No.                     4.36e+04\n",
              "==============================================================================\n",
              "\n",
              "Notes:\n",
              "[1] Standard Errors assume that the covariance matrix of the errors is correctly specified.\n",
              "[2] The condition number is large, 4.36e+04. This might indicate that there are\n",
              "strong multicollinearity or other numerical problems.\n",
              "\"\"\""
            ],
            "text/html": [
              "<table class=\"simpletable\">\n",
              "<caption>OLS Regression Results</caption>\n",
              "<tr>\n",
              "  <th>Dep. Variable:</th>       <td>today_score</td>   <th>  R-squared:         </th> <td>   0.352</td>\n",
              "</tr>\n",
              "<tr>\n",
              "  <th>Model:</th>                   <td>OLS</td>       <th>  Adj. R-squared:    </th> <td>   0.308</td>\n",
              "</tr>\n",
              "<tr>\n",
              "  <th>Method:</th>             <td>Least Squares</td>  <th>  F-statistic:       </th> <td>   7.973</td>\n",
              "</tr>\n",
              "<tr>\n",
              "  <th>Date:</th>             <td>Fri, 25 Nov 2022</td> <th>  Prob (F-statistic):</th> <td>0.000236</td>\n",
              "</tr>\n",
              "<tr>\n",
              "  <th>Time:</th>                 <td>03:21:28</td>     <th>  Log-Likelihood:    </th> <td> -87.966</td>\n",
              "</tr>\n",
              "<tr>\n",
              "  <th>No. Observations:</th>      <td>    48</td>      <th>  AIC:               </th> <td>   183.9</td>\n",
              "</tr>\n",
              "<tr>\n",
              "  <th>Df Residuals:</th>          <td>    44</td>      <th>  BIC:               </th> <td>   191.4</td>\n",
              "</tr>\n",
              "<tr>\n",
              "  <th>Df Model:</th>              <td>     3</td>      <th>                     </th>     <td> </td>   \n",
              "</tr>\n",
              "<tr>\n",
              "  <th>Covariance Type:</th>      <td>nonrobust</td>    <th>                     </th>     <td> </td>   \n",
              "</tr>\n",
              "</table>\n",
              "<table class=\"simpletable\">\n",
              "<tr>\n",
              "             <td></td>               <th>coef</th>     <th>std err</th>      <th>t</th>      <th>P>|t|</th>  <th>[0.025</th>    <th>0.975]</th>  \n",
              "</tr>\n",
              "<tr>\n",
              "  <th>Intercept</th>              <td>    0.8016</td> <td>    1.343</td> <td>    0.597</td> <td> 0.554</td> <td>   -1.905</td> <td>    3.509</td>\n",
              "</tr>\n",
              "<tr>\n",
              "  <th>yesterday_satisfaction</th> <td>    0.8633</td> <td>    0.232</td> <td>    3.726</td> <td> 0.001</td> <td>    0.396</td> <td>    1.330</td>\n",
              "</tr>\n",
              "<tr>\n",
              "  <th>sleep_time</th>             <td>    0.0088</td> <td>    0.003</td> <td>    3.008</td> <td> 0.004</td> <td>    0.003</td> <td>    0.015</td>\n",
              "</tr>\n",
              "<tr>\n",
              "  <th>yesterday_step_cnt</th>     <td>   -0.0001</td> <td>  6.8e-05</td> <td>   -1.771</td> <td> 0.083</td> <td>   -0.000</td> <td> 1.66e-05</td>\n",
              "</tr>\n",
              "</table>\n",
              "<table class=\"simpletable\">\n",
              "<tr>\n",
              "  <th>Omnibus:</th>       <td> 0.105</td> <th>  Durbin-Watson:     </th> <td>   1.856</td>\n",
              "</tr>\n",
              "<tr>\n",
              "  <th>Prob(Omnibus):</th> <td> 0.949</td> <th>  Jarque-Bera (JB):  </th> <td>   0.310</td>\n",
              "</tr>\n",
              "<tr>\n",
              "  <th>Skew:</th>          <td> 0.032</td> <th>  Prob(JB):          </th> <td>   0.856</td>\n",
              "</tr>\n",
              "<tr>\n",
              "  <th>Kurtosis:</th>      <td> 2.611</td> <th>  Cond. No.          </th> <td>4.36e+04</td>\n",
              "</tr>\n",
              "</table><br/><br/>Notes:<br/>[1] Standard Errors assume that the covariance matrix of the errors is correctly specified.<br/>[2] The condition number is large, 4.36e+04. This might indicate that there are<br/>strong multicollinearity or other numerical problems."
            ]
          },
          "metadata": {},
          "execution_count": 45
        }
      ]
    },
    {
      "cell_type": "markdown",
      "source": [
        "또한 완화된 기준으로 p-value가 1일 때까지를 '유의하다'고 본다면, 전날 걸음수 변수를 추가했을 때, 전날 걸음수 변수의 p-value가 0.083로 유의미하다고 판단할 수 있다.\n",
        "\n",
        "\n",
        "그렇다면 squirrel의 오늘의 점수는 '어제의 만족도', '수면시간', '전날 걸음수'로 약 30%가 설명된다.\n",
        "또한 어제의 만족도가 1점 높아질 때 '오늘의 점수'가 0.8633점 증가하며, 수면시간이 1분 증가할 때 '오늘의 점수'가 0.0088점 증가한다. \n",
        "\n",
        "한편, 전날 걸음수가 1보 증가할때 '오늘의 점수'가 0.0001점 낮게 나타나, 전날 걸음수가 10000보 증가하면 '오늘의 점수'가 1점 낮게 나타남을 알 수 있다. "
      ],
      "metadata": {
        "id": "tPYNSic3Jc2V"
      }
    },
    {
      "cell_type": "code",
      "source": [
        "x = squirrel[['yesterday_satisfaction','sleep_time', 'yesterday_step_cnt']]\n",
        "             \n",
        "def feature_vif(x):\n",
        "  vif = pd.DataFrame()\n",
        "  vif['vif_factor'] = [variance_inflation_factor(x.values, i)\n",
        "                      for i in range(x.shape[1])]\n",
        "  vif['feature'] = x.columns\n",
        "  return vif\n",
        "vif = feature_vif(x)\n",
        "print(vif)"
      ],
      "metadata": {
        "colab": {
          "base_uri": "https://localhost:8080/"
        },
        "id": "znHIO-tULcdy",
        "outputId": "4a90a0d0-3500-44ea-aa6f-841fc824aed2"
      },
      "execution_count": 46,
      "outputs": [
        {
          "output_type": "stream",
          "name": "stdout",
          "text": [
            "   vif_factor                 feature\n",
            "0   10.679895  yesterday_satisfaction\n",
            "1   11.292055              sleep_time\n",
            "2    4.837074      yesterday_step_cnt\n"
          ]
        }
      ]
    },
    {
      "cell_type": "markdown",
      "source": [
        "vif 10보다 높다. 다중공선성 문제가 있다."
      ],
      "metadata": {
        "id": "BUO7l2PLLgb0"
      }
    },
    {
      "cell_type": "markdown",
      "source": [
        "## 💫전날 만족도, 수면시간, 늦은 수면 여부"
      ],
      "metadata": {
        "id": "XNeKFEYOLrri"
      }
    },
    {
      "cell_type": "code",
      "source": [
        "ols('today_score ~ yesterday_satisfaction + sleep_time + gotobed_late  ', data = squirrel).fit().summary()"
      ],
      "metadata": {
        "colab": {
          "base_uri": "https://localhost:8080/",
          "height": 512
        },
        "id": "ttteboqnJVGj",
        "outputId": "7c00f93a-a615-4895-fcc6-384894a6fa99"
      },
      "execution_count": 47,
      "outputs": [
        {
          "output_type": "execute_result",
          "data": {
            "text/plain": [
              "<class 'statsmodels.iolib.summary.Summary'>\n",
              "\"\"\"\n",
              "                            OLS Regression Results                            \n",
              "==============================================================================\n",
              "Dep. Variable:            today_score   R-squared:                       0.363\n",
              "Model:                            OLS   Adj. R-squared:                  0.320\n",
              "Method:                 Least Squares   F-statistic:                     8.369\n",
              "Date:                Fri, 25 Nov 2022   Prob (F-statistic):           0.000163\n",
              "Time:                        03:21:30   Log-Likelihood:                -87.551\n",
              "No. Observations:                  48   AIC:                             183.1\n",
              "Df Residuals:                      44   BIC:                             190.6\n",
              "Df Model:                           3                                         \n",
              "Covariance Type:            nonrobust                                         \n",
              "==========================================================================================\n",
              "                             coef    std err          t      P>|t|      [0.025      0.975]\n",
              "------------------------------------------------------------------------------------------\n",
              "Intercept                 -0.6819      1.526     -0.447      0.657      -3.757       2.393\n",
              "gotobed_late[T.1]          1.0189      0.512      1.990      0.053      -0.013       2.051\n",
              "yesterday_satisfaction     0.7158      0.226      3.167      0.003       0.260       1.171\n",
              "sleep_time                 0.0106      0.003      3.316      0.002       0.004       0.017\n",
              "==============================================================================\n",
              "Omnibus:                        2.213   Durbin-Watson:                   1.669\n",
              "Prob(Omnibus):                  0.331   Jarque-Bera (JB):                1.881\n",
              "Skew:                           0.355   Prob(JB):                        0.391\n",
              "Kurtosis:                       2.339   Cond. No.                     2.74e+03\n",
              "==============================================================================\n",
              "\n",
              "Notes:\n",
              "[1] Standard Errors assume that the covariance matrix of the errors is correctly specified.\n",
              "[2] The condition number is large, 2.74e+03. This might indicate that there are\n",
              "strong multicollinearity or other numerical problems.\n",
              "\"\"\""
            ],
            "text/html": [
              "<table class=\"simpletable\">\n",
              "<caption>OLS Regression Results</caption>\n",
              "<tr>\n",
              "  <th>Dep. Variable:</th>       <td>today_score</td>   <th>  R-squared:         </th> <td>   0.363</td>\n",
              "</tr>\n",
              "<tr>\n",
              "  <th>Model:</th>                   <td>OLS</td>       <th>  Adj. R-squared:    </th> <td>   0.320</td>\n",
              "</tr>\n",
              "<tr>\n",
              "  <th>Method:</th>             <td>Least Squares</td>  <th>  F-statistic:       </th> <td>   8.369</td>\n",
              "</tr>\n",
              "<tr>\n",
              "  <th>Date:</th>             <td>Fri, 25 Nov 2022</td> <th>  Prob (F-statistic):</th> <td>0.000163</td>\n",
              "</tr>\n",
              "<tr>\n",
              "  <th>Time:</th>                 <td>03:21:30</td>     <th>  Log-Likelihood:    </th> <td> -87.551</td>\n",
              "</tr>\n",
              "<tr>\n",
              "  <th>No. Observations:</th>      <td>    48</td>      <th>  AIC:               </th> <td>   183.1</td>\n",
              "</tr>\n",
              "<tr>\n",
              "  <th>Df Residuals:</th>          <td>    44</td>      <th>  BIC:               </th> <td>   190.6</td>\n",
              "</tr>\n",
              "<tr>\n",
              "  <th>Df Model:</th>              <td>     3</td>      <th>                     </th>     <td> </td>   \n",
              "</tr>\n",
              "<tr>\n",
              "  <th>Covariance Type:</th>      <td>nonrobust</td>    <th>                     </th>     <td> </td>   \n",
              "</tr>\n",
              "</table>\n",
              "<table class=\"simpletable\">\n",
              "<tr>\n",
              "             <td></td>               <th>coef</th>     <th>std err</th>      <th>t</th>      <th>P>|t|</th>  <th>[0.025</th>    <th>0.975]</th>  \n",
              "</tr>\n",
              "<tr>\n",
              "  <th>Intercept</th>              <td>   -0.6819</td> <td>    1.526</td> <td>   -0.447</td> <td> 0.657</td> <td>   -3.757</td> <td>    2.393</td>\n",
              "</tr>\n",
              "<tr>\n",
              "  <th>gotobed_late[T.1]</th>      <td>    1.0189</td> <td>    0.512</td> <td>    1.990</td> <td> 0.053</td> <td>   -0.013</td> <td>    2.051</td>\n",
              "</tr>\n",
              "<tr>\n",
              "  <th>yesterday_satisfaction</th> <td>    0.7158</td> <td>    0.226</td> <td>    3.167</td> <td> 0.003</td> <td>    0.260</td> <td>    1.171</td>\n",
              "</tr>\n",
              "<tr>\n",
              "  <th>sleep_time</th>             <td>    0.0106</td> <td>    0.003</td> <td>    3.316</td> <td> 0.002</td> <td>    0.004</td> <td>    0.017</td>\n",
              "</tr>\n",
              "</table>\n",
              "<table class=\"simpletable\">\n",
              "<tr>\n",
              "  <th>Omnibus:</th>       <td> 2.213</td> <th>  Durbin-Watson:     </th> <td>   1.669</td>\n",
              "</tr>\n",
              "<tr>\n",
              "  <th>Prob(Omnibus):</th> <td> 0.331</td> <th>  Jarque-Bera (JB):  </th> <td>   1.881</td>\n",
              "</tr>\n",
              "<tr>\n",
              "  <th>Skew:</th>          <td> 0.355</td> <th>  Prob(JB):          </th> <td>   0.391</td>\n",
              "</tr>\n",
              "<tr>\n",
              "  <th>Kurtosis:</th>      <td> 2.339</td> <th>  Cond. No.          </th> <td>2.74e+03</td>\n",
              "</tr>\n",
              "</table><br/><br/>Notes:<br/>[1] Standard Errors assume that the covariance matrix of the errors is correctly specified.<br/>[2] The condition number is large, 2.74e+03. This might indicate that there are<br/>strong multicollinearity or other numerical problems."
            ]
          },
          "metadata": {},
          "execution_count": 47
        }
      ]
    },
    {
      "cell_type": "markdown",
      "source": [
        "또한 완화된 기준으로 p-value가 1일 때까지를 '유의하다'고 본다면, 늦은 수면 여부 변수를 추가했을 때, 늦은 수면 여부의 p-value가 0.053로 유의미하다고 판단할 수 있다.\n",
        "\n",
        "\n",
        "그렇다면 squirrel의 오늘의 점수는 '어제의 만족도', '수면시간', '늦은 수면 여부'로 약 32%가 설명된다.\n",
        "또한 어제의 만족도가 1점 높아질 때 '오늘의 점수'가 0.7158 증가하며, 수면시간이 1분 증가할 때 '오늘의 점수'가 0.0106점 증가한다. \n",
        "\n",
        "한편, 늦은 수면일 때, '오늘의 점수'가 1.0189점 높게 나타나, 늦게 자면 오늘의 점수가 떨어질 것이라는 가정과 반대로 나타났다. "
      ],
      "metadata": {
        "id": "rxcKQ_WlKj2s"
      }
    },
    {
      "cell_type": "code",
      "source": [
        "x = squirrel[['yesterday_satisfaction','sleep_time', 'gotobed_late']]\n",
        "             \n",
        "def feature_vif(x):\n",
        "  vif = pd.DataFrame()\n",
        "  vif['vif_factor'] = [variance_inflation_factor(x.values, i)\n",
        "                      for i in range(x.shape[1])]\n",
        "  vif['feature'] = x.columns\n",
        "  return vif\n",
        "vif = feature_vif(x)\n",
        "print(vif)"
      ],
      "metadata": {
        "colab": {
          "base_uri": "https://localhost:8080/"
        },
        "id": "I9pLBnydLjxg",
        "outputId": "aca96a0d-a15e-46b8-d32a-f1f7c90a3529"
      },
      "execution_count": 56,
      "outputs": [
        {
          "output_type": "stream",
          "name": "stdout",
          "text": [
            "   vif_factor                 feature\n",
            "0   11.915426  yesterday_satisfaction\n",
            "1   10.107900              sleep_time\n",
            "2    2.115996            gotobed_late\n"
          ]
        }
      ]
    },
    {
      "cell_type": "markdown",
      "source": [
        "vif 10보다 높다. 다중공선성 문제가 있다."
      ],
      "metadata": {
        "id": "20LHUgs8LpYp"
      }
    },
    {
      "cell_type": "markdown",
      "source": [
        "## 💫전날 만족도, 수면시간, 날씨 선호 여부, 전날 걸음수, 늦은 수면 여부"
      ],
      "metadata": {
        "id": "Tp951PcoL0qT"
      }
    },
    {
      "cell_type": "code",
      "source": [
        "ols('today_score ~ C(yesterday_satisfaction) + sleep_time + weather_prefer + yesterday_step_cnt  ', data = squirrel).fit().summary()"
      ],
      "metadata": {
        "colab": {
          "base_uri": "https://localhost:8080/",
          "height": 574
        },
        "id": "VzXuPB37KPfx",
        "outputId": "95ebbb3e-a495-4843-be6d-a8bdf669768f"
      },
      "execution_count": 49,
      "outputs": [
        {
          "output_type": "execute_result",
          "data": {
            "text/plain": [
              "<class 'statsmodels.iolib.summary.Summary'>\n",
              "\"\"\"\n",
              "                            OLS Regression Results                            \n",
              "==============================================================================\n",
              "Dep. Variable:            today_score   R-squared:                       0.407\n",
              "Model:                            OLS   Adj. R-squared:                  0.320\n",
              "Method:                 Least Squares   F-statistic:                     4.692\n",
              "Date:                Fri, 25 Nov 2022   Prob (F-statistic):            0.00102\n",
              "Time:                        03:21:33   Log-Likelihood:                -85.839\n",
              "No. Observations:                  48   AIC:                             185.7\n",
              "Df Residuals:                      41   BIC:                             198.8\n",
              "Df Model:                           6                                         \n",
              "Covariance Type:            nonrobust                                         \n",
              "==================================================================================================\n",
              "                                     coef    std err          t      P>|t|      [0.025      0.975]\n",
              "--------------------------------------------------------------------------------------------------\n",
              "Intercept                          2.6100      1.256      2.077      0.044       0.073       5.147\n",
              "C(yesterday_satisfaction)[T.3]     1.1639      0.716      1.625      0.112      -0.282       2.610\n",
              "C(yesterday_satisfaction)[T.4]     1.6847      0.687      2.452      0.019       0.297       3.072\n",
              "C(yesterday_satisfaction)[T.5]     2.9582      0.760      3.895      0.000       1.424       4.492\n",
              "weather_prefer[T.1]               -0.8407      0.464     -1.814      0.077      -1.777       0.096\n",
              "sleep_time                         0.0093      0.003      3.182      0.003       0.003       0.015\n",
              "yesterday_step_cnt                -0.0001   6.82e-05     -1.735      0.090      -0.000    1.94e-05\n",
              "==============================================================================\n",
              "Omnibus:                        1.113   Durbin-Watson:                   1.911\n",
              "Prob(Omnibus):                  0.573   Jarque-Bera (JB):                0.945\n",
              "Skew:                           0.079   Prob(JB):                        0.624\n",
              "Kurtosis:                       2.331   Cond. No.                     4.54e+04\n",
              "==============================================================================\n",
              "\n",
              "Notes:\n",
              "[1] Standard Errors assume that the covariance matrix of the errors is correctly specified.\n",
              "[2] The condition number is large, 4.54e+04. This might indicate that there are\n",
              "strong multicollinearity or other numerical problems.\n",
              "\"\"\""
            ],
            "text/html": [
              "<table class=\"simpletable\">\n",
              "<caption>OLS Regression Results</caption>\n",
              "<tr>\n",
              "  <th>Dep. Variable:</th>       <td>today_score</td>   <th>  R-squared:         </th> <td>   0.407</td>\n",
              "</tr>\n",
              "<tr>\n",
              "  <th>Model:</th>                   <td>OLS</td>       <th>  Adj. R-squared:    </th> <td>   0.320</td>\n",
              "</tr>\n",
              "<tr>\n",
              "  <th>Method:</th>             <td>Least Squares</td>  <th>  F-statistic:       </th> <td>   4.692</td>\n",
              "</tr>\n",
              "<tr>\n",
              "  <th>Date:</th>             <td>Fri, 25 Nov 2022</td> <th>  Prob (F-statistic):</th>  <td>0.00102</td>\n",
              "</tr>\n",
              "<tr>\n",
              "  <th>Time:</th>                 <td>03:21:33</td>     <th>  Log-Likelihood:    </th> <td> -85.839</td>\n",
              "</tr>\n",
              "<tr>\n",
              "  <th>No. Observations:</th>      <td>    48</td>      <th>  AIC:               </th> <td>   185.7</td>\n",
              "</tr>\n",
              "<tr>\n",
              "  <th>Df Residuals:</th>          <td>    41</td>      <th>  BIC:               </th> <td>   198.8</td>\n",
              "</tr>\n",
              "<tr>\n",
              "  <th>Df Model:</th>              <td>     6</td>      <th>                     </th>     <td> </td>   \n",
              "</tr>\n",
              "<tr>\n",
              "  <th>Covariance Type:</th>      <td>nonrobust</td>    <th>                     </th>     <td> </td>   \n",
              "</tr>\n",
              "</table>\n",
              "<table class=\"simpletable\">\n",
              "<tr>\n",
              "                 <td></td>                   <th>coef</th>     <th>std err</th>      <th>t</th>      <th>P>|t|</th>  <th>[0.025</th>    <th>0.975]</th>  \n",
              "</tr>\n",
              "<tr>\n",
              "  <th>Intercept</th>                      <td>    2.6100</td> <td>    1.256</td> <td>    2.077</td> <td> 0.044</td> <td>    0.073</td> <td>    5.147</td>\n",
              "</tr>\n",
              "<tr>\n",
              "  <th>C(yesterday_satisfaction)[T.3]</th> <td>    1.1639</td> <td>    0.716</td> <td>    1.625</td> <td> 0.112</td> <td>   -0.282</td> <td>    2.610</td>\n",
              "</tr>\n",
              "<tr>\n",
              "  <th>C(yesterday_satisfaction)[T.4]</th> <td>    1.6847</td> <td>    0.687</td> <td>    2.452</td> <td> 0.019</td> <td>    0.297</td> <td>    3.072</td>\n",
              "</tr>\n",
              "<tr>\n",
              "  <th>C(yesterday_satisfaction)[T.5]</th> <td>    2.9582</td> <td>    0.760</td> <td>    3.895</td> <td> 0.000</td> <td>    1.424</td> <td>    4.492</td>\n",
              "</tr>\n",
              "<tr>\n",
              "  <th>weather_prefer[T.1]</th>            <td>   -0.8407</td> <td>    0.464</td> <td>   -1.814</td> <td> 0.077</td> <td>   -1.777</td> <td>    0.096</td>\n",
              "</tr>\n",
              "<tr>\n",
              "  <th>sleep_time</th>                     <td>    0.0093</td> <td>    0.003</td> <td>    3.182</td> <td> 0.003</td> <td>    0.003</td> <td>    0.015</td>\n",
              "</tr>\n",
              "<tr>\n",
              "  <th>yesterday_step_cnt</th>             <td>   -0.0001</td> <td> 6.82e-05</td> <td>   -1.735</td> <td> 0.090</td> <td>   -0.000</td> <td> 1.94e-05</td>\n",
              "</tr>\n",
              "</table>\n",
              "<table class=\"simpletable\">\n",
              "<tr>\n",
              "  <th>Omnibus:</th>       <td> 1.113</td> <th>  Durbin-Watson:     </th> <td>   1.911</td>\n",
              "</tr>\n",
              "<tr>\n",
              "  <th>Prob(Omnibus):</th> <td> 0.573</td> <th>  Jarque-Bera (JB):  </th> <td>   0.945</td>\n",
              "</tr>\n",
              "<tr>\n",
              "  <th>Skew:</th>          <td> 0.079</td> <th>  Prob(JB):          </th> <td>   0.624</td>\n",
              "</tr>\n",
              "<tr>\n",
              "  <th>Kurtosis:</th>      <td> 2.331</td> <th>  Cond. No.          </th> <td>4.54e+04</td>\n",
              "</tr>\n",
              "</table><br/><br/>Notes:<br/>[1] Standard Errors assume that the covariance matrix of the errors is correctly specified.<br/>[2] The condition number is large, 4.54e+04. This might indicate that there are<br/>strong multicollinearity or other numerical problems."
            ]
          },
          "metadata": {},
          "execution_count": 49
        }
      ]
    },
    {
      "cell_type": "code",
      "source": [
        "x = squirrel[['yesterday_satisfaction','sleep_time', 'gotobed_late', 'yesterday_step_cnt']]\n",
        "             \n",
        "def feature_vif(x):\n",
        "  vif = pd.DataFrame()\n",
        "  vif['vif_factor'] = [variance_inflation_factor(x.values, i)\n",
        "                      for i in range(x.shape[1])]\n",
        "  vif['feature'] = x.columns\n",
        "  return vif\n",
        "vif = feature_vif(x)\n",
        "print(vif)"
      ],
      "metadata": {
        "colab": {
          "base_uri": "https://localhost:8080/"
        },
        "id": "B_yYzN8XL-iR",
        "outputId": "f6a8814e-ea47-4be6-b69a-661a1a2cdeeb"
      },
      "execution_count": 186,
      "outputs": [
        {
          "output_type": "stream",
          "name": "stdout",
          "text": [
            "   vif_factor                 feature\n",
            "0   13.450843  yesterday_satisfaction\n",
            "1   11.296460              sleep_time\n",
            "2    2.267187            gotobed_late\n",
            "3    5.182691      yesterday_step_cnt\n"
          ]
        }
      ]
    },
    {
      "cell_type": "markdown",
      "source": [
        "vif 10보다 높다. 다중공선성 문제가 있다."
      ],
      "metadata": {
        "id": "1sNUG0avc8kr"
      }
    },
    {
      "cell_type": "markdown",
      "source": [
        "# 결론"
      ],
      "metadata": {
        "id": "yQUZp3ybc-SL"
      }
    },
    {
      "cell_type": "markdown",
      "source": [
        "단순회귀) 전날 만족도, 수면시간, 강수량, 수면점수가 squirrel의 오늘의 점수에 영향을 준다.\n",
        "\n",
        "다중회귀) p-value <0.05 기준일때\n",
        "전날만족도, 수면시간이 squirrel의 오늘의 점수에 영향을 준다.\n",
        "\n",
        "다중회귀) p-value <0.1 기준일때\n",
        "vif가 10보다 높아, 다중공선성 문제로 회귀 모델을 신뢰할 수 없다.\n",
        "\n",
        "따라서 최종 모델은 '전날 만족도'와 '수면시간'이 독립변수인 회귀모델이다.\n"
      ],
      "metadata": {
        "id": "cfgA9s5WdCBl"
      }
    },
    {
      "cell_type": "markdown",
      "source": [
        "\n",
        "회귀식 : today_score = 0.7735 * yesterday_satisfaction + 0.0077 * sleep_time\n",
        "\n",
        "독립변수 '전날 만족도'와 '수면시간'은 squirrel의 '오늘의 점수'를 약 27% 설명하며, 전날 만족도가 1점 높아지면 '오늘의 점수'가 0.7735점 높아지고, 수면 시간이 1분 증가하면 '오늘의 점수'는 0.0077점 높아진다."
      ],
      "metadata": {
        "id": "-jbmfREydkxz"
      }
    },
    {
      "cell_type": "code",
      "source": [],
      "metadata": {
        "id": "thLmuI3sc6I7"
      },
      "execution_count": null,
      "outputs": []
    }
  ]
}